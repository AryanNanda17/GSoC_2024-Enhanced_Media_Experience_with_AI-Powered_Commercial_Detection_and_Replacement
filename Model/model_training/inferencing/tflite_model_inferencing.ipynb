{
  "cells": [
    {
      "cell_type": "code",
      "execution_count": null,
      "id": "edcdae02",
      "metadata": {},
      "outputs": [],
      "source": [
        "# Import important libraries\n",
        "import pickle\n",
        "import numpy as np\n",
        "import os\n",
        "import tensorflow as tf\n",
        "import matplotlib.pyplot as plt\n",
        "import seaborn as sns"
      ]
    },
    {
      "cell_type": "markdown",
      "id": "JmShVVkYOPN-",
      "metadata": {
        "id": "JmShVVkYOPN-"
      },
      "source": [
        "## Inferencing on .tflite model"
      ]
    },
    {
      "cell_type": "code",
      "execution_count": null,
      "id": "ZD9wp47hOpCZ",
      "metadata": {
        "id": "ZD9wp47hOpCZ"
      },
      "outputs": [],
      "source": [
        "# Load the TFLite model and allocate tensors\n",
        "interpreter = tf.lite.Interpreter(model_path='./cnn_model.tflite')\n",
        "interpreter.allocate_tensors()\n",
        "\n",
        "# Get input and output tensors\n",
        "input_details = interpreter.get_input_details()\n",
        "output_details = interpreter.get_output_details()"
      ]
    },
    {
      "cell_type": "code",
      "execution_count": null,
      "id": "xjrt3zFKRAHL",
      "metadata": {
        "id": "xjrt3zFKRAHL"
      },
      "outputs": [],
      "source": [
        "def run_inference(input_data):\n",
        "    \"\"\"\n",
        "    Run inference on a single input using the TensorFlow Lite interpreter.\n",
        "\n",
        "    Parameters:\n",
        "    input_data (np.ndarray): The input data for the model. Should be a NumPy array with the appropriate shape.\n",
        "\n",
        "    Returns\n",
        "    output_data (np.ndarray): The output data from the model. The shape and type of this output depend on the model's architecture.\n",
        "    \"\"\"\n",
        "    interpreter.set_tensor(input_details[0]['index'], input_data)\n",
        "    interpreter.invoke()\n",
        "    output_data = interpreter.get_tensor(output_details[0]['index'])\n",
        "    return output_data\n"
      ]
    },
    {
      "cell_type": "code",
      "execution_count": null,
      "id": "tIyWRukbR4U-",
      "metadata": {
        "id": "tIyWRukbR4U-"
      },
      "outputs": [],
      "source": [
        "def evaluate_model(interpreter, X_test, y_test, threshold=0.5):\n",
        "    \"\"\"\n",
        "    Evaluate the TensorFlow Lite model on the given test dataset.\n",
        "\n",
        "    Parameters\n",
        "    interpreter (tf.lite.Interpreter): The TensorFlow Lite interpreter for running inference.\n",
        "    X_test (np.ndarray): The test dataset input features. Should be a NumPy array of shape (n_samples, seq_len, n_features).\n",
        "    y_test (np.ndarray): The test dataset labels. Should be a NumPy array of shape (n_samples,).\n",
        "    threshold (float, optional): he threshold for binary classification. Default is 0.5.\n",
        "\n",
        "    Returns\n",
        "    accuracy (float): The accuracy of the model on the test dataset.\n",
        "    \"\"\"\n",
        "    correct_predictions = 0\n",
        "    total_predictions = 0\n",
        "\n",
        "    for i in range(len(X_test)):\n",
        "        input_data = np.expand_dims(X_test[i], axis=0).astype(np.float32)  # Adding batch dimension\n",
        "        predicted_output = run_inference(input_data)\n",
        "        predicted_label = (predicted_output >= threshold).astype(int)[0][0]  # Applying threshold\n",
        "        true_label = y_test[i]\n",
        "\n",
        "        if predicted_label == true_label:\n",
        "            correct_predictions += 1\n",
        "        total_predictions += 1\n",
        "\n",
        "    accuracy = correct_predictions / total_predictions\n",
        "    return accuracy"
      ]
    },
    {
      "cell_type": "code",
      "execution_count": null,
      "id": "NClrl5SyQUFV",
      "metadata": {
        "colab": {
          "base_uri": "https://localhost:8080/"
        },
        "id": "NClrl5SyQUFV",
        "outputId": "8c109eb7-d816-4588-9544-7471e9566025"
      },
      "outputs": [
        {
          "name": "stdout",
          "output_type": "stream",
          "text": [
            "Accuracy: 0.9390334572490706\n"
          ]
        }
      ],
      "source": [
        "accuracy = evaluate_model(interpreter, X_test, y_test)\n",
        "print(f'Accuracy: {accuracy}')"
      ]
    }
  ],
  "metadata": {
    "accelerator": "GPU",
    "colab": {
      "gpuType": "A100",
      "machine_shape": "hm",
      "provenance": []
    },
    "kernelspec": {
      "display_name": "Python 3",
      "name": "python3"
    },
    "language_info": {
      "codemirror_mode": {
        "name": "ipython",
        "version": 3
      },
      "file_extension": ".py",
      "mimetype": "text/x-python",
      "name": "python",
      "nbconvert_exporter": "python",
      "pygments_lexer": "ipython3",
      "version": "3.12.0"
    }
  },
  "nbformat": 4,
  "nbformat_minor": 5
}
