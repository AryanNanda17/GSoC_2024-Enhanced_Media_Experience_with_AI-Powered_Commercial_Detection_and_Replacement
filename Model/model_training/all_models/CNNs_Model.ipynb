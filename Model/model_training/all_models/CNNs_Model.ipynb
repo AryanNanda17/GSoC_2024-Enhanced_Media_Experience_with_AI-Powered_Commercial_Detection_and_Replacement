{
  "cells": [
    {
      "cell_type": "code",
      "execution_count": null,
      "id": "6bce23c8-8e6e-4881-9925-0f19d6614eca",
      "metadata": {
        "id": "6bce23c8-8e6e-4881-9925-0f19d6614eca"
      },
      "outputs": [],
      "source": [
        "# Import important libraries\n",
        "import pickle\n",
        "import numpy as np\n",
        "from sklearn.model_selection import train_test_split\n",
        "from sklearn.preprocessing import StandardScaler\n",
        "from sklearn.utils import shuffle\n",
        "from sklearn.metrics import confusion_matrix, classification_report\n",
        "import gdown\n",
        "import os\n",
        "import tensorflow as tf\n",
        "from tensorflow.keras.models import Sequential, Model\n",
        "from tensorflow.keras.layers import Bidirectional, LSTM, Dense, Dropout, TimeDistributed\n",
        "from tensorflow.keras.layers import Conv2D, MaxPooling2D, Flatten, Reshape\n",
        "from tensorflow.keras.layers import Input, Dense, Dropout, LayerNormalization, MultiHeadAttention, GlobalAveragePooling1D, Embedding\n",
        "from tensorflow.keras.callbacks import EarlyStopping\n",
        "import matplotlib.pyplot as plt\n",
        "import seaborn as sns"
      ]
    },
    {
      "cell_type": "code",
      "execution_count": null,
      "id": "de67657f-4aa3-4a38-9644-ba6727e127c5",
      "metadata": {
        "id": "de67657f-4aa3-4a38-9644-ba6727e127c5"
      },
      "outputs": [],
      "source": [
        "# Constants\n",
        "train_ratio = 0.8\n",
        "val_ratio = 0.1\n",
        "test_ratio = 0.1"
      ]
    },
    {
      "cell_type": "markdown",
      "id": "fssbdPG-neoJ",
      "metadata": {
        "id": "fssbdPG-neoJ"
      },
      "source": [
        "# Downloading And Loading the dataset"
      ]
    },
    {
      "cell_type": "code",
      "execution_count": null,
      "id": "d019e805-6129-4a66-8d64-1824d8c05dd6",
      "metadata": {
        "id": "d019e805-6129-4a66-8d64-1824d8c05dd6"
      },
      "outputs": [],
      "source": [
        "# Google Drive file_ids of commercial and non-commercial audio-video features\n",
        "commercialFeatures_150_file_id          = \"1ucT-jrkmhRHx8RSMW0bueGD2IjL3ZpiO\"\n",
        "nonCommercialFeatures_150_file_id       = \"1uA5sdu_5b2l0z8k_aI0NeG2eqWsdX9zi\"\n",
        "\n",
        "# Destination paths\n",
        "commercialFeatures_150_destination      = \"commercialFeatures_150.pkl\"\n",
        "nonCommercialFeatures_150_destination   = \"nonCommercialFeatures_150.pkl\""
      ]
    },
    {
      "cell_type": "code",
      "execution_count": null,
      "id": "48650556-80e1-41da-a002-e8c180311142",
      "metadata": {
        "id": "48650556-80e1-41da-a002-e8c180311142"
      },
      "outputs": [],
      "source": [
        "def download_file_from_google_drive(file_id, destination):\n",
        "    \"\"\"\n",
        "    Download a file from Google Drive if it doesn't already exist locally.\n",
        "\n",
        "    Parameters:\n",
        "    - file_id (str): The unique file ID from Google Drive.\n",
        "    - destination (str): The local path where the file should be saved.\n",
        "    \"\"\"\n",
        "    if os.path.exists(destination):\n",
        "        print(f'File already exists at {destination}. Skipping download.')\n",
        "    else:\n",
        "        url = f\"https://drive.google.com/uc?id={file_id}\"\n",
        "        gdown.download(url, destination, quiet=False)"
      ]
    },
    {
      "cell_type": "code",
      "execution_count": null,
      "id": "0a0d611e-8e42-4429-b4f6-28a46cc4ed84",
      "metadata": {
        "colab": {
          "base_uri": "https://localhost:8080/"
        },
        "id": "0a0d611e-8e42-4429-b4f6-28a46cc4ed84",
        "outputId": "4601896f-148a-4e7b-92b5-3f440196b165"
      },
      "outputs": [
        {
          "name": "stderr",
          "output_type": "stream",
          "text": [
            "Downloading...\n",
            "From (original): https://drive.google.com/uc?id=1ucT-jrkmhRHx8RSMW0bueGD2IjL3ZpiO\n",
            "From (redirected): https://drive.google.com/uc?id=1ucT-jrkmhRHx8RSMW0bueGD2IjL3ZpiO&confirm=t&uuid=7e647131-75b3-4d48-91c7-451f12c4e082\n",
            "To: /content/commercialFeatures_150.pkl\n",
            "100%|██████████| 6.03G/6.03G [00:30<00:00, 197MB/s]\n",
            "Downloading...\n",
            "From (original): https://drive.google.com/uc?id=1uA5sdu_5b2l0z8k_aI0NeG2eqWsdX9zi\n",
            "From (redirected): https://drive.google.com/uc?id=1uA5sdu_5b2l0z8k_aI0NeG2eqWsdX9zi&confirm=t&uuid=72ac09a2-eed9-42c8-9abc-37291b8947c4\n",
            "To: /content/nonCommercialFeatures_150.pkl\n",
            "100%|██████████| 6.35G/6.35G [00:54<00:00, 116MB/s]\n"
          ]
        }
      ],
      "source": [
        "# Downloading commercialFeatures\n",
        "download_file_from_google_drive(commercialFeatures_150_file_id, commercialFeatures_150_destination)\n",
        "\n",
        "# Downloading nonCommercialFeatures\n",
        "download_file_from_google_drive(nonCommercialFeatures_150_file_id, nonCommercialFeatures_150_destination)"
      ]
    },
    {
      "cell_type": "code",
      "execution_count": null,
      "id": "7793dfa9-63a4-44fd-810e-05f0412c6dd1",
      "metadata": {
        "id": "7793dfa9-63a4-44fd-810e-05f0412c6dd1"
      },
      "outputs": [],
      "source": [
        "def load_features():\n",
        "    \"\"\"\n",
        "    Load data from a pickled file if it exists, otherwise initialize an empty list.\n",
        "\n",
        "    Returns:\n",
        "    - commercialFeatures_150 (list) - List containing Commercial video features\n",
        "    - nonCommercialFeatures_150 (list) - List containing nonCommercial video features\n",
        "    \"\"\"\n",
        "    with open('commercialFeatures_150.pkl', 'rb') as f:\n",
        "        commercialFeatures_150 = pickle.load(f)\n",
        "    with open('nonCommercialFeatures_150.pkl', 'rb') as f:\n",
        "        nonCommercialFeatures_150 = pickle.load(f)\n",
        "    # # Move tensors to GPU explicitly\n",
        "    # with tf.device('/GPU:0'):\n",
        "    #     commercialFeatures_150_tensor_gpu = tf.convert_to_tensor(commercialFeatures_150, dtype=tf.float32)\n",
        "    #     nonCommercialFeatures_150_tensor_gpu = tf.convert_to_tensor(nonCommercialFeatures_150, dtype=tf.float32)\n",
        "    print(f'Number of commercial features: {len(commercialFeatures_150)}')\n",
        "    print(f'Number of nonCommercial features: {len(nonCommercialFeatures_150)}')\n",
        "    print(\"Audio-Visual Features Loaded Successfully\")\n",
        "    return commercialFeatures_150, nonCommercialFeatures_150"
      ]
    },
    {
      "cell_type": "code",
      "execution_count": null,
      "id": "89950adf-f880-4563-9d24-df6e057329cc",
      "metadata": {
        "colab": {
          "base_uri": "https://localhost:8080/"
        },
        "id": "89950adf-f880-4563-9d24-df6e057329cc",
        "outputId": "5850ba20-f17e-40d5-fc70-023066d2c211"
      },
      "outputs": [
        {
          "name": "stdout",
          "output_type": "stream",
          "text": [
            "Number of commercial features: 4364\n",
            "Number of nonCommercial features: 4597\n",
            "Audio-Visual Features Loaded Successfully\n"
          ]
        }
      ],
      "source": [
        "commercialFeatures_150, nonCommercialFeatures_150 = load_features()"
      ]
    },
    {
      "cell_type": "code",
      "execution_count": null,
      "id": "faaf8ace-58cd-45a5-8e15-f4c76be42d2f",
      "metadata": {
        "colab": {
          "base_uri": "https://localhost:8080/"
        },
        "id": "faaf8ace-58cd-45a5-8e15-f4c76be42d2f",
        "outputId": "636bbfca-307d-4ef1-eeb9-047986ae4ef4"
      },
      "outputs": [
        {
          "name": "stdout",
          "output_type": "stream",
          "text": [
            "(4364, 150, 1152)\n"
          ]
        }
      ],
      "source": [
        "print(commercialFeatures_150.shape)"
      ]
    },
    {
      "cell_type": "code",
      "execution_count": null,
      "id": "59d8677d-63cf-43e9-8c62-19c8638a36d6",
      "metadata": {
        "colab": {
          "base_uri": "https://localhost:8080/"
        },
        "id": "59d8677d-63cf-43e9-8c62-19c8638a36d6",
        "outputId": "c5499423-98fb-45d2-9f95-f01548b0f323"
      },
      "outputs": [
        {
          "name": "stdout",
          "output_type": "stream",
          "text": [
            "(4597, 150, 1152)\n"
          ]
        }
      ],
      "source": [
        "print(nonCommercialFeatures_150.shape)"
      ]
    },
    {
      "cell_type": "code",
      "execution_count": null,
      "id": "Fn8roY8K4kDB",
      "metadata": {
        "colab": {
          "base_uri": "https://localhost:8080/"
        },
        "id": "Fn8roY8K4kDB",
        "outputId": "8ba6fa0e-c4eb-4ba9-fa9e-5f4a3d958ae3"
      },
      "outputs": [
        {
          "name": "stdout",
          "output_type": "stream",
          "text": [
            "float64\n"
          ]
        }
      ],
      "source": [
        "print(commercialFeatures_150.dtype)"
      ]
    },
    {
      "cell_type": "code",
      "execution_count": null,
      "id": "g3iwX-Az4kWT",
      "metadata": {
        "colab": {
          "base_uri": "https://localhost:8080/"
        },
        "id": "g3iwX-Az4kWT",
        "outputId": "77022890-cc87-4d38-fd8a-847cabcd51df"
      },
      "outputs": [
        {
          "name": "stdout",
          "output_type": "stream",
          "text": [
            "float64\n"
          ]
        }
      ],
      "source": [
        "print(nonCommercialFeatures_150.dtype)"
      ]
    },
    {
      "cell_type": "markdown",
      "id": "71aa6195-16d1-484e-89a2-1c8778209a0e",
      "metadata": {
        "id": "71aa6195-16d1-484e-89a2-1c8778209a0e"
      },
      "source": [
        "# Generating labels for data and merging commercial and non-commercial features and shuffling data randomly"
      ]
    },
    {
      "cell_type": "code",
      "execution_count": null,
      "id": "324a5cfa-08b9-4fdb-ad03-b557881d47d5",
      "metadata": {
        "id": "324a5cfa-08b9-4fdb-ad03-b557881d47d5"
      },
      "outputs": [],
      "source": [
        "# Generating labels\n",
        "commercial_labels = np.ones(len(commercialFeatures_150))\n",
        "non_commercial_labels = np.zeros(len(nonCommercialFeatures_150))"
      ]
    },
    {
      "cell_type": "code",
      "execution_count": null,
      "id": "6680733b-f514-495b-8968-c601a60a204e",
      "metadata": {
        "id": "6680733b-f514-495b-8968-c601a60a204e"
      },
      "outputs": [],
      "source": [
        "# Merging commercial and non-commercial features\n",
        "X = np.concatenate((commercialFeatures_150, nonCommercialFeatures_150), axis=0)\n",
        "Y = np.concatenate((commercial_labels, non_commercial_labels), axis=0)"
      ]
    },
    {
      "cell_type": "code",
      "execution_count": null,
      "id": "59b7addd-5a43-405f-9424-441c00dc675d",
      "metadata": {
        "colab": {
          "base_uri": "https://localhost:8080/"
        },
        "id": "59b7addd-5a43-405f-9424-441c00dc675d",
        "outputId": "d58008fc-2884-4c51-c55b-c5b73a93e577"
      },
      "outputs": [
        {
          "name": "stdout",
          "output_type": "stream",
          "text": [
            "Shape of data is (8961, 150, 1152)\n",
            "Shape of labels is (8961,)\n"
          ]
        }
      ],
      "source": [
        "print(f'Shape of data is {X.shape}')\n",
        "print(f'Shape of labels is {Y.shape}')"
      ]
    },
    {
      "cell_type": "code",
      "execution_count": null,
      "id": "40ff0bc8-3855-473b-b8a2-8d9d4923d592",
      "metadata": {
        "id": "40ff0bc8-3855-473b-b8a2-8d9d4923d592",
        "scrolled": true
      },
      "outputs": [],
      "source": [
        "# Shuffling data randomly\n",
        "X, Y = shuffle(X, Y, random_state=42)"
      ]
    },
    {
      "cell_type": "markdown",
      "id": "ffe4daad-bb00-4fa4-9d1c-240c2a1816f1",
      "metadata": {
        "id": "ffe4daad-bb00-4fa4-9d1c-240c2a1816f1"
      },
      "source": [
        "# Preprocess the data"
      ]
    },
    {
      "cell_type": "code",
      "execution_count": null,
      "id": "7a37369c-4b10-497d-a9e4-f78d786ddb91",
      "metadata": {
        "colab": {
          "base_uri": "https://localhost:8080/"
        },
        "id": "7a37369c-4b10-497d-a9e4-f78d786ddb91",
        "outputId": "cda2de28-4bea-48a3-d20e-77d9c874801b"
      },
      "outputs": [
        {
          "name": "stdout",
          "output_type": "stream",
          "text": [
            "[219.  78. 255. ... 124. 141. 177.]\n"
          ]
        }
      ],
      "source": [
        "print(X[0][0])"
      ]
    },
    {
      "cell_type": "code",
      "execution_count": null,
      "id": "7ff6f1bc-149c-47b1-9211-177ec9296b8e",
      "metadata": {
        "id": "7ff6f1bc-149c-47b1-9211-177ec9296b8e"
      },
      "outputs": [],
      "source": [
        "# Finding Range of data\n",
        "maxi = 0\n",
        "mini = 1000\n",
        "for i in range(len(X[0][0])):\n",
        "    maxi = max(maxi, X[0][0][i])\n",
        "    mini = min(mini, X[0][0][i])"
      ]
    },
    {
      "cell_type": "code",
      "execution_count": null,
      "id": "c8497441-0b67-4858-95eb-bb31de9ed6aa",
      "metadata": {
        "colab": {
          "base_uri": "https://localhost:8080/"
        },
        "id": "c8497441-0b67-4858-95eb-bb31de9ed6aa",
        "outputId": "f48d6b69-a552-4afd-f6e4-13e92cb306d1"
      },
      "outputs": [
        {
          "name": "stdout",
          "output_type": "stream",
          "text": [
            "maximum value is 255.0\n",
            "minimum value is 0.0\n"
          ]
        }
      ],
      "source": [
        "print(f'maximum value is {maxi}')\n",
        "print(f'minimum value is {mini}')"
      ]
    },
    {
      "cell_type": "code",
      "execution_count": null,
      "id": "HSc6omhCKPFC",
      "metadata": {
        "id": "HSc6omhCKPFC"
      },
      "outputs": [],
      "source": [
        "def scale_data(data):\n",
        "    \"\"\"\n",
        "    Scale the input data by dividing by 255.\n",
        "\n",
        "    Parameters:\n",
        "    data (numpy.ndarray): Input data array of shape [samples, features] or higher dimensions.\n",
        "\n",
        "    Returns:\n",
        "    numpy.ndarray: Scaled data with values in the range [0, 1].\n",
        "    \"\"\"\n",
        "\n",
        "    scaled_data = data / 255.0\n",
        "    return scaled_data"
      ]
    },
    {
      "cell_type": "code",
      "execution_count": null,
      "id": "O2HJqpSEFuco",
      "metadata": {
        "id": "O2HJqpSEFuco"
      },
      "outputs": [],
      "source": [
        "X = scale_data(X)"
      ]
    },
    {
      "cell_type": "code",
      "execution_count": null,
      "id": "Jfybf-msFAY6",
      "metadata": {
        "colab": {
          "base_uri": "https://localhost:8080/"
        },
        "id": "Jfybf-msFAY6",
        "outputId": "6125e000-e089-4324-b56e-30262bbe0e57"
      },
      "outputs": [
        {
          "name": "stdout",
          "output_type": "stream",
          "text": [
            "[0.85882353 0.30588235 1.         ... 0.48627451 0.55294118 0.69411765]\n"
          ]
        }
      ],
      "source": [
        "print(X[0][0])"
      ]
    },
    {
      "cell_type": "code",
      "execution_count": null,
      "id": "RdU5tI0vgBNZ",
      "metadata": {
        "id": "RdU5tI0vgBNZ"
      },
      "outputs": [],
      "source": [
        "# Finding Range of data\n",
        "maxi = 0\n",
        "mini = 1000\n",
        "for i in range(len(X[0][0])):\n",
        "    maxi = max(maxi, X[0][0][i])\n",
        "    mini = min(mini, X[0][0][i])"
      ]
    },
    {
      "cell_type": "code",
      "execution_count": null,
      "id": "QIEZcTMFgDwJ",
      "metadata": {
        "colab": {
          "base_uri": "https://localhost:8080/"
        },
        "id": "QIEZcTMFgDwJ",
        "outputId": "7eec16ff-6384-48ca-cce9-42ce282f8e17"
      },
      "outputs": [
        {
          "name": "stdout",
          "output_type": "stream",
          "text": [
            "maximum value is 1.0\n",
            "minimum value is 0.0\n"
          ]
        }
      ],
      "source": [
        "print(f'maximum value is {maxi}')\n",
        "print(f'minimum value is {mini}')"
      ]
    },
    {
      "cell_type": "markdown",
      "id": "YGrcFVMUgegS",
      "metadata": {
        "id": "YGrcFVMUgegS"
      },
      "source": [
        "# Generating Calibration Data"
      ]
    },
    {
      "cell_type": "code",
      "execution_count": null,
      "id": "miAYxk7GhcLe",
      "metadata": {
        "colab": {
          "base_uri": "https://localhost:8080/"
        },
        "id": "miAYxk7GhcLe",
        "outputId": "0091abda-df7a-4b95-daab-1699f845d04f"
      },
      "outputs": [
        {
          "data": {
            "text/plain": [
              "(8961, 150, 1152)"
            ]
          },
          "execution_count": 24,
          "metadata": {},
          "output_type": "execute_result"
        }
      ],
      "source": [
        "X.shape"
      ]
    },
    {
      "cell_type": "code",
      "execution_count": null,
      "id": "8pQE-AtzhcgE",
      "metadata": {
        "colab": {
          "base_uri": "https://localhost:8080/"
        },
        "id": "8pQE-AtzhcgE",
        "outputId": "1b7da690-60b7-41d2-ac28-7e465c68b7ac"
      },
      "outputs": [
        {
          "data": {
            "text/plain": [
              "(8961,)"
            ]
          },
          "execution_count": 25,
          "metadata": {},
          "output_type": "execute_result"
        }
      ],
      "source": [
        "Y.shape"
      ]
    },
    {
      "cell_type": "code",
      "execution_count": null,
      "id": "Fn_7j5uPgPYU",
      "metadata": {
        "colab": {
          "base_uri": "https://localhost:8080/"
        },
        "id": "Fn_7j5uPgPYU",
        "outputId": "8e429b3e-2040-4b76-dc20-55758304f2f1"
      },
      "outputs": [
        {
          "name": "stdout",
          "output_type": "stream",
          "text": [
            "(50, 150, 1152)\n",
            "(50,)\n"
          ]
        }
      ],
      "source": [
        "X_cal_data = X[:50]\n",
        "Y_cal_data = Y[:50]\n",
        "print(X_cal_data.shape)\n",
        "print(Y_cal_data.shape)"
      ]
    },
    {
      "cell_type": "code",
      "execution_count": null,
      "id": "upxlEqWuiPV-",
      "metadata": {
        "id": "upxlEqWuiPV-"
      },
      "outputs": [],
      "source": [
        "X = X[50:]\n",
        "Y = Y[50:]"
      ]
    },
    {
      "cell_type": "code",
      "execution_count": null,
      "id": "WUJJoR1WiVGM",
      "metadata": {
        "colab": {
          "base_uri": "https://localhost:8080/"
        },
        "id": "WUJJoR1WiVGM",
        "outputId": "ea280f67-7f58-4a9b-b808-a4ab4b64025b"
      },
      "outputs": [
        {
          "name": "stdout",
          "output_type": "stream",
          "text": [
            "(8911, 150, 1152)\n",
            "(8911,)\n"
          ]
        }
      ],
      "source": [
        "print(X.shape)\n",
        "print(Y.shape)"
      ]
    },
    {
      "cell_type": "code",
      "execution_count": null,
      "id": "5HJcw2GSLByl",
      "metadata": {
        "id": "5HJcw2GSLByl"
      },
      "outputs": [],
      "source": [
        "# Finding Range of data\n",
        "maxi = 0\n",
        "mini = 1000\n",
        "for i in range(len(X[0][0])):\n",
        "    maxi = max(maxi, X[0][0][i])\n",
        "    mini = min(mini, X[0][0][i])"
      ]
    },
    {
      "cell_type": "code",
      "execution_count": null,
      "id": "rCgTZsYRLByl",
      "metadata": {
        "colab": {
          "base_uri": "https://localhost:8080/"
        },
        "id": "rCgTZsYRLByl",
        "outputId": "344c1343-4e82-4fc2-cbd0-4e7c1bb1124e"
      },
      "outputs": [
        {
          "name": "stdout",
          "output_type": "stream",
          "text": [
            "maximum value is 1.0\n",
            "minimum value is 0.0\n"
          ]
        }
      ],
      "source": [
        "print(f'maximum value is {maxi}')\n",
        "print(f'minimum value is {mini}')"
      ]
    },
    {
      "cell_type": "markdown",
      "id": "41521a7d-3a54-411c-9d39-a537f711bfb7",
      "metadata": {
        "id": "41521a7d-3a54-411c-9d39-a537f711bfb7"
      },
      "source": [
        "# Train, Test and Validation split"
      ]
    },
    {
      "cell_type": "code",
      "execution_count": null,
      "id": "cc60eb1e-18cf-4bfc-8f37-a8d4d4eb6285",
      "metadata": {
        "id": "cc60eb1e-18cf-4bfc-8f37-a8d4d4eb6285"
      },
      "outputs": [],
      "source": [
        "def split_data(data, labels, train_ratio=0.8, valid_ratio=0.1, test_ratio=0.1, random_state=None):\n",
        "    \"\"\"\n",
        "    Split data into training, validation, and test sets.\n",
        "\n",
        "    Parameters:\n",
        "    data (numpy.ndarray): The input data of shape [samples, features].\n",
        "    labels (numpy.ndarray): The corresponding labels of shape [samples,].\n",
        "    train_ratio (float): The ratio of the training set. Default is 0.7.\n",
        "    valid_ratio (float): The ratio of the validation set. Default is 0.15.\n",
        "    test_ratio (float): The ratio of the test set. Default is 0.15.\n",
        "    random_state (int, optional): Random seed for reproducibility.\n",
        "\n",
        "    Returns:\n",
        "    tuple: Tuple containing:\n",
        "        - train_data (numpy.ndarray): Training data.\n",
        "        - valid_data (numpy.ndarray): Validation data.\n",
        "        - test_data (numpy.ndarray): Test data.\n",
        "        - train_labels (numpy.ndarray): Training labels.\n",
        "        - valid_labels (numpy.ndarray): Validation labels.\n",
        "        - test_labels (numpy.ndarray): Test labels.\n",
        "    \"\"\"\n",
        "\n",
        "    assert train_ratio + valid_ratio + test_ratio == 1, \"Ratios must sum to 1.\"\n",
        "\n",
        "    train_data, temp_data, train_labels, temp_labels = train_test_split(\n",
        "        data, labels, test_size=(1 - train_ratio), random_state=random_state\n",
        "    )\n",
        "\n",
        "    temp_ratio = valid_ratio + test_ratio\n",
        "    valid_ratio_relative = valid_ratio / temp_ratio\n",
        "    test_ratio_relative = test_ratio / temp_ratio\n",
        "\n",
        "    valid_data, test_data, valid_labels, test_labels = train_test_split(\n",
        "        temp_data, temp_labels, test_size=test_ratio_relative, random_state=random_state\n",
        "    )\n",
        "\n",
        "    return train_data, valid_data, test_data, train_labels, valid_labels, test_labels"
      ]
    },
    {
      "cell_type": "code",
      "execution_count": null,
      "id": "e10d53ad-27cd-4150-907d-609461dd5244",
      "metadata": {
        "id": "e10d53ad-27cd-4150-907d-609461dd5244"
      },
      "outputs": [],
      "source": [
        "X_train, X_val, X_test, y_train, y_val, y_test = split_data(X, Y, random_state=42)\n"
      ]
    },
    {
      "cell_type": "code",
      "execution_count": null,
      "id": "baptmT0RGPN3",
      "metadata": {
        "id": "baptmT0RGPN3"
      },
      "outputs": [],
      "source": [
        "del X\n",
        "del Y\n",
        "del commercialFeatures_150\n",
        "del nonCommercialFeatures_150\n",
        "del commercial_labels\n",
        "del non_commercial_labels"
      ]
    },
    {
      "cell_type": "code",
      "execution_count": null,
      "id": "dfde3460-2e25-41dd-80a0-cfb812e3fb83",
      "metadata": {
        "colab": {
          "base_uri": "https://localhost:8080/"
        },
        "id": "dfde3460-2e25-41dd-80a0-cfb812e3fb83",
        "outputId": "3977df5f-08ff-46a9-db65-d4a3449dfbc6"
      },
      "outputs": [
        {
          "name": "stdout",
          "output_type": "stream",
          "text": [
            "Train data shape: (7128, 150, 1152)\n",
            "Validation data shape: (891, 150, 1152)\n",
            "Test data shape: (892, 150, 1152)\n"
          ]
        }
      ],
      "source": [
        "print(f'Train data shape: {X_train.shape}')\n",
        "print(f'Validation data shape: {X_val.shape}')\n",
        "print(f'Test data shape: {X_test.shape}')"
      ]
    },
    {
      "cell_type": "code",
      "execution_count": null,
      "id": "7ee51b0d-bb8c-488a-b8b8-a195b920baaf",
      "metadata": {
        "colab": {
          "base_uri": "https://localhost:8080/"
        },
        "id": "7ee51b0d-bb8c-488a-b8b8-a195b920baaf",
        "outputId": "99f16400-8735-452a-9640-e9c1b23b63fd"
      },
      "outputs": [
        {
          "name": "stdout",
          "output_type": "stream",
          "text": [
            "Train labels shape: (7128,)\n",
            "Validation labels shape: (891,)\n",
            "Test labels shape: (892,)\n"
          ]
        }
      ],
      "source": [
        "print(f'Train labels shape: {y_train.shape}')\n",
        "print(f'Validation labels shape: {y_val.shape}')\n",
        "print(f'Test labels shape: {y_test.shape}')"
      ]
    },
    {
      "cell_type": "markdown",
      "id": "V5U6zu7VjhH2",
      "metadata": {
        "id": "V5U6zu7VjhH2"
      },
      "source": [
        "# CNNs Model"
      ]
    },
    {
      "cell_type": "code",
      "execution_count": null,
      "id": "Z1pMROdPjjG-",
      "metadata": {
        "id": "Z1pMROdPjjG-"
      },
      "outputs": [],
      "source": [
        "def cnn_model():\n",
        "    model = Sequential()\n",
        "    model.add(Reshape((150, 1152, 1), input_shape=(150, 1152)))\n",
        "    model.add(Conv2D(32, (3, 3), activation='relu', padding='same'))\n",
        "    model.add(MaxPooling2D((2, 2)))\n",
        "\n",
        "    model.add(Conv2D(64, (3, 3), activation='relu', padding='same'))\n",
        "    model.add(MaxPooling2D((2, 2)))\n",
        "\n",
        "    model.add(Conv2D(128, (3, 3), activation='relu', padding='same'))\n",
        "    model.add(MaxPooling2D((2, 2)))\n",
        "\n",
        "    model.add(Flatten())\n",
        "    model.add(Dense(256, activation='relu'))\n",
        "    model.add(Dropout(0.5))\n",
        "    model.add(Dense(128, activation='relu'))\n",
        "    model.add(Dropout(0.5))\n",
        "    model.add(Dense(1, activation='sigmoid'))\n",
        "\n",
        "    model.compile(loss='binary_crossentropy', optimizer='adam', metrics=['accuracy'])\n",
        "    return model"
      ]
    },
    {
      "cell_type": "code",
      "execution_count": null,
      "id": "VopbL_yaj4MI",
      "metadata": {
        "colab": {
          "base_uri": "https://localhost:8080/"
        },
        "id": "VopbL_yaj4MI",
        "outputId": "fc9d539d-2abf-42fb-e899-df6b67f391ee"
      },
      "outputs": [
        {
          "name": "stdout",
          "output_type": "stream",
          "text": [
            "Model: \"sequential\"\n",
            "_________________________________________________________________\n",
            " Layer (type)                Output Shape              Param #   \n",
            "=================================================================\n",
            " reshape (Reshape)           (None, 150, 1152, 1)      0         \n",
            "                                                                 \n",
            " conv2d (Conv2D)             (None, 150, 1152, 32)     320       \n",
            "                                                                 \n",
            " max_pooling2d (MaxPooling2  (None, 75, 576, 32)       0         \n",
            " D)                                                              \n",
            "                                                                 \n",
            " conv2d_1 (Conv2D)           (None, 75, 576, 64)       18496     \n",
            "                                                                 \n",
            " max_pooling2d_1 (MaxPoolin  (None, 37, 288, 64)       0         \n",
            " g2D)                                                            \n",
            "                                                                 \n",
            " conv2d_2 (Conv2D)           (None, 37, 288, 128)      73856     \n",
            "                                                                 \n",
            " max_pooling2d_2 (MaxPoolin  (None, 18, 144, 128)      0         \n",
            " g2D)                                                            \n",
            "                                                                 \n",
            " flatten (Flatten)           (None, 331776)            0         \n",
            "                                                                 \n",
            " dense (Dense)               (None, 256)               84934912  \n",
            "                                                                 \n",
            " dropout (Dropout)           (None, 256)               0         \n",
            "                                                                 \n",
            " dense_1 (Dense)             (None, 128)               32896     \n",
            "                                                                 \n",
            " dropout_1 (Dropout)         (None, 128)               0         \n",
            "                                                                 \n",
            " dense_2 (Dense)             (None, 1)                 129       \n",
            "                                                                 \n",
            "=================================================================\n",
            "Total params: 85060609 (324.48 MB)\n",
            "Trainable params: 85060609 (324.48 MB)\n",
            "Non-trainable params: 0 (0.00 Byte)\n",
            "_________________________________________________________________\n"
          ]
        }
      ],
      "source": [
        "input_shape = (150, 1152)\n",
        "cnn_model = cnn_model()\n",
        "cnn_model.summary()"
      ]
    },
    {
      "cell_type": "markdown",
      "id": "8MnmELXPj5Vx",
      "metadata": {
        "id": "8MnmELXPj5Vx"
      },
      "source": [
        "## Model training"
      ]
    },
    {
      "cell_type": "code",
      "execution_count": null,
      "id": "-N56nRR7j7O0",
      "metadata": {
        "id": "-N56nRR7j7O0"
      },
      "outputs": [],
      "source": [
        "# early_stopping = EarlyStopping(monitor='val_loss', patience=3, restore_best_weights=True)"
      ]
    },
    {
      "cell_type": "code",
      "execution_count": null,
      "id": "S0h0QBe7j70r",
      "metadata": {
        "colab": {
          "base_uri": "https://localhost:8080/"
        },
        "id": "S0h0QBe7j70r",
        "outputId": "2ed6fd95-782d-4ebf-992a-e264208de5ab"
      },
      "outputs": [
        {
          "name": "stdout",
          "output_type": "stream",
          "text": [
            "Epoch 1/20\n",
            "223/223 [==============================] - 19s 49ms/step - loss: 0.5941 - accuracy: 0.6797 - val_loss: 0.1760 - val_accuracy: 0.9450\n",
            "Epoch 2/20\n",
            "223/223 [==============================] - 8s 35ms/step - loss: 0.1920 - accuracy: 0.9272 - val_loss: 0.1498 - val_accuracy: 0.9450\n",
            "Epoch 3/20\n",
            "223/223 [==============================] - 8s 34ms/step - loss: 0.1480 - accuracy: 0.9458 - val_loss: 0.1467 - val_accuracy: 0.9574\n",
            "Epoch 4/20\n",
            "223/223 [==============================] - 7s 33ms/step - loss: 0.1302 - accuracy: 0.9526 - val_loss: 0.1507 - val_accuracy: 0.9574\n",
            "Epoch 5/20\n",
            "223/223 [==============================] - 7s 33ms/step - loss: 0.0947 - accuracy: 0.9644 - val_loss: 0.1455 - val_accuracy: 0.9405\n",
            "Epoch 6/20\n",
            "223/223 [==============================] - 7s 33ms/step - loss: 0.0605 - accuracy: 0.9774 - val_loss: 0.1748 - val_accuracy: 0.9428\n",
            "Epoch 7/20\n",
            "223/223 [==============================] - 7s 33ms/step - loss: 0.0429 - accuracy: 0.9843 - val_loss: 0.2253 - val_accuracy: 0.9473\n",
            "Epoch 8/20\n",
            "223/223 [==============================] - 7s 33ms/step - loss: 0.0485 - accuracy: 0.9830 - val_loss: 0.2098 - val_accuracy: 0.9495\n",
            "Epoch 9/20\n",
            "223/223 [==============================] - 7s 33ms/step - loss: 0.0329 - accuracy: 0.9893 - val_loss: 0.2873 - val_accuracy: 0.9450\n",
            "Epoch 10/20\n",
            "223/223 [==============================] - 7s 33ms/step - loss: 0.0289 - accuracy: 0.9896 - val_loss: 0.1875 - val_accuracy: 0.9383\n",
            "Epoch 11/20\n",
            "223/223 [==============================] - 7s 33ms/step - loss: 0.0260 - accuracy: 0.9914 - val_loss: 0.2760 - val_accuracy: 0.9484\n",
            "Epoch 12/20\n",
            "223/223 [==============================] - 7s 33ms/step - loss: 0.0147 - accuracy: 0.9947 - val_loss: 0.2856 - val_accuracy: 0.9562\n",
            "Epoch 13/20\n",
            "223/223 [==============================] - 8s 34ms/step - loss: 0.0193 - accuracy: 0.9937 - val_loss: 0.2961 - val_accuracy: 0.9506\n",
            "Epoch 14/20\n",
            "223/223 [==============================] - 7s 33ms/step - loss: 0.0192 - accuracy: 0.9941 - val_loss: 0.2437 - val_accuracy: 0.9607\n",
            "Epoch 15/20\n",
            "223/223 [==============================] - 7s 33ms/step - loss: 0.0106 - accuracy: 0.9964 - val_loss: 0.3224 - val_accuracy: 0.9540\n",
            "Epoch 16/20\n",
            "223/223 [==============================] - 7s 33ms/step - loss: 0.0044 - accuracy: 0.9987 - val_loss: 0.3777 - val_accuracy: 0.9495\n",
            "Epoch 17/20\n",
            "223/223 [==============================] - 7s 33ms/step - loss: 0.0204 - accuracy: 0.9931 - val_loss: 0.2754 - val_accuracy: 0.9540\n",
            "Epoch 18/20\n",
            "195/223 [=========================>....] - ETA: 0s - loss: 0.0249 - accuracy: 0.9942"
          ]
        }
      ],
      "source": [
        "history = cnn_model.fit(\n",
        "    X_train, y_train,\n",
        "    epochs=20,\n",
        "    batch_size=32,\n",
        "    validation_data=(X_val, y_val)\n",
        "    # callbacks=[early_stopping]\n",
        ")"
      ]
    },
    {
      "cell_type": "markdown",
      "id": "nloYDnsUj8gc",
      "metadata": {
        "id": "nloYDnsUj8gc"
      },
      "source": [
        "## Model Evaluation"
      ]
    },
    {
      "cell_type": "code",
      "execution_count": null,
      "id": "4OPvpd9gkABr",
      "metadata": {
        "id": "4OPvpd9gkABr"
      },
      "outputs": [],
      "source": [
        "test_loss, test_accuracy = cnn_model.evaluate(X_test, y_test)"
      ]
    },
    {
      "cell_type": "code",
      "execution_count": null,
      "id": "F5lcSJHZkCAi",
      "metadata": {
        "id": "F5lcSJHZkCAi"
      },
      "outputs": [],
      "source": [
        "print(f'Test Loss: {test_loss}')\n",
        "print(f'Test Accuracy: {test_accuracy}')"
      ]
    },
    {
      "cell_type": "code",
      "execution_count": null,
      "id": "oO8ti9kDkCP4",
      "metadata": {
        "id": "oO8ti9kDkCP4"
      },
      "outputs": [],
      "source": [
        "y_pred = (cnn_model.predict(X_test) > 0.5).astype(\"int32\")"
      ]
    },
    {
      "cell_type": "code",
      "execution_count": null,
      "id": "rmMGGXV3kCgi",
      "metadata": {
        "id": "rmMGGXV3kCgi"
      },
      "outputs": [],
      "source": [
        "plt.figure(figsize=(10, 8))\n",
        "sns.heatmap(confusion_matrix(y_test, y_pred), annot=True, fmt='d', cmap='Blues', xticklabels=['Non-Commercial', 'Commercial'], yticklabels=['Non-Commercial', 'Commercial'])\n",
        "plt.xlabel('Predicted Labels')\n",
        "plt.ylabel('True Labels')\n",
        "plt.title('Confusion Matrix')\n",
        "plt.show()"
      ]
    },
    {
      "cell_type": "markdown",
      "id": "SyGG-P0H7Ieq",
      "metadata": {
        "id": "SyGG-P0H7Ieq"
      },
      "source": [
        "# Setting Batch Size to 1"
      ]
    },
    {
      "cell_type": "code",
      "execution_count": null,
      "id": "KoXcLTJA7Hxn",
      "metadata": {
        "id": "KoXcLTJA7Hxn"
      },
      "outputs": [],
      "source": [
        "config  = cnn_model.get_config()"
      ]
    },
    {
      "cell_type": "code",
      "execution_count": null,
      "id": "1xw_BopY7I4s",
      "metadata": {
        "id": "1xw_BopY7I4s"
      },
      "outputs": [],
      "source": [
        "for layer in config['layers']:\n",
        "    if 'batch_input_shape' in layer['config']:\n",
        "        shape = layer['config']['batch_input_shape']\n",
        "        shape = (1, *shape[1:])\n",
        "        layer['config']['batch_input_shape'] = shape"
      ]
    },
    {
      "cell_type": "code",
      "execution_count": null,
      "id": "FLVWUlKk7JVE",
      "metadata": {
        "colab": {
          "base_uri": "https://localhost:8080/"
        },
        "id": "FLVWUlKk7JVE",
        "outputId": "65272d9d-d3b8-44ef-e582-cceb56ff5ad4"
      },
      "outputs": [
        {
          "data": {
            "text/plain": [
              "{'name': 'sequential',\n",
              " 'layers': [{'module': 'keras.layers',\n",
              "   'class_name': 'InputLayer',\n",
              "   'config': {'batch_input_shape': (1, 150, 1152),\n",
              "    'dtype': 'float32',\n",
              "    'sparse': False,\n",
              "    'ragged': False,\n",
              "    'name': 'reshape_input'},\n",
              "   'registered_name': None},\n",
              "  {'module': 'keras.layers',\n",
              "   'class_name': 'Reshape',\n",
              "   'config': {'name': 'reshape',\n",
              "    'trainable': True,\n",
              "    'dtype': 'float32',\n",
              "    'batch_input_shape': (1, 150, 1152),\n",
              "    'target_shape': (150, 1152, 1)},\n",
              "   'registered_name': None,\n",
              "   'build_config': {'input_shape': (None, 150, 1152)}},\n",
              "  {'module': 'keras.layers',\n",
              "   'class_name': 'Conv2D',\n",
              "   'config': {'name': 'conv2d',\n",
              "    'trainable': True,\n",
              "    'dtype': 'float32',\n",
              "    'filters': 32,\n",
              "    'kernel_size': (3, 3),\n",
              "    'strides': (1, 1),\n",
              "    'padding': 'same',\n",
              "    'data_format': 'channels_last',\n",
              "    'dilation_rate': (1, 1),\n",
              "    'groups': 1,\n",
              "    'activation': 'relu',\n",
              "    'use_bias': True,\n",
              "    'kernel_initializer': {'module': 'keras.initializers',\n",
              "     'class_name': 'GlorotUniform',\n",
              "     'config': {'seed': None},\n",
              "     'registered_name': None},\n",
              "    'bias_initializer': {'module': 'keras.initializers',\n",
              "     'class_name': 'Zeros',\n",
              "     'config': {},\n",
              "     'registered_name': None},\n",
              "    'kernel_regularizer': None,\n",
              "    'bias_regularizer': None,\n",
              "    'activity_regularizer': None,\n",
              "    'kernel_constraint': None,\n",
              "    'bias_constraint': None},\n",
              "   'registered_name': None,\n",
              "   'build_config': {'input_shape': (None, 150, 1152, 1)}},\n",
              "  {'module': 'keras.layers',\n",
              "   'class_name': 'MaxPooling2D',\n",
              "   'config': {'name': 'max_pooling2d',\n",
              "    'trainable': True,\n",
              "    'dtype': 'float32',\n",
              "    'pool_size': (2, 2),\n",
              "    'padding': 'valid',\n",
              "    'strides': (2, 2),\n",
              "    'data_format': 'channels_last'},\n",
              "   'registered_name': None,\n",
              "   'build_config': {'input_shape': (None, 150, 1152, 32)}},\n",
              "  {'module': 'keras.layers',\n",
              "   'class_name': 'Conv2D',\n",
              "   'config': {'name': 'conv2d_1',\n",
              "    'trainable': True,\n",
              "    'dtype': 'float32',\n",
              "    'filters': 64,\n",
              "    'kernel_size': (3, 3),\n",
              "    'strides': (1, 1),\n",
              "    'padding': 'same',\n",
              "    'data_format': 'channels_last',\n",
              "    'dilation_rate': (1, 1),\n",
              "    'groups': 1,\n",
              "    'activation': 'relu',\n",
              "    'use_bias': True,\n",
              "    'kernel_initializer': {'module': 'keras.initializers',\n",
              "     'class_name': 'GlorotUniform',\n",
              "     'config': {'seed': None},\n",
              "     'registered_name': None},\n",
              "    'bias_initializer': {'module': 'keras.initializers',\n",
              "     'class_name': 'Zeros',\n",
              "     'config': {},\n",
              "     'registered_name': None},\n",
              "    'kernel_regularizer': None,\n",
              "    'bias_regularizer': None,\n",
              "    'activity_regularizer': None,\n",
              "    'kernel_constraint': None,\n",
              "    'bias_constraint': None},\n",
              "   'registered_name': None,\n",
              "   'build_config': {'input_shape': (None, 75, 576, 32)}},\n",
              "  {'module': 'keras.layers',\n",
              "   'class_name': 'MaxPooling2D',\n",
              "   'config': {'name': 'max_pooling2d_1',\n",
              "    'trainable': True,\n",
              "    'dtype': 'float32',\n",
              "    'pool_size': (2, 2),\n",
              "    'padding': 'valid',\n",
              "    'strides': (2, 2),\n",
              "    'data_format': 'channels_last'},\n",
              "   'registered_name': None,\n",
              "   'build_config': {'input_shape': (None, 75, 576, 64)}},\n",
              "  {'module': 'keras.layers',\n",
              "   'class_name': 'Conv2D',\n",
              "   'config': {'name': 'conv2d_2',\n",
              "    'trainable': True,\n",
              "    'dtype': 'float32',\n",
              "    'filters': 128,\n",
              "    'kernel_size': (3, 3),\n",
              "    'strides': (1, 1),\n",
              "    'padding': 'same',\n",
              "    'data_format': 'channels_last',\n",
              "    'dilation_rate': (1, 1),\n",
              "    'groups': 1,\n",
              "    'activation': 'relu',\n",
              "    'use_bias': True,\n",
              "    'kernel_initializer': {'module': 'keras.initializers',\n",
              "     'class_name': 'GlorotUniform',\n",
              "     'config': {'seed': None},\n",
              "     'registered_name': None},\n",
              "    'bias_initializer': {'module': 'keras.initializers',\n",
              "     'class_name': 'Zeros',\n",
              "     'config': {},\n",
              "     'registered_name': None},\n",
              "    'kernel_regularizer': None,\n",
              "    'bias_regularizer': None,\n",
              "    'activity_regularizer': None,\n",
              "    'kernel_constraint': None,\n",
              "    'bias_constraint': None},\n",
              "   'registered_name': None,\n",
              "   'build_config': {'input_shape': (None, 37, 288, 64)}},\n",
              "  {'module': 'keras.layers',\n",
              "   'class_name': 'MaxPooling2D',\n",
              "   'config': {'name': 'max_pooling2d_2',\n",
              "    'trainable': True,\n",
              "    'dtype': 'float32',\n",
              "    'pool_size': (2, 2),\n",
              "    'padding': 'valid',\n",
              "    'strides': (2, 2),\n",
              "    'data_format': 'channels_last'},\n",
              "   'registered_name': None,\n",
              "   'build_config': {'input_shape': (None, 37, 288, 128)}},\n",
              "  {'module': 'keras.layers',\n",
              "   'class_name': 'Flatten',\n",
              "   'config': {'name': 'flatten',\n",
              "    'trainable': True,\n",
              "    'dtype': 'float32',\n",
              "    'data_format': 'channels_last'},\n",
              "   'registered_name': None,\n",
              "   'build_config': {'input_shape': (None, 18, 144, 128)}},\n",
              "  {'module': 'keras.layers',\n",
              "   'class_name': 'Dense',\n",
              "   'config': {'name': 'dense',\n",
              "    'trainable': True,\n",
              "    'dtype': 'float32',\n",
              "    'units': 256,\n",
              "    'activation': 'relu',\n",
              "    'use_bias': True,\n",
              "    'kernel_initializer': {'module': 'keras.initializers',\n",
              "     'class_name': 'GlorotUniform',\n",
              "     'config': {'seed': None},\n",
              "     'registered_name': None},\n",
              "    'bias_initializer': {'module': 'keras.initializers',\n",
              "     'class_name': 'Zeros',\n",
              "     'config': {},\n",
              "     'registered_name': None},\n",
              "    'kernel_regularizer': None,\n",
              "    'bias_regularizer': None,\n",
              "    'activity_regularizer': None,\n",
              "    'kernel_constraint': None,\n",
              "    'bias_constraint': None},\n",
              "   'registered_name': None,\n",
              "   'build_config': {'input_shape': (None, 331776)}},\n",
              "  {'module': 'keras.layers',\n",
              "   'class_name': 'Dropout',\n",
              "   'config': {'name': 'dropout',\n",
              "    'trainable': True,\n",
              "    'dtype': 'float32',\n",
              "    'rate': 0.5,\n",
              "    'noise_shape': None,\n",
              "    'seed': None},\n",
              "   'registered_name': None,\n",
              "   'build_config': {'input_shape': (None, 256)}},\n",
              "  {'module': 'keras.layers',\n",
              "   'class_name': 'Dense',\n",
              "   'config': {'name': 'dense_1',\n",
              "    'trainable': True,\n",
              "    'dtype': 'float32',\n",
              "    'units': 128,\n",
              "    'activation': 'relu',\n",
              "    'use_bias': True,\n",
              "    'kernel_initializer': {'module': 'keras.initializers',\n",
              "     'class_name': 'GlorotUniform',\n",
              "     'config': {'seed': None},\n",
              "     'registered_name': None},\n",
              "    'bias_initializer': {'module': 'keras.initializers',\n",
              "     'class_name': 'Zeros',\n",
              "     'config': {},\n",
              "     'registered_name': None},\n",
              "    'kernel_regularizer': None,\n",
              "    'bias_regularizer': None,\n",
              "    'activity_regularizer': None,\n",
              "    'kernel_constraint': None,\n",
              "    'bias_constraint': None},\n",
              "   'registered_name': None,\n",
              "   'build_config': {'input_shape': (None, 256)}},\n",
              "  {'module': 'keras.layers',\n",
              "   'class_name': 'Dropout',\n",
              "   'config': {'name': 'dropout_1',\n",
              "    'trainable': True,\n",
              "    'dtype': 'float32',\n",
              "    'rate': 0.5,\n",
              "    'noise_shape': None,\n",
              "    'seed': None},\n",
              "   'registered_name': None,\n",
              "   'build_config': {'input_shape': (None, 128)}},\n",
              "  {'module': 'keras.layers',\n",
              "   'class_name': 'Dense',\n",
              "   'config': {'name': 'dense_2',\n",
              "    'trainable': True,\n",
              "    'dtype': 'float32',\n",
              "    'units': 1,\n",
              "    'activation': 'sigmoid',\n",
              "    'use_bias': True,\n",
              "    'kernel_initializer': {'module': 'keras.initializers',\n",
              "     'class_name': 'GlorotUniform',\n",
              "     'config': {'seed': None},\n",
              "     'registered_name': None},\n",
              "    'bias_initializer': {'module': 'keras.initializers',\n",
              "     'class_name': 'Zeros',\n",
              "     'config': {},\n",
              "     'registered_name': None},\n",
              "    'kernel_regularizer': None,\n",
              "    'bias_regularizer': None,\n",
              "    'activity_regularizer': None,\n",
              "    'kernel_constraint': None,\n",
              "    'bias_constraint': None},\n",
              "   'registered_name': None,\n",
              "   'build_config': {'input_shape': (None, 128)}}]}"
            ]
          },
          "execution_count": 56,
          "metadata": {},
          "output_type": "execute_result"
        }
      ],
      "source": [
        "config"
      ]
    },
    {
      "cell_type": "code",
      "execution_count": null,
      "id": "N0GNYv557f0k",
      "metadata": {
        "id": "N0GNYv557f0k"
      },
      "outputs": [],
      "source": [
        "cnn_model_new = cnn_model.from_config(config)"
      ]
    },
    {
      "cell_type": "code",
      "execution_count": null,
      "id": "EDuPteYu7gD-",
      "metadata": {
        "id": "EDuPteYu7gD-"
      },
      "outputs": [],
      "source": [
        "cnn_model_new.set_weights(cnn_model.get_weights())"
      ]
    },
    {
      "cell_type": "code",
      "execution_count": 116,
      "id": "iNgEydMP7nIj",
      "metadata": {
        "colab": {
          "base_uri": "https://localhost:8080/"
        },
        "id": "iNgEydMP7nIj",
        "outputId": "56ec77b5-8322-4736-a6b4-2b8e20fb5b47"
      },
      "outputs": [
        {
          "output_type": "stream",
          "name": "stdout",
          "text": [
            "Model: \"sequential\"\n",
            "_________________________________________________________________\n",
            " Layer (type)                Output Shape              Param #   \n",
            "=================================================================\n",
            " reshape (Reshape)           (1, 150, 1152, 1)         0         \n",
            "                                                                 \n",
            " conv2d (Conv2D)             (1, 150, 1152, 32)        320       \n",
            "                                                                 \n",
            " max_pooling2d (MaxPooling2  (1, 75, 576, 32)          0         \n",
            " D)                                                              \n",
            "                                                                 \n",
            " conv2d_1 (Conv2D)           (1, 75, 576, 64)          18496     \n",
            "                                                                 \n",
            " max_pooling2d_1 (MaxPoolin  (1, 37, 288, 64)          0         \n",
            " g2D)                                                            \n",
            "                                                                 \n",
            " conv2d_2 (Conv2D)           (1, 37, 288, 128)         73856     \n",
            "                                                                 \n",
            " max_pooling2d_2 (MaxPoolin  (1, 18, 144, 128)         0         \n",
            " g2D)                                                            \n",
            "                                                                 \n",
            " flatten (Flatten)           (1, 331776)               0         \n",
            "                                                                 \n",
            " dense (Dense)               (1, 256)                  84934912  \n",
            "                                                                 \n",
            " dropout (Dropout)           (1, 256)                  0         \n",
            "                                                                 \n",
            " dense_1 (Dense)             (1, 128)                  32896     \n",
            "                                                                 \n",
            " dropout_1 (Dropout)         (1, 128)                  0         \n",
            "                                                                 \n",
            " dense_2 (Dense)             (1, 1)                    129       \n",
            "                                                                 \n",
            "=================================================================\n",
            "Total params: 85060609 (324.48 MB)\n",
            "Trainable params: 85060609 (324.48 MB)\n",
            "Non-trainable params: 0 (0.00 Byte)\n",
            "_________________________________________________________________\n"
          ]
        }
      ],
      "source": [
        "cnn_model_new.summary()"
      ]
    },
    {
      "cell_type": "code",
      "execution_count": null,
      "id": "s79bFnG77t9i",
      "metadata": {
        "id": "s79bFnG77t9i"
      },
      "outputs": [],
      "source": [
        "cnn_model_new.compile(loss='binary_crossentropy', optimizer='adam', metrics=['accuracy'])"
      ]
    },
    {
      "cell_type": "code",
      "execution_count": null,
      "id": "k50uluE97zmu",
      "metadata": {
        "colab": {
          "base_uri": "https://localhost:8080/"
        },
        "id": "k50uluE97zmu",
        "outputId": "30f52e7f-1e6a-4611-d36a-5e9cc8a4de06"
      },
      "outputs": [
        {
          "name": "stdout",
          "output_type": "stream",
          "text": [
            "28/28 [==============================] - 1s 15ms/step - loss: 0.3231 - accuracy: 0.9395\n"
          ]
        }
      ],
      "source": [
        "test_loss, test_accuracy = cnn_model_new.evaluate(X_test, y_test)"
      ]
    },
    {
      "cell_type": "code",
      "execution_count": null,
      "id": "b3mTENKF71ww",
      "metadata": {
        "colab": {
          "base_uri": "https://localhost:8080/"
        },
        "id": "b3mTENKF71ww",
        "outputId": "b78a5308-e1e0-486e-8404-02a2b42e9e77"
      },
      "outputs": [
        {
          "name": "stdout",
          "output_type": "stream",
          "text": [
            "Test Loss: 0.3230646848678589\n",
            "Test Accuracy: 0.939461886882782\n"
          ]
        }
      ],
      "source": [
        "print(f'Test Loss: {test_loss}')\n",
        "print(f'Test Accuracy: {test_accuracy}')"
      ]
    },
    {
      "cell_type": "markdown",
      "id": "1TBfxjVyKegv",
      "metadata": {
        "id": "1TBfxjVyKegv"
      },
      "source": [
        "## Converting the Trained CNN model to .tflite format"
      ]
    },
    {
      "cell_type": "code",
      "execution_count": null,
      "id": "sLvEXD20Ke4b",
      "metadata": {
        "id": "sLvEXD20Ke4b"
      },
      "outputs": [],
      "source": [
        "converter = tf.lite.TFLiteConverter.from_keras_model(cnn_model_new)\n",
        "converter.experimental_new_converter = True\n",
        "tflite_model = converter.convert()"
      ]
    },
    {
      "cell_type": "code",
      "execution_count": null,
      "id": "Stzk4Qo6KfKr",
      "metadata": {
        "id": "Stzk4Qo6KfKr"
      },
      "outputs": [],
      "source": [
        "# Save the converted model\n",
        "with open('cnn_model.tflite', 'wb') as f:\n",
        "    f.write(tflite_model)"
      ]
    },
    {
      "cell_type": "markdown",
      "id": "JmShVVkYOPN-",
      "metadata": {
        "id": "JmShVVkYOPN-"
      },
      "source": [
        "## Inferencing on .tflite model"
      ]
    },
    {
      "cell_type": "code",
      "execution_count": null,
      "id": "ZD9wp47hOpCZ",
      "metadata": {
        "id": "ZD9wp47hOpCZ"
      },
      "outputs": [],
      "source": [
        "# Load the TFLite model and allocate tensors\n",
        "interpreter = tf.lite.Interpreter(model_path='./cnn_model.tflite')\n",
        "interpreter.allocate_tensors()\n",
        "\n",
        "# Get input and output tensors\n",
        "input_details = interpreter.get_input_details()\n",
        "output_details = interpreter.get_output_details()"
      ]
    },
    {
      "cell_type": "code",
      "execution_count": null,
      "id": "XKrjV1Qcu2Xr",
      "metadata": {
        "id": "XKrjV1Qcu2Xr"
      },
      "outputs": [],
      "source": [
        "interpreter = tf.lite.Interpreter(model_path='./cnn_model.tflite')"
      ]
    },
    {
      "cell_type": "code",
      "execution_count": null,
      "id": "iwpRDLYcu5Gq",
      "metadata": {
        "id": "iwpRDLYcu5Gq"
      },
      "outputs": [],
      "source": [
        "interpreter.allocate_tensors()"
      ]
    },
    {
      "cell_type": "code",
      "execution_count": null,
      "id": "xjrt3zFKRAHL",
      "metadata": {
        "id": "xjrt3zFKRAHL"
      },
      "outputs": [],
      "source": [
        "def run_inference(input_data):\n",
        "    \"\"\"\n",
        "    Run inference on a single input using the TensorFlow Lite interpreter.\n",
        "\n",
        "    Parameters:\n",
        "    input_data (np.ndarray): The input data for the model. Should be a NumPy array with the appropriate shape.\n",
        "\n",
        "    Returns:\n",
        "    output_data (np.ndarray): The output data from the model. The shape and type of this output depend on the model's architecture.\n",
        "    \"\"\"\n",
        "    interpreter.set_tensor(input_details[0]['index'], input_data)\n",
        "    interpreter.invoke()\n",
        "    output_data = interpreter.get_tensor(output_details[0]['index'])\n",
        "    return output_data\n"
      ]
    },
    {
      "cell_type": "code",
      "execution_count": null,
      "id": "tIyWRukbR4U-",
      "metadata": {
        "id": "tIyWRukbR4U-"
      },
      "outputs": [],
      "source": [
        "def evaluate_model(interpreter, X_test, y_test, threshold=0.5):\n",
        "    \"\"\"\n",
        "    Evaluate the TensorFlow Lite model on the given test dataset.\n",
        "\n",
        "    Parameters:\n",
        "    interpreter (tf.lite.Interpreter): The TensorFlow Lite interpreter for running inference.\n",
        "    X_test (np.ndarray): The test dataset input features. Should be a NumPy array of shape (n_samples, seq_len, n_features).\n",
        "    y_test (np.ndarray): The test dataset labels. Should be a NumPy array of shape (n_samples,).\n",
        "    threshold (float, optional): he threshold for binary classification. Default is 0.5.\n",
        "\n",
        "    Returns:\n",
        "    accuracy (float): The accuracy of the model on the test dataset.\n",
        "    \"\"\"\n",
        "    correct_predictions = 0\n",
        "    total_predictions = 0\n",
        "\n",
        "    for i in range(len(X_test)):\n",
        "        input_data = np.expand_dims(X_test[i], axis=0).astype(np.float32)  # Adding batch dimension\n",
        "        predicted_output = run_inference(input_data)\n",
        "        predicted_label = (predicted_output >= threshold).astype(int)[0][0]  # Applying threshold\n",
        "        true_label = y_test[i]\n",
        "\n",
        "        if predicted_label == true_label:\n",
        "            correct_predictions += 1\n",
        "        total_predictions += 1\n",
        "\n",
        "    accuracy = correct_predictions / total_predictions\n",
        "    return accuracy"
      ]
    },
    {
      "cell_type": "code",
      "execution_count": null,
      "id": "NClrl5SyQUFV",
      "metadata": {
        "colab": {
          "base_uri": "https://localhost:8080/"
        },
        "id": "NClrl5SyQUFV",
        "outputId": "b46aa03a-78c2-4cc2-e8bb-cf00c1cde016"
      },
      "outputs": [
        {
          "name": "stdout",
          "output_type": "stream",
          "text": [
            "Accuracy: 0.9394618834080718\n"
          ]
        }
      ],
      "source": [
        "accuracy = evaluate_model(interpreter, X_test, y_test)\n",
        "print(f'Accuracy: {accuracy}')"
      ]
    },
    {
      "cell_type": "code",
      "execution_count": null,
      "id": "RUJ3If88MgYy",
      "metadata": {
        "colab": {
          "base_uri": "https://localhost:8080/"
        },
        "id": "RUJ3If88MgYy",
        "outputId": "c9999b1f-37b4-4099-be70-9aef6c9a3cfc"
      },
      "outputs": [
        {
          "data": {
            "text/plain": [
              "(892, 150, 1152)"
            ]
          },
          "execution_count": 50,
          "metadata": {},
          "output_type": "execute_result"
        }
      ],
      "source": [
        "X_test.shape"
      ]
    },
    {
      "cell_type": "code",
      "execution_count": null,
      "id": "xuIbXuIpMj_x",
      "metadata": {
        "colab": {
          "base_uri": "https://localhost:8080/"
        },
        "id": "xuIbXuIpMj_x",
        "outputId": "cf48bf0a-2168-4ebf-d55d-29e120360981"
      },
      "outputs": [
        {
          "data": {
            "text/plain": [
              "(892,)"
            ]
          },
          "execution_count": 51,
          "metadata": {},
          "output_type": "execute_result"
        }
      ],
      "source": [
        "y_test.shape"
      ]
    },
    {
      "cell_type": "markdown",
      "id": "GPcZfPslxToe",
      "metadata": {
        "id": "GPcZfPslxToe"
      },
      "source": [
        "# Saving the Test data\n",
        "\n",
        "\n"
      ]
    },
    {
      "cell_type": "code",
      "execution_count": null,
      "id": "jpkJEsnVzDEY",
      "metadata": {
        "colab": {
          "base_uri": "https://localhost:8080/"
        },
        "id": "jpkJEsnVzDEY",
        "outputId": "8385a4fc-c2ef-4bcd-cd55-a01fc90c3a60"
      },
      "outputs": [
        {
          "data": {
            "text/plain": [
              "(892,)"
            ]
          },
          "execution_count": 50,
          "metadata": {},
          "output_type": "execute_result"
        }
      ],
      "source": [
        "y_test.shape"
      ]
    },
    {
      "cell_type": "code",
      "execution_count": null,
      "id": "Qo0cuqk-zEZr",
      "metadata": {
        "id": "Qo0cuqk-zEZr"
      },
      "outputs": [],
      "source": [
        "np.save('X_test.npy', X_test)\n",
        "np.save('y_test.npy', y_test)"
      ]
    },
    {
      "cell_type": "code",
      "execution_count": null,
      "id": "xTEkCGv7zU0t",
      "metadata": {
        "id": "xTEkCGv7zU0t"
      },
      "outputs": [],
      "source": [
        "# Load the arrays from .npy files\n",
        "X_test = np.load('X_test.npy')\n",
        "y_test = np.load('y_test.npy')"
      ]
    },
    {
      "cell_type": "code",
      "execution_count": null,
      "id": "PVK7iq4GzW0C",
      "metadata": {
        "colab": {
          "base_uri": "https://localhost:8080/"
        },
        "id": "PVK7iq4GzW0C",
        "outputId": "9e4a468a-3a71-4aba-a695-e6e4f716b9f2"
      },
      "outputs": [
        {
          "data": {
            "text/plain": [
              "(892, 150, 1152)"
            ]
          },
          "execution_count": 53,
          "metadata": {},
          "output_type": "execute_result"
        }
      ],
      "source": [
        "X_test.shape"
      ]
    },
    {
      "cell_type": "code",
      "execution_count": null,
      "id": "-DVHhCuvzzC5",
      "metadata": {
        "id": "-DVHhCuvzzC5"
      },
      "outputs": [],
      "source": [
        "size1 = os.path.getsize('X_test.npy') / (1024 * 1024)  # Size in MB\n",
        "size2 = os.path.getsize('y_test.npy') / (1024 * 1024)  # Size in MB"
      ]
    },
    {
      "cell_type": "code",
      "execution_count": null,
      "id": "2exWotb50LC3",
      "metadata": {
        "colab": {
          "base_uri": "https://localhost:8080/"
        },
        "id": "2exWotb50LC3",
        "outputId": "35fd4aef-56b7-4b6a-dd20-af1234255f8d"
      },
      "outputs": [
        {
          "data": {
            "text/plain": [
              "1175.9766845703125"
            ]
          },
          "execution_count": 55,
          "metadata": {},
          "output_type": "execute_result"
        }
      ],
      "source": [
        "size1"
      ]
    },
    {
      "cell_type": "code",
      "execution_count": null,
      "id": "jlHdvPoQ0NAc",
      "metadata": {
        "colab": {
          "base_uri": "https://localhost:8080/"
        },
        "id": "jlHdvPoQ0NAc",
        "outputId": "115c4def-340c-450f-94d2-c7aa5019ae97"
      },
      "outputs": [
        {
          "data": {
            "text/plain": [
              "0.006927490234375"
            ]
          },
          "execution_count": 56,
          "metadata": {},
          "output_type": "execute_result"
        }
      ],
      "source": [
        "size2"
      ]
    },
    {
      "cell_type": "code",
      "execution_count": null,
      "id": "qmGyOLMz0Nw5",
      "metadata": {
        "colab": {
          "base_uri": "https://localhost:8080/",
          "height": 34
        },
        "id": "qmGyOLMz0Nw5",
        "outputId": "132a102f-e63a-47b1-9319-aecbcc50554b"
      },
      "outputs": [
        {
          "data": {
            "application/javascript": [
              "\n",
              "    async function download(id, filename, size) {\n",
              "      if (!google.colab.kernel.accessAllowed) {\n",
              "        return;\n",
              "      }\n",
              "      const div = document.createElement('div');\n",
              "      const label = document.createElement('label');\n",
              "      label.textContent = `Downloading \"${filename}\": `;\n",
              "      div.appendChild(label);\n",
              "      const progress = document.createElement('progress');\n",
              "      progress.max = size;\n",
              "      div.appendChild(progress);\n",
              "      document.body.appendChild(div);\n",
              "\n",
              "      const buffers = [];\n",
              "      let downloaded = 0;\n",
              "\n",
              "      const channel = await google.colab.kernel.comms.open(id);\n",
              "      // Send a message to notify the kernel that we're ready.\n",
              "      channel.send({})\n",
              "\n",
              "      for await (const message of channel.messages) {\n",
              "        // Send a message to notify the kernel that we're ready.\n",
              "        channel.send({})\n",
              "        if (message.buffers) {\n",
              "          for (const buffer of message.buffers) {\n",
              "            buffers.push(buffer);\n",
              "            downloaded += buffer.byteLength;\n",
              "            progress.value = downloaded;\n",
              "          }\n",
              "        }\n",
              "      }\n",
              "      const blob = new Blob(buffers, {type: 'application/binary'});\n",
              "      const a = document.createElement('a');\n",
              "      a.href = window.URL.createObjectURL(blob);\n",
              "      a.download = filename;\n",
              "      div.appendChild(a);\n",
              "      a.click();\n",
              "      div.remove();\n",
              "    }\n",
              "  "
            ],
            "text/plain": [
              "<IPython.core.display.Javascript object>"
            ]
          },
          "metadata": {},
          "output_type": "display_data"
        },
        {
          "data": {
            "application/javascript": [
              "download(\"download_fd597fdb-9818-4e70-b1c2-152156deee6a\", \"X_test.npy\", 1233100928)"
            ],
            "text/plain": [
              "<IPython.core.display.Javascript object>"
            ]
          },
          "metadata": {},
          "output_type": "display_data"
        }
      ],
      "source": [
        "from google.colab import files\n",
        "files.download('X_test.npy')"
      ]
    },
    {
      "cell_type": "code",
      "execution_count": null,
      "id": "l5qXGARl2keb",
      "metadata": {
        "colab": {
          "base_uri": "https://localhost:8080/",
          "height": 17
        },
        "id": "l5qXGARl2keb",
        "outputId": "e48ffda9-8a22-46b4-b4e8-acbda5851953"
      },
      "outputs": [
        {
          "data": {
            "application/javascript": [
              "\n",
              "    async function download(id, filename, size) {\n",
              "      if (!google.colab.kernel.accessAllowed) {\n",
              "        return;\n",
              "      }\n",
              "      const div = document.createElement('div');\n",
              "      const label = document.createElement('label');\n",
              "      label.textContent = `Downloading \"${filename}\": `;\n",
              "      div.appendChild(label);\n",
              "      const progress = document.createElement('progress');\n",
              "      progress.max = size;\n",
              "      div.appendChild(progress);\n",
              "      document.body.appendChild(div);\n",
              "\n",
              "      const buffers = [];\n",
              "      let downloaded = 0;\n",
              "\n",
              "      const channel = await google.colab.kernel.comms.open(id);\n",
              "      // Send a message to notify the kernel that we're ready.\n",
              "      channel.send({})\n",
              "\n",
              "      for await (const message of channel.messages) {\n",
              "        // Send a message to notify the kernel that we're ready.\n",
              "        channel.send({})\n",
              "        if (message.buffers) {\n",
              "          for (const buffer of message.buffers) {\n",
              "            buffers.push(buffer);\n",
              "            downloaded += buffer.byteLength;\n",
              "            progress.value = downloaded;\n",
              "          }\n",
              "        }\n",
              "      }\n",
              "      const blob = new Blob(buffers, {type: 'application/binary'});\n",
              "      const a = document.createElement('a');\n",
              "      a.href = window.URL.createObjectURL(blob);\n",
              "      a.download = filename;\n",
              "      div.appendChild(a);\n",
              "      a.click();\n",
              "      div.remove();\n",
              "    }\n",
              "  "
            ],
            "text/plain": [
              "<IPython.core.display.Javascript object>"
            ]
          },
          "metadata": {},
          "output_type": "display_data"
        },
        {
          "data": {
            "application/javascript": [
              "download(\"download_a691a812-8ab2-42c9-a1a2-ab618bbe7f57\", \"y_test.npy\", 7264)"
            ],
            "text/plain": [
              "<IPython.core.display.Javascript object>"
            ]
          },
          "metadata": {},
          "output_type": "display_data"
        }
      ],
      "source": [
        "from google.colab import files\n",
        "files.download('y_test.npy')"
      ]
    },
    {
      "cell_type": "code",
      "execution_count": null,
      "id": "vW2GueqVkav1",
      "metadata": {
        "id": "vW2GueqVkav1"
      },
      "outputs": [],
      "source": [
        "np.save('X_cal_data.npy', X_cal_data)\n",
        "np.save('Y_cal_data.npy', Y_cal_data)"
      ]
    },
    {
      "cell_type": "code",
      "execution_count": null,
      "id": "NOLWQRw7l3oh",
      "metadata": {
        "colab": {
          "base_uri": "https://localhost:8080/",
          "height": 17
        },
        "id": "NOLWQRw7l3oh",
        "outputId": "1a1289d7-169f-4d01-b2bb-29a19899f9b6"
      },
      "outputs": [
        {
          "data": {
            "application/javascript": [
              "\n",
              "    async function download(id, filename, size) {\n",
              "      if (!google.colab.kernel.accessAllowed) {\n",
              "        return;\n",
              "      }\n",
              "      const div = document.createElement('div');\n",
              "      const label = document.createElement('label');\n",
              "      label.textContent = `Downloading \"${filename}\": `;\n",
              "      div.appendChild(label);\n",
              "      const progress = document.createElement('progress');\n",
              "      progress.max = size;\n",
              "      div.appendChild(progress);\n",
              "      document.body.appendChild(div);\n",
              "\n",
              "      const buffers = [];\n",
              "      let downloaded = 0;\n",
              "\n",
              "      const channel = await google.colab.kernel.comms.open(id);\n",
              "      // Send a message to notify the kernel that we're ready.\n",
              "      channel.send({})\n",
              "\n",
              "      for await (const message of channel.messages) {\n",
              "        // Send a message to notify the kernel that we're ready.\n",
              "        channel.send({})\n",
              "        if (message.buffers) {\n",
              "          for (const buffer of message.buffers) {\n",
              "            buffers.push(buffer);\n",
              "            downloaded += buffer.byteLength;\n",
              "            progress.value = downloaded;\n",
              "          }\n",
              "        }\n",
              "      }\n",
              "      const blob = new Blob(buffers, {type: 'application/binary'});\n",
              "      const a = document.createElement('a');\n",
              "      a.href = window.URL.createObjectURL(blob);\n",
              "      a.download = filename;\n",
              "      div.appendChild(a);\n",
              "      a.click();\n",
              "      div.remove();\n",
              "    }\n",
              "  "
            ],
            "text/plain": [
              "<IPython.core.display.Javascript object>"
            ]
          },
          "metadata": {},
          "output_type": "display_data"
        },
        {
          "data": {
            "application/javascript": [
              "download(\"download_d1935da5-9674-4ab0-b007-85744ee599d9\", \"X_cal_data.npy\", 69120128)"
            ],
            "text/plain": [
              "<IPython.core.display.Javascript object>"
            ]
          },
          "metadata": {},
          "output_type": "display_data"
        },
        {
          "data": {
            "application/javascript": [
              "\n",
              "    async function download(id, filename, size) {\n",
              "      if (!google.colab.kernel.accessAllowed) {\n",
              "        return;\n",
              "      }\n",
              "      const div = document.createElement('div');\n",
              "      const label = document.createElement('label');\n",
              "      label.textContent = `Downloading \"${filename}\": `;\n",
              "      div.appendChild(label);\n",
              "      const progress = document.createElement('progress');\n",
              "      progress.max = size;\n",
              "      div.appendChild(progress);\n",
              "      document.body.appendChild(div);\n",
              "\n",
              "      const buffers = [];\n",
              "      let downloaded = 0;\n",
              "\n",
              "      const channel = await google.colab.kernel.comms.open(id);\n",
              "      // Send a message to notify the kernel that we're ready.\n",
              "      channel.send({})\n",
              "\n",
              "      for await (const message of channel.messages) {\n",
              "        // Send a message to notify the kernel that we're ready.\n",
              "        channel.send({})\n",
              "        if (message.buffers) {\n",
              "          for (const buffer of message.buffers) {\n",
              "            buffers.push(buffer);\n",
              "            downloaded += buffer.byteLength;\n",
              "            progress.value = downloaded;\n",
              "          }\n",
              "        }\n",
              "      }\n",
              "      const blob = new Blob(buffers, {type: 'application/binary'});\n",
              "      const a = document.createElement('a');\n",
              "      a.href = window.URL.createObjectURL(blob);\n",
              "      a.download = filename;\n",
              "      div.appendChild(a);\n",
              "      a.click();\n",
              "      div.remove();\n",
              "    }\n",
              "  "
            ],
            "text/plain": [
              "<IPython.core.display.Javascript object>"
            ]
          },
          "metadata": {},
          "output_type": "display_data"
        },
        {
          "data": {
            "application/javascript": [
              "download(\"download_0ed9a34c-6c3c-4c2c-bcc8-c24d5abfec76\", \"Y_cal_data.npy\", 528)"
            ],
            "text/plain": [
              "<IPython.core.display.Javascript object>"
            ]
          },
          "metadata": {},
          "output_type": "display_data"
        }
      ],
      "source": [
        "from google.colab import files\n",
        "files.download('X_cal_data.npy')\n",
        "from google.colab import files\n",
        "files.download('Y_cal_data.npy')"
      ]
    },
    {
      "cell_type": "code",
      "execution_count": null,
      "id": "oRRqMFzeZx9T",
      "metadata": {
        "colab": {
          "background_save": true,
          "base_uri": "https://localhost:8080/"
        },
        "id": "oRRqMFzeZx9T",
        "outputId": "d9492bb1-1889-4161-8962-b5a258715e36"
      },
      "outputs": [
        {
          "name": "stdout",
          "output_type": "stream",
          "text": [
            "hi\n"
          ]
        }
      ],
      "source": [
        "print(\"hi\")"
      ]
    }
  ],
  "metadata": {
    "accelerator": "GPU",
    "colab": {
      "gpuType": "A100",
      "machine_shape": "hm",
      "provenance": []
    },
    "kernelspec": {
      "display_name": "Python 3",
      "name": "python3"
    },
    "language_info": {
      "codemirror_mode": {
        "name": "ipython",
        "version": 3
      },
      "file_extension": ".py",
      "mimetype": "text/x-python",
      "name": "python",
      "nbconvert_exporter": "python",
      "pygments_lexer": "ipython3",
      "version": "3.12.0"
    }
  },
  "nbformat": 4,
  "nbformat_minor": 5
}