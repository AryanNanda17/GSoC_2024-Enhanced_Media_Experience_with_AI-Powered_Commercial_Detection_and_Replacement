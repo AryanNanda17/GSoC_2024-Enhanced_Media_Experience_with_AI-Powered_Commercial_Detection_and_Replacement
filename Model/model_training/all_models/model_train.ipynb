{
  "cells": [
    {
      "cell_type": "code",
      "execution_count": 1,
      "id": "6bce23c8-8e6e-4881-9925-0f19d6614eca",
      "metadata": {
        "id": "6bce23c8-8e6e-4881-9925-0f19d6614eca"
      },
      "outputs": [],
      "source": [
        "# Import important libraries\n",
        "import pickle\n",
        "import numpy as np\n",
        "from sklearn.model_selection import train_test_split\n",
        "from sklearn.preprocessing import StandardScaler\n",
        "from sklearn.utils import shuffle\n",
        "from sklearn.metrics import confusion_matrix, classification_report\n",
        "import gdown\n",
        "import os\n",
        "import tensorflow as tf\n",
        "from tensorflow.keras.models import Sequential, Model\n",
        "from tensorflow.keras.layers import Bidirectional, LSTM, Dense, Dropout, TimeDistributed\n",
        "from tensorflow.keras.layers import Conv2D, MaxPooling2D, Flatten, Reshape\n",
        "from tensorflow.keras.layers import Input, Dense, Dropout, LayerNormalization, MultiHeadAttention, GlobalAveragePooling1D, Embedding\n",
        "from tensorflow.keras.callbacks import EarlyStopping\n",
        "import matplotlib.pyplot as plt\n",
        "import seaborn as sns"
      ]
    },
    {
      "cell_type": "code",
      "execution_count": 2,
      "id": "de67657f-4aa3-4a38-9644-ba6727e127c5",
      "metadata": {
        "id": "de67657f-4aa3-4a38-9644-ba6727e127c5"
      },
      "outputs": [],
      "source": [
        "# Constants\n",
        "train_ratio = 0.7\n",
        "val_ratio = 0.15\n",
        "test_ratio = 0.15"
      ]
    },
    {
      "cell_type": "markdown",
      "source": [
        "# Downloading And Loading the dataset"
      ],
      "metadata": {
        "id": "fssbdPG-neoJ"
      },
      "id": "fssbdPG-neoJ"
    },
    {
      "cell_type": "code",
      "execution_count": 3,
      "id": "d019e805-6129-4a66-8d64-1824d8c05dd6",
      "metadata": {
        "id": "d019e805-6129-4a66-8d64-1824d8c05dd6"
      },
      "outputs": [],
      "source": [
        "# Google Drive file_ids of commercial and non-commercial audio-video features\n",
        "commercialFeatures_150_file_id          = \"1ucT-jrkmhRHx8RSMW0bueGD2IjL3ZpiO\"\n",
        "nonCommercialFeatures_150_file_id       = \"1uA5sdu_5b2l0z8k_aI0NeG2eqWsdX9zi\"\n",
        "\n",
        "# Destination paths\n",
        "commercialFeatures_150_destination      = \"commercialFeatures_150.pkl\"\n",
        "nonCommercialFeatures_150_destination   = \"nonCommercialFeatures_150.pkl\""
      ]
    },
    {
      "cell_type": "code",
      "execution_count": 4,
      "id": "48650556-80e1-41da-a002-e8c180311142",
      "metadata": {
        "id": "48650556-80e1-41da-a002-e8c180311142"
      },
      "outputs": [],
      "source": [
        "def download_file_from_google_drive(file_id, destination):\n",
        "    \"\"\"\n",
        "    Download a file from Google Drive if it doesn't already exist locally.\n",
        "\n",
        "    Parameters:\n",
        "    - file_id (str): The unique file ID from Google Drive.\n",
        "    - destination (str): The local path where the file should be saved.\n",
        "    \"\"\"\n",
        "    if os.path.exists(destination):\n",
        "        print(f'File already exists at {destination}. Skipping download.')\n",
        "    else:\n",
        "        url = f\"https://drive.google.com/uc?id={file_id}\"\n",
        "        gdown.download(url, destination, quiet=False)"
      ]
    },
    {
      "cell_type": "code",
      "execution_count": 5,
      "id": "0a0d611e-8e42-4429-b4f6-28a46cc4ed84",
      "metadata": {
        "colab": {
          "base_uri": "https://localhost:8080/"
        },
        "id": "0a0d611e-8e42-4429-b4f6-28a46cc4ed84",
        "outputId": "d6d76fd6-295f-4fa3-f5f3-fa95b0df14b1"
      },
      "outputs": [
        {
          "output_type": "stream",
          "name": "stderr",
          "text": [
            "Downloading...\n",
            "From (original): https://drive.google.com/uc?id=1ucT-jrkmhRHx8RSMW0bueGD2IjL3ZpiO\n",
            "From (redirected): https://drive.google.com/uc?id=1ucT-jrkmhRHx8RSMW0bueGD2IjL3ZpiO&confirm=t&uuid=55a904a1-840c-45e5-9edf-f5852dd1a57e\n",
            "To: /content/commercialFeatures_150.pkl\n",
            "100%|██████████| 6.03G/6.03G [00:32<00:00, 188MB/s]\n",
            "Downloading...\n",
            "From (original): https://drive.google.com/uc?id=1uA5sdu_5b2l0z8k_aI0NeG2eqWsdX9zi\n",
            "From (redirected): https://drive.google.com/uc?id=1uA5sdu_5b2l0z8k_aI0NeG2eqWsdX9zi&confirm=t&uuid=6efb867b-ac85-4044-96f2-a7e8ec3285a8\n",
            "To: /content/nonCommercialFeatures_150.pkl\n",
            "100%|██████████| 6.35G/6.35G [01:20<00:00, 78.7MB/s]\n"
          ]
        }
      ],
      "source": [
        "# Downloading commercialFeatures\n",
        "download_file_from_google_drive(commercialFeatures_150_file_id, commercialFeatures_150_destination)\n",
        "\n",
        "# Downloading nonCommercialFeatures\n",
        "download_file_from_google_drive(nonCommercialFeatures_150_file_id, nonCommercialFeatures_150_destination)"
      ]
    },
    {
      "cell_type": "code",
      "execution_count": 6,
      "id": "7793dfa9-63a4-44fd-810e-05f0412c6dd1",
      "metadata": {
        "id": "7793dfa9-63a4-44fd-810e-05f0412c6dd1"
      },
      "outputs": [],
      "source": [
        "def load_features():\n",
        "    \"\"\"\n",
        "    Load data from a pickled file if it exists, otherwise initialize an empty list.\n",
        "\n",
        "    Returns:\n",
        "    - commercialFeatures_150 (list) - List containing Commercial video features\n",
        "    - nonCommercialFeatures_150 (list) - List containing nonCommercial video features\n",
        "    \"\"\"\n",
        "    with open('commercialFeatures_150.pkl', 'rb') as f:\n",
        "        commercialFeatures_150 = pickle.load(f)\n",
        "    with open('nonCommercialFeatures_150.pkl', 'rb') as f:\n",
        "        nonCommercialFeatures_150 = pickle.load(f)\n",
        "\n",
        "    print(f'Number of commercial features: {len(commercialFeatures_150)}')\n",
        "    print(f'Number of nonCommercial features: {len(nonCommercialFeatures_150)}')\n",
        "    print(\"Audio-Visual Features Loaded Successfully\")\n",
        "    return commercialFeatures_150, nonCommercialFeatures_150"
      ]
    },
    {
      "cell_type": "code",
      "execution_count": 7,
      "id": "89950adf-f880-4563-9d24-df6e057329cc",
      "metadata": {
        "id": "89950adf-f880-4563-9d24-df6e057329cc",
        "colab": {
          "base_uri": "https://localhost:8080/"
        },
        "outputId": "de9ba0b6-e382-42b3-ab6a-abc8a81d1221"
      },
      "outputs": [
        {
          "output_type": "stream",
          "name": "stdout",
          "text": [
            "Number of commercial features: 4364\n",
            "Number of nonCommercial features: 4597\n",
            "Audio-Visual Features Loaded Successfully\n"
          ]
        }
      ],
      "source": [
        "commercialFeatures_150, nonCommercialFeatures_150 = load_features()"
      ]
    },
    {
      "cell_type": "code",
      "execution_count": 8,
      "id": "faaf8ace-58cd-45a5-8e15-f4c76be42d2f",
      "metadata": {
        "colab": {
          "base_uri": "https://localhost:8080/"
        },
        "id": "faaf8ace-58cd-45a5-8e15-f4c76be42d2f",
        "outputId": "d921ba74-048f-4615-f373-65937493cccb"
      },
      "outputs": [
        {
          "output_type": "stream",
          "name": "stdout",
          "text": [
            "(4364, 150, 1152)\n"
          ]
        }
      ],
      "source": [
        "print(commercialFeatures_150.shape)"
      ]
    },
    {
      "cell_type": "code",
      "execution_count": 9,
      "id": "59d8677d-63cf-43e9-8c62-19c8638a36d6",
      "metadata": {
        "colab": {
          "base_uri": "https://localhost:8080/"
        },
        "id": "59d8677d-63cf-43e9-8c62-19c8638a36d6",
        "outputId": "e118c5ba-756c-4cc6-9600-25bf079df6c2"
      },
      "outputs": [
        {
          "output_type": "stream",
          "name": "stdout",
          "text": [
            "(4597, 150, 1152)\n"
          ]
        }
      ],
      "source": [
        "print(nonCommercialFeatures_150.shape)"
      ]
    },
    {
      "cell_type": "markdown",
      "id": "71aa6195-16d1-484e-89a2-1c8778209a0e",
      "metadata": {
        "id": "71aa6195-16d1-484e-89a2-1c8778209a0e"
      },
      "source": [
        "# Generating labels for data and merging commercial and non-commercial features and shuffling data randomly"
      ]
    },
    {
      "cell_type": "code",
      "execution_count": 10,
      "id": "324a5cfa-08b9-4fdb-ad03-b557881d47d5",
      "metadata": {
        "id": "324a5cfa-08b9-4fdb-ad03-b557881d47d5"
      },
      "outputs": [],
      "source": [
        "# Generating labels\n",
        "commercial_labels = np.ones(len(commercialFeatures_150))\n",
        "non_commercial_labels = np.zeros(len(nonCommercialFeatures_150))"
      ]
    },
    {
      "cell_type": "code",
      "execution_count": 11,
      "id": "6680733b-f514-495b-8968-c601a60a204e",
      "metadata": {
        "id": "6680733b-f514-495b-8968-c601a60a204e"
      },
      "outputs": [],
      "source": [
        "# Merging commercial and non-commercial features\n",
        "X = np.concatenate((commercialFeatures_150, nonCommercialFeatures_150), axis=0)\n",
        "Y = np.concatenate((commercial_labels, non_commercial_labels), axis=0)"
      ]
    },
    {
      "cell_type": "code",
      "execution_count": 12,
      "id": "59b7addd-5a43-405f-9424-441c00dc675d",
      "metadata": {
        "colab": {
          "base_uri": "https://localhost:8080/"
        },
        "id": "59b7addd-5a43-405f-9424-441c00dc675d",
        "outputId": "5e3f4d7d-ee38-4e42-ba52-c9b264f6de8d"
      },
      "outputs": [
        {
          "output_type": "stream",
          "name": "stdout",
          "text": [
            "Shape of data is (8961, 150, 1152)\n",
            "Shape of labels is (8961,)\n"
          ]
        }
      ],
      "source": [
        "print(f'Shape of data is {X.shape}')\n",
        "print(f'Shape of labels is {Y.shape}')"
      ]
    },
    {
      "cell_type": "code",
      "execution_count": 13,
      "id": "40ff0bc8-3855-473b-b8a2-8d9d4923d592",
      "metadata": {
        "id": "40ff0bc8-3855-473b-b8a2-8d9d4923d592",
        "scrolled": true
      },
      "outputs": [],
      "source": [
        "# Shuffling data randomly\n",
        "X, Y = shuffle(X, Y, random_state=42)"
      ]
    },
    {
      "cell_type": "markdown",
      "id": "ffe4daad-bb00-4fa4-9d1c-240c2a1816f1",
      "metadata": {
        "id": "ffe4daad-bb00-4fa4-9d1c-240c2a1816f1"
      },
      "source": [
        "# Preprocess the data"
      ]
    },
    {
      "cell_type": "code",
      "execution_count": 14,
      "id": "7a37369c-4b10-497d-a9e4-f78d786ddb91",
      "metadata": {
        "colab": {
          "base_uri": "https://localhost:8080/"
        },
        "id": "7a37369c-4b10-497d-a9e4-f78d786ddb91",
        "outputId": "529bb073-07a4-40e2-dd4d-f938b6c54e3f"
      },
      "outputs": [
        {
          "output_type": "stream",
          "name": "stdout",
          "text": [
            "[219.  78. 255. ... 124. 141. 177.]\n"
          ]
        }
      ],
      "source": [
        "print(X[0][0])"
      ]
    },
    {
      "cell_type": "code",
      "execution_count": 15,
      "id": "7ff6f1bc-149c-47b1-9211-177ec9296b8e",
      "metadata": {
        "id": "7ff6f1bc-149c-47b1-9211-177ec9296b8e"
      },
      "outputs": [],
      "source": [
        "# Finding Range of data\n",
        "maxi = 0\n",
        "mini = 1000\n",
        "for i in range(len(X[0][0])):\n",
        "    maxi = max(maxi, X[0][0][i])\n",
        "    mini = min(mini, X[0][0][i])"
      ]
    },
    {
      "cell_type": "code",
      "execution_count": 16,
      "id": "c8497441-0b67-4858-95eb-bb31de9ed6aa",
      "metadata": {
        "colab": {
          "base_uri": "https://localhost:8080/"
        },
        "id": "c8497441-0b67-4858-95eb-bb31de9ed6aa",
        "outputId": "5a38342e-0e2c-4d63-8671-352176a30db2"
      },
      "outputs": [
        {
          "output_type": "stream",
          "name": "stdout",
          "text": [
            "maximum value is 255.0\n",
            "minimum value is 0.0\n"
          ]
        }
      ],
      "source": [
        "print(f'maximum value is {maxi}')\n",
        "print(f'minimum value is {mini}')"
      ]
    },
    {
      "cell_type": "code",
      "execution_count": 17,
      "id": "HSc6omhCKPFC",
      "metadata": {
        "id": "HSc6omhCKPFC"
      },
      "outputs": [],
      "source": [
        "def scale_data(data):\n",
        "    \"\"\"\n",
        "    Scale the input data by dividing by 255.\n",
        "\n",
        "    Parameters:\n",
        "    data (numpy.ndarray): Input data array of shape [samples, features] or higher dimensions.\n",
        "\n",
        "    Returns:\n",
        "    numpy.ndarray: Scaled data with values in the range [0, 1].\n",
        "    \"\"\"\n",
        "\n",
        "    scaled_data = data / 255.0\n",
        "    return scaled_data"
      ]
    },
    {
      "cell_type": "code",
      "execution_count": 18,
      "id": "O2HJqpSEFuco",
      "metadata": {
        "id": "O2HJqpSEFuco"
      },
      "outputs": [],
      "source": [
        "X = scale_data(X)"
      ]
    },
    {
      "cell_type": "code",
      "execution_count": 19,
      "id": "Jfybf-msFAY6",
      "metadata": {
        "colab": {
          "base_uri": "https://localhost:8080/"
        },
        "id": "Jfybf-msFAY6",
        "outputId": "98084eda-e50f-43d5-9a3b-5f2c5956b6aa"
      },
      "outputs": [
        {
          "output_type": "stream",
          "name": "stdout",
          "text": [
            "[0.85882353 0.30588235 1.         ... 0.48627451 0.55294118 0.69411765]\n"
          ]
        }
      ],
      "source": [
        "print(X[0][0])"
      ]
    },
    {
      "cell_type": "code",
      "execution_count": 20,
      "id": "A45QQDmLFyVm",
      "metadata": {
        "id": "A45QQDmLFyVm"
      },
      "outputs": [],
      "source": [
        "def standardize_data(data):\n",
        "    \"\"\"\n",
        "    Standardize the input data.\n",
        "\n",
        "    Parameters:\n",
        "    data (numpy.ndarray): Input data array of shape [samples, features] or higher dimensions.\n",
        "                          If the input has more than 2 dimensions, the function will flatten the\n",
        "                          data along the features axis, standardize, and then reshape back.\n",
        "\n",
        "    Returns:\n",
        "    numpy.ndarray: Standardized data with mean 0 and standard deviation 1 along the features axis.\n",
        "    \"\"\"\n",
        "\n",
        "    original_shape = data.shape\n",
        "    if len(original_shape) > 2:\n",
        "        data = data.reshape(-1, original_shape[-1])\n",
        "\n",
        "    scaler = StandardScaler()\n",
        "    standardized_data = scaler.fit_transform(data)\n",
        "\n",
        "    if len(original_shape) > 2:\n",
        "        standardized_data = standardized_data.reshape(original_shape)\n",
        "\n",
        "    return standardized_data"
      ]
    },
    {
      "cell_type": "code",
      "execution_count": 21,
      "id": "b6zFCMTfGwr1",
      "metadata": {
        "id": "b6zFCMTfGwr1"
      },
      "outputs": [],
      "source": [
        "X = standardize_data(X)"
      ]
    },
    {
      "cell_type": "code",
      "execution_count": 22,
      "id": "q71IjAqHKv8f",
      "metadata": {
        "colab": {
          "base_uri": "https://localhost:8080/"
        },
        "id": "q71IjAqHKv8f",
        "outputId": "1aadabe2-74d3-4fbe-ab45-9cc857b500ee"
      },
      "outputs": [
        {
          "output_type": "stream",
          "name": "stdout",
          "text": [
            "[ 1.55840786 -0.51457659  3.16766892 ...  0.02947117  0.20901008\n",
            "  0.56678746]\n"
          ]
        }
      ],
      "source": [
        "print(X[0][0])"
      ]
    },
    {
      "cell_type": "markdown",
      "id": "41521a7d-3a54-411c-9d39-a537f711bfb7",
      "metadata": {
        "id": "41521a7d-3a54-411c-9d39-a537f711bfb7"
      },
      "source": [
        "# Train, Test and Validation split"
      ]
    },
    {
      "cell_type": "code",
      "execution_count": 23,
      "id": "cc60eb1e-18cf-4bfc-8f37-a8d4d4eb6285",
      "metadata": {
        "id": "cc60eb1e-18cf-4bfc-8f37-a8d4d4eb6285"
      },
      "outputs": [],
      "source": [
        "def split_data(data, labels, train_ratio=0.7, valid_ratio=0.15, test_ratio=0.15, random_state=None):\n",
        "    \"\"\"\n",
        "    Split data into training, validation, and test sets.\n",
        "\n",
        "    Parameters:\n",
        "    data (numpy.ndarray): The input data of shape [samples, features].\n",
        "    labels (numpy.ndarray): The corresponding labels of shape [samples,].\n",
        "    train_ratio (float): The ratio of the training set. Default is 0.7.\n",
        "    valid_ratio (float): The ratio of the validation set. Default is 0.15.\n",
        "    test_ratio (float): The ratio of the test set. Default is 0.15.\n",
        "    random_state (int, optional): Random seed for reproducibility.\n",
        "\n",
        "    Returns:\n",
        "    tuple: Tuple containing:\n",
        "        - train_data (numpy.ndarray): Training data.\n",
        "        - valid_data (numpy.ndarray): Validation data.\n",
        "        - test_data (numpy.ndarray): Test data.\n",
        "        - train_labels (numpy.ndarray): Training labels.\n",
        "        - valid_labels (numpy.ndarray): Validation labels.\n",
        "        - test_labels (numpy.ndarray): Test labels.\n",
        "    \"\"\"\n",
        "\n",
        "    assert train_ratio + valid_ratio + test_ratio == 1, \"Ratios must sum to 1.\"\n",
        "\n",
        "    train_data, temp_data, train_labels, temp_labels = train_test_split(\n",
        "        data, labels, test_size=(1 - train_ratio), random_state=random_state\n",
        "    )\n",
        "\n",
        "    temp_ratio = valid_ratio + test_ratio\n",
        "    valid_ratio_relative = valid_ratio / temp_ratio\n",
        "    test_ratio_relative = test_ratio / temp_ratio\n",
        "\n",
        "    valid_data, test_data, valid_labels, test_labels = train_test_split(\n",
        "        temp_data, temp_labels, test_size=test_ratio_relative, random_state=random_state\n",
        "    )\n",
        "\n",
        "    return train_data, valid_data, test_data, train_labels, valid_labels, test_labels"
      ]
    },
    {
      "cell_type": "code",
      "execution_count": 24,
      "id": "e10d53ad-27cd-4150-907d-609461dd5244",
      "metadata": {
        "id": "e10d53ad-27cd-4150-907d-609461dd5244"
      },
      "outputs": [],
      "source": [
        "X_train, X_val, X_test, y_train, y_val, y_test = split_data(X, Y, random_state=42)\n"
      ]
    },
    {
      "cell_type": "code",
      "execution_count": 25,
      "id": "dfde3460-2e25-41dd-80a0-cfb812e3fb83",
      "metadata": {
        "id": "dfde3460-2e25-41dd-80a0-cfb812e3fb83",
        "colab": {
          "base_uri": "https://localhost:8080/"
        },
        "outputId": "d00b2746-f561-4162-ab5e-2cb4bf1bb403"
      },
      "outputs": [
        {
          "output_type": "stream",
          "name": "stdout",
          "text": [
            "Train data shape: (6272, 150, 1152)\n",
            "Validation data shape: (1344, 150, 1152)\n",
            "Test data shape: (1345, 150, 1152)\n"
          ]
        }
      ],
      "source": [
        "print(f'Train data shape: {X_train.shape}')\n",
        "print(f'Validation data shape: {X_val.shape}')\n",
        "print(f'Test data shape: {X_test.shape}')"
      ]
    },
    {
      "cell_type": "code",
      "execution_count": 26,
      "id": "7ee51b0d-bb8c-488a-b8b8-a195b920baaf",
      "metadata": {
        "id": "7ee51b0d-bb8c-488a-b8b8-a195b920baaf",
        "colab": {
          "base_uri": "https://localhost:8080/"
        },
        "outputId": "e876d5bf-43e0-4232-e0d4-73220c263990"
      },
      "outputs": [
        {
          "output_type": "stream",
          "name": "stdout",
          "text": [
            "Train labels shape: (6272,)\n",
            "Validation labels shape: (1344,)\n",
            "Test labels shape: (1345,)\n"
          ]
        }
      ],
      "source": [
        "print(f'Train labels shape: {y_train.shape}')\n",
        "print(f'Validation labels shape: {y_val.shape}')\n",
        "print(f'Test labels shape: {y_test.shape}')"
      ]
    },
    {
      "cell_type": "markdown",
      "id": "95c5e577-4bd8-4374-a582-61bc12f1262c",
      "metadata": {
        "id": "95c5e577-4bd8-4374-a582-61bc12f1262c"
      },
      "source": [
        "# Unidirectional LSTM **Model**"
      ]
    },
    {
      "cell_type": "code",
      "source": [
        "def unidirectional_lstm_model(input_shape):\n",
        "    model = Sequential()\n",
        "    model.add(LSTM(256, return_sequences=True, input_shape=input_shape))\n",
        "    model.add(Dropout(0.5))\n",
        "    model.add(LSTM(128, return_sequences=True))\n",
        "    model.add(Dropout(0.5))\n",
        "    model.add(LSTM(64))\n",
        "    model.add(Dropout(0.5))\n",
        "    model.add(Dense(32, activation='relu'))\n",
        "    model.add(Dense(1, activation='sigmoid'))\n",
        "    model.compile(loss='binary_crossentropy', optimizer='adam', metrics=['accuracy'])\n",
        "    return model"
      ],
      "metadata": {
        "id": "3M4QO-L0Wn2i"
      },
      "id": "3M4QO-L0Wn2i",
      "execution_count": 27,
      "outputs": []
    },
    {
      "cell_type": "code",
      "source": [
        "input_shape = (len(X_train[0]), len(X_train[0][0]))\n",
        "uni_LSTM_Model = unidirectional_lstm_model(input_shape)\n",
        "uni_LSTM_Model.summary()"
      ],
      "metadata": {
        "id": "TmG8WTVTDwtf",
        "colab": {
          "base_uri": "https://localhost:8080/"
        },
        "outputId": "e0bac4e2-e8a9-423c-abd8-4400b2c92eb5"
      },
      "id": "TmG8WTVTDwtf",
      "execution_count": 28,
      "outputs": [
        {
          "output_type": "stream",
          "name": "stdout",
          "text": [
            "Model: \"sequential\"\n",
            "_________________________________________________________________\n",
            " Layer (type)                Output Shape              Param #   \n",
            "=================================================================\n",
            " lstm (LSTM)                 (None, 150, 256)          1442816   \n",
            "                                                                 \n",
            " dropout (Dropout)           (None, 150, 256)          0         \n",
            "                                                                 \n",
            " lstm_1 (LSTM)               (None, 150, 128)          197120    \n",
            "                                                                 \n",
            " dropout_1 (Dropout)         (None, 150, 128)          0         \n",
            "                                                                 \n",
            " lstm_2 (LSTM)               (None, 64)                49408     \n",
            "                                                                 \n",
            " dropout_2 (Dropout)         (None, 64)                0         \n",
            "                                                                 \n",
            " dense (Dense)               (None, 32)                2080      \n",
            "                                                                 \n",
            " dense_1 (Dense)             (None, 1)                 33        \n",
            "                                                                 \n",
            "=================================================================\n",
            "Total params: 1691457 (6.45 MB)\n",
            "Trainable params: 1691457 (6.45 MB)\n",
            "Non-trainable params: 0 (0.00 Byte)\n",
            "_________________________________________________________________\n"
          ]
        }
      ]
    },
    {
      "cell_type": "markdown",
      "id": "Ofe2sSn1jM3j",
      "metadata": {
        "id": "Ofe2sSn1jM3j"
      },
      "source": [
        "\n",
        "\n",
        "## Model Training\n",
        "\n"
      ]
    },
    {
      "cell_type": "code",
      "execution_count": 29,
      "id": "G0QoxvehjQ22",
      "metadata": {
        "id": "G0QoxvehjQ22"
      },
      "outputs": [],
      "source": [
        "early_stopping = EarlyStopping(monitor='val_loss', patience=5, restore_best_weights=True)"
      ]
    },
    {
      "cell_type": "code",
      "execution_count": 30,
      "id": "2s1EYno2jU2x",
      "metadata": {
        "id": "2s1EYno2jU2x",
        "colab": {
          "base_uri": "https://localhost:8080/"
        },
        "outputId": "759f82e6-d3dd-48c0-d5ab-b318cc210158"
      },
      "outputs": [
        {
          "output_type": "stream",
          "name": "stdout",
          "text": [
            "Epoch 1/10\n",
            "196/196 [==============================] - 14s 41ms/step - loss: 0.2583 - accuracy: 0.9098 - val_loss: 0.1527 - val_accuracy: 0.9435\n",
            "Epoch 2/10\n",
            "196/196 [==============================] - 5s 26ms/step - loss: 0.1160 - accuracy: 0.9624 - val_loss: 0.1278 - val_accuracy: 0.9539\n",
            "Epoch 3/10\n",
            "196/196 [==============================] - 5s 26ms/step - loss: 0.0724 - accuracy: 0.9783 - val_loss: 0.0973 - val_accuracy: 0.9695\n",
            "Epoch 4/10\n",
            "196/196 [==============================] - 5s 26ms/step - loss: 0.0399 - accuracy: 0.9879 - val_loss: 0.1401 - val_accuracy: 0.9591\n",
            "Epoch 5/10\n",
            "196/196 [==============================] - 5s 26ms/step - loss: 0.0368 - accuracy: 0.9892 - val_loss: 0.1526 - val_accuracy: 0.9606\n",
            "Epoch 6/10\n",
            "196/196 [==============================] - 5s 26ms/step - loss: 0.0499 - accuracy: 0.9825 - val_loss: 0.1298 - val_accuracy: 0.9680\n",
            "Epoch 7/10\n",
            "196/196 [==============================] - 5s 26ms/step - loss: 0.0216 - accuracy: 0.9946 - val_loss: 0.1629 - val_accuracy: 0.9598\n",
            "Epoch 8/10\n",
            "196/196 [==============================] - 5s 26ms/step - loss: 0.0178 - accuracy: 0.9957 - val_loss: 0.1429 - val_accuracy: 0.9695\n"
          ]
        }
      ],
      "source": [
        "history = uni_LSTM_Model.fit(\n",
        "    X_train, y_train,\n",
        "    epochs=10,\n",
        "    batch_size=32,\n",
        "    validation_data=(X_val, y_val),\n",
        "    callbacks=[early_stopping]\n",
        ")"
      ]
    },
    {
      "cell_type": "markdown",
      "id": "bgjrkz0BjWeI",
      "metadata": {
        "id": "bgjrkz0BjWeI"
      },
      "source": [
        "## Evaluating model on Test data"
      ]
    },
    {
      "cell_type": "code",
      "execution_count": 31,
      "id": "CWNl4YwsjY92",
      "metadata": {
        "id": "CWNl4YwsjY92",
        "colab": {
          "base_uri": "https://localhost:8080/"
        },
        "outputId": "cb0f8588-ba7d-455b-94cd-1f1030ababa3"
      },
      "outputs": [
        {
          "output_type": "stream",
          "name": "stdout",
          "text": [
            "43/43 [==============================] - 2s 14ms/step - loss: 0.1135 - accuracy: 0.9628\n"
          ]
        }
      ],
      "source": [
        "test_loss, test_accuracy = uni_LSTM_Model.evaluate(X_test, y_test)"
      ]
    },
    {
      "cell_type": "code",
      "source": [
        "print(f'Test Loss: {test_loss}')\n",
        "print(f'Test Accuracy: {test_accuracy}')"
      ],
      "metadata": {
        "id": "Zs7y1rfTRnaT",
        "colab": {
          "base_uri": "https://localhost:8080/"
        },
        "outputId": "20be6f11-1c9f-4f67-8893-4c830d4d1656"
      },
      "id": "Zs7y1rfTRnaT",
      "execution_count": 32,
      "outputs": [
        {
          "output_type": "stream",
          "name": "stdout",
          "text": [
            "Test Loss: 0.1135210320353508\n",
            "Test Accuracy: 0.9628252983093262\n"
          ]
        }
      ]
    },
    {
      "cell_type": "code",
      "execution_count": 33,
      "id": "CFI-xLLDjZtc",
      "metadata": {
        "id": "CFI-xLLDjZtc",
        "colab": {
          "base_uri": "https://localhost:8080/"
        },
        "outputId": "9663c73e-bd27-47ab-8bdf-8f44d9f7582f"
      },
      "outputs": [
        {
          "output_type": "stream",
          "name": "stdout",
          "text": [
            "43/43 [==============================] - 2s 13ms/step\n"
          ]
        }
      ],
      "source": [
        "y_pred = (uni_LSTM_Model.predict(X_test) > 0.5).astype(\"int32\")"
      ]
    },
    {
      "cell_type": "code",
      "execution_count": 34,
      "id": "__IrdPb2j4iZ",
      "metadata": {
        "id": "__IrdPb2j4iZ",
        "colab": {
          "base_uri": "https://localhost:8080/",
          "height": 564
        },
        "outputId": "c503c346-8747-4017-8efc-4242d56184ee"
      },
      "outputs": [
        {
          "output_type": "display_data",
          "data": {
            "text/plain": [
              "<Figure size 800x600 with 1 Axes>"
            ],
            "image/png": "[encoded data removed]"
          },
          "metadata": {}
        }
      ],
      "source": [
        "conf_matrix = confusion_matrix(y_test, y_pred)\n",
        "plt.figure(figsize=(8, 6))\n",
        "sns.heatmap(conf_matrix, annot=True, cmap='Blues', fmt='g', cbar=False,\n",
        "            xticklabels=['Non-Commercial', 'Commercial'],\n",
        "            yticklabels=['Non-Commercial', 'Commercial'])\n",
        "plt.xlabel('Predicted Labels')\n",
        "plt.ylabel('True Labels')\n",
        "plt.title('Confusion Matrix')\n",
        "plt.show()"
      ]
    },
    {
      "cell_type": "code",
      "execution_count": 35,
      "id": "TfT6r17RjZwh",
      "metadata": {
        "id": "TfT6r17RjZwh",
        "colab": {
          "base_uri": "https://localhost:8080/"
        },
        "outputId": "218de67a-cd48-429f-f3fa-ee5ccc5c70fc"
      },
      "outputs": [
        {
          "output_type": "stream",
          "name": "stdout",
          "text": [
            "              precision    recall  f1-score   support\n",
            "\n",
            "         0.0       0.96      0.97      0.96       687\n",
            "         1.0       0.97      0.95      0.96       658\n",
            "\n",
            "    accuracy                           0.96      1345\n",
            "   macro avg       0.96      0.96      0.96      1345\n",
            "weighted avg       0.96      0.96      0.96      1345\n",
            "\n"
          ]
        }
      ],
      "source": [
        "print(classification_report(y_test, y_pred))"
      ]
    },
    {
      "cell_type": "markdown",
      "id": "gBhjQxsqjaxK",
      "metadata": {
        "id": "gBhjQxsqjaxK"
      },
      "source": [
        "## Exporting the trained uni_LSTM model"
      ]
    },
    {
      "cell_type": "code",
      "source": [
        "uni_LSTM_Model.save('./uni_LSTM_Model.keras')"
      ],
      "metadata": {
        "id": "bRZ04mwaaIIH"
      },
      "id": "bRZ04mwaaIIH",
      "execution_count": 49,
      "outputs": []
    },
    {
      "cell_type": "markdown",
      "source": [
        "# Bidirectional LSTMs"
      ],
      "metadata": {
        "id": "nJMs9yC0hVbT"
      },
      "id": "nJMs9yC0hVbT"
    },
    {
      "cell_type": "code",
      "source": [
        "def create_bidirectional_lstm_model(input_shape):\n",
        "    model = Sequential()\n",
        "    model.add(Bidirectional(LSTM(256, return_sequences=True), input_shape=input_shape))\n",
        "    model.add(Dropout(0.5))\n",
        "    model.add(Bidirectional(LSTM(128, return_sequences=True)))\n",
        "    model.add(Dropout(0.5))\n",
        "    model.add(Bidirectional(LSTM(64)))\n",
        "    model.add(Dropout(0.5))\n",
        "    model.add(Dense(64, activation='relu'))\n",
        "    model.add(Dense(1, activation='sigmoid'))\n",
        "\n",
        "    model.compile(loss='binary_crossentropy', optimizer='adam', metrics=['accuracy'])\n",
        "    return model"
      ],
      "metadata": {
        "id": "IZERgRD8hXK0"
      },
      "id": "IZERgRD8hXK0",
      "execution_count": 37,
      "outputs": []
    },
    {
      "cell_type": "code",
      "source": [
        "input_shape = (150, 1152)\n",
        "bidirectional_lstm_model = create_bidirectional_lstm_model(input_shape)\n",
        "bidirectional_lstm_model.summary()"
      ],
      "metadata": {
        "colab": {
          "base_uri": "https://localhost:8080/"
        },
        "id": "t_q53AJ4h8Lt",
        "outputId": "2b27bc92-9327-446e-c0bd-66ed289779d3"
      },
      "id": "t_q53AJ4h8Lt",
      "execution_count": 38,
      "outputs": [
        {
          "output_type": "stream",
          "name": "stdout",
          "text": [
            "Model: \"sequential_1\"\n",
            "_________________________________________________________________\n",
            " Layer (type)                Output Shape              Param #   \n",
            "=================================================================\n",
            " bidirectional (Bidirection  (None, 150, 512)          2885632   \n",
            " al)                                                             \n",
            "                                                                 \n",
            " dropout_3 (Dropout)         (None, 150, 512)          0         \n",
            "                                                                 \n",
            " bidirectional_1 (Bidirecti  (None, 150, 256)          656384    \n",
            " onal)                                                           \n",
            "                                                                 \n",
            " dropout_4 (Dropout)         (None, 150, 256)          0         \n",
            "                                                                 \n",
            " bidirectional_2 (Bidirecti  (None, 128)               164352    \n",
            " onal)                                                           \n",
            "                                                                 \n",
            " dropout_5 (Dropout)         (None, 128)               0         \n",
            "                                                                 \n",
            " dense_2 (Dense)             (None, 64)                8256      \n",
            "                                                                 \n",
            " dense_3 (Dense)             (None, 1)                 65        \n",
            "                                                                 \n",
            "=================================================================\n",
            "Total params: 3714689 (14.17 MB)\n",
            "Trainable params: 3714689 (14.17 MB)\n",
            "Non-trainable params: 0 (0.00 Byte)\n",
            "_________________________________________________________________\n"
          ]
        }
      ]
    },
    {
      "cell_type": "markdown",
      "source": [
        "## Model Training"
      ],
      "metadata": {
        "id": "ea6AB3O3iVkq"
      },
      "id": "ea6AB3O3iVkq"
    },
    {
      "cell_type": "code",
      "source": [
        "early_stopping = EarlyStopping(monitor='val_loss', patience=5, restore_best_weights=True)"
      ],
      "metadata": {
        "id": "qfh_EXYQh8bm"
      },
      "id": "qfh_EXYQh8bm",
      "execution_count": 41,
      "outputs": []
    },
    {
      "cell_type": "code",
      "source": [
        "history = bidirectional_lstm_model.fit(\n",
        "    X_train, y_train,\n",
        "    epochs=10,\n",
        "    batch_size=32,\n",
        "    validation_data=(X_val, y_val)\n",
        "    # callbacks=[early_stopping]\n",
        ")"
      ],
      "metadata": {
        "id": "vRoaRC1viO5h",
        "colab": {
          "base_uri": "https://localhost:8080/"
        },
        "outputId": "9125383c-c837-4ea9-e0da-f929d510e86f"
      },
      "id": "vRoaRC1viO5h",
      "execution_count": 42,
      "outputs": [
        {
          "output_type": "stream",
          "name": "stdout",
          "text": [
            "Epoch 1/10\n",
            "196/196 [==============================] - 10s 51ms/step - loss: 0.0698 - accuracy: 0.9774 - val_loss: 0.0930 - val_accuracy: 0.9688\n",
            "Epoch 2/10\n",
            "196/196 [==============================] - 8s 42ms/step - loss: 0.0345 - accuracy: 0.9880 - val_loss: 0.1134 - val_accuracy: 0.9710\n",
            "Epoch 3/10\n",
            "196/196 [==============================] - 8s 42ms/step - loss: 0.0169 - accuracy: 0.9943 - val_loss: 0.1217 - val_accuracy: 0.9702\n",
            "Epoch 4/10\n",
            "196/196 [==============================] - 8s 42ms/step - loss: 0.0080 - accuracy: 0.9978 - val_loss: 0.1320 - val_accuracy: 0.9702\n",
            "Epoch 5/10\n",
            "196/196 [==============================] - 9s 44ms/step - loss: 0.0041 - accuracy: 0.9987 - val_loss: 0.1658 - val_accuracy: 0.9695\n",
            "Epoch 6/10\n",
            "196/196 [==============================] - 8s 42ms/step - loss: 0.0084 - accuracy: 0.9978 - val_loss: 0.1403 - val_accuracy: 0.9717\n",
            "Epoch 7/10\n",
            "196/196 [==============================] - 8s 42ms/step - loss: 0.0087 - accuracy: 0.9971 - val_loss: 0.1985 - val_accuracy: 0.9546\n",
            "Epoch 8/10\n",
            "196/196 [==============================] - 8s 42ms/step - loss: 0.0160 - accuracy: 0.9949 - val_loss: 0.1298 - val_accuracy: 0.9591\n",
            "Epoch 9/10\n",
            "196/196 [==============================] - 8s 42ms/step - loss: 0.0115 - accuracy: 0.9974 - val_loss: 0.1511 - val_accuracy: 0.9673\n",
            "Epoch 10/10\n",
            "196/196 [==============================] - 8s 42ms/step - loss: 0.0027 - accuracy: 0.9992 - val_loss: 0.1675 - val_accuracy: 0.9658\n"
          ]
        }
      ]
    },
    {
      "cell_type": "markdown",
      "source": [
        "## Model Evaluation"
      ],
      "metadata": {
        "id": "2cAisaNXiX0p"
      },
      "id": "2cAisaNXiX0p"
    },
    {
      "cell_type": "code",
      "source": [
        "test_loss, test_accuracy = bidirectional_lstm_model.evaluate(X_test, y_test)"
      ],
      "metadata": {
        "id": "03cfqQkbiXcK",
        "colab": {
          "base_uri": "https://localhost:8080/"
        },
        "outputId": "f3d64ce0-8614-45c2-c233-0fb0de8d609d"
      },
      "id": "03cfqQkbiXcK",
      "execution_count": 43,
      "outputs": [
        {
          "output_type": "stream",
          "name": "stdout",
          "text": [
            "43/43 [==============================] - 3s 20ms/step - loss: 0.1729 - accuracy: 0.9643\n"
          ]
        }
      ]
    },
    {
      "cell_type": "code",
      "source": [
        "print(f'Test Loss: {test_loss}')\n",
        "print(f'Test Accuracy: {test_accuracy}')"
      ],
      "metadata": {
        "id": "20TxPidxirtU",
        "colab": {
          "base_uri": "https://localhost:8080/"
        },
        "outputId": "8a7a313f-424c-46c2-cacb-c5de54fd8ebf"
      },
      "id": "20TxPidxirtU",
      "execution_count": 44,
      "outputs": [
        {
          "output_type": "stream",
          "name": "stdout",
          "text": [
            "Test Loss: 0.17286346852779388\n",
            "Test Accuracy: 0.9643122553825378\n"
          ]
        }
      ]
    },
    {
      "cell_type": "code",
      "source": [
        "y_pred = (bidirectional_lstm_model.predict(X_test) > 0.5).astype(\"int32\")"
      ],
      "metadata": {
        "id": "ONZiDNjAjEAT",
        "colab": {
          "base_uri": "https://localhost:8080/"
        },
        "outputId": "6e84bd8d-00d2-4244-c73e-ccd069a26c87"
      },
      "id": "ONZiDNjAjEAT",
      "execution_count": 45,
      "outputs": [
        {
          "output_type": "stream",
          "name": "stdout",
          "text": [
            "43/43 [==============================] - 3s 19ms/step\n"
          ]
        }
      ]
    },
    {
      "cell_type": "code",
      "source": [
        "conf_matrix = confusion_matrix(y_test, y_pred)"
      ],
      "metadata": {
        "id": "sfbu1LW2jPaQ"
      },
      "id": "sfbu1LW2jPaQ",
      "execution_count": 46,
      "outputs": []
    },
    {
      "cell_type": "code",
      "source": [
        "plt.figure(figsize=(10, 8))\n",
        "sns.heatmap(conf_matrix, annot=True, fmt='d', cmap='Blues', xticklabels=['Non-Commercial', 'Commercial'], yticklabels=['Non-Commercial', 'Commercial'])\n",
        "plt.xlabel('Predicted Labels')\n",
        "plt.ylabel('True Labels')\n",
        "plt.title('Confusion Matrix')\n",
        "plt.show()"
      ],
      "metadata": {
        "id": "sJ374v3NjTLZ",
        "colab": {
          "base_uri": "https://localhost:8080/",
          "height": 718
        },
        "outputId": "6030bf49-30f8-42db-9b82-d6f624450f4e"
      },
      "id": "sJ374v3NjTLZ",
      "execution_count": 47,
      "outputs": [
        {
          "output_type": "display_data",
          "data": {
            "text/plain": [
              "<Figure size 1000x800 with 2 Axes>"
            ],
            "image/png": "[encoded data removed]"
          },
          "metadata": {}
        }
      ]
    },
    {
      "cell_type": "markdown",
      "source": [
        "## Exporting the trained model"
      ],
      "metadata": {
        "id": "iZe2oTb1iaQr"
      },
      "id": "iZe2oTb1iaQr"
    },
    {
      "cell_type": "code",
      "source": [
        "bidirectional_lstm_model.save('./bidirectional_lstm_model.keras')"
      ],
      "metadata": {
        "id": "KKhOsAXRjCq5"
      },
      "id": "KKhOsAXRjCq5",
      "execution_count": 48,
      "outputs": []
    },
    {
      "cell_type": "markdown",
      "source": [
        "# CNNs Model"
      ],
      "metadata": {
        "id": "V5U6zu7VjhH2"
      },
      "id": "V5U6zu7VjhH2"
    },
    {
      "cell_type": "code",
      "source": [
        "def cnn_model(input_shape):\n",
        "    model = Sequential()\n",
        "\n",
        "    model.add(Reshape((input_shape[0], input_shape[1], 1), input_shape=input_shape))\n",
        "\n",
        "    model.add(Conv2D(32, (3, 3), activation='relu', padding='same'))\n",
        "    model.add(MaxPooling2D((2, 2)))\n",
        "\n",
        "    model.add(Conv2D(64, (3, 3), activation='relu', padding='same'))\n",
        "    model.add(MaxPooling2D((2, 2)))\n",
        "\n",
        "    model.add(Conv2D(128, (3, 3), activation='relu', padding='same'))\n",
        "    model.add(MaxPooling2D((2, 2)))\n",
        "\n",
        "    model.add(Flatten())\n",
        "    model.add(Dense(256, activation='relu'))\n",
        "    model.add(Dropout(0.5))\n",
        "    model.add(Dense(128, activation='relu'))\n",
        "    model.add(Dropout(0.5))\n",
        "    model.add(Dense(1, activation='sigmoid'))\n",
        "\n",
        "    model.compile(loss='binary_crossentropy', optimizer='adam', metrics=['accuracy'])\n",
        "    return model"
      ],
      "metadata": {
        "id": "Z1pMROdPjjG-"
      },
      "id": "Z1pMROdPjjG-",
      "execution_count": 50,
      "outputs": []
    },
    {
      "cell_type": "code",
      "source": [
        "input_shape = (150, 1152)\n",
        "cnn_model = cnn_model(input_shape)\n",
        "cnn_model.summary()"
      ],
      "metadata": {
        "colab": {
          "base_uri": "https://localhost:8080/"
        },
        "id": "VopbL_yaj4MI",
        "outputId": "fd5cdf0b-7ed7-4d72-aae0-3483180a7941"
      },
      "id": "VopbL_yaj4MI",
      "execution_count": 51,
      "outputs": [
        {
          "output_type": "stream",
          "name": "stdout",
          "text": [
            "Model: \"sequential_2\"\n",
            "_________________________________________________________________\n",
            " Layer (type)                Output Shape              Param #   \n",
            "=================================================================\n",
            " reshape (Reshape)           (None, 150, 1152, 1)      0         \n",
            "                                                                 \n",
            " conv2d (Conv2D)             (None, 150, 1152, 32)     320       \n",
            "                                                                 \n",
            " max_pooling2d (MaxPooling2  (None, 75, 576, 32)       0         \n",
            " D)                                                              \n",
            "                                                                 \n",
            " conv2d_1 (Conv2D)           (None, 75, 576, 64)       18496     \n",
            "                                                                 \n",
            " max_pooling2d_1 (MaxPoolin  (None, 37, 288, 64)       0         \n",
            " g2D)                                                            \n",
            "                                                                 \n",
            " conv2d_2 (Conv2D)           (None, 37, 288, 128)      73856     \n",
            "                                                                 \n",
            " max_pooling2d_2 (MaxPoolin  (None, 18, 144, 128)      0         \n",
            " g2D)                                                            \n",
            "                                                                 \n",
            " flatten (Flatten)           (None, 331776)            0         \n",
            "                                                                 \n",
            " dense_4 (Dense)             (None, 256)               84934912  \n",
            "                                                                 \n",
            " dropout_6 (Dropout)         (None, 256)               0         \n",
            "                                                                 \n",
            " dense_5 (Dense)             (None, 128)               32896     \n",
            "                                                                 \n",
            " dropout_7 (Dropout)         (None, 128)               0         \n",
            "                                                                 \n",
            " dense_6 (Dense)             (None, 1)                 129       \n",
            "                                                                 \n",
            "=================================================================\n",
            "Total params: 85060609 (324.48 MB)\n",
            "Trainable params: 85060609 (324.48 MB)\n",
            "Non-trainable params: 0 (0.00 Byte)\n",
            "_________________________________________________________________\n"
          ]
        }
      ]
    },
    {
      "cell_type": "markdown",
      "source": [
        "## Model training"
      ],
      "metadata": {
        "id": "8MnmELXPj5Vx"
      },
      "id": "8MnmELXPj5Vx"
    },
    {
      "cell_type": "code",
      "source": [
        "# early_stopping = EarlyStopping(monitor='val_loss', patience=3, restore_best_weights=True)"
      ],
      "metadata": {
        "id": "-N56nRR7j7O0"
      },
      "id": "-N56nRR7j7O0",
      "execution_count": 54,
      "outputs": []
    },
    {
      "cell_type": "code",
      "source": [
        "history = cnn_model.fit(\n",
        "    X_train, y_train,\n",
        "    epochs=20,\n",
        "    batch_size=32,\n",
        "    validation_data=(X_val, y_val)\n",
        "    # callbacks=[early_stopping]\n",
        ")"
      ],
      "metadata": {
        "id": "S0h0QBe7j70r",
        "colab": {
          "base_uri": "https://localhost:8080/"
        },
        "outputId": "67852a95-a2c5-4bb1-96bc-678bc9fc516b"
      },
      "id": "S0h0QBe7j70r",
      "execution_count": 55,
      "outputs": [
        {
          "output_type": "stream",
          "name": "stdout",
          "text": [
            "Epoch 1/20\n",
            "196/196 [==============================] - 9s 43ms/step - loss: 0.1138 - accuracy: 0.9585 - val_loss: 0.2042 - val_accuracy: 0.9323\n",
            "Epoch 2/20\n",
            "196/196 [==============================] - 7s 34ms/step - loss: 0.1007 - accuracy: 0.9636 - val_loss: 0.1949 - val_accuracy: 0.9196\n",
            "Epoch 3/20\n",
            "196/196 [==============================] - 7s 34ms/step - loss: 0.0923 - accuracy: 0.9644 - val_loss: 0.2042 - val_accuracy: 0.9293\n",
            "Epoch 4/20\n",
            "196/196 [==============================] - 7s 34ms/step - loss: 0.0535 - accuracy: 0.9831 - val_loss: 0.2528 - val_accuracy: 0.9182\n",
            "Epoch 5/20\n",
            "196/196 [==============================] - 7s 34ms/step - loss: 0.0435 - accuracy: 0.9841 - val_loss: 0.2665 - val_accuracy: 0.9353\n",
            "Epoch 6/20\n",
            "196/196 [==============================] - 7s 34ms/step - loss: 0.0341 - accuracy: 0.9877 - val_loss: 0.3604 - val_accuracy: 0.9278\n",
            "Epoch 7/20\n",
            "196/196 [==============================] - 7s 34ms/step - loss: 0.0246 - accuracy: 0.9915 - val_loss: 0.4072 - val_accuracy: 0.9234\n",
            "Epoch 8/20\n",
            "196/196 [==============================] - 7s 34ms/step - loss: 0.0219 - accuracy: 0.9923 - val_loss: 0.3348 - val_accuracy: 0.9353\n",
            "Epoch 9/20\n",
            "196/196 [==============================] - 7s 34ms/step - loss: 0.0176 - accuracy: 0.9925 - val_loss: 0.3455 - val_accuracy: 0.9219\n",
            "Epoch 10/20\n",
            "196/196 [==============================] - 7s 34ms/step - loss: 0.0258 - accuracy: 0.9920 - val_loss: 0.3785 - val_accuracy: 0.9338\n",
            "Epoch 11/20\n",
            "196/196 [==============================] - 7s 34ms/step - loss: 0.0307 - accuracy: 0.9908 - val_loss: 0.4879 - val_accuracy: 0.9278\n",
            "Epoch 12/20\n",
            "196/196 [==============================] - 7s 34ms/step - loss: 0.0117 - accuracy: 0.9967 - val_loss: 0.3984 - val_accuracy: 0.9353\n",
            "Epoch 13/20\n",
            "196/196 [==============================] - 7s 34ms/step - loss: 0.0153 - accuracy: 0.9952 - val_loss: 0.3780 - val_accuracy: 0.9271\n",
            "Epoch 14/20\n",
            "196/196 [==============================] - 7s 34ms/step - loss: 0.0145 - accuracy: 0.9957 - val_loss: 0.4431 - val_accuracy: 0.9301\n",
            "Epoch 15/20\n",
            "196/196 [==============================] - 7s 34ms/step - loss: 0.0146 - accuracy: 0.9963 - val_loss: 0.4262 - val_accuracy: 0.9301\n",
            "Epoch 16/20\n",
            "196/196 [==============================] - 7s 34ms/step - loss: 0.0062 - accuracy: 0.9976 - val_loss: 0.4383 - val_accuracy: 0.9241\n",
            "Epoch 17/20\n",
            "196/196 [==============================] - 7s 34ms/step - loss: 0.0365 - accuracy: 0.9901 - val_loss: 0.3506 - val_accuracy: 0.9330\n",
            "Epoch 18/20\n",
            "196/196 [==============================] - 7s 33ms/step - loss: 0.0261 - accuracy: 0.9939 - val_loss: 0.5327 - val_accuracy: 0.9301\n",
            "Epoch 19/20\n",
            "196/196 [==============================] - 7s 34ms/step - loss: 0.0096 - accuracy: 0.9978 - val_loss: 0.3928 - val_accuracy: 0.9278\n",
            "Epoch 20/20\n",
            "196/196 [==============================] - 7s 34ms/step - loss: 0.0086 - accuracy: 0.9971 - val_loss: 0.4609 - val_accuracy: 0.9196\n"
          ]
        }
      ]
    },
    {
      "cell_type": "markdown",
      "source": [
        "## Model Evaluation"
      ],
      "metadata": {
        "id": "nloYDnsUj8gc"
      },
      "id": "nloYDnsUj8gc"
    },
    {
      "cell_type": "code",
      "source": [
        "test_loss, test_accuracy = cnn_model.evaluate(X_test, y_test)"
      ],
      "metadata": {
        "id": "4OPvpd9gkABr",
        "colab": {
          "base_uri": "https://localhost:8080/"
        },
        "outputId": "6a3cf8c7-0d31-4b09-d3e9-1b9c118e5ad3"
      },
      "id": "4OPvpd9gkABr",
      "execution_count": 56,
      "outputs": [
        {
          "output_type": "stream",
          "name": "stdout",
          "text": [
            "43/43 [==============================] - 1s 16ms/step - loss: 0.4215 - accuracy: 0.9197\n"
          ]
        }
      ]
    },
    {
      "cell_type": "code",
      "source": [
        "print(f'Test Loss: {test_loss}')\n",
        "print(f'Test Accuracy: {test_accuracy}')"
      ],
      "metadata": {
        "id": "F5lcSJHZkCAi",
        "colab": {
          "base_uri": "https://localhost:8080/"
        },
        "outputId": "78a318da-ada4-4f03-8ee0-6b168f4da90f"
      },
      "id": "F5lcSJHZkCAi",
      "execution_count": 57,
      "outputs": [
        {
          "output_type": "stream",
          "name": "stdout",
          "text": [
            "Test Loss: 0.4215257167816162\n",
            "Test Accuracy: 0.9197025895118713\n"
          ]
        }
      ]
    },
    {
      "cell_type": "code",
      "source": [
        "y_pred = (cnn_model.predict(X_test) > 0.5).astype(\"int32\")"
      ],
      "metadata": {
        "id": "oO8ti9kDkCP4",
        "colab": {
          "base_uri": "https://localhost:8080/"
        },
        "outputId": "6b508604-94f3-466e-ffef-e5fc0030bcfc"
      },
      "id": "oO8ti9kDkCP4",
      "execution_count": 58,
      "outputs": [
        {
          "output_type": "stream",
          "name": "stdout",
          "text": [
            "43/43 [==============================] - 1s 12ms/step\n"
          ]
        }
      ]
    },
    {
      "cell_type": "code",
      "source": [
        "plt.figure(figsize=(10, 8))\n",
        "sns.heatmap(confusion_matrix(y_test, y_pred), annot=True, fmt='d', cmap='Blues', xticklabels=['Non-Commercial', 'Commercial'], yticklabels=['Non-Commercial', 'Commercial'])\n",
        "plt.xlabel('Predicted Labels')\n",
        "plt.ylabel('True Labels')\n",
        "plt.title('Confusion Matrix')\n",
        "plt.show()"
      ],
      "metadata": {
        "id": "rmMGGXV3kCgi",
        "colab": {
          "base_uri": "https://localhost:8080/",
          "height": 718
        },
        "outputId": "f8328c30-e61d-4ef4-d856-fa1ba11a70cb"
      },
      "id": "rmMGGXV3kCgi",
      "execution_count": 59,
      "outputs": [
        {
          "output_type": "display_data",
          "data": {
            "text/plain": [
              "<Figure size 1000x800 with 2 Axes>"
            ],
            "image/png": "[encoded data removed]"
          },
          "metadata": {}
        }
      ]
    },
    {
      "cell_type": "markdown",
      "source": [
        "## Exporting the trained model"
      ],
      "metadata": {
        "id": "UGxSa0LJkC6D"
      },
      "id": "UGxSa0LJkC6D"
    },
    {
      "cell_type": "code",
      "source": [
        "cnn_model.save('./cnn_model.keras')"
      ],
      "metadata": {
        "id": "N8-8KSqQkEzM"
      },
      "id": "N8-8KSqQkEzM",
      "execution_count": 60,
      "outputs": []
    },
    {
      "cell_type": "markdown",
      "source": [
        "# CNNs + LSTMs Model"
      ],
      "metadata": {
        "id": "yr_QArsPlBY9"
      },
      "id": "yr_QArsPlBY9"
    },
    {
      "cell_type": "code",
      "source": [
        "def cnn_lstm_model(input_shape):\n",
        "    model = Sequential()\n",
        "\n",
        "    model.add(TimeDistributed(Conv2D(32, (3, 3), activation='relu', padding='same'), input_shape=input_shape))\n",
        "    model.add(TimeDistributed(MaxPooling2D((2, 2))))\n",
        "\n",
        "    model.add(TimeDistributed(Conv2D(64, (3, 3), activation='relu', padding='same')))\n",
        "    model.add(TimeDistributed(MaxPooling2D((2, 2))))\n",
        "\n",
        "    model.add(TimeDistributed(Conv2D(128, (3, 3), activation='relu', padding='same')))\n",
        "    model.add(TimeDistributed(MaxPooling2D((2, 2))))\n",
        "\n",
        "    model.add(TimeDistributed(Flatten()))\n",
        "\n",
        "    model.add(LSTM(256, return_sequences=True))\n",
        "    model.add(Dropout(0.5))\n",
        "    model.add(LSTM(128))\n",
        "    model.add(Dropout(0.5))\n",
        "\n",
        "    model.add(Dense(64, activation='relu'))\n",
        "    model.add(Dense(1, activation='sigmoid'))\n",
        "\n",
        "    model.compile(loss='binary_crossentropy', optimizer='adam', metrics=['accuracy'])\n",
        "    return model"
      ],
      "metadata": {
        "id": "GshNOyjMlEVu"
      },
      "id": "GshNOyjMlEVu",
      "execution_count": 68,
      "outputs": []
    },
    {
      "cell_type": "code",
      "source": [
        "input_shape = (150, 36, 32, 1)\n",
        "\n",
        "cnn_lstm_model = cnn_lstm_model(input_shape)\n",
        "cnn_lstm_model.summary()"
      ],
      "metadata": {
        "colab": {
          "base_uri": "https://localhost:8080/"
        },
        "id": "6HBCH1JUlGVJ",
        "outputId": "a1eac434-10ec-49a3-d4f0-86d647001c7c"
      },
      "id": "6HBCH1JUlGVJ",
      "execution_count": 69,
      "outputs": [
        {
          "output_type": "stream",
          "name": "stdout",
          "text": [
            "Model: \"sequential_4\"\n",
            "_________________________________________________________________\n",
            " Layer (type)                Output Shape              Param #   \n",
            "=================================================================\n",
            " time_distributed_7 (TimeDi  (None, 150, 36, 32, 32)   320       \n",
            " stributed)                                                      \n",
            "                                                                 \n",
            " time_distributed_8 (TimeDi  (None, 150, 18, 16, 32)   0         \n",
            " stributed)                                                      \n",
            "                                                                 \n",
            " time_distributed_9 (TimeDi  (None, 150, 18, 16, 64)   18496     \n",
            " stributed)                                                      \n",
            "                                                                 \n",
            " time_distributed_10 (TimeD  (None, 150, 9, 8, 64)     0         \n",
            " istributed)                                                     \n",
            "                                                                 \n",
            " time_distributed_11 (TimeD  (None, 150, 9, 8, 128)    73856     \n",
            " istributed)                                                     \n",
            "                                                                 \n",
            " time_distributed_12 (TimeD  (None, 150, 4, 4, 128)    0         \n",
            " istributed)                                                     \n",
            "                                                                 \n",
            " time_distributed_13 (TimeD  (None, 150, 2048)         0         \n",
            " istributed)                                                     \n",
            "                                                                 \n",
            " lstm_8 (LSTM)               (None, 150, 256)          2360320   \n",
            "                                                                 \n",
            " dropout_10 (Dropout)        (None, 150, 256)          0         \n",
            "                                                                 \n",
            " lstm_9 (LSTM)               (None, 128)               197120    \n",
            "                                                                 \n",
            " dropout_11 (Dropout)        (None, 128)               0         \n",
            "                                                                 \n",
            " dense_9 (Dense)             (None, 64)                8256      \n",
            "                                                                 \n",
            " dense_10 (Dense)            (None, 1)                 65        \n",
            "                                                                 \n",
            "=================================================================\n",
            "Total params: 2658433 (10.14 MB)\n",
            "Trainable params: 2658433 (10.14 MB)\n",
            "Non-trainable params: 0 (0.00 Byte)\n",
            "_________________________________________________________________\n"
          ]
        }
      ]
    },
    {
      "cell_type": "code",
      "source": [
        "# Reshape the data to match the input shape of the model\n",
        "X_train_reshaped = X_train.reshape((-1, 150, 36, 32, 1))\n",
        "X_val_reshaped = X_val.reshape((-1, 150, 36, 32, 1))\n",
        "X_test_reshaped = X_test.reshape((-1, 150, 36, 32, 1))"
      ],
      "metadata": {
        "id": "iyLFUltLlGr0"
      },
      "id": "iyLFUltLlGr0",
      "execution_count": 70,
      "outputs": []
    },
    {
      "cell_type": "markdown",
      "source": [
        "## Model Training\n"
      ],
      "metadata": {
        "id": "CNkiUaaalHs7"
      },
      "id": "CNkiUaaalHs7"
    },
    {
      "cell_type": "code",
      "source": [
        "# early_stopping = EarlyStopping(monitor='val_loss', patience=3, restore_best_weights=True)"
      ],
      "metadata": {
        "id": "_jkpTMnilIKn"
      },
      "id": "_jkpTMnilIKn",
      "execution_count": 78,
      "outputs": []
    },
    {
      "cell_type": "code",
      "source": [
        "history = cnn_lstm_model.fit(\n",
        "    X_train_reshaped, y_train,\n",
        "    epochs=20,\n",
        "    batch_size=32,\n",
        "    validation_data=(X_val_reshaped, y_val)\n",
        "    # callbacks=[early_stopping]\n",
        ")"
      ],
      "metadata": {
        "id": "UoTatUEYlIZu",
        "colab": {
          "base_uri": "https://localhost:8080/"
        },
        "outputId": "447309fb-361c-40ba-9c80-ba315731f38f"
      },
      "id": "UoTatUEYlIZu",
      "execution_count": 79,
      "outputs": [
        {
          "output_type": "stream",
          "name": "stdout",
          "text": [
            "Epoch 1/20\n",
            "196/196 [==============================] - 10s 50ms/step - loss: 0.6911 - accuracy: 0.5376 - val_loss: 0.7109 - val_accuracy: 0.5067\n",
            "Epoch 2/20\n",
            "196/196 [==============================] - 8s 42ms/step - loss: 0.6887 - accuracy: 0.5426 - val_loss: 0.6898 - val_accuracy: 0.5186\n",
            "Epoch 3/20\n",
            "196/196 [==============================] - 8s 42ms/step - loss: 0.6903 - accuracy: 0.5408 - val_loss: 0.6905 - val_accuracy: 0.5089\n",
            "Epoch 4/20\n",
            "196/196 [==============================] - 8s 42ms/step - loss: 0.6871 - accuracy: 0.5529 - val_loss: 0.6947 - val_accuracy: 0.5104\n",
            "Epoch 5/20\n",
            "196/196 [==============================] - 8s 42ms/step - loss: 0.6890 - accuracy: 0.5462 - val_loss: 0.6956 - val_accuracy: 0.5097\n",
            "Epoch 6/20\n",
            "196/196 [==============================] - 8s 42ms/step - loss: 0.6873 - accuracy: 0.5518 - val_loss: 0.6992 - val_accuracy: 0.5134\n",
            "Epoch 7/20\n",
            "196/196 [==============================] - 8s 42ms/step - loss: 0.6885 - accuracy: 0.5403 - val_loss: 0.6936 - val_accuracy: 0.5164\n",
            "Epoch 8/20\n",
            "196/196 [==============================] - 8s 42ms/step - loss: 0.6872 - accuracy: 0.5510 - val_loss: 0.6930 - val_accuracy: 0.5119\n",
            "Epoch 9/20\n",
            "196/196 [==============================] - 8s 42ms/step - loss: 0.6881 - accuracy: 0.5429 - val_loss: 0.6898 - val_accuracy: 0.5193\n",
            "Epoch 10/20\n",
            "196/196 [==============================] - 8s 42ms/step - loss: 0.6902 - accuracy: 0.5427 - val_loss: 0.6914 - val_accuracy: 0.5193\n",
            "Epoch 11/20\n",
            "196/196 [==============================] - 8s 42ms/step - loss: 0.6883 - accuracy: 0.5496 - val_loss: 0.6919 - val_accuracy: 0.5089\n",
            "Epoch 12/20\n",
            "196/196 [==============================] - 8s 42ms/step - loss: 0.6872 - accuracy: 0.5505 - val_loss: 0.6932 - val_accuracy: 0.5089\n",
            "Epoch 13/20\n",
            "196/196 [==============================] - 8s 42ms/step - loss: 0.6863 - accuracy: 0.5526 - val_loss: 0.6917 - val_accuracy: 0.5097\n",
            "Epoch 14/20\n",
            "196/196 [==============================] - 8s 42ms/step - loss: 0.6865 - accuracy: 0.5509 - val_loss: 0.6928 - val_accuracy: 0.5089\n",
            "Epoch 15/20\n",
            "196/196 [==============================] - 8s 42ms/step - loss: 0.6858 - accuracy: 0.5526 - val_loss: 0.6906 - val_accuracy: 0.5074\n",
            "Epoch 16/20\n",
            "196/196 [==============================] - 8s 42ms/step - loss: 0.6860 - accuracy: 0.5525 - val_loss: 0.6964 - val_accuracy: 0.5089\n",
            "Epoch 17/20\n",
            "196/196 [==============================] - 8s 42ms/step - loss: 0.6862 - accuracy: 0.5507 - val_loss: 0.6921 - val_accuracy: 0.5097\n",
            "Epoch 18/20\n",
            "196/196 [==============================] - 8s 42ms/step - loss: 0.6858 - accuracy: 0.5521 - val_loss: 0.6905 - val_accuracy: 0.5119\n",
            "Epoch 19/20\n",
            "196/196 [==============================] - 8s 42ms/step - loss: 0.6858 - accuracy: 0.5529 - val_loss: 0.6904 - val_accuracy: 0.5089\n",
            "Epoch 20/20\n",
            "196/196 [==============================] - 8s 42ms/step - loss: 0.6853 - accuracy: 0.5548 - val_loss: 0.6897 - val_accuracy: 0.5089\n"
          ]
        }
      ]
    },
    {
      "cell_type": "markdown",
      "source": [
        "## Model Evaluation"
      ],
      "metadata": {
        "id": "6wuP8vlTlI11"
      },
      "id": "6wuP8vlTlI11"
    },
    {
      "cell_type": "code",
      "source": [
        "test_loss, test_accuracy = cnn_lstm_model.evaluate(X_test_reshaped, y_test)"
      ],
      "metadata": {
        "id": "ilkYlUOklJee",
        "colab": {
          "base_uri": "https://localhost:8080/"
        },
        "outputId": "2a5a5701-fd83-4e2d-ebd9-b18f02e1bacd"
      },
      "id": "ilkYlUOklJee",
      "execution_count": 80,
      "outputs": [
        {
          "output_type": "stream",
          "name": "stdout",
          "text": [
            "43/43 [==============================] - 1s 18ms/step - loss: 0.6801 - accuracy: 0.5457\n"
          ]
        }
      ]
    },
    {
      "cell_type": "code",
      "source": [
        "print(f'Test Loss: {test_loss}')\n",
        "print(f'Test Accuracy: {test_accuracy}')"
      ],
      "metadata": {
        "id": "ISwoQAQ4lJrv",
        "colab": {
          "base_uri": "https://localhost:8080/"
        },
        "outputId": "eccb685a-e052-4b2f-d1b2-7fd6baee1605"
      },
      "id": "ISwoQAQ4lJrv",
      "execution_count": 81,
      "outputs": [
        {
          "output_type": "stream",
          "name": "stdout",
          "text": [
            "Test Loss: 0.6801040768623352\n",
            "Test Accuracy: 0.5457249283790588\n"
          ]
        }
      ]
    },
    {
      "cell_type": "code",
      "source": [
        "y_pred = (cnn_lstm_model.predict(X_test_reshaped) > 0.5).astype(\"int32\")"
      ],
      "metadata": {
        "id": "qnNQ9WFulJ5Q",
        "colab": {
          "base_uri": "https://localhost:8080/"
        },
        "outputId": "76101d1e-1f51-4835-af00-81886925832e"
      },
      "id": "qnNQ9WFulJ5Q",
      "execution_count": 82,
      "outputs": [
        {
          "output_type": "stream",
          "name": "stdout",
          "text": [
            "43/43 [==============================] - 1s 17ms/step\n"
          ]
        }
      ]
    },
    {
      "cell_type": "code",
      "source": [
        "plt.figure(figsize=(10, 8))\n",
        "sns.heatmap(confusion_matrix(y_test, y_pred), annot=True, fmt='d', cmap='Blues', xticklabels=['Non-Commercial', 'Commercial'], yticklabels=['Non-Commercial', 'Commercial'])\n",
        "plt.xlabel('Predicted Labels')\n",
        "plt.ylabel('True Labels')\n",
        "plt.title('Confusion Matrix')\n",
        "plt.show()"
      ],
      "metadata": {
        "id": "66KVUGtElKHn",
        "colab": {
          "base_uri": "https://localhost:8080/",
          "height": 718
        },
        "outputId": "2ea9f29c-f38c-44b0-f30c-f52cb459fccd"
      },
      "id": "66KVUGtElKHn",
      "execution_count": 83,
      "outputs": [
        {
          "output_type": "display_data",
          "data": {
            "text/plain": [
              "<Figure size 1000x800 with 2 Axes>"
            ],
            "image/png": "[encoded data removed]"
          },
          "metadata": {}
        }
      ]
    },
    {
      "cell_type": "markdown",
      "source": [
        "##Exporting the trained Model"
      ],
      "metadata": {
        "id": "ewyxKImtlK0a"
      },
      "id": "ewyxKImtlK0a"
    },
    {
      "cell_type": "code",
      "source": [
        "cnn_lstm_model.save('./cnn_lstm_model.keras')"
      ],
      "metadata": {
        "id": "rZLa_toYlLGX"
      },
      "id": "rZLa_toYlLGX",
      "execution_count": 77,
      "outputs": []
    },
    {
      "cell_type": "markdown",
      "source": [
        "# Transformers Model"
      ],
      "metadata": {
        "id": "mwQB0xssn6Jn"
      },
      "id": "mwQB0xssn6Jn"
    },
    {
      "cell_type": "code",
      "source": [
        "def create_transformer_model(sequence_length, feature_dim, num_heads=8, ff_dim=256, num_transformer_blocks=4, dropout_rate=0.1):\n",
        "    inputs = Input(shape=(sequence_length, feature_dim))\n",
        "    position_embedding = Embedding(input_dim=sequence_length, output_dim=feature_dim)(tf.range(start=0, limit=sequence_length, delta=1))\n",
        "    x = inputs + position_embedding\n",
        "\n",
        "    for _ in range(num_transformer_blocks):\n",
        "        x1 = LayerNormalization(epsilon=1e-6)(x)\n",
        "        attention_output = MultiHeadAttention(num_heads=num_heads, key_dim=feature_dim)(x1, x1)\n",
        "        attention_output = Dropout(dropout_rate)(attention_output)\n",
        "        x2 = x + attention_output\n",
        "        x3 = LayerNormalization(epsilon=1e-6)(x2)\n",
        "        ff_output = Dense(ff_dim, activation='relu')(x3)\n",
        "        ff_output = Dropout(dropout_rate)(ff_output)\n",
        "        ff_output = Dense(feature_dim)(ff_output)\n",
        "        x = x2 + ff_output\n",
        "\n",
        "    x = GlobalAveragePooling1D()(x)\n",
        "    x = Dense(128, activation='relu')(x)\n",
        "    x = Dropout(dropout_rate)(x)\n",
        "    outputs = Dense(1, activation='sigmoid')(x)\n",
        "    model = Model(inputs=inputs, outputs=outputs)\n",
        "    model.compile(optimizer='adam', loss='binary_crossentropy', metrics=['accuracy'])\n",
        "    return model"
      ],
      "metadata": {
        "id": "CwdqbkH0n8fD"
      },
      "id": "CwdqbkH0n8fD",
      "execution_count": 84,
      "outputs": []
    },
    {
      "cell_type": "code",
      "source": [
        "sequence_length = 150\n",
        "feature_dim = 1152\n",
        "transformer_model = create_transformer_model(sequence_length, feature_dim)\n",
        "transformer_model.summary()"
      ],
      "metadata": {
        "colab": {
          "base_uri": "https://localhost:8080/"
        },
        "id": "lNcWfDL8n_tW",
        "outputId": "fe690591-3191-41b6-9f74-95313019223d"
      },
      "id": "lNcWfDL8n_tW",
      "execution_count": 85,
      "outputs": [
        {
          "output_type": "stream",
          "name": "stdout",
          "text": [
            "Model: \"model\"\n",
            "__________________________________________________________________________________________________\n",
            " Layer (type)                Output Shape                 Param #   Connected to                  \n",
            "==================================================================================================\n",
            " input_1 (InputLayer)        [(None, 150, 1152)]          0         []                            \n",
            "                                                                                                  \n",
            " tf.__operators__.add (TFOp  (None, 150, 1152)            0         ['input_1[0][0]']             \n",
            " Lambda)                                                                                          \n",
            "                                                                                                  \n",
            " layer_normalization (Layer  (None, 150, 1152)            2304      ['tf.__operators__.add[0][0]']\n",
            " Normalization)                                                                                   \n",
            "                                                                                                  \n",
            " multi_head_attention (Mult  (None, 150, 1152)            4249612   ['layer_normalization[0][0]', \n",
            " iHeadAttention)                                          8          'layer_normalization[0][0]'] \n",
            "                                                                                                  \n",
            " dropout_12 (Dropout)        (None, 150, 1152)            0         ['multi_head_attention[0][0]']\n",
            "                                                                                                  \n",
            " tf.__operators__.add_1 (TF  (None, 150, 1152)            0         ['tf.__operators__.add[0][0]',\n",
            " OpLambda)                                                           'dropout_12[0][0]']          \n",
            "                                                                                                  \n",
            " layer_normalization_1 (Lay  (None, 150, 1152)            2304      ['tf.__operators__.add_1[0][0]\n",
            " erNormalization)                                                   ']                            \n",
            "                                                                                                  \n",
            " dense_11 (Dense)            (None, 150, 256)             295168    ['layer_normalization_1[0][0]'\n",
            "                                                                    ]                             \n",
            "                                                                                                  \n",
            " dropout_13 (Dropout)        (None, 150, 256)             0         ['dense_11[0][0]']            \n",
            "                                                                                                  \n",
            " dense_12 (Dense)            (None, 150, 1152)            296064    ['dropout_13[0][0]']          \n",
            "                                                                                                  \n",
            " tf.__operators__.add_2 (TF  (None, 150, 1152)            0         ['tf.__operators__.add_1[0][0]\n",
            " OpLambda)                                                          ',                            \n",
            "                                                                     'dense_12[0][0]']            \n",
            "                                                                                                  \n",
            " layer_normalization_2 (Lay  (None, 150, 1152)            2304      ['tf.__operators__.add_2[0][0]\n",
            " erNormalization)                                                   ']                            \n",
            "                                                                                                  \n",
            " multi_head_attention_1 (Mu  (None, 150, 1152)            4249612   ['layer_normalization_2[0][0]'\n",
            " ltiHeadAttention)                                        8         , 'layer_normalization_2[0][0]\n",
            "                                                                    ']                            \n",
            "                                                                                                  \n",
            " dropout_14 (Dropout)        (None, 150, 1152)            0         ['multi_head_attention_1[0][0]\n",
            "                                                                    ']                            \n",
            "                                                                                                  \n",
            " tf.__operators__.add_3 (TF  (None, 150, 1152)            0         ['tf.__operators__.add_2[0][0]\n",
            " OpLambda)                                                          ',                            \n",
            "                                                                     'dropout_14[0][0]']          \n",
            "                                                                                                  \n",
            " layer_normalization_3 (Lay  (None, 150, 1152)            2304      ['tf.__operators__.add_3[0][0]\n",
            " erNormalization)                                                   ']                            \n",
            "                                                                                                  \n",
            " dense_13 (Dense)            (None, 150, 256)             295168    ['layer_normalization_3[0][0]'\n",
            "                                                                    ]                             \n",
            "                                                                                                  \n",
            " dropout_15 (Dropout)        (None, 150, 256)             0         ['dense_13[0][0]']            \n",
            "                                                                                                  \n",
            " dense_14 (Dense)            (None, 150, 1152)            296064    ['dropout_15[0][0]']          \n",
            "                                                                                                  \n",
            " tf.__operators__.add_4 (TF  (None, 150, 1152)            0         ['tf.__operators__.add_3[0][0]\n",
            " OpLambda)                                                          ',                            \n",
            "                                                                     'dense_14[0][0]']            \n",
            "                                                                                                  \n",
            " layer_normalization_4 (Lay  (None, 150, 1152)            2304      ['tf.__operators__.add_4[0][0]\n",
            " erNormalization)                                                   ']                            \n",
            "                                                                                                  \n",
            " multi_head_attention_2 (Mu  (None, 150, 1152)            4249612   ['layer_normalization_4[0][0]'\n",
            " ltiHeadAttention)                                        8         , 'layer_normalization_4[0][0]\n",
            "                                                                    ']                            \n",
            "                                                                                                  \n",
            " dropout_16 (Dropout)        (None, 150, 1152)            0         ['multi_head_attention_2[0][0]\n",
            "                                                                    ']                            \n",
            "                                                                                                  \n",
            " tf.__operators__.add_5 (TF  (None, 150, 1152)            0         ['tf.__operators__.add_4[0][0]\n",
            " OpLambda)                                                          ',                            \n",
            "                                                                     'dropout_16[0][0]']          \n",
            "                                                                                                  \n",
            " layer_normalization_5 (Lay  (None, 150, 1152)            2304      ['tf.__operators__.add_5[0][0]\n",
            " erNormalization)                                                   ']                            \n",
            "                                                                                                  \n",
            " dense_15 (Dense)            (None, 150, 256)             295168    ['layer_normalization_5[0][0]'\n",
            "                                                                    ]                             \n",
            "                                                                                                  \n",
            " dropout_17 (Dropout)        (None, 150, 256)             0         ['dense_15[0][0]']            \n",
            "                                                                                                  \n",
            " dense_16 (Dense)            (None, 150, 1152)            296064    ['dropout_17[0][0]']          \n",
            "                                                                                                  \n",
            " tf.__operators__.add_6 (TF  (None, 150, 1152)            0         ['tf.__operators__.add_5[0][0]\n",
            " OpLambda)                                                          ',                            \n",
            "                                                                     'dense_16[0][0]']            \n",
            "                                                                                                  \n",
            " layer_normalization_6 (Lay  (None, 150, 1152)            2304      ['tf.__operators__.add_6[0][0]\n",
            " erNormalization)                                                   ']                            \n",
            "                                                                                                  \n",
            " multi_head_attention_3 (Mu  (None, 150, 1152)            4249612   ['layer_normalization_6[0][0]'\n",
            " ltiHeadAttention)                                        8         , 'layer_normalization_6[0][0]\n",
            "                                                                    ']                            \n",
            "                                                                                                  \n",
            " dropout_18 (Dropout)        (None, 150, 1152)            0         ['multi_head_attention_3[0][0]\n",
            "                                                                    ']                            \n",
            "                                                                                                  \n",
            " tf.__operators__.add_7 (TF  (None, 150, 1152)            0         ['tf.__operators__.add_6[0][0]\n",
            " OpLambda)                                                          ',                            \n",
            "                                                                     'dropout_18[0][0]']          \n",
            "                                                                                                  \n",
            " layer_normalization_7 (Lay  (None, 150, 1152)            2304      ['tf.__operators__.add_7[0][0]\n",
            " erNormalization)                                                   ']                            \n",
            "                                                                                                  \n",
            " dense_17 (Dense)            (None, 150, 256)             295168    ['layer_normalization_7[0][0]'\n",
            "                                                                    ]                             \n",
            "                                                                                                  \n",
            " dropout_19 (Dropout)        (None, 150, 256)             0         ['dense_17[0][0]']            \n",
            "                                                                                                  \n",
            " dense_18 (Dense)            (None, 150, 1152)            296064    ['dropout_19[0][0]']          \n",
            "                                                                                                  \n",
            " tf.__operators__.add_8 (TF  (None, 150, 1152)            0         ['tf.__operators__.add_7[0][0]\n",
            " OpLambda)                                                          ',                            \n",
            "                                                                     'dense_18[0][0]']            \n",
            "                                                                                                  \n",
            " global_average_pooling1d (  (None, 1152)                 0         ['tf.__operators__.add_8[0][0]\n",
            " GlobalAveragePooling1D)                                            ']                            \n",
            "                                                                                                  \n",
            " dense_19 (Dense)            (None, 128)                  147584    ['global_average_pooling1d[0][\n",
            "                                                                    0]']                          \n",
            "                                                                                                  \n",
            " dropout_20 (Dropout)        (None, 128)                  0         ['dense_19[0][0]']            \n",
            "                                                                                                  \n",
            " dense_20 (Dense)            (None, 1)                    129       ['dropout_20[0][0]']          \n",
            "                                                                                                  \n",
            "==================================================================================================\n",
            "Total params: 172515585 (658.09 MB)\n",
            "Trainable params: 172515585 (658.09 MB)\n",
            "Non-trainable params: 0 (0.00 Byte)\n",
            "__________________________________________________________________________________________________\n"
          ]
        }
      ]
    },
    {
      "cell_type": "markdown",
      "source": [
        "## Model Training"
      ],
      "metadata": {
        "id": "G4knhp1SogKt"
      },
      "id": "G4knhp1SogKt"
    },
    {
      "cell_type": "code",
      "source": [
        "early_stopping = tf.keras.callbacks.EarlyStopping(monitor='val_loss', patience=5, restore_best_weights=True)"
      ],
      "metadata": {
        "id": "zd61E7nNogfS"
      },
      "id": "zd61E7nNogfS",
      "execution_count": 86,
      "outputs": []
    },
    {
      "cell_type": "code",
      "source": [
        "history = transformer_model.fit(\n",
        "    X_train, y_train,\n",
        "    epochs=20,\n",
        "    batch_size=32,\n",
        "    validation_data=(X_val, y_val),\n",
        "    callbacks=[early_stopping]\n",
        ")"
      ],
      "metadata": {
        "id": "jp-Yd9aoog5D",
        "colab": {
          "base_uri": "https://localhost:8080/"
        },
        "outputId": "faca4957-9706-4563-ed1f-81079a6204f1"
      },
      "id": "jp-Yd9aoog5D",
      "execution_count": 87,
      "outputs": [
        {
          "output_type": "stream",
          "name": "stdout",
          "text": [
            "Epoch 1/20\n",
            "196/196 [==============================] - 85s 380ms/step - loss: 10.9303 - accuracy: 0.8613 - val_loss: 0.1768 - val_accuracy: 0.9249\n",
            "Epoch 2/20\n",
            "196/196 [==============================] - 72s 368ms/step - loss: 0.8371 - accuracy: 0.9354 - val_loss: 0.1536 - val_accuracy: 0.9390\n",
            "Epoch 3/20\n",
            "196/196 [==============================] - 72s 368ms/step - loss: 0.1783 - accuracy: 0.9372 - val_loss: 0.1461 - val_accuracy: 0.9501\n",
            "Epoch 4/20\n",
            "196/196 [==============================] - 72s 368ms/step - loss: 0.1277 - accuracy: 0.9563 - val_loss: 0.1338 - val_accuracy: 0.9472\n",
            "Epoch 5/20\n",
            "196/196 [==============================] - 72s 366ms/step - loss: 0.1026 - accuracy: 0.9659 - val_loss: 0.2025 - val_accuracy: 0.9338\n",
            "Epoch 6/20\n",
            "196/196 [==============================] - 72s 368ms/step - loss: 0.0809 - accuracy: 0.9705 - val_loss: 0.1304 - val_accuracy: 0.9583\n",
            "Epoch 7/20\n",
            "196/196 [==============================] - 72s 366ms/step - loss: 0.0675 - accuracy: 0.9782 - val_loss: 0.1523 - val_accuracy: 0.9591\n",
            "Epoch 8/20\n",
            "196/196 [==============================] - 72s 366ms/step - loss: 0.0414 - accuracy: 0.9817 - val_loss: 0.2603 - val_accuracy: 0.9591\n",
            "Epoch 9/20\n",
            "196/196 [==============================] - 72s 366ms/step - loss: 0.0484 - accuracy: 0.9818 - val_loss: 0.5161 - val_accuracy: 0.9494\n",
            "Epoch 10/20\n",
            "196/196 [==============================] - 72s 366ms/step - loss: 0.0541 - accuracy: 0.9861 - val_loss: 0.3619 - val_accuracy: 0.9539\n",
            "Epoch 11/20\n",
            "196/196 [==============================] - 72s 368ms/step - loss: 0.0367 - accuracy: 0.9904 - val_loss: 0.1964 - val_accuracy: 0.9561\n"
          ]
        }
      ]
    },
    {
      "cell_type": "markdown",
      "source": [
        "## Model Evaluation"
      ],
      "metadata": {
        "id": "azjgWDbZohsm"
      },
      "id": "azjgWDbZohsm"
    },
    {
      "cell_type": "code",
      "source": [
        "test_loss, test_accuracy = transformer_model.evaluate(X_test, y_test)"
      ],
      "metadata": {
        "id": "M9wpdU8Toh-V",
        "colab": {
          "base_uri": "https://localhost:8080/"
        },
        "outputId": "3669f899-1f6c-4ba9-c425-311a5d50b0b5"
      },
      "id": "M9wpdU8Toh-V",
      "execution_count": 88,
      "outputs": [
        {
          "output_type": "stream",
          "name": "stdout",
          "text": [
            "43/43 [==============================] - 6s 118ms/step - loss: 0.2560 - accuracy: 0.9606\n"
          ]
        }
      ]
    },
    {
      "cell_type": "code",
      "source": [
        "print(f'Test Loss: {test_loss}')\n",
        "print(f'Test Accuracy: {test_accuracy}')"
      ],
      "metadata": {
        "id": "eSXftMsgoplz",
        "colab": {
          "base_uri": "https://localhost:8080/"
        },
        "outputId": "f7c2c7fe-411b-4a8b-cbed-049e50da2a43"
      },
      "id": "eSXftMsgoplz",
      "execution_count": 89,
      "outputs": [
        {
          "output_type": "stream",
          "name": "stdout",
          "text": [
            "Test Loss: 0.2560214102268219\n",
            "Test Accuracy: 0.9605947732925415\n"
          ]
        }
      ]
    },
    {
      "cell_type": "code",
      "source": [
        "y_pred = (transformer_model.predict(X_test) > 0.5).astype(\"int32\")"
      ],
      "metadata": {
        "id": "BxOgo00_opu7",
        "colab": {
          "base_uri": "https://localhost:8080/"
        },
        "outputId": "ec739b03-976e-489f-d264-86027825b750"
      },
      "id": "BxOgo00_opu7",
      "execution_count": 90,
      "outputs": [
        {
          "output_type": "stream",
          "name": "stdout",
          "text": [
            "43/43 [==============================] - 6s 117ms/step\n"
          ]
        }
      ]
    },
    {
      "cell_type": "code",
      "source": [
        "plt.figure(figsize=(10, 8))\n",
        "sns.heatmap(confusion_matrix(y_test, y_pred), annot=True, fmt='d', cmap='Blues', xticklabels=['Non-Commercial', 'Commercial'], yticklabels=['Non-Commercial', 'Commercial'])\n",
        "plt.xlabel('Predicted Labels')\n",
        "plt.ylabel('True Labels')\n",
        "plt.title('Confusion Matrix')\n",
        "plt.show()"
      ],
      "metadata": {
        "id": "8L5ByL83op3Y",
        "colab": {
          "base_uri": "https://localhost:8080/",
          "height": 718
        },
        "outputId": "d23224d4-c809-4dee-992e-0817f98ba6d0"
      },
      "id": "8L5ByL83op3Y",
      "execution_count": 91,
      "outputs": [
        {
          "output_type": "display_data",
          "data": {
            "text/plain": [
              "<Figure size 1000x800 with 2 Axes>"
            ],
            "image/png": "[encoded data removed]"
          },
          "metadata": {}
        }
      ]
    },
    {
      "cell_type": "markdown",
      "source": [
        "## Exporting the Model"
      ],
      "metadata": {
        "id": "dqfZC1L5oqCM"
      },
      "id": "dqfZC1L5oqCM"
    },
    {
      "cell_type": "code",
      "source": [
        "transformer_model.save('transformer_model.keras')"
      ],
      "metadata": {
        "id": "9a-ITp5dor_Z"
      },
      "id": "9a-ITp5dor_Z",
      "execution_count": 92,
      "outputs": []
    }
  ],
  "metadata": {
    "accelerator": "GPU",
    "colab": {
      "gpuType": "A100",
      "machine_shape": "hm",
      "provenance": [],
      "collapsed_sections": [
        "fssbdPG-neoJ",
        "71aa6195-16d1-484e-89a2-1c8778209a0e",
        "ffe4daad-bb00-4fa4-9d1c-240c2a1816f1",
        "41521a7d-3a54-411c-9d39-a537f711bfb7",
        "95c5e577-4bd8-4374-a582-61bc12f1262c",
        "gBhjQxsqjaxK",
        "nJMs9yC0hVbT",
        "V5U6zu7VjhH2",
        "8MnmELXPj5Vx",
        "nloYDnsUj8gc",
        "yr_QArsPlBY9",
        "CNkiUaaalHs7",
        "6wuP8vlTlI11",
        "ewyxKImtlK0a",
        "mwQB0xssn6Jn"
      ]
    },
    "kernelspec": {
      "display_name": "Python 3",
      "name": "python3"
    },
    "language_info": {
      "codemirror_mode": {
        "name": "ipython",
        "version": 3
      },
      "file_extension": ".py",
      "mimetype": "text/x-python",
      "name": "python",
      "nbconvert_exporter": "python",
      "pygments_lexer": "ipython3",
      "version": "3.12.0"
    }
  },
  "nbformat": 4,
  "nbformat_minor": 5
}