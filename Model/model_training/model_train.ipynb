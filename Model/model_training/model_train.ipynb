{
  "cells": [
    {
      "cell_type": "code",
      "execution_count": null,
      "id": "6bce23c8-8e6e-4881-9925-0f19d6614eca",
      "metadata": {
        "id": "6bce23c8-8e6e-4881-9925-0f19d6614eca"
      },
      "outputs": [],
      "source": [
        "# Import important libraries\n",
        "import pickle\n",
        "import numpy as np\n",
        "from sklearn.model_selection import train_test_split\n",
        "from sklearn.preprocessing import StandardScaler\n",
        "from sklearn.utils import shuffle\n",
        "from sklearn.metrics import confusion_matrix, classification_report\n",
        "import gdown\n",
        "import os\n",
        "import tensorflow as tf\n",
        "from tensorflow.keras.models import Sequential, Model\n",
        "from tensorflow.keras.layers import Bidirectional, LSTM, Dense, Dropout, TimeDistributed\n",
        "from tensorflow.keras.layers import Conv2D, MaxPooling2D, Flatten, Reshape\n",
        "from tensorflow.keras.layers import Input, Dense, Dropout, LayerNormalization, MultiHeadAttention, GlobalAveragePooling1D, Embedding\n",
        "from tensorflow.keras.callbacks import EarlyStopping\n",
        "import matplotlib.pyplot as plt\n",
        "import seaborn as sns"
      ]
    },
    {
      "cell_type": "code",
      "execution_count": null,
      "id": "de67657f-4aa3-4a38-9644-ba6727e127c5",
      "metadata": {
        "id": "de67657f-4aa3-4a38-9644-ba6727e127c5"
      },
      "outputs": [],
      "source": [
        "# Constants\n",
        "train_ratio = 0.7\n",
        "val_ratio = 0.15\n",
        "test_ratio = 0.15"
      ]
    },
    {
      "cell_type": "markdown",
      "id": "fssbdPG-neoJ",
      "metadata": {
        "id": "fssbdPG-neoJ"
      },
      "source": [
        "# Downloading And Loading the dataset"
      ]
    },
    {
      "cell_type": "code",
      "execution_count": null,
      "id": "d019e805-6129-4a66-8d64-1824d8c05dd6",
      "metadata": {
        "id": "d019e805-6129-4a66-8d64-1824d8c05dd6"
      },
      "outputs": [],
      "source": [
        "# Google Drive file_ids of commercial and non-commercial audio-video features\n",
        "commercialFeatures_150_file_id          = \"1ucT-jrkmhRHx8RSMW0bueGD2IjL3ZpiO\"\n",
        "nonCommercialFeatures_150_file_id       = \"1uA5sdu_5b2l0z8k_aI0NeG2eqWsdX9zi\"\n",
        "\n",
        "# Destination paths\n",
        "commercialFeatures_150_destination      = \"commercialFeatures_150.pkl\"\n",
        "nonCommercialFeatures_150_destination   = \"nonCommercialFeatures_150.pkl\""
      ]
    },
    {
      "cell_type": "code",
      "execution_count": null,
      "id": "48650556-80e1-41da-a002-e8c180311142",
      "metadata": {
        "id": "48650556-80e1-41da-a002-e8c180311142"
      },
      "outputs": [],
      "source": [
        "def download_file_from_google_drive(file_id, destination):\n",
        "    \"\"\"\n",
        "    Download a file from Google Drive if it doesn't already exist locally.\n",
        "\n",
        "    Parameters:\n",
        "    - file_id (str): The unique file ID from Google Drive.\n",
        "    - destination (str): The local path where the file should be saved.\n",
        "    \"\"\"\n",
        "    if os.path.exists(destination):\n",
        "        print(f'File already exists at {destination}. Skipping download.')\n",
        "    else:\n",
        "        url = f\"https://drive.google.com/uc?id={file_id}\"\n",
        "        gdown.download(url, destination, quiet=False)"
      ]
    },
    {
      "cell_type": "code",
      "execution_count": null,
      "id": "0a0d611e-8e42-4429-b4f6-28a46cc4ed84",
      "metadata": {
        "colab": {
          "base_uri": "https://localhost:8080/"
        },
        "id": "0a0d611e-8e42-4429-b4f6-28a46cc4ed84",
        "outputId": "5dd9571b-8d31-4c9b-acbd-803dd9061cc1"
      },
      "outputs": [
        {
          "name": "stdout",
          "output_type": "stream",
          "text": [
            "File already exists at commercialFeatures_150.pkl. Skipping download.\n",
            "File already exists at nonCommercialFeatures_150.pkl. Skipping download.\n"
          ]
        }
      ],
      "source": [
        "# Downloading commercialFeatures\n",
        "download_file_from_google_drive(commercialFeatures_150_file_id, commercialFeatures_150_destination)\n",
        "\n",
        "# Downloading nonCommercialFeatures\n",
        "download_file_from_google_drive(nonCommercialFeatures_150_file_id, nonCommercialFeatures_150_destination)"
      ]
    },
    {
      "cell_type": "code",
      "execution_count": null,
      "id": "7793dfa9-63a4-44fd-810e-05f0412c6dd1",
      "metadata": {
        "id": "7793dfa9-63a4-44fd-810e-05f0412c6dd1"
      },
      "outputs": [],
      "source": [
        "def load_features():\n",
        "    \"\"\"\n",
        "    Load data from a pickled file if it exists, otherwise initialize an empty list.\n",
        "\n",
        "    Returns:\n",
        "    - commercialFeatures_150 (list) - List containing Commercial video features\n",
        "    - nonCommercialFeatures_150 (list) - List containing nonCommercial video features\n",
        "    \"\"\"\n",
        "    with open('commercialFeatures_150.pkl', 'rb') as f:\n",
        "        commercialFeatures_150 = pickle.load(f)\n",
        "    with open('nonCommercialFeatures_150.pkl', 'rb') as f:\n",
        "        nonCommercialFeatures_150 = pickle.load(f)\n",
        "    # # Move tensors to GPU explicitly\n",
        "    # with tf.device('/GPU:0'):\n",
        "    #     commercialFeatures_150_tensor_gpu = tf.convert_to_tensor(commercialFeatures_150, dtype=tf.float64)\n",
        "    #     nonCommercialFeatures_150_tensor_gpu = tf.convert_to_tensor(nonCommercialFeatures_150, dtype=tf.float64)\n",
        "    print(f'Number of commercial features: {len(commercialFeatures_150)}')\n",
        "    print(f'Number of nonCommercial features: {len(nonCommercialFeatures_150)}')\n",
        "    print(\"Audio-Visual Features Loaded Successfully\")\n",
        "    return commercialFeatures_150, nonCommercialFeatures_150"
      ]
    },
    {
      "cell_type": "code",
      "execution_count": null,
      "id": "89950adf-f880-4563-9d24-df6e057329cc",
      "metadata": {
        "colab": {
          "base_uri": "https://localhost:8080/"
        },
        "id": "89950adf-f880-4563-9d24-df6e057329cc",
        "outputId": "1d124b16-1a7e-4278-da02-76f974dec4ea"
      },
      "outputs": [
        {
          "name": "stdout",
          "output_type": "stream",
          "text": [
            "Number of commercial features: 4364\n",
            "Number of nonCommercial features: 4597\n",
            "Audio-Visual Features Loaded Successfully\n"
          ]
        }
      ],
      "source": [
        "commercialFeatures_150, nonCommercialFeatures_150 = load_features()"
      ]
    },
    {
      "cell_type": "code",
      "execution_count": null,
      "id": "faaf8ace-58cd-45a5-8e15-f4c76be42d2f",
      "metadata": {
        "colab": {
          "base_uri": "https://localhost:8080/"
        },
        "id": "faaf8ace-58cd-45a5-8e15-f4c76be42d2f",
        "outputId": "a86b5690-9278-467c-fd24-30c3dd9d600b"
      },
      "outputs": [
        {
          "name": "stdout",
          "output_type": "stream",
          "text": [
            "(4364, 150, 1152)\n"
          ]
        }
      ],
      "source": [
        "print(commercialFeatures_150.shape)"
      ]
    },
    {
      "cell_type": "code",
      "execution_count": null,
      "id": "59d8677d-63cf-43e9-8c62-19c8638a36d6",
      "metadata": {
        "colab": {
          "base_uri": "https://localhost:8080/"
        },
        "id": "59d8677d-63cf-43e9-8c62-19c8638a36d6",
        "outputId": "2cbb563a-5ee4-4782-9bf2-ea809b892e5d"
      },
      "outputs": [
        {
          "name": "stdout",
          "output_type": "stream",
          "text": [
            "(4597, 150, 1152)\n"
          ]
        }
      ],
      "source": [
        "print(nonCommercialFeatures_150.shape)"
      ]
    },
    {
      "cell_type": "markdown",
      "id": "71aa6195-16d1-484e-89a2-1c8778209a0e",
      "metadata": {
        "id": "71aa6195-16d1-484e-89a2-1c8778209a0e"
      },
      "source": [
        "# Generating labels for data and merging commercial and non-commercial features and shuffling data randomly"
      ]
    },
    {
      "cell_type": "code",
      "execution_count": null,
      "id": "324a5cfa-08b9-4fdb-ad03-b557881d47d5",
      "metadata": {
        "id": "324a5cfa-08b9-4fdb-ad03-b557881d47d5"
      },
      "outputs": [],
      "source": [
        "# Generating labels\n",
        "commercial_labels = np.ones(len(commercialFeatures_150))\n",
        "non_commercial_labels = np.zeros(len(nonCommercialFeatures_150))"
      ]
    },
    {
      "cell_type": "code",
      "execution_count": null,
      "id": "6680733b-f514-495b-8968-c601a60a204e",
      "metadata": {
        "id": "6680733b-f514-495b-8968-c601a60a204e"
      },
      "outputs": [],
      "source": [
        "# Merging commercial and non-commercial features\n",
        "X = np.concatenate((commercialFeatures_150, nonCommercialFeatures_150), axis=0)\n",
        "Y = np.concatenate((commercial_labels, non_commercial_labels), axis=0)"
      ]
    },
    {
      "cell_type": "code",
      "execution_count": null,
      "id": "59b7addd-5a43-405f-9424-441c00dc675d",
      "metadata": {
        "colab": {
          "base_uri": "https://localhost:8080/"
        },
        "id": "59b7addd-5a43-405f-9424-441c00dc675d",
        "outputId": "ef8e4884-a117-421f-b7c9-c212b1bb5249"
      },
      "outputs": [
        {
          "name": "stdout",
          "output_type": "stream",
          "text": [
            "Shape of data is (8961, 150, 1152)\n",
            "Shape of labels is (8961,)\n"
          ]
        }
      ],
      "source": [
        "print(f'Shape of data is {X.shape}')\n",
        "print(f'Shape of labels is {Y.shape}')"
      ]
    },
    {
      "cell_type": "code",
      "execution_count": null,
      "id": "40ff0bc8-3855-473b-b8a2-8d9d4923d592",
      "metadata": {
        "id": "40ff0bc8-3855-473b-b8a2-8d9d4923d592",
        "scrolled": true
      },
      "outputs": [],
      "source": [
        "# Shuffling data randomly\n",
        "X, Y = shuffle(X, Y, random_state=42)"
      ]
    },
    {
      "cell_type": "markdown",
      "id": "ffe4daad-bb00-4fa4-9d1c-240c2a1816f1",
      "metadata": {
        "id": "ffe4daad-bb00-4fa4-9d1c-240c2a1816f1"
      },
      "source": [
        "# Preprocess the data"
      ]
    },
    {
      "cell_type": "code",
      "execution_count": null,
      "id": "7a37369c-4b10-497d-a9e4-f78d786ddb91",
      "metadata": {
        "colab": {
          "base_uri": "https://localhost:8080/"
        },
        "id": "7a37369c-4b10-497d-a9e4-f78d786ddb91",
        "outputId": "5e0765b2-233b-4e5d-a33d-d23add3f12c4"
      },
      "outputs": [
        {
          "name": "stdout",
          "output_type": "stream",
          "text": [
            "[219.  78. 255. ... 124. 141. 177.]\n"
          ]
        }
      ],
      "source": [
        "print(X[0][0])"
      ]
    },
    {
      "cell_type": "code",
      "execution_count": null,
      "id": "7ff6f1bc-149c-47b1-9211-177ec9296b8e",
      "metadata": {
        "id": "7ff6f1bc-149c-47b1-9211-177ec9296b8e"
      },
      "outputs": [],
      "source": [
        "# Finding Range of data\n",
        "maxi = 0\n",
        "mini = 1000\n",
        "for i in range(len(X[0][0])):\n",
        "    maxi = max(maxi, X[0][0][i])\n",
        "    mini = min(mini, X[0][0][i])"
      ]
    },
    {
      "cell_type": "code",
      "execution_count": null,
      "id": "c8497441-0b67-4858-95eb-bb31de9ed6aa",
      "metadata": {
        "colab": {
          "base_uri": "https://localhost:8080/"
        },
        "id": "c8497441-0b67-4858-95eb-bb31de9ed6aa",
        "outputId": "d551b306-c902-4927-95ef-676868aa32e3"
      },
      "outputs": [
        {
          "name": "stdout",
          "output_type": "stream",
          "text": [
            "maximum value is 255.0\n",
            "minimum value is 0.0\n"
          ]
        }
      ],
      "source": [
        "print(f'maximum value is {maxi}')\n",
        "print(f'minimum value is {mini}')"
      ]
    },
    {
      "cell_type": "code",
      "execution_count": null,
      "id": "HSc6omhCKPFC",
      "metadata": {
        "id": "HSc6omhCKPFC"
      },
      "outputs": [],
      "source": [
        "def scale_data(data):\n",
        "    \"\"\"\n",
        "    Scale the input data by dividing by 255.\n",
        "\n",
        "    Parameters:\n",
        "    data (numpy.ndarray): Input data array of shape [samples, features] or higher dimensions.\n",
        "\n",
        "    Returns:\n",
        "    numpy.ndarray: Scaled data with values in the range [0, 1].\n",
        "    \"\"\"\n",
        "\n",
        "    scaled_data = data / 255.0\n",
        "    return scaled_data"
      ]
    },
    {
      "cell_type": "code",
      "execution_count": null,
      "id": "O2HJqpSEFuco",
      "metadata": {
        "id": "O2HJqpSEFuco"
      },
      "outputs": [],
      "source": [
        "X = scale_data(X)"
      ]
    },
    {
      "cell_type": "code",
      "execution_count": null,
      "id": "Jfybf-msFAY6",
      "metadata": {
        "colab": {
          "base_uri": "https://localhost:8080/"
        },
        "id": "Jfybf-msFAY6",
        "outputId": "067a3a65-7ec9-4e69-8094-25ea159f44bc"
      },
      "outputs": [
        {
          "name": "stdout",
          "output_type": "stream",
          "text": [
            "[0.85882353 0.30588235 1.         ... 0.48627451 0.55294118 0.69411765]\n"
          ]
        }
      ],
      "source": [
        "print(X[0][0])"
      ]
    },
    {
      "cell_type": "code",
      "execution_count": null,
      "id": "A45QQDmLFyVm",
      "metadata": {
        "id": "A45QQDmLFyVm"
      },
      "outputs": [],
      "source": [
        "def standardize_data(data):\n",
        "    \"\"\"\n",
        "    Standardize the input data.\n",
        "\n",
        "    Parameters:\n",
        "    data (numpy.ndarray): Input data array of shape [samples, features] or higher dimensions.\n",
        "                          If the input has more than 2 dimensions, the function will flatten the\n",
        "                          data along the features axis, standardize, and then reshape back.\n",
        "\n",
        "    Returns:\n",
        "    numpy.ndarray: Standardized data with mean 0 and standard deviation 1 along the features axis.\n",
        "    \"\"\"\n",
        "\n",
        "    original_shape = data.shape\n",
        "    if len(original_shape) > 2:\n",
        "        data = data.reshape(-1, original_shape[-1])\n",
        "\n",
        "    scaler = StandardScaler()\n",
        "    standardized_data = scaler.fit_transform(data)\n",
        "\n",
        "    if len(original_shape) > 2:\n",
        "        standardized_data = standardized_data.reshape(original_shape)\n",
        "\n",
        "    return standardized_data"
      ]
    },
    {
      "cell_type": "code",
      "execution_count": null,
      "id": "b6zFCMTfGwr1",
      "metadata": {
        "id": "b6zFCMTfGwr1"
      },
      "outputs": [],
      "source": [
        "X = standardize_data(X)"
      ]
    },
    {
      "cell_type": "code",
      "execution_count": null,
      "id": "q71IjAqHKv8f",
      "metadata": {
        "colab": {
          "base_uri": "https://localhost:8080/"
        },
        "id": "q71IjAqHKv8f",
        "outputId": "2c60df56-d434-4016-8f46-d95297993f96"
      },
      "outputs": [
        {
          "name": "stdout",
          "output_type": "stream",
          "text": [
            "[ 1.55840786 -0.51457659  3.16766892 ...  0.02947117  0.20901008\n",
            "  0.56678746]\n"
          ]
        }
      ],
      "source": [
        "print(X[0][0])"
      ]
    },
    {
      "cell_type": "markdown",
      "id": "41521a7d-3a54-411c-9d39-a537f711bfb7",
      "metadata": {
        "id": "41521a7d-3a54-411c-9d39-a537f711bfb7"
      },
      "source": [
        "# Train, Test and Validation split"
      ]
    },
    {
      "cell_type": "code",
      "execution_count": null,
      "id": "cc60eb1e-18cf-4bfc-8f37-a8d4d4eb6285",
      "metadata": {
        "id": "cc60eb1e-18cf-4bfc-8f37-a8d4d4eb6285"
      },
      "outputs": [],
      "source": [
        "def split_data(data, labels, train_ratio=0.7, valid_ratio=0.15, test_ratio=0.15, random_state=None):\n",
        "    \"\"\"\n",
        "    Split data into training, validation, and test sets.\n",
        "\n",
        "    Parameters:\n",
        "    data (numpy.ndarray): The input data of shape [samples, features].\n",
        "    labels (numpy.ndarray): The corresponding labels of shape [samples,].\n",
        "    train_ratio (float): The ratio of the training set. Default is 0.7.\n",
        "    valid_ratio (float): The ratio of the validation set. Default is 0.15.\n",
        "    test_ratio (float): The ratio of the test set. Default is 0.15.\n",
        "    random_state (int, optional): Random seed for reproducibility.\n",
        "\n",
        "    Returns:\n",
        "    tuple: Tuple containing:\n",
        "        - train_data (numpy.ndarray): Training data.\n",
        "        - valid_data (numpy.ndarray): Validation data.\n",
        "        - test_data (numpy.ndarray): Test data.\n",
        "        - train_labels (numpy.ndarray): Training labels.\n",
        "        - valid_labels (numpy.ndarray): Validation labels.\n",
        "        - test_labels (numpy.ndarray): Test labels.\n",
        "    \"\"\"\n",
        "\n",
        "    assert train_ratio + valid_ratio + test_ratio == 1, \"Ratios must sum to 1.\"\n",
        "\n",
        "    train_data, temp_data, train_labels, temp_labels = train_test_split(\n",
        "        data, labels, test_size=(1 - train_ratio), random_state=random_state\n",
        "    )\n",
        "\n",
        "    temp_ratio = valid_ratio + test_ratio\n",
        "    valid_ratio_relative = valid_ratio / temp_ratio\n",
        "    test_ratio_relative = test_ratio / temp_ratio\n",
        "\n",
        "    valid_data, test_data, valid_labels, test_labels = train_test_split(\n",
        "        temp_data, temp_labels, test_size=test_ratio_relative, random_state=random_state\n",
        "    )\n",
        "\n",
        "    return train_data, valid_data, test_data, train_labels, valid_labels, test_labels"
      ]
    },
    {
      "cell_type": "code",
      "execution_count": null,
      "id": "e10d53ad-27cd-4150-907d-609461dd5244",
      "metadata": {
        "id": "e10d53ad-27cd-4150-907d-609461dd5244"
      },
      "outputs": [],
      "source": [
        "X_train, X_val, X_test, y_train, y_val, y_test = split_data(X, Y, random_state=42)\n"
      ]
    },
    {
      "cell_type": "code",
      "execution_count": null,
      "id": "baptmT0RGPN3",
      "metadata": {
        "id": "baptmT0RGPN3"
      },
      "outputs": [],
      "source": [
        "del X\n",
        "del Y\n",
        "del commercialFeatures_150\n",
        "del nonCommercialFeatures_150\n",
        "del commercial_labels\n",
        "del non_commercial_labels"
      ]
    },
    {
      "cell_type": "code",
      "execution_count": null,
      "id": "dfde3460-2e25-41dd-80a0-cfb812e3fb83",
      "metadata": {
        "colab": {
          "base_uri": "https://localhost:8080/"
        },
        "id": "dfde3460-2e25-41dd-80a0-cfb812e3fb83",
        "outputId": "e2200f41-6f24-4864-84dd-cc506d7ff912"
      },
      "outputs": [
        {
          "name": "stdout",
          "output_type": "stream",
          "text": [
            "Train data shape: (6272, 150, 1152)\n",
            "Validation data shape: (1344, 150, 1152)\n",
            "Test data shape: (1345, 150, 1152)\n"
          ]
        }
      ],
      "source": [
        "print(f'Train data shape: {X_train.shape}')\n",
        "print(f'Validation data shape: {X_val.shape}')\n",
        "print(f'Test data shape: {X_test.shape}')"
      ]
    },
    {
      "cell_type": "code",
      "execution_count": null,
      "id": "7ee51b0d-bb8c-488a-b8b8-a195b920baaf",
      "metadata": {
        "colab": {
          "base_uri": "https://localhost:8080/"
        },
        "id": "7ee51b0d-bb8c-488a-b8b8-a195b920baaf",
        "outputId": "6f611499-c8bb-4c1e-8c38-940620ad3179"
      },
      "outputs": [
        {
          "name": "stdout",
          "output_type": "stream",
          "text": [
            "Train labels shape: (6272,)\n",
            "Validation labels shape: (1344,)\n",
            "Test labels shape: (1345,)\n"
          ]
        }
      ],
      "source": [
        "print(f'Train labels shape: {y_train.shape}')\n",
        "print(f'Validation labels shape: {y_val.shape}')\n",
        "print(f'Test labels shape: {y_test.shape}')"
      ]
    },
    {
      "cell_type": "markdown",
      "id": "V5U6zu7VjhH2",
      "metadata": {
        "id": "V5U6zu7VjhH2"
      },
      "source": [
        "# CNNs Model"
      ]
    },
    {
      "cell_type": "code",
      "execution_count": null,
      "id": "Z1pMROdPjjG-",
      "metadata": {
        "id": "Z1pMROdPjjG-"
      },
      "outputs": [],
      "source": [
        "def cnn_model(input_shape):\n",
        "    model = Sequential()\n",
        "\n",
        "    model.add(Reshape((input_shape[0], input_shape[1], 1), input_shape=input_shape))\n",
        "\n",
        "    model.add(Conv2D(32, (3, 3), activation='relu', padding='same'))\n",
        "    model.add(MaxPooling2D((2, 2)))\n",
        "\n",
        "    model.add(Conv2D(64, (3, 3), activation='relu', padding='same'))\n",
        "    model.add(MaxPooling2D((2, 2)))\n",
        "\n",
        "    model.add(Conv2D(128, (3, 3), activation='relu', padding='same'))\n",
        "    model.add(MaxPooling2D((2, 2)))\n",
        "\n",
        "    model.add(Flatten())\n",
        "    model.add(Dense(256, activation='relu'))\n",
        "    model.add(Dropout(0.5))\n",
        "    model.add(Dense(128, activation='relu'))\n",
        "    model.add(Dropout(0.5))\n",
        "    model.add(Dense(1, activation='sigmoid'))\n",
        "\n",
        "    model.compile(loss='binary_crossentropy', optimizer='adam', metrics=['accuracy'])\n",
        "    return model"
      ]
    },
    {
      "cell_type": "code",
      "execution_count": null,
      "id": "VopbL_yaj4MI",
      "metadata": {
        "colab": {
          "base_uri": "https://localhost:8080/"
        },
        "id": "VopbL_yaj4MI",
        "outputId": "a480fa60-3440-4bc6-8fcb-31cd32b50252"
      },
      "outputs": [
        {
          "name": "stdout",
          "output_type": "stream",
          "text": [
            "Model: \"sequential\"\n",
            "_________________________________________________________________\n",
            " Layer (type)                Output Shape              Param #   \n",
            "=================================================================\n",
            " reshape (Reshape)           (None, 150, 1152, 1)      0         \n",
            "                                                                 \n",
            " conv2d (Conv2D)             (None, 150, 1152, 32)     320       \n",
            "                                                                 \n",
            " max_pooling2d (MaxPooling2  (None, 75, 576, 32)       0         \n",
            " D)                                                              \n",
            "                                                                 \n",
            " conv2d_1 (Conv2D)           (None, 75, 576, 64)       18496     \n",
            "                                                                 \n",
            " max_pooling2d_1 (MaxPoolin  (None, 37, 288, 64)       0         \n",
            " g2D)                                                            \n",
            "                                                                 \n",
            " conv2d_2 (Conv2D)           (None, 37, 288, 128)      73856     \n",
            "                                                                 \n",
            " max_pooling2d_2 (MaxPoolin  (None, 18, 144, 128)      0         \n",
            " g2D)                                                            \n",
            "                                                                 \n",
            " flatten (Flatten)           (None, 331776)            0         \n",
            "                                                                 \n",
            " dense (Dense)               (None, 256)               84934912  \n",
            "                                                                 \n",
            " dropout (Dropout)           (None, 256)               0         \n",
            "                                                                 \n",
            " dense_1 (Dense)             (None, 128)               32896     \n",
            "                                                                 \n",
            " dropout_1 (Dropout)         (None, 128)               0         \n",
            "                                                                 \n",
            " dense_2 (Dense)             (None, 1)                 129       \n",
            "                                                                 \n",
            "=================================================================\n",
            "Total params: 85060609 (324.48 MB)\n",
            "Trainable params: 85060609 (324.48 MB)\n",
            "Non-trainable params: 0 (0.00 Byte)\n",
            "_________________________________________________________________\n"
          ]
        }
      ],
      "source": [
        "input_shape = (150, 1152)\n",
        "cnn_model = cnn_model(input_shape)\n",
        "cnn_model.summary()"
      ]
    },
    {
      "cell_type": "markdown",
      "id": "8MnmELXPj5Vx",
      "metadata": {
        "id": "8MnmELXPj5Vx"
      },
      "source": [
        "## Model training"
      ]
    },
    {
      "cell_type": "code",
      "execution_count": null,
      "id": "-N56nRR7j7O0",
      "metadata": {
        "id": "-N56nRR7j7O0"
      },
      "outputs": [],
      "source": [
        "early_stopping = EarlyStopping(monitor='val_loss', patience=3, restore_best_weights=True)"
      ]
    },
    {
      "cell_type": "code",
      "execution_count": null,
      "id": "S0h0QBe7j70r",
      "metadata": {
        "colab": {
          "base_uri": "https://localhost:8080/"
        },
        "id": "S0h0QBe7j70r",
        "outputId": "982a5556-9074-479d-c030-0316bd0eafe3"
      },
      "outputs": [
        {
          "name": "stdout",
          "output_type": "stream",
          "text": [
            "Epoch 1/20\n",
            "196/196 [==============================] - 37s 137ms/step - loss: 0.6658 - accuracy: 0.7342 - val_loss: 0.2234 - val_accuracy: 0.9286\n",
            "Epoch 2/20\n",
            "196/196 [==============================] - 25s 125ms/step - loss: 0.2295 - accuracy: 0.9198 - val_loss: 0.2117 - val_accuracy: 0.9241\n",
            "Epoch 3/20\n",
            "196/196 [==============================] - 25s 126ms/step - loss: 0.1754 - accuracy: 0.9362 - val_loss: 0.2028 - val_accuracy: 0.9256\n",
            "Epoch 4/20\n",
            "196/196 [==============================] - 25s 126ms/step - loss: 0.1344 - accuracy: 0.9539 - val_loss: 0.1924 - val_accuracy: 0.9345\n",
            "Epoch 5/20\n",
            "196/196 [==============================] - 25s 125ms/step - loss: 0.1032 - accuracy: 0.9592 - val_loss: 0.2139 - val_accuracy: 0.9405\n",
            "Epoch 6/20\n",
            "196/196 [==============================] - 24s 125ms/step - loss: 0.0849 - accuracy: 0.9678 - val_loss: 0.2756 - val_accuracy: 0.9211\n",
            "Epoch 7/20\n",
            "196/196 [==============================] - 25s 126ms/step - loss: 0.0739 - accuracy: 0.9716 - val_loss: 0.2231 - val_accuracy: 0.9449\n"
          ]
        }
      ],
      "source": [
        "history = cnn_model.fit(\n",
        "    X_train, y_train,\n",
        "    epochs=20,\n",
        "    batch_size=8,\n",
        "    validation_data=(X_val, y_val),\n",
        "    callbacks=[early_stopping]\n",
        ")"
      ]
    },
    {
      "cell_type": "markdown",
      "id": "nloYDnsUj8gc",
      "metadata": {
        "id": "nloYDnsUj8gc"
      },
      "source": [
        "## Model Evaluation"
      ]
    },
    {
      "cell_type": "code",
      "execution_count": null,
      "id": "4OPvpd9gkABr",
      "metadata": {
        "colab": {
          "base_uri": "https://localhost:8080/"
        },
        "id": "4OPvpd9gkABr",
        "outputId": "14fbfa68-396b-4ad3-eaf4-55b62610a562"
      },
      "outputs": [
        {
          "name": "stdout",
          "output_type": "stream",
          "text": [
            "43/43 [==============================] - 2s 41ms/step - loss: 0.1733 - accuracy: 0.9390\n"
          ]
        }
      ],
      "source": [
        "test_loss, test_accuracy = cnn_model.evaluate(X_test, y_test)"
      ]
    },
    {
      "cell_type": "code",
      "execution_count": null,
      "id": "F5lcSJHZkCAi",
      "metadata": {
        "colab": {
          "base_uri": "https://localhost:8080/"
        },
        "id": "F5lcSJHZkCAi",
        "outputId": "cd54ff79-1328-44d3-86d4-f7cede7a6a81"
      },
      "outputs": [
        {
          "name": "stdout",
          "output_type": "stream",
          "text": [
            "Test Loss: 0.17330396175384521\n",
            "Test Accuracy: 0.9390334486961365\n"
          ]
        }
      ],
      "source": [
        "print(f'Test Loss: {test_loss}')\n",
        "print(f'Test Accuracy: {test_accuracy}')"
      ]
    },
    {
      "cell_type": "code",
      "execution_count": null,
      "id": "oO8ti9kDkCP4",
      "metadata": {
        "colab": {
          "base_uri": "https://localhost:8080/"
        },
        "id": "oO8ti9kDkCP4",
        "outputId": "7eb1be33-ccce-4a8a-bf02-6d3a3b5beec9"
      },
      "outputs": [
        {
          "name": "stdout",
          "output_type": "stream",
          "text": [
            "43/43 [==============================] - 2s 37ms/step\n"
          ]
        }
      ],
      "source": [
        "y_pred = (cnn_model.predict(X_test) > 0.5).astype(\"int32\")"
      ]
    },
    {
      "cell_type": "code",
      "execution_count": null,
      "id": "rmMGGXV3kCgi",
      "metadata": {
        "colab": {
          "base_uri": "https://localhost:8080/",
          "height": 718
        },
        "id": "rmMGGXV3kCgi",
        "outputId": "d2c5d918-e8e7-4f94-92ab-99cb3d3d58df"
      },
      "outputs": [
        {
          "data": {
            "image/png": "[encoded data removed]",
            "text/plain": [
              "<Figure size 1000x800 with 2 Axes>"
            ]
          },
          "metadata": {},
          "output_type": "display_data"
        }
      ],
      "source": [
        "plt.figure(figsize=(10, 8))\n",
        "sns.heatmap(confusion_matrix(y_test, y_pred), annot=True, fmt='d', cmap='Blues', xticklabels=['Non-Commercial', 'Commercial'], yticklabels=['Non-Commercial', 'Commercial'])\n",
        "plt.xlabel('Predicted Labels')\n",
        "plt.ylabel('True Labels')\n",
        "plt.title('Confusion Matrix')\n",
        "plt.show()"
      ]
    },
    {
      "cell_type": "markdown",
      "id": "1TBfxjVyKegv",
      "metadata": {
        "id": "1TBfxjVyKegv"
      },
      "source": [
        "## Converting the Trained CNN model to .tflite format"
      ]
    },
    {
      "cell_type": "code",
      "execution_count": null,
      "id": "sLvEXD20Ke4b",
      "metadata": {
        "id": "sLvEXD20Ke4b"
      },
      "outputs": [],
      "source": [
        "converter = tf.lite.TFLiteConverter.from_keras_model(cnn_model)\n",
        "tflite_model = converter.convert()"
      ]
    },
    {
      "cell_type": "code",
      "execution_count": null,
      "id": "Stzk4Qo6KfKr",
      "metadata": {
        "id": "Stzk4Qo6KfKr"
      },
      "outputs": [],
      "source": [
        "# Save the converted model\n",
        "with open('cnn_model.tflite', 'wb') as f:\n",
        "    f.write(tflite_model)"
      ]
    },
    {
      "cell_type": "markdown",
      "id": "JmShVVkYOPN-",
      "metadata": {
        "id": "JmShVVkYOPN-"
      },
      "source": [
        "## Inferencing on .tflite model"
      ]
    },
    {
      "cell_type": "code",
      "execution_count": null,
      "id": "ZD9wp47hOpCZ",
      "metadata": {
        "id": "ZD9wp47hOpCZ"
      },
      "outputs": [],
      "source": [
        "# Load the TFLite model and allocate tensors\n",
        "interpreter = tf.lite.Interpreter(model_path='./cnn_model.tflite')\n",
        "interpreter.allocate_tensors()\n",
        "\n",
        "# Get input and output tensors\n",
        "input_details = interpreter.get_input_details()\n",
        "output_details = interpreter.get_output_details()"
      ]
    },
    {
      "cell_type": "code",
      "execution_count": null,
      "id": "xjrt3zFKRAHL",
      "metadata": {
        "id": "xjrt3zFKRAHL"
      },
      "outputs": [],
      "source": [
        "def run_inference(input_data):\n",
        "    \"\"\"\n",
        "    Run inference on a single input using the TensorFlow Lite interpreter.\n",
        "\n",
        "    Parameters:\n",
        "    input_data (np.ndarray): The input data for the model. Should be a NumPy array with the appropriate shape.\n",
        "\n",
        "    Returns\n",
        "    output_data (np.ndarray): The output data from the model. The shape and type of this output depend on the model's architecture.\n",
        "    \"\"\"\n",
        "    interpreter.set_tensor(input_details[0]['index'], input_data)\n",
        "    interpreter.invoke()\n",
        "    output_data = interpreter.get_tensor(output_details[0]['index'])\n",
        "    return output_data\n"
      ]
    },
    {
      "cell_type": "code",
      "execution_count": null,
      "id": "tIyWRukbR4U-",
      "metadata": {
        "id": "tIyWRukbR4U-"
      },
      "outputs": [],
      "source": [
        "def evaluate_model(interpreter, X_test, y_test, threshold=0.5):\n",
        "    \"\"\"\n",
        "    Evaluate the TensorFlow Lite model on the given test dataset.\n",
        "\n",
        "    Parameters\n",
        "    interpreter (tf.lite.Interpreter): The TensorFlow Lite interpreter for running inference.\n",
        "    X_test (np.ndarray): The test dataset input features. Should be a NumPy array of shape (n_samples, seq_len, n_features).\n",
        "    y_test (np.ndarray): The test dataset labels. Should be a NumPy array of shape (n_samples,).\n",
        "    threshold (float, optional): he threshold for binary classification. Default is 0.5.\n",
        "\n",
        "    Returns\n",
        "    accuracy (float): The accuracy of the model on the test dataset.\n",
        "    \"\"\"\n",
        "    correct_predictions = 0\n",
        "    total_predictions = 0\n",
        "\n",
        "    for i in range(len(X_test)):\n",
        "        input_data = np.expand_dims(X_test[i], axis=0).astype(np.float32)  # Adding batch dimension\n",
        "        predicted_output = run_inference(input_data)\n",
        "        predicted_label = (predicted_output >= threshold).astype(int)[0][0]  # Applying threshold\n",
        "        true_label = y_test[i]\n",
        "\n",
        "        if predicted_label == true_label:\n",
        "            correct_predictions += 1\n",
        "        total_predictions += 1\n",
        "\n",
        "    accuracy = correct_predictions / total_predictions\n",
        "    return accuracy"
      ]
    },
    {
      "cell_type": "code",
      "execution_count": null,
      "id": "NClrl5SyQUFV",
      "metadata": {
        "colab": {
          "base_uri": "https://localhost:8080/"
        },
        "id": "NClrl5SyQUFV",
        "outputId": "8c109eb7-d816-4588-9544-7471e9566025"
      },
      "outputs": [
        {
          "name": "stdout",
          "output_type": "stream",
          "text": [
            "Accuracy: 0.9390334572490706\n"
          ]
        }
      ],
      "source": [
        "accuracy = evaluate_model(interpreter, X_test, y_test)\n",
        "print(f'Accuracy: {accuracy}')"
      ]
    }
  ],
  "metadata": {
    "accelerator": "GPU",
    "colab": {
      "gpuType": "A100",
      "machine_shape": "hm",
      "provenance": []
    },
    "kernelspec": {
      "display_name": "Python 3",
      "name": "python3"
    },
    "language_info": {
      "codemirror_mode": {
        "name": "ipython",
        "version": 3
      },
      "file_extension": ".py",
      "mimetype": "text/x-python",
      "name": "python",
      "nbconvert_exporter": "python",
      "pygments_lexer": "ipython3",
      "version": "3.12.0"
    }
  },
  "nbformat": 4,
  "nbformat_minor": 5
}
