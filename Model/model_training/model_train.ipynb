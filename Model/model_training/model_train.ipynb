{
  "cells": [
    {
      "cell_type": "code",
      "execution_count": 3,
      "id": "6bce23c8-8e6e-4881-9925-0f19d6614eca",
      "metadata": {
        "id": "6bce23c8-8e6e-4881-9925-0f19d6614eca"
      },
      "outputs": [],
      "source": [
        "# Import important libraries\n",
        "import pickle\n",
        "import numpy as np\n",
        "from sklearn.model_selection import train_test_split\n",
        "from sklearn.preprocessing import StandardScaler\n",
        "from sklearn.utils import shuffle\n",
        "from sklearn.metrics import confusion_matrix, classification_report\n",
        "import gdown\n",
        "import os\n",
        "import tensorflow as tf\n",
        "from tensorflow.keras.models import Sequential\n",
        "from tensorflow.keras.layers import LSTM, Dense, Dropout\n",
        "from tensorflow.keras.callbacks import EarlyStopping\n",
        "import matplotlib.pyplot as plt\n",
        "import seaborn as sns"
      ]
    },
    {
      "cell_type": "code",
      "execution_count": 4,
      "id": "de67657f-4aa3-4a38-9644-ba6727e127c5",
      "metadata": {
        "id": "de67657f-4aa3-4a38-9644-ba6727e127c5"
      },
      "outputs": [],
      "source": [
        "# Constants\n",
        "train_ratio = 0.7\n",
        "val_ratio = 0.15\n",
        "test_ratio = 0.15"
      ]
    },
    {
      "cell_type": "code",
      "execution_count": 5,
      "id": "d019e805-6129-4a66-8d64-1824d8c05dd6",
      "metadata": {
        "id": "d019e805-6129-4a66-8d64-1824d8c05dd6"
      },
      "outputs": [],
      "source": [
        "# Google Drive file_ids of commercial and non-commercial audio-video features\n",
        "commercialFeatures_150_file_id          = \"1ucT-jrkmhRHx8RSMW0bueGD2IjL3ZpiO\"\n",
        "nonCommercialFeatures_150_file_id       = \"1uA5sdu_5b2l0z8k_aI0NeG2eqWsdX9zi\"\n",
        "\n",
        "# Destination paths\n",
        "commercialFeatures_150_destination      = \"commercialFeatures_150.pkl\"\n",
        "nonCommercialFeatures_150_destination   = \"nonCommercialFeatures_150.pkl\""
      ]
    },
    {
      "cell_type": "code",
      "execution_count": 6,
      "id": "48650556-80e1-41da-a002-e8c180311142",
      "metadata": {
        "id": "48650556-80e1-41da-a002-e8c180311142"
      },
      "outputs": [],
      "source": [
        "def download_file_from_google_drive(file_id, destination):\n",
        "    \"\"\"\n",
        "    Download a file from Google Drive if it doesn't already exist locally.\n",
        "\n",
        "    Parameters:\n",
        "    - file_id (str): The unique file ID from Google Drive.\n",
        "    - destination (str): The local path where the file should be saved.\n",
        "    \"\"\"\n",
        "    if os.path.exists(destination):\n",
        "        print(f'File already exists at {destination}. Skipping download.')\n",
        "    else:\n",
        "        url = f\"https://drive.google.com/uc?id={file_id}\"\n",
        "        gdown.download(url, destination, quiet=False)"
      ]
    },
    {
      "cell_type": "code",
      "execution_count": 7,
      "id": "0a0d611e-8e42-4429-b4f6-28a46cc4ed84",
      "metadata": {
        "colab": {
          "base_uri": "https://localhost:8080/"
        },
        "id": "0a0d611e-8e42-4429-b4f6-28a46cc4ed84",
        "outputId": "5702688a-44b8-40f7-dfa4-e2532d3124af"
      },
      "outputs": [
        {
          "output_type": "stream",
          "name": "stdout",
          "text": [
            "File already exists at commercialFeatures_150.pkl. Skipping download.\n",
            "File already exists at nonCommercialFeatures_150.pkl. Skipping download.\n"
          ]
        }
      ],
      "source": [
        "# Downloading commercialFeatures\n",
        "download_file_from_google_drive(commercialFeatures_150_file_id, commercialFeatures_150_destination)\n",
        "\n",
        "# Downloading nonCommercialFeatures\n",
        "download_file_from_google_drive(nonCommercialFeatures_150_file_id, nonCommercialFeatures_150_destination)"
      ]
    },
    {
      "cell_type": "code",
      "execution_count": 1,
      "id": "7793dfa9-63a4-44fd-810e-05f0412c6dd1",
      "metadata": {
        "id": "7793dfa9-63a4-44fd-810e-05f0412c6dd1"
      },
      "outputs": [],
      "source": [
        "def load_features():\n",
        "    \"\"\"\n",
        "    Load data from a pickled file if it exists, otherwise initialize an empty list.\n",
        "\n",
        "    Returns:\n",
        "    - commercialFeatures_150 (list) - List containing Commercial video features\n",
        "    - nonCommercialFeatures_150 (list) - List containing nonCommercial video features\n",
        "    \"\"\"\n",
        "    with open('commercialFeatures_150.pkl', 'rb') as f:\n",
        "        commercialFeatures_150 = pickle.load(f)\n",
        "    with open('nonCommercialFeatures_150.pkl', 'rb') as f:\n",
        "        nonCommercialFeatures_150 = pickle.load(f)\n",
        "\n",
        "    print(f'Number of commercial features: {len(commercialFeatures_150)}')\n",
        "    print(f'Number of nonCommercial features: {len(nonCommercialFeatures_150)}')\n",
        "    print(\"Audio-Visual Features Loaded Successfully\")\n",
        "    return commercialFeatures_150, nonCommercialFeatures_150"
      ]
    },
    {
      "cell_type": "code",
      "execution_count": null,
      "id": "89950adf-f880-4563-9d24-df6e057329cc",
      "metadata": {
        "id": "89950adf-f880-4563-9d24-df6e057329cc"
      },
      "outputs": [],
      "source": [
        "commercialFeatures_150, nonCommercialFeatures_150 = load_features()"
      ]
    },
    {
      "cell_type": "code",
      "execution_count": null,
      "id": "faaf8ace-58cd-45a5-8e15-f4c76be42d2f",
      "metadata": {
        "colab": {
          "base_uri": "https://localhost:8080/"
        },
        "id": "faaf8ace-58cd-45a5-8e15-f4c76be42d2f",
        "outputId": "028c34c1-f0b7-465e-d834-f92ba725a03b"
      },
      "outputs": [
        {
          "output_type": "stream",
          "name": "stdout",
          "text": [
            "(4364, 150, 1152)\n"
          ]
        }
      ],
      "source": [
        "print(commercialFeatures_150.shape)"
      ]
    },
    {
      "cell_type": "code",
      "execution_count": null,
      "id": "59d8677d-63cf-43e9-8c62-19c8638a36d6",
      "metadata": {
        "colab": {
          "base_uri": "https://localhost:8080/"
        },
        "id": "59d8677d-63cf-43e9-8c62-19c8638a36d6",
        "outputId": "879ce931-4cee-4e72-cc8d-9a2c6075f66f"
      },
      "outputs": [
        {
          "output_type": "stream",
          "name": "stdout",
          "text": [
            "(4597, 150, 1152)\n"
          ]
        }
      ],
      "source": [
        "print(nonCommercialFeatures_150.shape)"
      ]
    },
    {
      "cell_type": "markdown",
      "id": "71aa6195-16d1-484e-89a2-1c8778209a0e",
      "metadata": {
        "id": "71aa6195-16d1-484e-89a2-1c8778209a0e"
      },
      "source": [
        "# Generating labels for data and merging commercial and non-commercial features and shuffling data randomly"
      ]
    },
    {
      "cell_type": "code",
      "execution_count": null,
      "id": "324a5cfa-08b9-4fdb-ad03-b557881d47d5",
      "metadata": {
        "id": "324a5cfa-08b9-4fdb-ad03-b557881d47d5"
      },
      "outputs": [],
      "source": [
        "# Generating labels\n",
        "commercial_labels = np.ones(len(commercialFeatures_150))\n",
        "non_commercial_labels = np.zeros(len(nonCommercialFeatures_150))"
      ]
    },
    {
      "cell_type": "code",
      "execution_count": null,
      "id": "6680733b-f514-495b-8968-c601a60a204e",
      "metadata": {
        "id": "6680733b-f514-495b-8968-c601a60a204e"
      },
      "outputs": [],
      "source": [
        "# Merging commercial and non-commercial features\n",
        "X = np.concatenate((commercialFeatures_150, nonCommercialFeatures_150), axis=0)\n",
        "Y = np.concatenate((commercial_labels, non_commercial_labels), axis=0)"
      ]
    },
    {
      "cell_type": "code",
      "execution_count": null,
      "id": "59b7addd-5a43-405f-9424-441c00dc675d",
      "metadata": {
        "colab": {
          "base_uri": "https://localhost:8080/"
        },
        "id": "59b7addd-5a43-405f-9424-441c00dc675d",
        "outputId": "3db67945-5325-49e6-cfcb-bb7d79461acd"
      },
      "outputs": [
        {
          "output_type": "stream",
          "name": "stdout",
          "text": [
            "Shape of data is (8961, 150, 1152)\n",
            "Shape of labels is (8961,)\n"
          ]
        }
      ],
      "source": [
        "print(f'Shape of data is {X.shape}')\n",
        "print(f'Shape of labels is {Y.shape}')"
      ]
    },
    {
      "cell_type": "code",
      "execution_count": null,
      "id": "40ff0bc8-3855-473b-b8a2-8d9d4923d592",
      "metadata": {
        "id": "40ff0bc8-3855-473b-b8a2-8d9d4923d592",
        "scrolled": true
      },
      "outputs": [],
      "source": [
        "# Shuffling data randomly\n",
        "X, Y = shuffle(X, Y, random_state=42)"
      ]
    },
    {
      "cell_type": "markdown",
      "id": "ffe4daad-bb00-4fa4-9d1c-240c2a1816f1",
      "metadata": {
        "id": "ffe4daad-bb00-4fa4-9d1c-240c2a1816f1"
      },
      "source": [
        "# Preprocess the data"
      ]
    },
    {
      "cell_type": "code",
      "execution_count": null,
      "id": "7a37369c-4b10-497d-a9e4-f78d786ddb91",
      "metadata": {
        "colab": {
          "base_uri": "https://localhost:8080/"
        },
        "id": "7a37369c-4b10-497d-a9e4-f78d786ddb91",
        "outputId": "ca1c1ac2-b679-4b4b-8680-6ce89aea09c1"
      },
      "outputs": [
        {
          "output_type": "stream",
          "name": "stdout",
          "text": [
            "[219.  78. 255. ... 124. 141. 177.]\n"
          ]
        }
      ],
      "source": [
        "print(X[0][0])"
      ]
    },
    {
      "cell_type": "code",
      "execution_count": null,
      "id": "7ff6f1bc-149c-47b1-9211-177ec9296b8e",
      "metadata": {
        "id": "7ff6f1bc-149c-47b1-9211-177ec9296b8e"
      },
      "outputs": [],
      "source": [
        "# Finding Range of data\n",
        "maxi = 0\n",
        "mini = 1000\n",
        "for i in range(len(X[0][0])):\n",
        "    maxi = max(maxi, X[0][0][i])\n",
        "    mini = min(mini, X[0][0][i])"
      ]
    },
    {
      "cell_type": "code",
      "execution_count": null,
      "id": "c8497441-0b67-4858-95eb-bb31de9ed6aa",
      "metadata": {
        "colab": {
          "base_uri": "https://localhost:8080/"
        },
        "id": "c8497441-0b67-4858-95eb-bb31de9ed6aa",
        "outputId": "9236154e-601a-49b3-e424-edd0506a122b"
      },
      "outputs": [
        {
          "output_type": "stream",
          "name": "stdout",
          "text": [
            "maximum value is 255.0\n",
            "minimum value is 0.0\n"
          ]
        }
      ],
      "source": [
        "print(f'maximum value is {maxi}')\n",
        "print(f'minimum value is {mini}')"
      ]
    },
    {
      "cell_type": "code",
      "execution_count": null,
      "id": "HSc6omhCKPFC",
      "metadata": {
        "id": "HSc6omhCKPFC"
      },
      "outputs": [],
      "source": [
        "def scale_data(data):\n",
        "    \"\"\"\n",
        "    Scale the input data by dividing by 255.\n",
        "\n",
        "    Parameters:\n",
        "    data (numpy.ndarray): Input data array of shape [samples, features] or higher dimensions.\n",
        "\n",
        "    Returns:\n",
        "    numpy.ndarray: Scaled data with values in the range [0, 1].\n",
        "    \"\"\"\n",
        "\n",
        "    scaled_data = data / 255.0\n",
        "    return scaled_data"
      ]
    },
    {
      "cell_type": "code",
      "execution_count": null,
      "id": "O2HJqpSEFuco",
      "metadata": {
        "id": "O2HJqpSEFuco"
      },
      "outputs": [],
      "source": [
        "X = scale_data(X)"
      ]
    },
    {
      "cell_type": "code",
      "execution_count": null,
      "id": "Jfybf-msFAY6",
      "metadata": {
        "colab": {
          "base_uri": "https://localhost:8080/"
        },
        "id": "Jfybf-msFAY6",
        "outputId": "085bdf50-598f-4e02-8b09-95ee33b27fa0"
      },
      "outputs": [
        {
          "output_type": "stream",
          "name": "stdout",
          "text": [
            "[ 1.55840786 -0.51457659  3.16766892 ...  0.02947117  0.20901008\n",
            "  0.56678746]\n"
          ]
        }
      ],
      "source": [
        "print(X[0][0])"
      ]
    },
    {
      "cell_type": "code",
      "execution_count": null,
      "id": "A45QQDmLFyVm",
      "metadata": {
        "id": "A45QQDmLFyVm"
      },
      "outputs": [],
      "source": [
        "def standardize_data(data):\n",
        "    \"\"\"\n",
        "    Standardize the input data.\n",
        "\n",
        "    Parameters:\n",
        "    data (numpy.ndarray): Input data array of shape [samples, features] or higher dimensions.\n",
        "                          If the input has more than 2 dimensions, the function will flatten the\n",
        "                          data along the features axis, standardize, and then reshape back.\n",
        "\n",
        "    Returns:\n",
        "    numpy.ndarray: Standardized data with mean 0 and standard deviation 1 along the features axis.\n",
        "    \"\"\"\n",
        "\n",
        "    original_shape = data.shape\n",
        "    if len(original_shape) > 2:\n",
        "        data = data.reshape(-1, original_shape[-1])\n",
        "\n",
        "    scaler = StandardScaler()\n",
        "    standardized_data = scaler.fit_transform(data)\n",
        "\n",
        "    if len(original_shape) > 2:\n",
        "        standardized_data = standardized_data.reshape(original_shape)\n",
        "\n",
        "    return standardized_data"
      ]
    },
    {
      "cell_type": "code",
      "execution_count": null,
      "id": "b6zFCMTfGwr1",
      "metadata": {
        "id": "b6zFCMTfGwr1"
      },
      "outputs": [],
      "source": [
        "X = standardize_data(X)"
      ]
    },
    {
      "cell_type": "code",
      "execution_count": null,
      "id": "q71IjAqHKv8f",
      "metadata": {
        "colab": {
          "base_uri": "https://localhost:8080/"
        },
        "id": "q71IjAqHKv8f",
        "outputId": "09e1eb02-7fff-45f3-cae2-ba0d623de7ef"
      },
      "outputs": [
        {
          "output_type": "stream",
          "name": "stdout",
          "text": [
            "[ 1.55840786 -0.51457659  3.16766892 ...  0.02947117  0.20901008\n",
            "  0.56678746]\n"
          ]
        }
      ],
      "source": [
        "print(X[0][0])"
      ]
    },
    {
      "cell_type": "markdown",
      "id": "41521a7d-3a54-411c-9d39-a537f711bfb7",
      "metadata": {
        "id": "41521a7d-3a54-411c-9d39-a537f711bfb7"
      },
      "source": [
        "# Train, Test and Validation split"
      ]
    },
    {
      "cell_type": "code",
      "execution_count": null,
      "id": "cc60eb1e-18cf-4bfc-8f37-a8d4d4eb6285",
      "metadata": {
        "id": "cc60eb1e-18cf-4bfc-8f37-a8d4d4eb6285"
      },
      "outputs": [],
      "source": [
        "def split_data(data, labels, train_ratio=0.7, valid_ratio=0.15, test_ratio=0.15, random_state=None):\n",
        "    \"\"\"\n",
        "    Split data into training, validation, and test sets.\n",
        "\n",
        "    Parameters:\n",
        "    data (numpy.ndarray): The input data of shape [samples, features].\n",
        "    labels (numpy.ndarray): The corresponding labels of shape [samples,].\n",
        "    train_ratio (float): The ratio of the training set. Default is 0.7.\n",
        "    valid_ratio (float): The ratio of the validation set. Default is 0.15.\n",
        "    test_ratio (float): The ratio of the test set. Default is 0.15.\n",
        "    random_state (int, optional): Random seed for reproducibility.\n",
        "\n",
        "    Returns:\n",
        "    tuple: Tuple containing:\n",
        "        - train_data (numpy.ndarray): Training data.\n",
        "        - valid_data (numpy.ndarray): Validation data.\n",
        "        - test_data (numpy.ndarray): Test data.\n",
        "        - train_labels (numpy.ndarray): Training labels.\n",
        "        - valid_labels (numpy.ndarray): Validation labels.\n",
        "        - test_labels (numpy.ndarray): Test labels.\n",
        "    \"\"\"\n",
        "\n",
        "    assert train_ratio + valid_ratio + test_ratio == 1, \"Ratios must sum to 1.\"\n",
        "\n",
        "    train_data, temp_data, train_labels, temp_labels = train_test_split(\n",
        "        data, labels, test_size=(1 - train_ratio), random_state=random_state\n",
        "    )\n",
        "\n",
        "    temp_ratio = valid_ratio + test_ratio\n",
        "    valid_ratio_relative = valid_ratio / temp_ratio\n",
        "    test_ratio_relative = test_ratio / temp_ratio\n",
        "\n",
        "    valid_data, test_data, valid_labels, test_labels = train_test_split(\n",
        "        temp_data, temp_labels, test_size=test_ratio_relative, random_state=random_state\n",
        "    )\n",
        "\n",
        "    return train_data, valid_data, test_data, train_labels, valid_labels, test_labels"
      ]
    },
    {
      "cell_type": "code",
      "execution_count": null,
      "id": "e10d53ad-27cd-4150-907d-609461dd5244",
      "metadata": {
        "id": "e10d53ad-27cd-4150-907d-609461dd5244"
      },
      "outputs": [],
      "source": [
        "X_train, X_val, X_test, y_train, y_val, y_test = split_data(X, Y, random_state=42)"
      ]
    },
    {
      "cell_type": "code",
      "execution_count": null,
      "id": "dfde3460-2e25-41dd-80a0-cfb812e3fb83",
      "metadata": {
        "id": "dfde3460-2e25-41dd-80a0-cfb812e3fb83",
        "colab": {
          "base_uri": "https://localhost:8080/"
        },
        "outputId": "dd0bbb3c-c018-467c-b110-037ff473b45f"
      },
      "outputs": [
        {
          "output_type": "stream",
          "name": "stdout",
          "text": [
            "Train data shape: (6272, 150, 1152)\n",
            "Validation data shape: (1344, 150, 1152)\n",
            "Test data shape: (1345, 150, 1152)\n"
          ]
        }
      ],
      "source": [
        "print(f'Train data shape: {X_train.shape}')\n",
        "print(f'Validation data shape: {X_val.shape}')\n",
        "print(f'Test data shape: {X_test.shape}')"
      ]
    },
    {
      "cell_type": "code",
      "execution_count": null,
      "id": "7ee51b0d-bb8c-488a-b8b8-a195b920baaf",
      "metadata": {
        "id": "7ee51b0d-bb8c-488a-b8b8-a195b920baaf",
        "colab": {
          "base_uri": "https://localhost:8080/"
        },
        "outputId": "a7869846-f763-4919-c032-3f4f931131de"
      },
      "outputs": [
        {
          "output_type": "stream",
          "name": "stdout",
          "text": [
            "Train labels shape: (6272,)\n",
            "Validation labels shape: (1344,)\n",
            "Test labels shape: (1345,)\n"
          ]
        }
      ],
      "source": [
        "print(f'Train labels shape: {y_train.shape}')\n",
        "print(f'Validation labels shape: {y_val.shape}')\n",
        "print(f'Test labels shape: {y_test.shape}')"
      ]
    },
    {
      "cell_type": "markdown",
      "id": "95c5e577-4bd8-4374-a582-61bc12f1262c",
      "metadata": {
        "id": "95c5e577-4bd8-4374-a582-61bc12f1262c"
      },
      "source": [
        "# Unidirectional LSTM **Model**"
      ]
    },
    {
      "cell_type": "code",
      "source": [
        "def create_lstm_model(input_shape):\n",
        "    model = Sequential()\n",
        "    model.add(LSTM(256, return_sequences=True, input_shape=input_shape))\n",
        "    model.add(Dropout(0.5))\n",
        "    model.add(LSTM(128, return_sequences=True))\n",
        "    model.add(Dropout(0.5))\n",
        "    model.add(LSTM(64))\n",
        "    model.add(Dropout(0.5))\n",
        "    model.add(Dense(32, activation='relu'))\n",
        "    model.add(Dense(1, activation='sigmoid'))\n",
        "    model.compile(loss='binary_crossentropy', optimizer='adam', metrics=['accuracy'])\n",
        "    return model"
      ],
      "metadata": {
        "id": "3M4QO-L0Wn2i"
      },
      "id": "3M4QO-L0Wn2i",
      "execution_count": 69,
      "outputs": []
    },
    {
      "cell_type": "code",
      "source": [
        "input_shape = (len(X_train[0]), len(X_train[0][0]))\n",
        "uni_LSTM_Model = create_lstm_model(input_shape)\n",
        "uni_LSTM_Model.summary()"
      ],
      "metadata": {
        "id": "TmG8WTVTDwtf",
        "colab": {
          "base_uri": "https://localhost:8080/"
        },
        "outputId": "7ebf9139-71db-418e-bf03-e26cd8e01a9d"
      },
      "id": "TmG8WTVTDwtf",
      "execution_count": 70,
      "outputs": [
        {
          "output_type": "stream",
          "name": "stdout",
          "text": [
            "Model: \"sequential_8\"\n",
            "_________________________________________________________________\n",
            " Layer (type)                Output Shape              Param #   \n",
            "=================================================================\n",
            " lstm_20 (LSTM)              (None, 150, 256)          1442816   \n",
            "                                                                 \n",
            " dropout_20 (Dropout)        (None, 150, 256)          0         \n",
            "                                                                 \n",
            " lstm_21 (LSTM)              (None, 150, 128)          197120    \n",
            "                                                                 \n",
            " dropout_21 (Dropout)        (None, 150, 128)          0         \n",
            "                                                                 \n",
            " lstm_22 (LSTM)              (None, 64)                49408     \n",
            "                                                                 \n",
            " dropout_22 (Dropout)        (None, 64)                0         \n",
            "                                                                 \n",
            " dense_12 (Dense)            (None, 32)                2080      \n",
            "                                                                 \n",
            " dense_13 (Dense)            (None, 1)                 33        \n",
            "                                                                 \n",
            "=================================================================\n",
            "Total params: 1691457 (6.45 MB)\n",
            "Trainable params: 1691457 (6.45 MB)\n",
            "Non-trainable params: 0 (0.00 Byte)\n",
            "_________________________________________________________________\n"
          ]
        }
      ]
    },
    {
      "cell_type": "markdown",
      "id": "Ofe2sSn1jM3j",
      "metadata": {
        "id": "Ofe2sSn1jM3j"
      },
      "source": [
        "\n",
        "\n",
        "## Model Training\n",
        "\n"
      ]
    },
    {
      "cell_type": "code",
      "execution_count": 71,
      "id": "G0QoxvehjQ22",
      "metadata": {
        "id": "G0QoxvehjQ22"
      },
      "outputs": [],
      "source": [
        "early_stopping = EarlyStopping(monitor='val_loss', patience=5, restore_best_weights=True)"
      ]
    },
    {
      "cell_type": "code",
      "execution_count": 72,
      "id": "2s1EYno2jU2x",
      "metadata": {
        "id": "2s1EYno2jU2x",
        "colab": {
          "base_uri": "https://localhost:8080/"
        },
        "outputId": "92c41a00-b0f3-4dc8-c98a-3427297d2e07"
      },
      "outputs": [
        {
          "output_type": "stream",
          "name": "stdout",
          "text": [
            "Epoch 1/10\n",
            "196/196 [==============================] - 13s 42ms/step - loss: 0.2403 - accuracy: 0.9179 - val_loss: 0.1352 - val_accuracy: 0.9568\n",
            "Epoch 2/10\n",
            "196/196 [==============================] - 5s 26ms/step - loss: 0.1126 - accuracy: 0.9630 - val_loss: 0.2019 - val_accuracy: 0.9457\n",
            "Epoch 3/10\n",
            "196/196 [==============================] - 5s 26ms/step - loss: 0.0784 - accuracy: 0.9761 - val_loss: 0.1349 - val_accuracy: 0.9606\n",
            "Epoch 4/10\n",
            "196/196 [==============================] - 5s 26ms/step - loss: 0.0501 - accuracy: 0.9842 - val_loss: 0.1269 - val_accuracy: 0.9658\n",
            "Epoch 5/10\n",
            "196/196 [==============================] - 5s 26ms/step - loss: 0.0237 - accuracy: 0.9927 - val_loss: 0.1670 - val_accuracy: 0.9621\n",
            "Epoch 6/10\n",
            "196/196 [==============================] - 5s 26ms/step - loss: 0.0124 - accuracy: 0.9970 - val_loss: 0.1922 - val_accuracy: 0.9621\n",
            "Epoch 7/10\n",
            "196/196 [==============================] - 5s 26ms/step - loss: 0.0140 - accuracy: 0.9960 - val_loss: 0.1574 - val_accuracy: 0.9658\n",
            "Epoch 8/10\n",
            "196/196 [==============================] - 5s 26ms/step - loss: 0.0099 - accuracy: 0.9978 - val_loss: 0.1853 - val_accuracy: 0.9665\n",
            "Epoch 9/10\n",
            "196/196 [==============================] - 5s 27ms/step - loss: 0.0166 - accuracy: 0.9965 - val_loss: 0.1637 - val_accuracy: 0.9650\n"
          ]
        }
      ],
      "source": [
        "history = uni_LSTM_Model.fit(\n",
        "    X_train, y_train,\n",
        "    epochs=10,\n",
        "    batch_size=32,\n",
        "    validation_data=(X_val, y_val),\n",
        "    callbacks=[early_stopping]\n",
        ")"
      ]
    },
    {
      "cell_type": "markdown",
      "id": "bgjrkz0BjWeI",
      "metadata": {
        "id": "bgjrkz0BjWeI"
      },
      "source": [
        "## Evaluating model on Test data"
      ]
    },
    {
      "cell_type": "code",
      "execution_count": 73,
      "id": "CWNl4YwsjY92",
      "metadata": {
        "id": "CWNl4YwsjY92",
        "colab": {
          "base_uri": "https://localhost:8080/"
        },
        "outputId": "b4af1b5e-032a-450b-bc34-da18d3786701"
      },
      "outputs": [
        {
          "output_type": "stream",
          "name": "stdout",
          "text": [
            "43/43 [==============================] - 2s 14ms/step - loss: 0.1019 - accuracy: 0.9710\n"
          ]
        }
      ],
      "source": [
        "test_loss, test_accuracy = uni_LSTM_Model.evaluate(X_test, y_test)"
      ]
    },
    {
      "cell_type": "code",
      "source": [
        "print(f'Test Loss: {test_loss}')\n",
        "print(f'Test Accuracy: {test_accuracy}')"
      ],
      "metadata": {
        "id": "Zs7y1rfTRnaT",
        "colab": {
          "base_uri": "https://localhost:8080/"
        },
        "outputId": "8c77a3fe-38a2-474f-8d06-67e9c30aaa19"
      },
      "id": "Zs7y1rfTRnaT",
      "execution_count": 74,
      "outputs": [
        {
          "output_type": "stream",
          "name": "stdout",
          "text": [
            "Test Loss: 0.10186314582824707\n",
            "Test Accuracy: 0.9710037112236023\n"
          ]
        }
      ]
    },
    {
      "cell_type": "code",
      "execution_count": 75,
      "id": "CFI-xLLDjZtc",
      "metadata": {
        "id": "CFI-xLLDjZtc",
        "colab": {
          "base_uri": "https://localhost:8080/"
        },
        "outputId": "a3b5cf0a-5010-4ee4-f04a-5ccc762a41cd"
      },
      "outputs": [
        {
          "output_type": "stream",
          "name": "stdout",
          "text": [
            "43/43 [==============================] - 2s 13ms/step\n"
          ]
        }
      ],
      "source": [
        "y_pred = (uni_LSTM_Model.predict(X_test) > 0.5).astype(\"int32\")"
      ]
    },
    {
      "cell_type": "code",
      "execution_count": 77,
      "id": "__IrdPb2j4iZ",
      "metadata": {
        "id": "__IrdPb2j4iZ",
        "colab": {
          "base_uri": "https://localhost:8080/",
          "height": 564
        },
        "outputId": "1c99dc08-c7b1-49d3-e87c-f4dcdd48f0f6"
      },
      "outputs": [
        {
          "output_type": "display_data",
          "data": {
            "text/plain": [
              "<Figure size 800x600 with 1 Axes>"
            ],
            "image/png": "[encoded data removed]"
          },
          "metadata": {}
        }
      ],
      "source": [
        "conf_matrix = confusion_matrix(y_test, y_pred)\n",
        "plt.figure(figsize=(8, 6))\n",
        "sns.heatmap(conf_matrix, annot=True, cmap='Blues', fmt='g', cbar=False,\n",
        "            xticklabels=['Non-Commercial', 'Commercial'],\n",
        "            yticklabels=['Non-Commercial', 'Commercial'])\n",
        "plt.xlabel('Predicted Labels')\n",
        "plt.ylabel('True Labels')\n",
        "plt.title('Confusion Matrix')\n",
        "plt.show()"
      ]
    },
    {
      "cell_type": "code",
      "execution_count": 81,
      "id": "TfT6r17RjZwh",
      "metadata": {
        "id": "TfT6r17RjZwh",
        "colab": {
          "base_uri": "https://localhost:8080/"
        },
        "outputId": "f4c4776c-8e73-4493-cc38-65dabf74ded6"
      },
      "outputs": [
        {
          "output_type": "stream",
          "name": "stdout",
          "text": [
            "              precision    recall  f1-score   support\n",
            "\n",
            "         0.0       0.97      0.97      0.97       687\n",
            "         1.0       0.97      0.97      0.97       658\n",
            "\n",
            "    accuracy                           0.97      1345\n",
            "   macro avg       0.97      0.97      0.97      1345\n",
            "weighted avg       0.97      0.97      0.97      1345\n",
            "\n"
          ]
        }
      ],
      "source": [
        "print(classification_report(y_test, y_pred))"
      ]
    },
    {
      "cell_type": "markdown",
      "id": "gBhjQxsqjaxK",
      "metadata": {
        "id": "gBhjQxsqjaxK"
      },
      "source": [
        "## Exporting the trained uni_LSTM model"
      ]
    },
    {
      "cell_type": "code",
      "source": [
        "uni_LSTM_Model.save('./uni_LSTM_Model.keras')"
      ],
      "metadata": {
        "id": "bRZ04mwaaIIH"
      },
      "id": "bRZ04mwaaIIH",
      "execution_count": 84,
      "outputs": []
    }
  ],
  "metadata": {
    "accelerator": "GPU",
    "colab": {
      "gpuType": "T4",
      "machine_shape": "hm",
      "provenance": []
    },
    "kernelspec": {
      "display_name": "Python 3",
      "name": "python3"
    },
    "language_info": {
      "codemirror_mode": {
        "name": "ipython",
        "version": 3
      },
      "file_extension": ".py",
      "mimetype": "text/x-python",
      "name": "python",
      "nbconvert_exporter": "python",
      "pygments_lexer": "ipython3",
      "version": "3.12.0"
    }
  },
  "nbformat": 4,
  "nbformat_minor": 5
}