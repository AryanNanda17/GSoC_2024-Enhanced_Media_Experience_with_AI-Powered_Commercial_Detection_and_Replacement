{
  "cells": [
    {
      "cell_type": "code",
      "execution_count": null,
      "id": "6bce23c8-8e6e-4881-9925-0f19d6614eca",
      "metadata": {
        "id": "6bce23c8-8e6e-4881-9925-0f19d6614eca"
      },
      "outputs": [],
      "source": [
        "# Import important libraries\n",
        "import pickle\n",
        "import numpy as np\n",
        "from sklearn.model_selection import train_test_split\n",
        "from sklearn.preprocessing import StandardScaler\n",
        "from sklearn.utils import shuffle\n",
        "import gdown\n",
        "import os"
      ]
    },
    {
      "cell_type": "code",
      "execution_count": null,
      "id": "de67657f-4aa3-4a38-9644-ba6727e127c5",
      "metadata": {
        "id": "de67657f-4aa3-4a38-9644-ba6727e127c5"
      },
      "outputs": [],
      "source": [
        "# Constants\n",
        "train_ratio = 0.7\n",
        "val_ratio = 0.15\n",
        "test_ratio = 0.15"
      ]
    },
    {
      "cell_type": "code",
      "execution_count": null,
      "id": "d019e805-6129-4a66-8d64-1824d8c05dd6",
      "metadata": {
        "id": "d019e805-6129-4a66-8d64-1824d8c05dd6"
      },
      "outputs": [],
      "source": [
        "# Google Drive file_ids of commercial and non-commercial audio-video features\n",
        "commercialFeatures_150_file_id          = \"1ucT-jrkmhRHx8RSMW0bueGD2IjL3ZpiO\"\n",
        "nonCommercialFeatures_150_file_id       = \"1uA5sdu_5b2l0z8k_aI0NeG2eqWsdX9zi\"\n",
        "\n",
        "# Destination paths\n",
        "commercialFeatures_150_destination      = \"commercialFeatures_150.pkl\"\n",
        "nonCommercialFeatures_150_destination   = \"nonCommercialFeatures_150.pkl\""
      ]
    },
    {
      "cell_type": "code",
      "execution_count": null,
      "id": "48650556-80e1-41da-a002-e8c180311142",
      "metadata": {
        "id": "48650556-80e1-41da-a002-e8c180311142"
      },
      "outputs": [],
      "source": [
        "def download_file_from_google_drive(file_id, destination):\n",
        "    \"\"\"\n",
        "    Download a file from Google Drive if it doesn't already exist locally.\n",
        "\n",
        "    Parameters:\n",
        "    - file_id (str): The unique file ID from Google Drive.\n",
        "    - destination (str): The local path where the file should be saved.\n",
        "    \"\"\"\n",
        "    if os.path.exists(destination):\n",
        "        print(f'File already exists at {destination}. Skipping download.')\n",
        "    else:\n",
        "        url = f\"https://drive.google.com/uc?id={file_id}\"\n",
        "        gdown.download(url, destination, quiet=False)"
      ]
    },
    {
      "cell_type": "code",
      "execution_count": null,
      "id": "0a0d611e-8e42-4429-b4f6-28a46cc4ed84",
      "metadata": {
        "colab": {
          "base_uri": "https://localhost:8080/"
        },
        "id": "0a0d611e-8e42-4429-b4f6-28a46cc4ed84",
        "outputId": "2a236c5a-77fd-4b6a-e0df-8137ff61f0ad"
      },
      "outputs": [
        {
          "output_type": "stream",
          "name": "stdout",
          "text": [
            "File already exists at commercialFeatures_150.pkl. Skipping download.\n",
            "File already exists at nonCommercialFeatures_150.pkl. Skipping download.\n"
          ]
        }
      ],
      "source": [
        "# Downloading commercialFeatures\n",
        "download_file_from_google_drive(commercialFeatures_150_file_id, commercialFeatures_150_destination)\n",
        "\n",
        "# Downloading nonCommercialFeatures\n",
        "download_file_from_google_drive(nonCommercialFeatures_150_file_id, nonCommercialFeatures_150_destination)"
      ]
    },
    {
      "cell_type": "code",
      "execution_count": null,
      "id": "7793dfa9-63a4-44fd-810e-05f0412c6dd1",
      "metadata": {
        "id": "7793dfa9-63a4-44fd-810e-05f0412c6dd1"
      },
      "outputs": [],
      "source": [
        "def load_features():\n",
        "    \"\"\"\n",
        "    Load data from a pickled file if it exists, otherwise initialize an empty list.\n",
        "\n",
        "    Returns:\n",
        "    - commercialFeatures_150 (list) - List containing Commercial video features\n",
        "    - nonCommercialFeatures_150 (list) - List containing nonCommercial video features\n",
        "    \"\"\"\n",
        "    with open('commercialFeatures_150.pkl', 'rb') as f:\n",
        "        commercialFeatures_150 = pickle.load(f)\n",
        "    with open('nonCommercialFeatures_150.pkl', 'rb') as f:\n",
        "        nonCommercialFeatures_150 = pickle.load(f)\n",
        "\n",
        "    print(f'Number of commercial features: {len(commercialFeatures_150)}')\n",
        "    print(f'Number of nonCommercial features: {len(nonCommercialFeatures_150)}')\n",
        "    print(\"Audio-Visual Features Loaded Successfully\")\n",
        "    return commercialFeatures_150, nonCommercialFeatures_150"
      ]
    },
    {
      "cell_type": "code",
      "execution_count": null,
      "id": "89950adf-f880-4563-9d24-df6e057329cc",
      "metadata": {
        "colab": {
          "base_uri": "https://localhost:8080/"
        },
        "id": "89950adf-f880-4563-9d24-df6e057329cc",
        "outputId": "76139376-ea6d-497b-fc26-ed22a9578147"
      },
      "outputs": [
        {
          "output_type": "stream",
          "name": "stdout",
          "text": [
            "Number of commercial features: 4364\n",
            "Number of nonCommercial features: 4597\n",
            "Audio-Visual Features Loaded Successfully\n"
          ]
        }
      ],
      "source": [
        "commercialFeatures_150, nonCommercialFeatures_150 = load_features()"
      ]
    },
    {
      "cell_type": "code",
      "execution_count": null,
      "id": "faaf8ace-58cd-45a5-8e15-f4c76be42d2f",
      "metadata": {
        "colab": {
          "base_uri": "https://localhost:8080/"
        },
        "id": "faaf8ace-58cd-45a5-8e15-f4c76be42d2f",
        "outputId": "c4ac064d-6641-44d5-a43a-44fc8e4e5aaf"
      },
      "outputs": [
        {
          "output_type": "stream",
          "name": "stdout",
          "text": [
            "(4364, 150, 1152)\n"
          ]
        }
      ],
      "source": [
        "print(commercialFeatures_150.shape)"
      ]
    },
    {
      "cell_type": "code",
      "execution_count": null,
      "id": "59d8677d-63cf-43e9-8c62-19c8638a36d6",
      "metadata": {
        "colab": {
          "base_uri": "https://localhost:8080/"
        },
        "id": "59d8677d-63cf-43e9-8c62-19c8638a36d6",
        "outputId": "7d52ee0f-852c-4871-a3a9-c8bbc78f71fa"
      },
      "outputs": [
        {
          "output_type": "stream",
          "name": "stdout",
          "text": [
            "(4597, 150, 1152)\n"
          ]
        }
      ],
      "source": [
        "print(nonCommercialFeatures_150.shape)"
      ]
    },
    {
      "cell_type": "markdown",
      "id": "71aa6195-16d1-484e-89a2-1c8778209a0e",
      "metadata": {
        "id": "71aa6195-16d1-484e-89a2-1c8778209a0e"
      },
      "source": [
        "# Generating labels for data and merging commercial and non-commercial features and shuffling data randomly"
      ]
    },
    {
      "cell_type": "code",
      "execution_count": null,
      "id": "324a5cfa-08b9-4fdb-ad03-b557881d47d5",
      "metadata": {
        "id": "324a5cfa-08b9-4fdb-ad03-b557881d47d5"
      },
      "outputs": [],
      "source": [
        "# Generating labels\n",
        "commercial_labels = np.ones(len(commercialFeatures_150))\n",
        "non_commercial_labels = np.zeros(len(nonCommercialFeatures_150))"
      ]
    },
    {
      "cell_type": "code",
      "execution_count": null,
      "id": "6680733b-f514-495b-8968-c601a60a204e",
      "metadata": {
        "id": "6680733b-f514-495b-8968-c601a60a204e"
      },
      "outputs": [],
      "source": [
        "# Merging commercial and non-commercial features\n",
        "X = np.concatenate((commercialFeatures_150, nonCommercialFeatures_150), axis=0)\n",
        "Y = np.concatenate((commercial_labels, non_commercial_labels), axis=0)"
      ]
    },
    {
      "cell_type": "code",
      "execution_count": null,
      "id": "59b7addd-5a43-405f-9424-441c00dc675d",
      "metadata": {
        "colab": {
          "base_uri": "https://localhost:8080/"
        },
        "id": "59b7addd-5a43-405f-9424-441c00dc675d",
        "outputId": "1478a0ab-052c-4a18-e081-7bafe4136a85"
      },
      "outputs": [
        {
          "output_type": "stream",
          "name": "stdout",
          "text": [
            "Shape of data is (8961, 150, 1152)\n",
            "Shape of labels is (8961,)\n"
          ]
        }
      ],
      "source": [
        "print(f'Shape of data is {X.shape}')\n",
        "print(f'Shape of labels is {Y.shape}')"
      ]
    },
    {
      "cell_type": "code",
      "execution_count": null,
      "id": "40ff0bc8-3855-473b-b8a2-8d9d4923d592",
      "metadata": {
        "id": "40ff0bc8-3855-473b-b8a2-8d9d4923d592",
        "scrolled": true
      },
      "outputs": [],
      "source": [
        "# Shuffling data randomly\n",
        "X, Y = shuffle(X, Y, random_state=42)"
      ]
    },
    {
      "cell_type": "markdown",
      "id": "ffe4daad-bb00-4fa4-9d1c-240c2a1816f1",
      "metadata": {
        "id": "ffe4daad-bb00-4fa4-9d1c-240c2a1816f1"
      },
      "source": [
        "# Preprocess the data"
      ]
    },
    {
      "cell_type": "code",
      "execution_count": null,
      "id": "7a37369c-4b10-497d-a9e4-f78d786ddb91",
      "metadata": {
        "colab": {
          "base_uri": "https://localhost:8080/"
        },
        "id": "7a37369c-4b10-497d-a9e4-f78d786ddb91",
        "outputId": "1f6532d2-10d5-4dc7-8cab-41571b6a9e81"
      },
      "outputs": [
        {
          "output_type": "stream",
          "name": "stdout",
          "text": [
            "[219.  78. 255. ... 124. 141. 177.]\n"
          ]
        }
      ],
      "source": [
        "print(X[0][0])"
      ]
    },
    {
      "cell_type": "code",
      "execution_count": null,
      "id": "7ff6f1bc-149c-47b1-9211-177ec9296b8e",
      "metadata": {
        "id": "7ff6f1bc-149c-47b1-9211-177ec9296b8e"
      },
      "outputs": [],
      "source": [
        "# Finding Range of data\n",
        "maxi = 0\n",
        "mini = 1000\n",
        "for i in range(len(X[0][0])):\n",
        "    maxi = max(maxi, X[0][0][i])\n",
        "    mini = min(mini, X[0][0][i])"
      ]
    },
    {
      "cell_type": "code",
      "execution_count": null,
      "id": "c8497441-0b67-4858-95eb-bb31de9ed6aa",
      "metadata": {
        "colab": {
          "base_uri": "https://localhost:8080/"
        },
        "id": "c8497441-0b67-4858-95eb-bb31de9ed6aa",
        "outputId": "711ed4c5-9e4f-4b28-9d4a-31a412058a0d"
      },
      "outputs": [
        {
          "output_type": "stream",
          "name": "stdout",
          "text": [
            "maximum value is 255.0\n",
            "minimum value is 0.0\n"
          ]
        }
      ],
      "source": [
        "print(f'maximum value is {maxi}')\n",
        "print(f'minimum value is {mini}')"
      ]
    },
    {
      "cell_type": "code",
      "execution_count": null,
      "id": "HSc6omhCKPFC",
      "metadata": {
        "id": "HSc6omhCKPFC"
      },
      "outputs": [],
      "source": [
        "def scale_data(data):\n",
        "    \"\"\"\n",
        "    Scale the input data by dividing by 255.\n",
        "\n",
        "    Parameters:\n",
        "    data (numpy.ndarray): Input data array of shape [samples, features] or higher dimensions.\n",
        "\n",
        "    Returns:\n",
        "    numpy.ndarray: Scaled data with values in the range [0, 1].\n",
        "    \"\"\"\n",
        "\n",
        "    scaled_data = data / 255.0\n",
        "    return scaled_data"
      ]
    },
    {
      "cell_type": "code",
      "execution_count": null,
      "id": "O2HJqpSEFuco",
      "metadata": {
        "id": "O2HJqpSEFuco"
      },
      "outputs": [],
      "source": [
        "X = scale_data(X)"
      ]
    },
    {
      "cell_type": "code",
      "execution_count": null,
      "id": "Jfybf-msFAY6",
      "metadata": {
        "colab": {
          "base_uri": "https://localhost:8080/"
        },
        "id": "Jfybf-msFAY6",
        "outputId": "91cfa3c0-7091-4fe4-b28e-bb4829d01923"
      },
      "outputs": [
        {
          "output_type": "stream",
          "name": "stdout",
          "text": [
            "[0.85882353 0.30588235 1.         ... 0.48627451 0.55294118 0.69411765]\n"
          ]
        }
      ],
      "source": [
        "print(X[0][0])"
      ]
    },
    {
      "cell_type": "code",
      "execution_count": null,
      "id": "A45QQDmLFyVm",
      "metadata": {
        "id": "A45QQDmLFyVm"
      },
      "outputs": [],
      "source": [
        "def standardize_data(data):\n",
        "    \"\"\"\n",
        "    Standardize the input data.\n",
        "\n",
        "    Parameters:\n",
        "    data (numpy.ndarray): Input data array of shape [samples, features] or higher dimensions.\n",
        "                          If the input has more than 2 dimensions, the function will flatten the\n",
        "                          data along the features axis, standardize, and then reshape back.\n",
        "\n",
        "    Returns:\n",
        "    numpy.ndarray: Standardized data with mean 0 and standard deviation 1 along the features axis.\n",
        "    \"\"\"\n",
        "\n",
        "    original_shape = data.shape\n",
        "    if len(original_shape) > 2:\n",
        "        data = data.reshape(-1, original_shape[-1])\n",
        "\n",
        "    scaler = StandardScaler()\n",
        "    standardized_data = scaler.fit_transform(data)\n",
        "\n",
        "    if len(original_shape) > 2:\n",
        "        standardized_data = standardized_data.reshape(original_shape)\n",
        "\n",
        "    return standardized_data"
      ]
    },
    {
      "cell_type": "code",
      "execution_count": null,
      "id": "b6zFCMTfGwr1",
      "metadata": {
        "id": "b6zFCMTfGwr1"
      },
      "outputs": [],
      "source": [
        "X = standardize_data(X)"
      ]
    },
    {
      "cell_type": "code",
      "execution_count": null,
      "id": "q71IjAqHKv8f",
      "metadata": {
        "colab": {
          "base_uri": "https://localhost:8080/"
        },
        "id": "q71IjAqHKv8f",
        "outputId": "87351bd7-7547-4572-94cd-d0e578e18125"
      },
      "outputs": [
        {
          "output_type": "stream",
          "name": "stdout",
          "text": [
            "[ 1.55840786 -0.51457659  3.16766892 ...  0.02947117  0.20901008\n",
            "  0.56678746]\n"
          ]
        }
      ],
      "source": [
        "print(X[0][0])"
      ]
    },
    {
      "cell_type": "markdown",
      "id": "41521a7d-3a54-411c-9d39-a537f711bfb7",
      "metadata": {
        "id": "41521a7d-3a54-411c-9d39-a537f711bfb7"
      },
      "source": [
        "# Train, Test and Validation split"
      ]
    },
    {
      "cell_type": "code",
      "execution_count": null,
      "id": "cc60eb1e-18cf-4bfc-8f37-a8d4d4eb6285",
      "metadata": {
        "id": "cc60eb1e-18cf-4bfc-8f37-a8d4d4eb6285"
      },
      "outputs": [],
      "source": [
        "def split_data(data, labels, train_ratio=0.7, valid_ratio=0.15, test_ratio=0.15, random_state=None):\n",
        "    \"\"\"\n",
        "    Split data into training, validation, and test sets.\n",
        "\n",
        "    Parameters:\n",
        "    data (numpy.ndarray): The input data of shape [samples, features].\n",
        "    labels (numpy.ndarray): The corresponding labels of shape [samples,].\n",
        "    train_ratio (float): The ratio of the training set. Default is 0.7.\n",
        "    valid_ratio (float): The ratio of the validation set. Default is 0.15.\n",
        "    test_ratio (float): The ratio of the test set. Default is 0.15.\n",
        "    random_state (int, optional): Random seed for reproducibility.\n",
        "\n",
        "    Returns:\n",
        "    tuple: Tuple containing:\n",
        "        - train_data (numpy.ndarray): Training data.\n",
        "        - valid_data (numpy.ndarray): Validation data.\n",
        "        - test_data (numpy.ndarray): Test data.\n",
        "        - train_labels (numpy.ndarray): Training labels.\n",
        "        - valid_labels (numpy.ndarray): Validation labels.\n",
        "        - test_labels (numpy.ndarray): Test labels.\n",
        "    \"\"\"\n",
        "\n",
        "    assert train_ratio + valid_ratio + test_ratio == 1, \"Ratios must sum to 1.\"\n",
        "\n",
        "    train_data, temp_data, train_labels, temp_labels = train_test_split(\n",
        "        data, labels, test_size=(1 - train_ratio), random_state=random_state\n",
        "    )\n",
        "\n",
        "    temp_ratio = valid_ratio + test_ratio\n",
        "    valid_ratio_relative = valid_ratio / temp_ratio\n",
        "    test_ratio_relative = test_ratio / temp_ratio\n",
        "\n",
        "    valid_data, test_data, valid_labels, test_labels = train_test_split(\n",
        "        temp_data, temp_labels, test_size=test_ratio_relative, random_state=random_state\n",
        "    )\n",
        "\n",
        "    return train_data, valid_data, test_data, train_labels, valid_labels, test_labels"
      ]
    },
    {
      "cell_type": "code",
      "execution_count": null,
      "id": "e10d53ad-27cd-4150-907d-609461dd5244",
      "metadata": {
        "id": "e10d53ad-27cd-4150-907d-609461dd5244"
      },
      "outputs": [],
      "source": [
        "train_data, valid_data, test_data, train_labels, valid_labels, test_labels = split_data(X, Y, random_state=42)"
      ]
    },
    {
      "cell_type": "code",
      "execution_count": null,
      "id": "dfde3460-2e25-41dd-80a0-cfb812e3fb83",
      "metadata": {
        "id": "dfde3460-2e25-41dd-80a0-cfb812e3fb83",
        "colab": {
          "base_uri": "https://localhost:8080/"
        },
        "outputId": "9a8cc9f5-a4f6-4a4d-aa3d-25a4ea224ec9"
      },
      "outputs": [
        {
          "output_type": "stream",
          "name": "stdout",
          "text": [
            "Train data shape: (6272, 150, 1152)\n",
            "Validation data shape: (1344, 150, 1152)\n",
            "Test data shape: (1345, 150, 1152)\n"
          ]
        }
      ],
      "source": [
        "print(f'Train data shape: {train_data.shape}')\n",
        "print(f'Validation data shape: {valid_data.shape}')\n",
        "print(f'Test data shape: {test_data.shape}')"
      ]
    },
    {
      "cell_type": "code",
      "execution_count": null,
      "id": "7ee51b0d-bb8c-488a-b8b8-a195b920baaf",
      "metadata": {
        "id": "7ee51b0d-bb8c-488a-b8b8-a195b920baaf",
        "colab": {
          "base_uri": "https://localhost:8080/"
        },
        "outputId": "adfde6c7-cd64-4685-e263-0d922239689a"
      },
      "outputs": [
        {
          "output_type": "stream",
          "name": "stdout",
          "text": [
            "Train labels shape: (6272,)\n",
            "Validation labels shape: (1344,)\n",
            "Test labels shape: (1345,)\n"
          ]
        }
      ],
      "source": [
        "print(f'Train labels shape: {train_labels.shape}')\n",
        "print(f'Validation labels shape: {valid_labels.shape}')\n",
        "print(f'Test labels shape: {test_labels.shape}')"
      ]
    },
    {
      "cell_type": "markdown",
      "id": "95c5e577-4bd8-4374-a582-61bc12f1262c",
      "metadata": {
        "id": "95c5e577-4bd8-4374-a582-61bc12f1262c"
      },
      "source": [
        "# Building a model for Classification"
      ]
    },
    {
      "cell_type": "code",
      "execution_count": null,
      "id": "58f827b4-1d16-4f1a-a037-0d9da2fbfdc4",
      "metadata": {
        "id": "58f827b4-1d16-4f1a-a037-0d9da2fbfdc4"
      },
      "outputs": [],
      "source": []
    },
    {
      "cell_type": "code",
      "execution_count": null,
      "id": "b0076f7b-2a64-444c-aca5-25a16e4aa16a",
      "metadata": {
        "id": "b0076f7b-2a64-444c-aca5-25a16e4aa16a"
      },
      "outputs": [],
      "source": []
    },
    {
      "cell_type": "code",
      "execution_count": null,
      "id": "c6a491aa-0731-4265-b904-7f9b6815b5ad",
      "metadata": {
        "id": "c6a491aa-0731-4265-b904-7f9b6815b5ad"
      },
      "outputs": [],
      "source": []
    },
    {
      "cell_type": "code",
      "execution_count": null,
      "id": "20b89aee-db0b-4da4-b49f-e7edc526b270",
      "metadata": {
        "id": "20b89aee-db0b-4da4-b49f-e7edc526b270"
      },
      "outputs": [],
      "source": []
    },
    {
      "cell_type": "markdown",
      "id": "Ofe2sSn1jM3j",
      "metadata": {
        "id": "Ofe2sSn1jM3j"
      },
      "source": [
        "\n",
        "\n",
        "# Model Training\n",
        "\n"
      ]
    },
    {
      "cell_type": "code",
      "execution_count": null,
      "id": "G0QoxvehjQ22",
      "metadata": {
        "id": "G0QoxvehjQ22"
      },
      "outputs": [],
      "source": []
    },
    {
      "cell_type": "code",
      "execution_count": null,
      "id": "2s1EYno2jU2x",
      "metadata": {
        "id": "2s1EYno2jU2x"
      },
      "outputs": [],
      "source": []
    },
    {
      "cell_type": "code",
      "execution_count": null,
      "id": "ZMq7aRUmjU7Z",
      "metadata": {
        "id": "ZMq7aRUmjU7Z"
      },
      "outputs": [],
      "source": []
    },
    {
      "cell_type": "code",
      "execution_count": null,
      "id": "UlDfk3xgjVAn",
      "metadata": {
        "id": "UlDfk3xgjVAn"
      },
      "outputs": [],
      "source": []
    },
    {
      "cell_type": "markdown",
      "id": "bgjrkz0BjWeI",
      "metadata": {
        "id": "bgjrkz0BjWeI"
      },
      "source": [
        "# Evaluating model on Test data"
      ]
    },
    {
      "cell_type": "code",
      "execution_count": null,
      "id": "CWNl4YwsjY92",
      "metadata": {
        "id": "CWNl4YwsjY92"
      },
      "outputs": [],
      "source": []
    },
    {
      "cell_type": "code",
      "execution_count": null,
      "id": "CFI-xLLDjZtc",
      "metadata": {
        "id": "CFI-xLLDjZtc"
      },
      "outputs": [],
      "source": []
    },
    {
      "cell_type": "code",
      "execution_count": null,
      "id": "TfT6r17RjZwh",
      "metadata": {
        "id": "TfT6r17RjZwh"
      },
      "outputs": [],
      "source": []
    },
    {
      "cell_type": "code",
      "execution_count": null,
      "id": "QdwQdZLyjZz6",
      "metadata": {
        "id": "QdwQdZLyjZz6"
      },
      "outputs": [],
      "source": []
    },
    {
      "cell_type": "markdown",
      "id": "gBhjQxsqjaxK",
      "metadata": {
        "id": "gBhjQxsqjaxK"
      },
      "source": [
        "# Exporting the trained model"
      ]
    },
    {
      "cell_type": "code",
      "execution_count": null,
      "id": "__IrdPb2j4iZ",
      "metadata": {
        "id": "__IrdPb2j4iZ"
      },
      "outputs": [],
      "source": []
    },
    {
      "cell_type": "code",
      "execution_count": null,
      "id": "eEsQy2Icj4qd",
      "metadata": {
        "id": "eEsQy2Icj4qd"
      },
      "outputs": [],
      "source": []
    },
    {
      "cell_type": "code",
      "execution_count": null,
      "id": "F6TwQ1Dwj4vo",
      "metadata": {
        "id": "F6TwQ1Dwj4vo"
      },
      "outputs": [],
      "source": []
    },
    {
      "cell_type": "code",
      "execution_count": null,
      "id": "NJ25aloij403",
      "metadata": {
        "id": "NJ25aloij403"
      },
      "outputs": [],
      "source": []
    }
  ],
  "metadata": {
    "accelerator": "GPU",
    "colab": {
      "gpuType": "A100",
      "machine_shape": "hm",
      "provenance": []
    },
    "kernelspec": {
      "display_name": "Python 3",
      "name": "python3"
    },
    "language_info": {
      "codemirror_mode": {
        "name": "ipython",
        "version": 3
      },
      "file_extension": ".py",
      "mimetype": "text/x-python",
      "name": "python",
      "nbconvert_exporter": "python",
      "pygments_lexer": "ipython3",
      "version": "3.12.0"
    }
  },
  "nbformat": 4,
  "nbformat_minor": 5
}