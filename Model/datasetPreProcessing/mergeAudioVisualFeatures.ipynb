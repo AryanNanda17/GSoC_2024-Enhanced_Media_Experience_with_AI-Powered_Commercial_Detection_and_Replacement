{
 "cells": [
  {
   "cell_type": "code",
   "execution_count": 4,
   "id": "6f9cfe21-c538-4c1d-ac1a-11e91ff45292",
   "metadata": {},
   "outputs": [],
   "source": [
    "# Import important libraries \n",
    "import pickle\n",
    "import numpy as np\n",
    "import gdown"
   ]
  },
  {
   "cell_type": "code",
   "execution_count": 5,
   "id": "ccad194e-a31e-489e-84bc-0afc3ee924a4",
   "metadata": {},
   "outputs": [],
   "source": [
    "# Google Drive file_ids of commercial and non-commercial audio-video features\n",
    "commercial_Rgb_Features_file_id          = \"1SS1P4E_4i4B5ZPVF5TkoZKGE2hixJZeB\"\n",
    "commercial_Audio_Features_file_id        = \"14ENBMvm1EfW98ZgXpcfFE7IJ8dZe_-m1\"\n",
    "nonCommercial_rgb_features_file_id       = \"1SWvWM5YEDdBmfizxoNKVFEX7EU6hjqkx\"\n",
    "nonCommercial_Audio_features_file_id     = \"1zXyn55QkMPz0wDWoqM9bgTqDCbhPO_-f\"\n",
    "# Destination paths\n",
    "commercial_Rgb_Features_destination      = \"commercial_Rgb.pkl\"  \n",
    "commercial_Audio_Features_destination    = \"commercial_Audio.pkl\"\n",
    "nonCommercial_Rgb_features_destination   = \"non_Commercial_Rgb.pkl\"\n",
    "nonCommercial_Audio_features_destination = \"non_Commercial_Audio.pkl\""
   ]
  },
  {
   "cell_type": "code",
   "execution_count": 6,
   "id": "21f56da7-8dfc-4651-a79f-d30d480824db",
   "metadata": {},
   "outputs": [],
   "source": [
    "def download_file_from_google_drive(file_id, destination):\n",
    "    \"\"\"\n",
    "    Download a file from Google Drive.\n",
    "\n",
    "    Parameters:\n",
    "    - file_id (str): The unique file ID from Google Drive.\n",
    "    - destination (str): The local path where the file should be saved.\n",
    "    \"\"\"\n",
    "    url = f\"https://drive.google.com/uc?id={file_id}\"\n",
    "    gdown.download(url, destination, quiet=False)"
   ]
  },
  {
   "cell_type": "code",
   "execution_count": 7,
   "id": "0aff8a21-0872-47b8-8101-0bfddd630cb9",
   "metadata": {
    "scrolled": true
   },
   "outputs": [
    {
     "name": "stderr",
     "output_type": "stream",
     "text": [
      "Downloading...\n",
      "From (original): https://drive.google.com/uc?id=1SS1P4E_4i4B5ZPVF5TkoZKGE2hixJZeB\n",
      "From (redirected): https://drive.google.com/uc?id=1SS1P4E_4i4B5ZPVF5TkoZKGE2hixJZeB&confirm=t&uuid=cdbad2a6-7c8c-4121-a16d-453587b57c6e\n",
      "To: /Users/Aryan/Documents/Projects/2024_GSoC@BeagleBoard.org/gsoc_2024-enhanced_media_experience_with_ai-powered_commercial_detection_and_replacement/Model/datasetPreProcessing/commercial_Rgb.pkl\n",
      "100%|██████████████████████████████████████████████████████████████████████████████████████████| 980M/980M [01:11<00:00, 13.8MB/s]\n",
      "Downloading...\n",
      "From (original): https://drive.google.com/uc?id=14ENBMvm1EfW98ZgXpcfFE7IJ8dZe_-m1\n",
      "From (redirected): https://drive.google.com/uc?id=14ENBMvm1EfW98ZgXpcfFE7IJ8dZe_-m1&confirm=t&uuid=5e7d2645-8777-4ff1-9b98-32a9e43546f3\n",
      "To: /Users/Aryan/Documents/Projects/2024_GSoC@BeagleBoard.org/gsoc_2024-enhanced_media_experience_with_ai-powered_commercial_detection_and_replacement/Model/datasetPreProcessing/commercial_Audio.pkl\n",
      "100%|██████████████████████████████████████████████████████████████████████████████████████████| 151M/151M [00:12<00:00, 12.6MB/s]\n",
      "Downloading...\n",
      "From (original): https://drive.google.com/uc?id=1SWvWM5YEDdBmfizxoNKVFEX7EU6hjqkx\n",
      "From (redirected): https://drive.google.com/uc?id=1SWvWM5YEDdBmfizxoNKVFEX7EU6hjqkx&confirm=t&uuid=a01d262c-79e4-4f1c-b372-3adbe2c2a209\n",
      "To: /Users/Aryan/Documents/Projects/2024_GSoC@BeagleBoard.org/gsoc_2024-enhanced_media_experience_with_ai-powered_commercial_detection_and_replacement/Model/datasetPreProcessing/non_Commercial_Rgb.pkl\n",
      "100%|████████████████████████████████████████████████████████████████████████████████████████| 1.08G/1.08G [01:19<00:00, 13.6MB/s]\n",
      "Downloading...\n",
      "From (original): https://drive.google.com/uc?id=1zXyn55QkMPz0wDWoqM9bgTqDCbhPO_-f\n",
      "From (redirected): https://drive.google.com/uc?id=1zXyn55QkMPz0wDWoqM9bgTqDCbhPO_-f&confirm=t&uuid=3fe906e7-5bc5-4921-ad06-018d08876ac5\n",
      "To: /Users/Aryan/Documents/Projects/2024_GSoC@BeagleBoard.org/gsoc_2024-enhanced_media_experience_with_ai-powered_commercial_detection_and_replacement/Model/datasetPreProcessing/non_Commercial_Audio.pkl\n",
      "100%|██████████████████████████████████████████████████████████████████████████████████████████| 167M/167M [00:12<00:00, 13.6MB/s]\n"
     ]
    }
   ],
   "source": [
    "# Downloading commercial_Rgb_Features\n",
    "download_file_from_google_drive(commercial_Rgb_Features_file_id, commercial_Rgb_Features_destination)\n",
    "\n",
    "# Downloading commercial_Audio_Features\n",
    "download_file_from_google_drive(commercial_Audio_Features_file_id, commercial_Audio_Features_destination)\n",
    "\n",
    "# Downloading nonCommercial_Rgb_features\n",
    "download_file_from_google_drive(nonCommercial_rgb_features_file_id, nonCommercial_Rgb_features_destination)\n",
    "\n",
    "# Downloading nonCommercial_Audio_features\n",
    "download_file_from_google_drive(nonCommercial_Audio_features_file_id, nonCommercial_Audio_features_destination)"
   ]
  },
  {
   "cell_type": "code",
   "execution_count": 8,
   "id": "c60c405d-55e9-4154-bf54-99009826f111",
   "metadata": {},
   "outputs": [],
   "source": [
    "# Function for loading Audio-Visual Features of Commercial and Non-Commercial Videos\n",
    "def load_features():\n",
    "    \"\"\"\n",
    "    Load data from a pickled file if it exists, otherwise initialize an empty list.\n",
    "\n",
    "    Parameters:\n",
    "    - filename (str): The path to the pickled file.\n",
    "    Returns:\n",
    "    - list: The loaded data from the file, or an empty list if the file doesn't exist.\n",
    "    \"\"\"\n",
    "    with open('commercial_Rgb.pkl', 'rb') as f:\n",
    "        commercial_loaded_rgb = pickle.load(f)\n",
    "    with open('commercial_Audio.pkl', 'rb') as f:\n",
    "        commercial_loaded_audio = pickle.load(f)\n",
    "        \n",
    "    with open('non_Commercial_Rgb.pkl', 'rb') as f:\n",
    "        non_commercial_loaded_rgb = pickle.load(f)\n",
    "    with open('non_Commercial_Audio.pkl', 'rb') as f:\n",
    "        non_commercial_loaded_audio = pickle.load(f)\n",
    "        \n",
    "    print(f'Number of rgb features: {len(commercial_loaded_rgb)}')\n",
    "    print(f'Number of audio features: {len(commercial_loaded_audio)}')\n",
    "    print(f'Number of rgb features: {len(non_commercial_loaded_rgb)}')\n",
    "    print(f'Number of audio features: {len(non_commercial_loaded_audio)}')\n",
    "    print(\"Audio-Visual Features Loaded Successfully\")\n",
    "    \n",
    "    return commercial_loaded_rgb, commercial_loaded_audio, non_commercial_loaded_rgb, non_commercial_loaded_audio"
   ]
  },
  {
   "cell_type": "code",
   "execution_count": 9,
   "id": "5888a2ed-9963-420f-b123-84ce1b3aa3e7",
   "metadata": {},
   "outputs": [
    {
     "name": "stdout",
     "output_type": "stream",
     "text": [
      "Number of rgb features: 4364\n",
      "Number of audio features: 4364\n",
      "Number of rgb features: 4600\n",
      "Number of audio features: 4600\n",
      "Audio-Visual Features Loaded Successfully\n"
     ]
    }
   ],
   "source": [
    "commercialRgb, commercialAudio, nonCommercialRgb, nonCommercialAudio = load_features()"
   ]
  },
  {
   "cell_type": "code",
   "execution_count": 5,
   "id": "0d7e98c9-079a-466e-8c41-e5f44716fad2",
   "metadata": {},
   "outputs": [],
   "source": [
    "# Function for merging audio-visual features\n",
    "def merge_visual_audio_features(visual_features, audio_features):\n",
    "    \"\"\"\n",
    "    This Function merges visual and audio features for each video.\n",
    "    Parameters:\n",
    "    - visual_features: list of length num_videos, where each element is a list of shape (num_frames_visual[i], 1024).\n",
    "    - audio_features: list of length num_videos, where each element is a list of shape (num_frames_audio[i], 128).\n",
    "    - num_frames_visual[i] = num_frames_audio[i]\n",
    "    Returns:\n",
    "    - merged_features: list of length num_videos, where each element is a numpy array of shape (max_num_frames, 1152).\n",
    "\n",
    "    Note:\n",
    "    - num_videos is the number of audio-visual features = ( len(visual_features) || len(audio_features) ) = 4364\n",
    "    \"\"\"\n",
    "    merged_features = []\n",
    "\n",
    "    for visual, audio in zip(visual_features, audio_features):\n",
    "        # Convert each list to numpy arrays\n",
    "        visual_array = np.array(visual)\n",
    "        audio_array = np.array(audio)\n",
    "\n",
    "        # Concatenate visual and audio features for this video\n",
    "        merged_video_features = np.concatenate((visual_array, audio_array), axis=1)\n",
    "        merged_features.append(merged_video_features)\n",
    "\n",
    "    return merged_features"
   ]
  },
  {
   "cell_type": "code",
   "execution_count": 5,
   "id": "5d04c28c-ac13-4b89-a9cd-6fbfc3ee399d",
   "metadata": {},
   "outputs": [],
   "source": [
    "commercialFeatures = merge_visual_audio_features(commercialRgb, commercialAudio)"
   ]
  },
  {
   "cell_type": "code",
   "execution_count": 6,
   "id": "1d06dc80-a4c6-42d7-8cb6-2096abd3da86",
   "metadata": {},
   "outputs": [],
   "source": [
    "nonCommercialFeatures = merge_visual_audio_features(nonCommercialRgb, nonCommercialAudio)"
   ]
  },
  {
   "cell_type": "code",
   "execution_count": 7,
   "id": "95764026-a4de-4a22-aaac-97a1fd5dd4ff",
   "metadata": {},
   "outputs": [
    {
     "name": "stdout",
     "output_type": "stream",
     "text": [
      "Length of each commercialFeatures video-frame is 1152\n",
      "Length of each nonCommercialFeatures video-frame is 1152\n"
     ]
    }
   ],
   "source": [
    "# 1024(Visual frame features) + 128(Audio Frame features) = 1152(Visual + Audio Frame features)\n",
    "print(f'Length of each commercialFeatures video-frame is {len(commercialFeatures)}')\n",
    "print(f'Length of each nonCommercialFeatures video-frame is {len(nonCommercialFeatures)}')"
   ]
  },
  {
   "cell_type": "code",
   "execution_count": 12,
   "id": "b8732876-3ed7-4f64-b71c-36eb1db4b381",
   "metadata": {},
   "outputs": [],
   "source": [
    "# Saving the merged Commercial features \n",
    "with open('commercialFeatures.pkl', 'wb') as f:\n",
    "    pickle.dump(commercialFeatures, f)"
   ]
  },
  {
   "cell_type": "code",
   "execution_count": 8,
   "id": "c6b51656-8bea-466f-b01a-0cc9e94c681e",
   "metadata": {},
   "outputs": [],
   "source": [
    "# Saving the merged nonCommercial features \n",
    "with open('nonCommercialFeatures.pkl', 'wb') as f:\n",
    "    pickle.dump(nonCommercialFeatures, f)"
   ]
  },
  {
   "cell_type": "markdown",
   "id": "bbec76a4-9fb2-4953-a3b2-2e23b8742afb",
   "metadata": {},
   "source": [
    "# Verifying the merging"
   ]
  },
  {
   "cell_type": "markdown",
   "id": "85013963-d333-4b2e-9204-30be70e7e627",
   "metadata": {},
   "source": [
    "### Commercial Features"
   ]
  },
  {
   "cell_type": "code",
   "execution_count": 6,
   "id": "7195f18f-9c2c-40d3-b996-c77cbc2b6ba2",
   "metadata": {},
   "outputs": [
    {
     "name": "stdout",
     "output_type": "stream",
     "text": [
      "Length of each commercialFeatures video-frame is 4364\n"
     ]
    }
   ],
   "source": [
    "print(f'Length of each commercialFeatures video-frame is {len(commercialFeatures)}')"
   ]
  },
  {
   "cell_type": "code",
   "execution_count": 8,
   "id": "a5deb51e-9f67-4d7f-ad45-6436fb4671e3",
   "metadata": {},
   "outputs": [
    {
     "name": "stdout",
     "output_type": "stream",
     "text": [
      "[115  73  89 ... 165 249 255]\n"
     ]
    }
   ],
   "source": [
    "print(commercialFeatures[20][15])"
   ]
  },
  {
   "cell_type": "code",
   "execution_count": 9,
   "id": "58df6511-3205-4d60-8a41-7dd105825b5e",
   "metadata": {},
   "outputs": [
    {
     "name": "stdout",
     "output_type": "stream",
     "text": [
      "tf.Tensor([115  73  89 ... 109 116 169], shape=(1024,), dtype=uint8)\n"
     ]
    }
   ],
   "source": [
    "print(commercialRgb[20][15])"
   ]
  },
  {
   "cell_type": "code",
   "execution_count": 10,
   "id": "4e6799f3-546d-46e5-8279-e380999cd0bf",
   "metadata": {},
   "outputs": [
    {
     "name": "stdout",
     "output_type": "stream",
     "text": [
      "tf.Tensor(\n",
      "[118  69  70   0  58 100  98 152 103 139 122  83 146 148   0 147 154 102\n",
      "  93 129 255  73  32 247 233 165 249 255], shape=(28,), dtype=uint8)\n"
     ]
    }
   ],
   "source": [
    "print(commercialAudio[20][15][100:])"
   ]
  },
  {
   "cell_type": "code",
   "execution_count": 19,
   "id": "912d922b-05e9-4335-872c-50712c53b4e3",
   "metadata": {},
   "outputs": [
    {
     "name": "stdout",
     "output_type": "stream",
     "text": [
      "300\n"
     ]
    }
   ],
   "source": [
    "print(len(commercialRgb[19]))"
   ]
  },
  {
   "cell_type": "code",
   "execution_count": 20,
   "id": "a83ca1d6-37f5-49aa-a399-32ecdd55451e",
   "metadata": {},
   "outputs": [
    {
     "name": "stdout",
     "output_type": "stream",
     "text": [
      "300\n"
     ]
    }
   ],
   "source": [
    "print(len(commercialFeatures[19]))"
   ]
  },
  {
   "cell_type": "markdown",
   "id": "3f7fba88-b312-49a1-ae08-9cbaf90b03f1",
   "metadata": {},
   "source": [
    "### Non-Commercial Features"
   ]
  },
  {
   "cell_type": "code",
   "execution_count": 15,
   "id": "a87d7953-581c-4f73-82f9-de6e8e95b10e",
   "metadata": {},
   "outputs": [
    {
     "name": "stdout",
     "output_type": "stream",
     "text": [
      "Length of each nonCommercialFeatures video-frame is 4600\n"
     ]
    }
   ],
   "source": [
    "print(f'Length of each nonCommercialFeatures video-frame is {len(nonCommercialFeatures)}')"
   ]
  },
  {
   "cell_type": "code",
   "execution_count": 9,
   "id": "d3af1d27-b8f7-4e7b-b2e4-9cdd13139d8b",
   "metadata": {},
   "outputs": [
    {
     "name": "stdout",
     "output_type": "stream",
     "text": [
      "[167 160  89 ...  83 120 255]\n"
     ]
    }
   ],
   "source": [
    "print(nonCommercialFeatures[20][15])"
   ]
  },
  {
   "cell_type": "code",
   "execution_count": 10,
   "id": "291c4924-43e8-4085-afc7-8b27d45ad354",
   "metadata": {},
   "outputs": [
    {
     "name": "stdout",
     "output_type": "stream",
     "text": [
      "tf.Tensor([167 160  89 ... 191  15 146], shape=(1024,), dtype=uint8)\n"
     ]
    }
   ],
   "source": [
    "print(nonCommercialRgb[20][15])"
   ]
  },
  {
   "cell_type": "code",
   "execution_count": 11,
   "id": "5b0bedf3-9f86-4261-9df5-e0eff057ada9",
   "metadata": {},
   "outputs": [
    {
     "name": "stdout",
     "output_type": "stream",
     "text": [
      "tf.Tensor(\n",
      "[ 83 170 139 194  97 181 124 194 219 165 255   0   0 140 126 137 228  47\n",
      " 156  45 100 164 133 193 226  83 120 255], shape=(28,), dtype=uint8)\n"
     ]
    }
   ],
   "source": [
    "print(nonCommercialAudio[20][15][100:])"
   ]
  },
  {
   "cell_type": "code",
   "execution_count": 12,
   "id": "a30a6ec5-593f-4631-99db-bfee139b1d52",
   "metadata": {},
   "outputs": [
    {
     "name": "stdout",
     "output_type": "stream",
     "text": [
      "148\n"
     ]
    }
   ],
   "source": [
    "print(len(nonCommercialRgb[19]))"
   ]
  },
  {
   "cell_type": "code",
   "execution_count": 13,
   "id": "c592686f-248b-4f5d-9fa2-ce152f698cc2",
   "metadata": {},
   "outputs": [
    {
     "name": "stdout",
     "output_type": "stream",
     "text": [
      "148\n"
     ]
    }
   ],
   "source": [
    "print(len(nonCommercialFeatures[19]))"
   ]
  }
 ],
 "metadata": {
  "kernelspec": {
   "display_name": "Python 3 (ipykernel)",
   "language": "python",
   "name": "python3"
  },
  "language_info": {
   "codemirror_mode": {
    "name": "ipython",
    "version": 3
   },
   "file_extension": ".py",
   "mimetype": "text/x-python",
   "name": "python",
   "nbconvert_exporter": "python",
   "pygments_lexer": "ipython3",
   "version": "3.12.0"
  }
 },
 "nbformat": 4,
 "nbformat_minor": 5
}
