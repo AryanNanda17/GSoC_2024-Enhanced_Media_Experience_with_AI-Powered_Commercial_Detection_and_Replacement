{
 "cells": [
  {
   "cell_type": "code",
   "execution_count": 1,
   "id": "ad3883f4-437a-4f68-a54f-431d2021da23",
   "metadata": {},
   "outputs": [],
   "source": [
    "# Import important libraries \n",
    "import pickle\n",
    "import numpy as np\n",
    "import gdown\n",
    "import matplotlib.pyplot as plt\n",
    "import seaborn as sns\n",
    "import os\n",
    "import tensorflow as tf"
   ]
  },
  {
   "cell_type": "code",
   "execution_count": 2,
   "id": "aa82f3fc-427c-473c-b221-df65bd24e8d4",
   "metadata": {},
   "outputs": [],
   "source": [
    "# Google Drive file_ids of commercial and non-commercial audio-video features\n",
    "commercialFeatures_150_file_id          = \"15lrTecjJfOUjJmILDpPjnyAmGEVhzceQ\"\n",
    "nonCommercialFeatures_150_file_id       = \"1W31Ut7uLazAZiogKIYquN_RhvEN7vebk\"\n",
    "\n",
    "# Destination paths\n",
    "commercialFeatures_150_destination      = \"commercialFeatures.pkl\"  \n",
    "nonCommercialFeatures_150_destination   = \"nonCommercialFeatures.pkl\""
   ]
  },
  {
   "cell_type": "code",
   "execution_count": 3,
   "id": "c9bb4b50-6a94-433c-a773-a41ce441aca3",
   "metadata": {},
   "outputs": [],
   "source": [
    "def download_file_from_google_drive(file_id, destination):\n",
    "    \"\"\"\n",
    "    Download a file from Google Drive if it doesn't already exist locally.\n",
    "\n",
    "    Parameters:\n",
    "    - file_id (str): The unique file ID from Google Drive.\n",
    "    - destination (str): The local path where the file should be saved.\n",
    "    \"\"\"\n",
    "    if os.path.exists(destination):\n",
    "        print(f'File already exists at {destination}. Skipping download.')\n",
    "    else:\n",
    "        url = f\"https://drive.google.com/uc?id={file_id}\"\n",
    "        gdown.download(url, destination, quiet=False)"
   ]
  },
  {
   "cell_type": "code",
   "execution_count": 4,
   "id": "9ec14c64-c029-4041-bf87-421a9a7c6d5b",
   "metadata": {},
   "outputs": [
    {
     "name": "stderr",
     "output_type": "stream",
     "text": [
      "Downloading...\n",
      "From (original): https://drive.google.com/uc?id=15lrTecjJfOUjJmILDpPjnyAmGEVhzceQ\n",
      "From (redirected): https://drive.google.com/uc?id=15lrTecjJfOUjJmILDpPjnyAmGEVhzceQ&confirm=t&uuid=e94254ed-1b6b-4974-a1b0-c7c2f678627e\n",
      "To: /Users/Aryan/Documents/Projects/2024_GSoC@BeagleBoard.org/gsoc_2024-enhanced_media_experience_with_ai-powered_commercial_detection_and_replacement/Model/datasetPreProcessing/commercialFeatures.pkl\n",
      "100%|██████████████████████████████████████| 1.06G/1.06G [01:17<00:00, 13.7MB/s]\n",
      "Downloading...\n",
      "From (original): https://drive.google.com/uc?id=1W31Ut7uLazAZiogKIYquN_RhvEN7vebk\n",
      "From (redirected): https://drive.google.com/uc?id=1W31Ut7uLazAZiogKIYquN_RhvEN7vebk&confirm=t&uuid=3e7a1c5d-875e-4b17-9228-9690a23609bf\n",
      "To: /Users/Aryan/Documents/Projects/2024_GSoC@BeagleBoard.org/gsoc_2024-enhanced_media_experience_with_ai-powered_commercial_detection_and_replacement/Model/datasetPreProcessing/nonCommercialFeatures.pkl\n",
      "100%|██████████████████████████████████████| 1.17G/1.17G [01:18<00:00, 14.9MB/s]\n"
     ]
    }
   ],
   "source": [
    "# Downloading commercialFeatures\n",
    "download_file_from_google_drive(commercialFeatures_150_file_id, commercialFeatures_150_destination)\n",
    "\n",
    "# Downloading nonCommercialFeatures\n",
    "download_file_from_google_drive(nonCommercialFeatures_150_file_id, nonCommercialFeatures_150_destination)"
   ]
  },
  {
   "cell_type": "code",
   "execution_count": 8,
   "id": "085b74e8-4e31-4e76-b706-8398aea39bc6",
   "metadata": {},
   "outputs": [],
   "source": [
    "# Function for loading Audio-Visual Features of Commercial and Non-Commercial Videos\n",
    "def load_features():\n",
    "    \"\"\"\n",
    "    Load data from a pickled file if it exists, otherwise initialize an empty list.\n",
    "\n",
    "    Returns:\n",
    "    - commercial_loaded (list) - List containing Commercial video features\n",
    "    - non_commercial_loaded (list) - List containing nonCommercial video features\n",
    "    \"\"\"\n",
    "    with open('commercialFeatures.pkl', 'rb') as f:\n",
    "        commercial_loaded = pickle.load(f)\n",
    "        \n",
    "    with open('nonCommercialFeatures.pkl', 'rb') as f:\n",
    "        non_commercial_loaded = pickle.load(f)\n",
    "        \n",
    "    print(f'Number of Commercial features: {len(commercial_loaded)}')\n",
    "    print(f'Number of nonCommercial features: {len(non_commercial_loaded)}')\n",
    "    print(\"Features Loaded Successfully\")\n",
    "    \n",
    "    return commercial_loaded, non_commercial_loaded"
   ]
  },
  {
   "cell_type": "code",
   "execution_count": 9,
   "id": "c8c80ce0-bfe5-4e6f-8547-ad449e936063",
   "metadata": {},
   "outputs": [
    {
     "name": "stdout",
     "output_type": "stream",
     "text": [
      "Number of Commercial features: 4364\n",
      "Number of nonCommercial features: 4600\n",
      "Features Loaded Successfully\n"
     ]
    }
   ],
   "source": [
    "commercialFeatures, nonCommercialFeatures = load_features()"
   ]
  },
  {
   "cell_type": "markdown",
   "id": "659ad2d5-b0d6-44ed-ade7-3f4173d1d454",
   "metadata": {},
   "source": [
    "# Data Visualization"
   ]
  },
  {
   "cell_type": "code",
   "execution_count": 10,
   "id": "74c4d2c1-e11b-4b16-93ea-25821da2e8e0",
   "metadata": {},
   "outputs": [],
   "source": [
    "def analysis(features):\n",
    "    \"\"\"\n",
    "    Analyze the lengths of sequences in the provided list of features.\n",
    "\n",
    "    Parameters:\n",
    "    features (list of list) - A list where each element is a list representing a video sequence.\n",
    "\n",
    "    Returns:\n",
    "    sequence_length (list of int) - A list containing the lengths of each video sequence.\n",
    "\n",
    "    Prints:\n",
    "    Mean length (float) - The mean length of the video sequences.\n",
    "    Median length (float) - The median length of the video sequences.\n",
    "    Min length (int) - The minimum length of the video sequences.\n",
    "    Max length (int) - The maximum length of the video sequences.\n",
    "    Standard Deviation (float) - The standard deviation of the lengths of the video sequences.\n",
    "    \"\"\"\n",
    "    sequence_length = [len(video) for video in features]\n",
    "    mean_length = np.mean(sequence_length)\n",
    "    median_length = np.median(sequence_length)\n",
    "    min_length = np.min(sequence_length)\n",
    "    max_length = np.max(sequence_length)\n",
    "    std_length = np.std(sequence_length)\n",
    "\n",
    "    print(f\"Mean length: {mean_length}\")\n",
    "    print(f\"Median length: {median_length}\")\n",
    "    print(f\"Min length: {min_length}\")\n",
    "    print(f\"Max length: {max_length}\")\n",
    "    print(f\"Standard Deviation: {std_length}\")\n",
    "\n",
    "    return sequence_length"
   ]
  },
  {
   "cell_type": "code",
   "execution_count": 11,
   "id": "ca6b5dd5-fa56-4128-95b4-90431d40dbb7",
   "metadata": {},
   "outputs": [],
   "source": [
    "def plot(sequence_length):\n",
    "    \"\"\"\n",
    "    Plot the distribution and analyze percentiles of sequence lengths.\n",
    "\n",
    "    Parameters:\n",
    "    - sequence_length (list of int) - A list containing the lengths of each video sequence.\n",
    "\n",
    "    Prints:\n",
    "    - 25th percentile (float) - The 25th percentile of the sequence lengths.\n",
    "    - 50th percentile (median) (float) - The 50th percentile (median) of the sequence lengths.\n",
    "    - 75th percentile (float) - The 75th percentile of the sequence lengths.\n",
    "    - 90th percentile (float) - The 90th percentile of the sequence lengths.\n",
    "    - 95th percentile (float) - The 95th percentile of the sequence lengths.\n",
    "    - 99th percentile (float) - The 99th percentile of the sequence lengths.\n",
    "\n",
    "    Plots:\n",
    "    Distribution of Sequence Lengths:\n",
    "        - A histogram with a kernel density estimate (KDE) of the sequence lengths.\n",
    "    Box Plot of Sequence Lengths:\n",
    "        - A box plot of the sequence lengths.\n",
    "    \"\"\"\n",
    "    \n",
    "    # Plot the distribution\n",
    "    plt.figure(figsize=(10, 5))\n",
    "    sns.histplot(sequence_length, bins=50, kde=True)\n",
    "    plt.title('Distribution of Sequence Lengths')\n",
    "    plt.xlabel('Sequence Length')\n",
    "    plt.ylabel('Frequency')\n",
    "    plt.show()\n",
    "    \n",
    "    # Box plot for more insight\n",
    "    plt.figure(figsize=(12, 6))\n",
    "    sns.boxplot(x=sequence_length)\n",
    "    plt.title('Box Plot of Sequence Lengths')\n",
    "    plt.xlabel('Sequence Length')\n",
    "    plt.show()\n",
    "    \n",
    "    # Analyze percentiles\n",
    "    percentiles = np.percentile(sequence_length, [25, 50, 75, 90, 95, 99])\n",
    "    print(f\"25th percentile: {percentiles[0]}\")\n",
    "    print(f\"50th percentile (median): {percentiles[1]}\")\n",
    "    print(f\"75th percentile: {percentiles[2]}\")\n",
    "    print(f\"90th percentile: {percentiles[3]}\")\n",
    "    print(f\"95th percentile: {percentiles[4]}\")\n",
    "    print(f\"99th percentile: {percentiles[5]}\")"
   ]
  },
  {
   "cell_type": "code",
   "execution_count": 12,
   "id": "816b670e-ab68-4065-a16e-1941521971a6",
   "metadata": {},
   "outputs": [
    {
     "name": "stdout",
     "output_type": "stream",
     "text": [
      "Mean length: 211.08936755270395\n",
      "Median length: 201.5\n",
      "Min length: 119\n",
      "Max length: 300\n",
      "Standard Deviation: 66.30195962629953\n"
     ]
    }
   ],
   "source": [
    "Commercial_sequence_length= analysis(commercialFeatures)"
   ]
  },
  {
   "cell_type": "code",
   "execution_count": 13,
   "id": "ec495716-3940-41d2-8fa2-0bbd0175cf5b",
   "metadata": {
    "scrolled": true
   },
   "outputs": [
    {
     "data": {
      "image/png": "[encoded data removed]",
      "text/plain": [
       "<Figure size 1000x500 with 1 Axes>"
      ]
     },
     "metadata": {},
     "output_type": "display_data"
    },
    {
     "data": {
      "image/png": "[encoded data removed]",
      "text/plain": [
       "<Figure size 1200x600 with 1 Axes>"
      ]
     },
     "metadata": {},
     "output_type": "display_data"
    },
    {
     "name": "stdout",
     "output_type": "stream",
     "text": [
      "25th percentile: 149.0\n",
      "50th percentile (median): 201.5\n",
      "75th percentile: 292.0\n",
      "90th percentile: 300.0\n",
      "95th percentile: 300.0\n",
      "99th percentile: 300.0\n"
     ]
    }
   ],
   "source": [
    "plot(Commercial_sequence_length)"
   ]
  },
  {
   "cell_type": "code",
   "execution_count": 14,
   "id": "0c86e66f-1a0c-4cb5-bbb8-1c27ae77749e",
   "metadata": {},
   "outputs": [
    {
     "name": "stdout",
     "output_type": "stream",
     "text": [
      "Mean length: 221.31021739130435\n",
      "Median length: 218.0\n",
      "Min length: 1\n",
      "Max length: 301\n",
      "Standard Deviation: 63.52977788575693\n"
     ]
    }
   ],
   "source": [
    "nonCommercial_Sequence_length = analysis(nonCommercialFeatures)"
   ]
  },
  {
   "cell_type": "code",
   "execution_count": 15,
   "id": "cf6c6ef7-ea41-45c4-9a34-16b6f819c217",
   "metadata": {
    "scrolled": true
   },
   "outputs": [
    {
     "data": {
      "image/png": "[encoded data removed]",
      "text/plain": [
       "<Figure size 1000x500 with 1 Axes>"
      ]
     },
     "metadata": {},
     "output_type": "display_data"
    },
    {
     "data": {
      "image/png": "[encoded data removed]",
      "text/plain": [
       "<Figure size 1200x600 with 1 Axes>"
      ]
     },
     "metadata": {},
     "output_type": "display_data"
    },
    {
     "name": "stdout",
     "output_type": "stream",
     "text": [
      "25th percentile: 163.0\n",
      "50th percentile (median): 218.0\n",
      "75th percentile: 300.0\n",
      "90th percentile: 300.0\n",
      "95th percentile: 300.0\n",
      "99th percentile: 300.0\n"
     ]
    }
   ],
   "source": [
    "plot(nonCommercial_Sequence_length)"
   ]
  },
  {
   "cell_type": "markdown",
   "id": "570c4942-7e09-4c3c-98ee-8dde8662df05",
   "metadata": {},
   "source": [
    "# Find the Frequency"
   ]
  },
  {
   "cell_type": "code",
   "execution_count": 16,
   "id": "30cb6fec-2674-4c69-b99d-eda66554b2b4",
   "metadata": {},
   "outputs": [],
   "source": [
    "def calculate_frequency(sequence_length):\n",
    "    \"\"\"\n",
    "    Calculate the frequency of elements in a sequence and print them.\n",
    "\n",
    "    Parameters:\n",
    "    - sequence_length (list of int) : A list containing elements whose frequencies are to be calculated.\n",
    "    \"\"\"\n",
    "    frequency = {}\n",
    "    for element in sequence_length:\n",
    "        if element in frequency:\n",
    "            frequency[element] += 1\n",
    "        else:\n",
    "            frequency[element] = 1\n",
    "    \n",
    "    frequency = sorted(frequency.items())  # Sort the list of tuples by keys\n",
    "    \n",
    "    for key, value in frequency:\n",
    "        print(f\"Element: {key}, Frequency: {value}\")"
   ]
  },
  {
   "cell_type": "code",
   "execution_count": 17,
   "id": "e582cf9a-2352-4f19-8ea3-a6e743489cb6",
   "metadata": {
    "scrolled": true
   },
   "outputs": [
    {
     "name": "stdout",
     "output_type": "stream",
     "text": [
      "Element: 119, Frequency: 27\n",
      "Element: 120, Frequency: 148\n",
      "Element: 121, Frequency: 88\n",
      "Element: 122, Frequency: 67\n",
      "Element: 123, Frequency: 42\n",
      "Element: 124, Frequency: 44\n",
      "Element: 125, Frequency: 45\n",
      "Element: 126, Frequency: 38\n",
      "Element: 127, Frequency: 37\n",
      "Element: 128, Frequency: 30\n",
      "Element: 129, Frequency: 28\n",
      "Element: 130, Frequency: 22\n",
      "Element: 131, Frequency: 37\n",
      "Element: 132, Frequency: 27\n",
      "Element: 133, Frequency: 17\n",
      "Element: 134, Frequency: 34\n",
      "Element: 135, Frequency: 43\n",
      "Element: 136, Frequency: 25\n",
      "Element: 137, Frequency: 28\n",
      "Element: 138, Frequency: 32\n",
      "Element: 139, Frequency: 16\n",
      "Element: 140, Frequency: 27\n",
      "Element: 141, Frequency: 15\n",
      "Element: 142, Frequency: 20\n",
      "Element: 143, Frequency: 26\n",
      "Element: 144, Frequency: 16\n",
      "Element: 145, Frequency: 19\n",
      "Element: 146, Frequency: 33\n",
      "Element: 147, Frequency: 29\n",
      "Element: 148, Frequency: 17\n",
      "Element: 149, Frequency: 32\n",
      "Element: 150, Frequency: 44\n",
      "Element: 151, Frequency: 23\n",
      "Element: 152, Frequency: 18\n",
      "Element: 153, Frequency: 13\n",
      "Element: 154, Frequency: 22\n",
      "Element: 155, Frequency: 20\n",
      "Element: 156, Frequency: 23\n",
      "Element: 157, Frequency: 21\n",
      "Element: 158, Frequency: 16\n",
      "Element: 159, Frequency: 14\n",
      "Element: 160, Frequency: 14\n",
      "Element: 161, Frequency: 23\n",
      "Element: 162, Frequency: 21\n",
      "Element: 163, Frequency: 14\n",
      "Element: 164, Frequency: 17\n",
      "Element: 165, Frequency: 41\n",
      "Element: 166, Frequency: 35\n",
      "Element: 167, Frequency: 12\n",
      "Element: 168, Frequency: 18\n",
      "Element: 169, Frequency: 16\n",
      "Element: 170, Frequency: 13\n",
      "Element: 171, Frequency: 24\n",
      "Element: 172, Frequency: 12\n",
      "Element: 173, Frequency: 21\n",
      "Element: 174, Frequency: 20\n",
      "Element: 175, Frequency: 18\n",
      "Element: 176, Frequency: 22\n",
      "Element: 177, Frequency: 14\n",
      "Element: 178, Frequency: 10\n",
      "Element: 179, Frequency: 17\n",
      "Element: 180, Frequency: 58\n",
      "Element: 181, Frequency: 37\n",
      "Element: 182, Frequency: 33\n",
      "Element: 183, Frequency: 26\n",
      "Element: 184, Frequency: 11\n",
      "Element: 185, Frequency: 28\n",
      "Element: 186, Frequency: 22\n",
      "Element: 187, Frequency: 12\n",
      "Element: 188, Frequency: 17\n",
      "Element: 189, Frequency: 19\n",
      "Element: 190, Frequency: 30\n",
      "Element: 191, Frequency: 18\n",
      "Element: 192, Frequency: 21\n",
      "Element: 193, Frequency: 16\n",
      "Element: 194, Frequency: 23\n",
      "Element: 195, Frequency: 27\n",
      "Element: 196, Frequency: 17\n",
      "Element: 197, Frequency: 14\n",
      "Element: 198, Frequency: 8\n",
      "Element: 199, Frequency: 15\n",
      "Element: 200, Frequency: 12\n",
      "Element: 201, Frequency: 13\n",
      "Element: 202, Frequency: 10\n",
      "Element: 203, Frequency: 19\n",
      "Element: 204, Frequency: 14\n",
      "Element: 205, Frequency: 17\n",
      "Element: 206, Frequency: 11\n",
      "Element: 207, Frequency: 11\n",
      "Element: 208, Frequency: 10\n",
      "Element: 209, Frequency: 14\n",
      "Element: 210, Frequency: 33\n",
      "Element: 211, Frequency: 11\n",
      "Element: 212, Frequency: 17\n",
      "Element: 213, Frequency: 23\n",
      "Element: 214, Frequency: 28\n",
      "Element: 215, Frequency: 10\n",
      "Element: 216, Frequency: 16\n",
      "Element: 217, Frequency: 13\n",
      "Element: 218, Frequency: 17\n",
      "Element: 219, Frequency: 20\n",
      "Element: 220, Frequency: 21\n",
      "Element: 221, Frequency: 17\n",
      "Element: 222, Frequency: 13\n",
      "Element: 223, Frequency: 17\n",
      "Element: 224, Frequency: 15\n",
      "Element: 225, Frequency: 13\n",
      "Element: 226, Frequency: 18\n",
      "Element: 227, Frequency: 18\n",
      "Element: 228, Frequency: 12\n",
      "Element: 229, Frequency: 17\n",
      "Element: 230, Frequency: 14\n",
      "Element: 231, Frequency: 11\n",
      "Element: 232, Frequency: 10\n",
      "Element: 233, Frequency: 12\n",
      "Element: 234, Frequency: 20\n",
      "Element: 235, Frequency: 9\n",
      "Element: 236, Frequency: 10\n",
      "Element: 237, Frequency: 6\n",
      "Element: 238, Frequency: 9\n",
      "Element: 239, Frequency: 9\n",
      "Element: 240, Frequency: 24\n",
      "Element: 241, Frequency: 8\n",
      "Element: 242, Frequency: 19\n",
      "Element: 243, Frequency: 12\n",
      "Element: 244, Frequency: 10\n",
      "Element: 245, Frequency: 17\n",
      "Element: 246, Frequency: 12\n",
      "Element: 247, Frequency: 3\n",
      "Element: 248, Frequency: 13\n",
      "Element: 249, Frequency: 14\n",
      "Element: 250, Frequency: 12\n",
      "Element: 251, Frequency: 10\n",
      "Element: 252, Frequency: 11\n",
      "Element: 253, Frequency: 7\n",
      "Element: 254, Frequency: 13\n",
      "Element: 255, Frequency: 15\n",
      "Element: 256, Frequency: 16\n",
      "Element: 257, Frequency: 11\n",
      "Element: 258, Frequency: 11\n",
      "Element: 259, Frequency: 12\n",
      "Element: 260, Frequency: 7\n",
      "Element: 261, Frequency: 6\n",
      "Element: 262, Frequency: 11\n",
      "Element: 263, Frequency: 7\n",
      "Element: 264, Frequency: 12\n",
      "Element: 265, Frequency: 7\n",
      "Element: 266, Frequency: 12\n",
      "Element: 267, Frequency: 10\n",
      "Element: 268, Frequency: 10\n",
      "Element: 269, Frequency: 11\n",
      "Element: 270, Frequency: 7\n",
      "Element: 271, Frequency: 7\n",
      "Element: 272, Frequency: 6\n",
      "Element: 273, Frequency: 10\n",
      "Element: 274, Frequency: 12\n",
      "Element: 275, Frequency: 5\n",
      "Element: 276, Frequency: 12\n",
      "Element: 277, Frequency: 4\n",
      "Element: 278, Frequency: 8\n",
      "Element: 279, Frequency: 4\n",
      "Element: 280, Frequency: 14\n",
      "Element: 281, Frequency: 7\n",
      "Element: 282, Frequency: 14\n",
      "Element: 283, Frequency: 4\n",
      "Element: 284, Frequency: 3\n",
      "Element: 285, Frequency: 13\n",
      "Element: 286, Frequency: 7\n",
      "Element: 287, Frequency: 8\n",
      "Element: 288, Frequency: 8\n",
      "Element: 289, Frequency: 6\n",
      "Element: 290, Frequency: 6\n",
      "Element: 291, Frequency: 12\n",
      "Element: 292, Frequency: 11\n",
      "Element: 293, Frequency: 10\n",
      "Element: 294, Frequency: 9\n",
      "Element: 295, Frequency: 5\n",
      "Element: 296, Frequency: 7\n",
      "Element: 297, Frequency: 11\n",
      "Element: 298, Frequency: 10\n",
      "Element: 299, Frequency: 12\n",
      "Element: 300, Frequency: 1022\n"
     ]
    }
   ],
   "source": [
    "calculate_frequency(Commercial_sequence_length)"
   ]
  },
  {
   "cell_type": "code",
   "execution_count": 18,
   "id": "8edf5479-ec54-49dc-8726-bf25f51b3a68",
   "metadata": {
    "scrolled": true
   },
   "outputs": [
    {
     "name": "stdout",
     "output_type": "stream",
     "text": [
      "Element: 1, Frequency: 2\n",
      "Element: 39, Frequency: 1\n",
      "Element: 118, Frequency: 1\n",
      "Element: 119, Frequency: 17\n",
      "Element: 120, Frequency: 35\n",
      "Element: 121, Frequency: 23\n",
      "Element: 122, Frequency: 27\n",
      "Element: 123, Frequency: 23\n",
      "Element: 124, Frequency: 31\n",
      "Element: 125, Frequency: 29\n",
      "Element: 126, Frequency: 29\n",
      "Element: 127, Frequency: 27\n",
      "Element: 128, Frequency: 27\n",
      "Element: 129, Frequency: 34\n",
      "Element: 130, Frequency: 16\n",
      "Element: 131, Frequency: 24\n",
      "Element: 132, Frequency: 27\n",
      "Element: 133, Frequency: 24\n",
      "Element: 134, Frequency: 37\n",
      "Element: 135, Frequency: 23\n",
      "Element: 136, Frequency: 26\n",
      "Element: 137, Frequency: 29\n",
      "Element: 138, Frequency: 27\n",
      "Element: 139, Frequency: 27\n",
      "Element: 140, Frequency: 34\n",
      "Element: 141, Frequency: 19\n",
      "Element: 142, Frequency: 15\n",
      "Element: 143, Frequency: 22\n",
      "Element: 144, Frequency: 30\n",
      "Element: 145, Frequency: 24\n",
      "Element: 146, Frequency: 17\n",
      "Element: 147, Frequency: 27\n",
      "Element: 148, Frequency: 23\n",
      "Element: 149, Frequency: 30\n",
      "Element: 150, Frequency: 32\n",
      "Element: 151, Frequency: 30\n",
      "Element: 152, Frequency: 28\n",
      "Element: 153, Frequency: 29\n",
      "Element: 154, Frequency: 40\n",
      "Element: 155, Frequency: 31\n",
      "Element: 156, Frequency: 22\n",
      "Element: 157, Frequency: 29\n",
      "Element: 158, Frequency: 22\n",
      "Element: 159, Frequency: 21\n",
      "Element: 160, Frequency: 19\n",
      "Element: 161, Frequency: 16\n",
      "Element: 162, Frequency: 22\n",
      "Element: 163, Frequency: 22\n",
      "Element: 164, Frequency: 23\n",
      "Element: 165, Frequency: 24\n",
      "Element: 166, Frequency: 21\n",
      "Element: 167, Frequency: 19\n",
      "Element: 168, Frequency: 22\n",
      "Element: 169, Frequency: 15\n",
      "Element: 170, Frequency: 22\n",
      "Element: 171, Frequency: 31\n",
      "Element: 172, Frequency: 25\n",
      "Element: 173, Frequency: 24\n",
      "Element: 174, Frequency: 19\n",
      "Element: 175, Frequency: 27\n",
      "Element: 176, Frequency: 20\n",
      "Element: 177, Frequency: 18\n",
      "Element: 178, Frequency: 18\n",
      "Element: 179, Frequency: 32\n",
      "Element: 180, Frequency: 26\n",
      "Element: 181, Frequency: 27\n",
      "Element: 182, Frequency: 14\n",
      "Element: 183, Frequency: 25\n",
      "Element: 184, Frequency: 20\n",
      "Element: 185, Frequency: 25\n",
      "Element: 186, Frequency: 21\n",
      "Element: 187, Frequency: 20\n",
      "Element: 188, Frequency: 18\n",
      "Element: 189, Frequency: 20\n",
      "Element: 190, Frequency: 21\n",
      "Element: 191, Frequency: 20\n",
      "Element: 192, Frequency: 25\n",
      "Element: 193, Frequency: 33\n",
      "Element: 194, Frequency: 23\n",
      "Element: 195, Frequency: 24\n",
      "Element: 196, Frequency: 15\n",
      "Element: 197, Frequency: 13\n",
      "Element: 198, Frequency: 19\n",
      "Element: 199, Frequency: 13\n",
      "Element: 200, Frequency: 27\n",
      "Element: 201, Frequency: 22\n",
      "Element: 202, Frequency: 13\n",
      "Element: 203, Frequency: 15\n",
      "Element: 204, Frequency: 23\n",
      "Element: 205, Frequency: 16\n",
      "Element: 206, Frequency: 15\n",
      "Element: 207, Frequency: 15\n",
      "Element: 208, Frequency: 21\n",
      "Element: 209, Frequency: 20\n",
      "Element: 210, Frequency: 23\n",
      "Element: 211, Frequency: 15\n",
      "Element: 212, Frequency: 22\n",
      "Element: 213, Frequency: 15\n",
      "Element: 214, Frequency: 21\n",
      "Element: 215, Frequency: 19\n",
      "Element: 216, Frequency: 15\n",
      "Element: 217, Frequency: 28\n",
      "Element: 218, Frequency: 14\n",
      "Element: 219, Frequency: 19\n",
      "Element: 220, Frequency: 21\n",
      "Element: 221, Frequency: 19\n",
      "Element: 222, Frequency: 17\n",
      "Element: 223, Frequency: 16\n",
      "Element: 224, Frequency: 11\n",
      "Element: 225, Frequency: 21\n",
      "Element: 226, Frequency: 17\n",
      "Element: 227, Frequency: 14\n",
      "Element: 228, Frequency: 13\n",
      "Element: 229, Frequency: 15\n",
      "Element: 230, Frequency: 12\n",
      "Element: 231, Frequency: 22\n",
      "Element: 232, Frequency: 17\n",
      "Element: 233, Frequency: 14\n",
      "Element: 234, Frequency: 19\n",
      "Element: 235, Frequency: 16\n",
      "Element: 236, Frequency: 17\n",
      "Element: 237, Frequency: 10\n",
      "Element: 238, Frequency: 19\n",
      "Element: 239, Frequency: 18\n",
      "Element: 240, Frequency: 16\n",
      "Element: 241, Frequency: 21\n",
      "Element: 242, Frequency: 16\n",
      "Element: 243, Frequency: 18\n",
      "Element: 244, Frequency: 17\n",
      "Element: 245, Frequency: 14\n",
      "Element: 246, Frequency: 16\n",
      "Element: 247, Frequency: 16\n",
      "Element: 248, Frequency: 14\n",
      "Element: 249, Frequency: 9\n",
      "Element: 250, Frequency: 22\n",
      "Element: 251, Frequency: 17\n",
      "Element: 252, Frequency: 20\n",
      "Element: 253, Frequency: 11\n",
      "Element: 254, Frequency: 16\n",
      "Element: 255, Frequency: 9\n",
      "Element: 256, Frequency: 13\n",
      "Element: 257, Frequency: 14\n",
      "Element: 258, Frequency: 9\n",
      "Element: 259, Frequency: 12\n",
      "Element: 260, Frequency: 5\n",
      "Element: 261, Frequency: 13\n",
      "Element: 262, Frequency: 12\n",
      "Element: 263, Frequency: 10\n",
      "Element: 264, Frequency: 10\n",
      "Element: 265, Frequency: 14\n",
      "Element: 266, Frequency: 10\n",
      "Element: 267, Frequency: 14\n",
      "Element: 268, Frequency: 9\n",
      "Element: 269, Frequency: 14\n",
      "Element: 270, Frequency: 13\n",
      "Element: 271, Frequency: 12\n",
      "Element: 272, Frequency: 14\n",
      "Element: 273, Frequency: 8\n",
      "Element: 274, Frequency: 7\n",
      "Element: 275, Frequency: 22\n",
      "Element: 276, Frequency: 12\n",
      "Element: 277, Frequency: 9\n",
      "Element: 278, Frequency: 12\n",
      "Element: 279, Frequency: 5\n",
      "Element: 280, Frequency: 10\n",
      "Element: 281, Frequency: 16\n",
      "Element: 282, Frequency: 9\n",
      "Element: 283, Frequency: 14\n",
      "Element: 284, Frequency: 9\n",
      "Element: 285, Frequency: 14\n",
      "Element: 286, Frequency: 9\n",
      "Element: 287, Frequency: 11\n",
      "Element: 288, Frequency: 9\n",
      "Element: 289, Frequency: 8\n",
      "Element: 290, Frequency: 11\n",
      "Element: 291, Frequency: 12\n",
      "Element: 292, Frequency: 13\n",
      "Element: 293, Frequency: 17\n",
      "Element: 294, Frequency: 11\n",
      "Element: 295, Frequency: 12\n",
      "Element: 296, Frequency: 16\n",
      "Element: 297, Frequency: 15\n",
      "Element: 298, Frequency: 9\n",
      "Element: 299, Frequency: 6\n",
      "Element: 300, Frequency: 1184\n",
      "Element: 301, Frequency: 2\n"
     ]
    }
   ],
   "source": [
    "calculate_frequency(nonCommercial_Sequence_length)"
   ]
  },
  {
   "cell_type": "code",
   "execution_count": 19,
   "id": "20957d3a-b0db-4dff-b3ee-0f33bb9c680c",
   "metadata": {},
   "outputs": [
    {
     "name": "stdout",
     "output_type": "stream",
     "text": [
      "4600\n"
     ]
    }
   ],
   "source": [
    "print(len(nonCommercial_Sequence_length))"
   ]
  },
  {
   "cell_type": "code",
   "execution_count": 20,
   "id": "7e6b1c36-c150-4f0d-a02f-41cbb07f47fb",
   "metadata": {},
   "outputs": [],
   "source": [
    "nonCommercialFeatures = [video for video in nonCommercialFeatures if len(video)>=100]"
   ]
  },
  {
   "cell_type": "code",
   "execution_count": 21,
   "id": "b61648d8-54a6-4b5f-b77e-ac2245f45454",
   "metadata": {},
   "outputs": [
    {
     "name": "stdout",
     "output_type": "stream",
     "text": [
      "Mean length: 221.44572547313464\n",
      "Median length: 218.0\n",
      "Min length: 118\n",
      "Max length: 301\n",
      "Standard Deviation: 63.32694085118265\n"
     ]
    }
   ],
   "source": [
    "nonCommercial_Sequence_length = analysis(nonCommercialFeatures)"
   ]
  },
  {
   "cell_type": "code",
   "execution_count": 22,
   "id": "54458fdd-bbaa-4e79-b594-17221e75c3a3",
   "metadata": {},
   "outputs": [
    {
     "name": "stdout",
     "output_type": "stream",
     "text": [
      "4597\n"
     ]
    }
   ],
   "source": [
    "print(len(nonCommercial_Sequence_length))"
   ]
  },
  {
   "cell_type": "markdown",
   "id": "94ae8a96-8918-4d7d-aa25-721fe87518dc",
   "metadata": {},
   "source": [
    "# Padding and Trimming"
   ]
  },
  {
   "cell_type": "code",
   "execution_count": 23,
   "id": "6fe545a4-97a9-4dd5-887c-95ffd278bd4f",
   "metadata": {},
   "outputs": [],
   "source": [
    "def preprocess_features(max_frames, features):\n",
    "    \"\"\"\n",
    "    Preprocess video features by trimming or padding them to a fixed number of frames.\n",
    "\n",
    "    Parameters:\n",
    "    - max_frames (int) - The maximum number of frames each video should have.\n",
    "    - features (list of ndarray) -  A list where each element is a numpy array representing the features of a video. Each array is of shape (number_of_frames, number_Vf).\n",
    "\n",
    "    Returns:\n",
    "    - video_data (ndarray) -  A numpy array of shape (num_videos, max_frames, number_Vf) containing the preprocessed video data.\n",
    "    \"\"\"\n",
    "    num_videos = len(features)\n",
    "    number_Vf = features[0].shape[1]\n",
    "    video_data = np.zeros((num_videos, max_frames, number_Vf))\n",
    "\n",
    "    # Process each video\n",
    "    for i, video in enumerate(features):\n",
    "        length = len(video)\n",
    "        if length >= max_frames:\n",
    "            # Trim the video if longer than max_frames\n",
    "            video_data[i, :, :] = video[:max_frames]\n",
    "        else:\n",
    "            # Pad the video with zeros if shorter than max_frames\n",
    "            video_data[i, :length, :] = video\n",
    "\n",
    "    return video_data"
   ]
  },
  {
   "cell_type": "code",
   "execution_count": 24,
   "id": "7e0858f7-9124-4678-a28e-07ae15e3318b",
   "metadata": {},
   "outputs": [],
   "source": [
    "def convertToNumpyArray(features):\n",
    "    \"\"\"\n",
    "    Convert a list of features to a NumPy array.\n",
    "\n",
    "    Parameters:\n",
    "    - features (list) - A list of features to be converted to a NumPy array.\n",
    "\n",
    "    Returns:\n",
    "    - numpy.ndarray: A NumPy array containing the elements of the input list.\n",
    "    \"\"\"\n",
    "    return np.array(features)"
   ]
  },
  {
   "cell_type": "code",
   "execution_count": 25,
   "id": "0dc2a822-4e59-49ca-be5e-1f36afa63a4a",
   "metadata": {},
   "outputs": [],
   "source": [
    "# trim commercial features to sequence_length = 150\n",
    "commercialFeatures_150 = preprocess_features(150, commercialFeatures)"
   ]
  },
  {
   "cell_type": "markdown",
   "id": "bc707fc4-4a8b-464e-ad2e-ab03402aab47",
   "metadata": {},
   "source": [
    "### Other sequence lengths list could be generated by changing the length from 150 to desired number of sequences. "
   ]
  },
  {
   "cell_type": "code",
   "execution_count": 26,
   "id": "9d14d26f-c50a-4341-b07b-015f88c7d0a7",
   "metadata": {},
   "outputs": [],
   "source": [
    "# trim non-commercial features to sequence_length = 150\n",
    "nonCommercialFeatures_150 = preprocess_features(150, nonCommercialFeatures)"
   ]
  },
  {
   "cell_type": "markdown",
   "id": "84108d3b-71a9-491b-af77-7ed65c9bf4b1",
   "metadata": {},
   "source": [
    "# Converting the features into Numpy Array"
   ]
  },
  {
   "cell_type": "code",
   "execution_count": 27,
   "id": "c10711be-7885-4120-9f26-2457b736d81f",
   "metadata": {},
   "outputs": [],
   "source": [
    "commercialFeatures_150 = convertToNumpyArray(commercialFeatures_150)"
   ]
  },
  {
   "cell_type": "code",
   "execution_count": 28,
   "id": "886d0281-b6c4-4a6d-b15a-e5ff15f93b19",
   "metadata": {},
   "outputs": [
    {
     "name": "stdout",
     "output_type": "stream",
     "text": [
      "(4364, 150, 1152)\n"
     ]
    }
   ],
   "source": [
    "print(commercialFeatures_150.shape)"
   ]
  },
  {
   "cell_type": "code",
   "execution_count": 29,
   "id": "0c9e41e9-b7d0-4bf7-b6ba-fb034024fd8a",
   "metadata": {},
   "outputs": [],
   "source": [
    "nonCommercialFeatures_150 = convertToNumpyArray(nonCommercialFeatures_150)"
   ]
  },
  {
   "cell_type": "markdown",
   "id": "bb3609f4-a65c-4d50-b11a-31792111546d",
   "metadata": {},
   "source": [
    "# Saving the Numpy Arrays"
   ]
  },
  {
   "cell_type": "code",
   "execution_count": 32,
   "id": "da624afd-dab5-4c0e-b903-08b505d0a056",
   "metadata": {},
   "outputs": [],
   "source": [
    "def save_numpy_array_as_pickle(array, name):\n",
    "    \"\"\"\n",
    "    Save a NumPy array as a pickle file with the given name.\n",
    "\n",
    "    Parameters:\n",
    "    - array (numpy.ndarray) : The NumPy array to be saved.\n",
    "    - name (str) : The name of the variable, which will be used as the filename.\n",
    "    \"\"\"\n",
    "    with open(f\"{name}.pkl\", \"wb\") as file:\n",
    "        pickle.dump(array, file)"
   ]
  },
  {
   "cell_type": "code",
   "execution_count": 33,
   "id": "bbf318aa-5c3a-4669-875c-3249ab7fe3bd",
   "metadata": {},
   "outputs": [],
   "source": [
    "save_numpy_array_as_pickle(commercialFeatures_150, 'commercialFeatures_150')"
   ]
  },
  {
   "cell_type": "code",
   "execution_count": 34,
   "id": "b42c7840-03f0-4e5c-a41c-c36729dcc2ba",
   "metadata": {},
   "outputs": [],
   "source": [
    "save_numpy_array_as_pickle(nonCommercialFeatures_150, 'nonCommercialFeatures_150')"
   ]
  }
 ],
 "metadata": {
  "kernelspec": {
   "display_name": "Python 3 (ipykernel)",
   "language": "python",
   "name": "python3"
  },
  "language_info": {
   "codemirror_mode": {
    "name": "ipython",
    "version": 3
   },
   "file_extension": ".py",
   "mimetype": "text/x-python",
   "name": "python",
   "nbconvert_exporter": "python",
   "pygments_lexer": "ipython3",
   "version": "3.12.0"
  }
 },
 "nbformat": 4,
 "nbformat_minor": 5
}
