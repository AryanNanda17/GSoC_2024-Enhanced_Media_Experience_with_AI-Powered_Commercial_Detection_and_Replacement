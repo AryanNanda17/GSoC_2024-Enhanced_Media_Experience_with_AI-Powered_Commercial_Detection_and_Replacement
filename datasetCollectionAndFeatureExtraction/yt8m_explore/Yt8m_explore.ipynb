{
 "cells": [
  {
   "cell_type": "code",
   "execution_count": 3,
   "id": "afd3a08b-1a58-4aeb-bc41-5d85224d3e3a",
   "metadata": {},
   "outputs": [],
   "source": [
    "# Import required libraries \n",
    "import tensorflow as tf\n",
    "import pandas as pd\n",
    "from IPython.display import YouTubeVideo\n",
    "import requests\n",
    "import os\n",
    "import subprocess\n",
    "import random\n",
    "import glob"
   ]
  },
  {
   "cell_type": "code",
   "execution_count": 4,
   "id": "82820875-e75d-4c54-8996-6ad86f5603cf",
   "metadata": {},
   "outputs": [],
   "source": [
    "# Constants\n",
    "folder_path = '../2/frame/train'                                      # Folder path where Youtube-8M dataset will be saved. \n",
    "url = 'https://research.google.com/youtube8m/csv/2/vocabulary.csv' # vocabulary.csv will be downloaded from this location.\n",
    "local_filename = 'vocabulary.csv'                                  # The filename under which the downloaded file will be saved locally.\n",
    "server_location = 'us'                                             # Specifies the geographical region or server mirror to optimize download speed. Choose from 'us' for United States, 'eu' for Europe, or 'asia' for Asia.\n",
    "shard_no = 1                                                       # The shard no of dataset to be downloaded. (Total 100 Shards)"
   ]
  },
  {
   "cell_type": "code",
   "execution_count": 5,
   "id": "17731bbc-30a8-4d5e-9d29-7a26e3a36758",
   "metadata": {},
   "outputs": [],
   "source": [
    "def create_folder(folder_path):\n",
    "    \"\"\"\n",
    "    Creates a folder/directory at the specified path if it doesn't already exist.\n",
    "\n",
    "    Parameters:\n",
    "    - folder_path (str): The path where the new folder will be created.\n",
    "\n",
    "    Returns:\n",
    "    - return True/False, whether the folder is created successfully or not.\n",
    "    \"\"\"\n",
    "    if not os.path.exists(folder_path):\n",
    "        try:\n",
    "            os.makedirs(folder_path)\n",
    "            print(f\"Directory '{folder_path}' created successfully.\")\n",
    "            return True\n",
    "        except OSError as e:\n",
    "            print(f\"Error: Creating directory '{folder_path}' failed. {e}\")\n",
    "            return False\n",
    "    else:\n",
    "        print(f\"Directory '{folder_path}' already exists.\")\n",
    "        return False"
   ]
  },
  {
   "cell_type": "code",
   "execution_count": 6,
   "id": "931caf5e-5dc3-4505-ae0d-bd6a9afa7660",
   "metadata": {},
   "outputs": [],
   "source": [
    "def download_dataset(folder_path, shard_no, server_location):\n",
    "    \"\"\"\n",
    "    Downloads first shard(1/100th) of Youtube-8M dataset inside folder_path location.\n",
    "\n",
    "    Parameters:\n",
    "    - folder_path (str)    : The path where the datset will be downloaded.\n",
    "    - shard_no (int)       : The shard number of the dataset to be downloaded. \n",
    "    - server_location (str): Specifies the geographical region or server mirror to optimize download speed.\n",
    "      Choose from 'us' for United States, 'eu' for Europe, or 'asia' for Asia.\n",
    "    \"\"\"\n",
    "    if not create_folder(folder_path):\n",
    "        return\n",
    "    currentDir = os.getcwd()\n",
    "    %cd {folder_path}\n",
    "    !curl data.yt8m.org/download.py | shard={shard_no},100 partition=2/frame/train mirror={server_location} python\n",
    "    %cd {currentDir}"
   ]
  },
  {
   "cell_type": "code",
   "execution_count": 7,
   "id": "815337c8-3e46-4fbf-ab80-3c6c4cbb9282",
   "metadata": {},
   "outputs": [
    {
     "name": "stdout",
     "output_type": "stream",
     "text": [
      "Directory '../2/frame/train' already exists.\n"
     ]
    }
   ],
   "source": [
    "download_dataset(folder_path, shard_no, server_location)"
   ]
  },
  {
   "cell_type": "code",
   "execution_count": 6,
   "id": "3e6d9aa8-ba46-46b4-931c-53574c5ac995",
   "metadata": {},
   "outputs": [],
   "source": [
    "# Select a random tfrecord file from {folder_path}\n",
    "records_path = random.choice(glob.glob(os.path.join(folder_path, '*.tfrecord')))"
   ]
  },
  {
   "cell_type": "code",
   "execution_count": 8,
   "id": "4fb4b733-c599-4011-989e-7f748f98c586",
   "metadata": {},
   "outputs": [
    {
     "name": "stdout",
     "output_type": "stream",
     "text": [
      "2/frame/train/train0979.tfrecord\n"
     ]
    }
   ],
   "source": [
    "print(records_path)"
   ]
  },
  {
   "cell_type": "code",
   "execution_count": 9,
   "id": "16610bc2-46b8-4028-83cb-fd4fd55aa847",
   "metadata": {},
   "outputs": [],
   "source": [
    "vid_ids = [] # This array stores the video IDs extracted from the TFRecord file.\n",
    "labels = []  # This array stores the label_ids associated with each video. The label ids are mapped to label names through vocabulary.csv which is discussed later. \n",
    "rgb = []     # This array stores the RGB features extracted from the TFRecord file.\n",
    "audio = []   # This array stores the audio features extracted from the TFRecord file. "
   ]
  },
  {
   "cell_type": "markdown",
   "id": "ef1105fb-1575-4a5c-8c07-5fa262b1004e",
   "metadata": {},
   "source": [
    "## Format of Frame-level features @Yt8m\n",
    "```\n",
    "Frame-level features are stored as tensorflow.SequenceExample protocol buffers. A tensorflow.SequenceExample proto is reproduced here in text format:\n",
    "context: {\n",
    "  feature: {\n",
    "    key  : \"id\"\n",
    "    value: {\n",
    "      bytes_list: {\n",
    "        value: (Video id)\n",
    "      }\n",
    "    }\n",
    "  }\n",
    "  feature: {\n",
    "    key  : \"labels\"\n",
    "      value: {\n",
    "        int64_list: {\n",
    "          value: [1, 522, 11, 172]  # label list\n",
    "        }\n",
    "      }\n",
    "    }\n",
    "}\n",
    "\n",
    "feature_lists: {\n",
    "  feature_list: {\n",
    "    key  : \"rgb\"\n",
    "    value: {\n",
    "      feature: {\n",
    "        bytes_list: {\n",
    "          value: [1024 8bit quantized features]\n",
    "        }\n",
    "      }\n",
    "      feature: {\n",
    "        bytes_list: {\n",
    "          value: [1024 8bit quantized features]\n",
    "        }\n",
    "      }\n",
    "      ... # Repeated for every second, up to 300\n",
    "  }\n",
    "  feature_list: {\n",
    "    key  : \"audio\"\n",
    "    value: {\n",
    "      feature: {\n",
    "        bytes_list: {\n",
    "          value: [128 8bit quantized features]\n",
    "        }\n",
    "      }\n",
    "      feature: {\n",
    "        bytes_list: {\n",
    "          value: [128 8bit quantized features]\n",
    "        }\n",
    "      }\n",
    "    }\n",
    "    ... # Repeated for every second, up to 300\n",
    "  }\n",
    "\n",
    "}\n",
    "```"
   ]
  },
  {
   "cell_type": "code",
   "execution_count": 10,
   "id": "4f19c39e-84a7-4a00-a312-5c6035b20ba7",
   "metadata": {},
   "outputs": [
    {
     "name": "stdout",
     "output_type": "stream",
     "text": [
      "WARNING:tensorflow:From /var/folders/hg/7q10m6ks77bcpykgf2nbst5h0000gn/T/ipykernel_23362/4186077235.py:15: tf_record_iterator (from tensorflow.python.lib.io.tf_record) is deprecated and will be removed in a future version.\n",
      "Instructions for updating:\n",
      "Use eager execution and: \n",
      "`tf.data.TFRecordDataset(path)`\n"
     ]
    }
   ],
   "source": [
    "def decode_quantized_features(features):\n",
    "    \"\"\"\n",
    "    Decodes the quantized RGB or audio features from a TFRecord.\n",
    "\n",
    "    Parameters:\n",
    "    - features: A TensorFlow Feature object containing quantized data (bytes).\n",
    "\n",
    "    Returns:\n",
    "    - Decoded features as TensorFlow tensors of type tf.uint8.\n",
    "    \"\"\"\n",
    "    return tf.io.decode_raw(features, tf.uint8)\n",
    "\n",
    "\n",
    "# Iterate over each record in the TFRecord file specified by records_path\n",
    "for record in tf.compat.v1.python_io.tf_record_iterator(records_path):\n",
    "    # Parse the SequenceExample from the binary record data\n",
    "    seq_example = tf.train.SequenceExample.FromString(record)\n",
    "\n",
    "    # Extract the video_id and labels\n",
    "    vid_ids.append(seq_example.context.feature['id'].bytes_list.value[0].decode(encoding='UTF-8'))\n",
    "    labels.append(seq_example.context.feature['labels'].int64_list.value)\n",
    "\n",
    "    # lists to store frame-level features\n",
    "    rgb_features = []\n",
    "    audio_features = []\n",
    "    \n",
    "    # Iterate over each frame-level feature pair (RGB and audio) in the SequenceExample\n",
    "    for rgb_feature, audio_feature in zip(seq_example.feature_lists.feature_list['rgb'].feature,\n",
    "                                           seq_example.feature_lists.feature_list['audio'].feature):\n",
    "        \n",
    "        # Decode the quantized RGB features and audio features\n",
    "        decoded_rgb = decode_quantized_features(rgb_feature.bytes_list.value[0])     \n",
    "        decoded_audio = decode_quantized_features(audio_feature.bytes_list.value[0]) \n",
    "\n",
    "        rgb_features.append(decoded_rgb)\n",
    "        audio_features.append(decoded_audio)\n",
    "    \n",
    "    # Append frame level list to main list \n",
    "    rgb.append(rgb_features)\n",
    "    audio.append(audio_features)"
   ]
  },
  {
   "cell_type": "code",
   "execution_count": 11,
   "id": "12c9d755-2d68-4d9f-87e5-4b7eb252a942",
   "metadata": {},
   "outputs": [
    {
     "name": "stdout",
     "output_type": "stream",
     "text": [
      "Number of videos in this tfrecord:  1043\n",
      "Number of labels in this tfrecord:  1043\n",
      "Picking a youtube video id: 3qpX\n"
     ]
    }
   ],
   "source": [
    "print('Number of videos in this tfrecord: ',len(vid_ids))\n",
    "print ('Number of labels in this tfrecord: ', len (labels))\n",
    "print('Picking a youtube video id:',vid_ids[15])"
   ]
  },
  {
   "cell_type": "code",
   "execution_count": 12,
   "id": "de6005a8-7d21-45cc-a858-04c91fd23bc2",
   "metadata": {},
   "outputs": [
    {
     "name": "stdout",
     "output_type": "stream",
     "text": [
      "['XfpX', '5LpX', 'ebpX', 'C9pX', 'mvpX', 'ropX', 'SupX', 'WNpX', 'HcpX', 'WApX']\n"
     ]
    }
   ],
   "source": [
    "print(vid_ids[:10])"
   ]
  },
  {
   "cell_type": "code",
   "execution_count": 13,
   "id": "dbbee52c-cfda-4ed3-b96a-4b8391025619",
   "metadata": {},
   "outputs": [
    {
     "name": "stdout",
     "output_type": "stream",
     "text": [
      "[[2, 30, 280, 1178], [82, 103, 350], [2, 7, 171, 174, 361, 1549], [5, 16, 150, 204], [12, 195, 237, 342], [3], [43, 1032], [1196], [0, 1], [106]]\n"
     ]
    }
   ],
   "source": [
    "print(labels[:10])"
   ]
  },
  {
   "cell_type": "code",
   "execution_count": 14,
   "id": "eaa83639-0874-4810-8f3b-aaae664a6e58",
   "metadata": {},
   "outputs": [
    {
     "name": "stdout",
     "output_type": "stream",
     "text": [
      "213\n"
     ]
    }
   ],
   "source": [
    "print(len(rgb[0]))"
   ]
  },
  {
   "cell_type": "code",
   "execution_count": 15,
   "id": "1e81093c-0232-40f8-907a-230327347274",
   "metadata": {},
   "outputs": [
    {
     "name": "stdout",
     "output_type": "stream",
     "text": [
      "[<tf.Tensor: shape=(1024,), dtype=uint8, numpy=array([  0,  88, 176, ..., 135, 174, 141], dtype=uint8)>, <tf.Tensor: shape=(1024,), dtype=uint8, numpy=array([149,  99,  74, ...,  80, 130,  68], dtype=uint8)>, <tf.Tensor: shape=(1024,), dtype=uint8, numpy=array([110,  69,  74, ..., 155, 195, 156], dtype=uint8)>, <tf.Tensor: shape=(1024,), dtype=uint8, numpy=array([ 96,  93,  85, ..., 192, 159,  53], dtype=uint8)>, <tf.Tensor: shape=(1024,), dtype=uint8, numpy=array([175, 181,  81, ..., 140, 137, 128], dtype=uint8)>, <tf.Tensor: shape=(1024,), dtype=uint8, numpy=array([133, 206, 108, ...,  91, 203, 168], dtype=uint8)>, <tf.Tensor: shape=(1024,), dtype=uint8, numpy=array([133, 202, 101, ...,  99, 255, 114], dtype=uint8)>, <tf.Tensor: shape=(1024,), dtype=uint8, numpy=array([190, 190, 100, ...,  90, 165, 127], dtype=uint8)>, <tf.Tensor: shape=(1024,), dtype=uint8, numpy=array([ 94, 195, 115, ...,  90, 255, 156], dtype=uint8)>, <tf.Tensor: shape=(1024,), dtype=uint8, numpy=array([ 67, 204, 103, ..., 128, 102,  50], dtype=uint8)>, <tf.Tensor: shape=(1024,), dtype=uint8, numpy=array([ 61, 207, 103, ..., 149,  81,  89], dtype=uint8)>, <tf.Tensor: shape=(1024,), dtype=uint8, numpy=array([ 76, 214, 118, ..., 181, 133, 141], dtype=uint8)>, <tf.Tensor: shape=(1024,), dtype=uint8, numpy=array([142, 195,  96, ..., 161, 190, 112], dtype=uint8)>, <tf.Tensor: shape=(1024,), dtype=uint8, numpy=array([101, 215,  88, ...,   2, 189,  93], dtype=uint8)>, <tf.Tensor: shape=(1024,), dtype=uint8, numpy=array([ 54, 225,  85, ...,  11, 178, 136], dtype=uint8)>, <tf.Tensor: shape=(1024,), dtype=uint8, numpy=array([212, 168,  84, ..., 148,  49,  16], dtype=uint8)>, <tf.Tensor: shape=(1024,), dtype=uint8, numpy=array([120, 204,  81, ..., 104, 255, 135], dtype=uint8)>, <tf.Tensor: shape=(1024,), dtype=uint8, numpy=array([135, 193,  79, ...,  86,  96,  89], dtype=uint8)>, <tf.Tensor: shape=(1024,), dtype=uint8, numpy=array([123, 202,  84, ..., 100, 227, 114], dtype=uint8)>, <tf.Tensor: shape=(1024,), dtype=uint8, numpy=array([114, 189,  81, ...,  88, 255, 235], dtype=uint8)>, <tf.Tensor: shape=(1024,), dtype=uint8, numpy=array([103, 214, 106, ..., 164, 106,  31], dtype=uint8)>, <tf.Tensor: shape=(1024,), dtype=uint8, numpy=array([138, 189, 106, ..., 149, 175, 132], dtype=uint8)>, <tf.Tensor: shape=(1024,), dtype=uint8, numpy=array([137, 192,  58, ...,  20, 151, 187], dtype=uint8)>, <tf.Tensor: shape=(1024,), dtype=uint8, numpy=array([188, 214,  82, ..., 124, 201, 188], dtype=uint8)>, <tf.Tensor: shape=(1024,), dtype=uint8, numpy=array([165, 193, 135, ..., 100,  37,  83], dtype=uint8)>, <tf.Tensor: shape=(1024,), dtype=uint8, numpy=array([165, 110,  73, ...,  92,  95,  28], dtype=uint8)>, <tf.Tensor: shape=(1024,), dtype=uint8, numpy=array([179, 196, 171, ...,  58,  44, 111], dtype=uint8)>, <tf.Tensor: shape=(1024,), dtype=uint8, numpy=array([183, 186, 149, ..., 182,   0, 214], dtype=uint8)>, <tf.Tensor: shape=(1024,), dtype=uint8, numpy=array([131, 179,  99, ...,  96,  24,  72], dtype=uint8)>, <tf.Tensor: shape=(1024,), dtype=uint8, numpy=array([ 86, 203,  87, ..., 187, 135, 107], dtype=uint8)>, <tf.Tensor: shape=(1024,), dtype=uint8, numpy=array([ 81, 210,  78, ..., 208,  98, 161], dtype=uint8)>, <tf.Tensor: shape=(1024,), dtype=uint8, numpy=array([155, 195,  96, ..., 182,  71, 125], dtype=uint8)>, <tf.Tensor: shape=(1024,), dtype=uint8, numpy=array([144, 187,  88, ..., 195, 102, 136], dtype=uint8)>, <tf.Tensor: shape=(1024,), dtype=uint8, numpy=array([115, 178, 166, ..., 111, 196, 139], dtype=uint8)>, <tf.Tensor: shape=(1024,), dtype=uint8, numpy=array([175, 200, 128, ..., 128,  91,  74], dtype=uint8)>, <tf.Tensor: shape=(1024,), dtype=uint8, numpy=array([164, 182, 132, ..., 105,  57, 142], dtype=uint8)>, <tf.Tensor: shape=(1024,), dtype=uint8, numpy=array([ 88, 223,  96, ..., 174,  49, 255], dtype=uint8)>, <tf.Tensor: shape=(1024,), dtype=uint8, numpy=array([ 60, 221, 100, ..., 255,  25, 255], dtype=uint8)>, <tf.Tensor: shape=(1024,), dtype=uint8, numpy=array([ 89, 206,  88, ..., 255, 106, 255], dtype=uint8)>, <tf.Tensor: shape=(1024,), dtype=uint8, numpy=array([ 57, 216, 100, ..., 186, 201, 160], dtype=uint8)>, <tf.Tensor: shape=(1024,), dtype=uint8, numpy=array([ 57, 211, 110, ..., 222, 218, 118], dtype=uint8)>, <tf.Tensor: shape=(1024,), dtype=uint8, numpy=array([ 80, 203, 116, ..., 238, 206, 158], dtype=uint8)>, <tf.Tensor: shape=(1024,), dtype=uint8, numpy=array([214,  83,  84, ..., 160,  50,  45], dtype=uint8)>, <tf.Tensor: shape=(1024,), dtype=uint8, numpy=array([162,  67,  99, ..., 238,  31, 103], dtype=uint8)>, <tf.Tensor: shape=(1024,), dtype=uint8, numpy=array([154,  88,  93, ..., 255,  71, 135], dtype=uint8)>, <tf.Tensor: shape=(1024,), dtype=uint8, numpy=array([188,  85, 129, ..., 133, 160, 158], dtype=uint8)>, <tf.Tensor: shape=(1024,), dtype=uint8, numpy=array([145, 180, 119, ..., 103,  90,  64], dtype=uint8)>, <tf.Tensor: shape=(1024,), dtype=uint8, numpy=array([146, 193, 124, ..., 122, 220, 124], dtype=uint8)>, <tf.Tensor: shape=(1024,), dtype=uint8, numpy=array([127, 145, 118, ..., 118, 239, 114], dtype=uint8)>, <tf.Tensor: shape=(1024,), dtype=uint8, numpy=array([160, 149, 131, ..., 201,  32, 131], dtype=uint8)>, <tf.Tensor: shape=(1024,), dtype=uint8, numpy=array([146, 170, 138, ..., 239, 129, 145], dtype=uint8)>, <tf.Tensor: shape=(1024,), dtype=uint8, numpy=array([120, 167, 121, ..., 168,  52, 209], dtype=uint8)>, <tf.Tensor: shape=(1024,), dtype=uint8, numpy=array([157, 163, 135, ..., 129, 133, 181], dtype=uint8)>, <tf.Tensor: shape=(1024,), dtype=uint8, numpy=array([ 18, 223,  88, ..., 113,   9,  78], dtype=uint8)>, <tf.Tensor: shape=(1024,), dtype=uint8, numpy=array([ 19, 222,  92, ..., 117,  29,  87], dtype=uint8)>, <tf.Tensor: shape=(1024,), dtype=uint8, numpy=array([ 20, 224,  93, ..., 125,   0,  67], dtype=uint8)>, <tf.Tensor: shape=(1024,), dtype=uint8, numpy=array([ 19, 223,  90, ..., 134,  26, 103], dtype=uint8)>, <tf.Tensor: shape=(1024,), dtype=uint8, numpy=array([165, 170, 136, ..., 113, 115, 170], dtype=uint8)>, <tf.Tensor: shape=(1024,), dtype=uint8, numpy=array([191, 129, 120, ..., 135,  40, 169], dtype=uint8)>, <tf.Tensor: shape=(1024,), dtype=uint8, numpy=array([ 63, 201,  76, ..., 118,  81, 116], dtype=uint8)>, <tf.Tensor: shape=(1024,), dtype=uint8, numpy=array([172, 173, 105, ...,  77, 115,  96], dtype=uint8)>, <tf.Tensor: shape=(1024,), dtype=uint8, numpy=array([ 31, 226,  71, ..., 190,  70, 160], dtype=uint8)>, <tf.Tensor: shape=(1024,), dtype=uint8, numpy=array([ 27, 227,  75, ..., 195,  37, 162], dtype=uint8)>, <tf.Tensor: shape=(1024,), dtype=uint8, numpy=array([ 26, 225,  74, ..., 185,  39, 164], dtype=uint8)>, <tf.Tensor: shape=(1024,), dtype=uint8, numpy=array([135, 213,  85, ..., 135, 192,  53], dtype=uint8)>, <tf.Tensor: shape=(1024,), dtype=uint8, numpy=array([133, 197,  65, ...,  35, 151, 106], dtype=uint8)>, <tf.Tensor: shape=(1024,), dtype=uint8, numpy=array([168, 171,  62, ..., 112, 126, 132], dtype=uint8)>, <tf.Tensor: shape=(1024,), dtype=uint8, numpy=array([108, 181,  87, ..., 122,  97,  66], dtype=uint8)>, <tf.Tensor: shape=(1024,), dtype=uint8, numpy=array([130, 176,  70, ...,  59,  56,  88], dtype=uint8)>, <tf.Tensor: shape=(1024,), dtype=uint8, numpy=array([108, 167, 102, ..., 114,  68, 100], dtype=uint8)>, <tf.Tensor: shape=(1024,), dtype=uint8, numpy=array([ 91, 186, 106, ...,  65,  16, 102], dtype=uint8)>, <tf.Tensor: shape=(1024,), dtype=uint8, numpy=array([ 84, 180,  64, ...,  60,  51, 164], dtype=uint8)>, <tf.Tensor: shape=(1024,), dtype=uint8, numpy=array([ 59, 188,  68, ..., 103,  41, 101], dtype=uint8)>, <tf.Tensor: shape=(1024,), dtype=uint8, numpy=array([ 60, 213, 119, ..., 205,  28, 133], dtype=uint8)>, <tf.Tensor: shape=(1024,), dtype=uint8, numpy=array([ 46, 214, 109, ..., 255, 113,  39], dtype=uint8)>, <tf.Tensor: shape=(1024,), dtype=uint8, numpy=array([ 44, 212, 107, ..., 180,  36,  18], dtype=uint8)>, <tf.Tensor: shape=(1024,), dtype=uint8, numpy=array([ 48, 213,  97, ..., 228,  76,  73], dtype=uint8)>, <tf.Tensor: shape=(1024,), dtype=uint8, numpy=array([ 52, 208,  94, ..., 255,   0,  62], dtype=uint8)>, <tf.Tensor: shape=(1024,), dtype=uint8, numpy=array([ 61, 208,  90, ..., 255,   4, 107], dtype=uint8)>, <tf.Tensor: shape=(1024,), dtype=uint8, numpy=array([ 59, 210,  98, ..., 255,   0,  88], dtype=uint8)>, <tf.Tensor: shape=(1024,), dtype=uint8, numpy=array([ 53, 219,  77, ...,  60, 160, 204], dtype=uint8)>, <tf.Tensor: shape=(1024,), dtype=uint8, numpy=array([ 45, 216,  97, ..., 246,  50, 106], dtype=uint8)>, <tf.Tensor: shape=(1024,), dtype=uint8, numpy=array([218, 163, 109, ...,  24,  98,  66], dtype=uint8)>, <tf.Tensor: shape=(1024,), dtype=uint8, numpy=array([222, 188, 102, ..., 157,  84, 207], dtype=uint8)>, <tf.Tensor: shape=(1024,), dtype=uint8, numpy=array([152, 181, 110, ..., 168, 224,  88], dtype=uint8)>, <tf.Tensor: shape=(1024,), dtype=uint8, numpy=array([ 70, 204,  99, ..., 202, 138,  20], dtype=uint8)>, <tf.Tensor: shape=(1024,), dtype=uint8, numpy=array([191, 163,  88, ..., 170, 153, 235], dtype=uint8)>, <tf.Tensor: shape=(1024,), dtype=uint8, numpy=array([ 86, 211,  98, ..., 212,  60,  91], dtype=uint8)>, <tf.Tensor: shape=(1024,), dtype=uint8, numpy=array([123, 196, 109, ..., 179, 111, 131], dtype=uint8)>, <tf.Tensor: shape=(1024,), dtype=uint8, numpy=array([ 30, 219,  98, ..., 141,  90,  65], dtype=uint8)>, <tf.Tensor: shape=(1024,), dtype=uint8, numpy=array([ 24, 220,  90, ..., 156,  58,  70], dtype=uint8)>, <tf.Tensor: shape=(1024,), dtype=uint8, numpy=array([144, 189, 102, ..., 255,  59,  92], dtype=uint8)>, <tf.Tensor: shape=(1024,), dtype=uint8, numpy=array([ 59, 216,  93, ..., 178,  32, 104], dtype=uint8)>, <tf.Tensor: shape=(1024,), dtype=uint8, numpy=array([ 34, 222,  96, ..., 137,  63, 111], dtype=uint8)>, <tf.Tensor: shape=(1024,), dtype=uint8, numpy=array([ 56, 209,  90, ..., 185,  31,  72], dtype=uint8)>, <tf.Tensor: shape=(1024,), dtype=uint8, numpy=array([ 98, 199, 100, ...,  90,  37, 225], dtype=uint8)>, <tf.Tensor: shape=(1024,), dtype=uint8, numpy=array([ 76, 212,  96, ..., 217, 105, 166], dtype=uint8)>, <tf.Tensor: shape=(1024,), dtype=uint8, numpy=array([ 77, 201, 100, ..., 255, 116, 142], dtype=uint8)>, <tf.Tensor: shape=(1024,), dtype=uint8, numpy=array([107, 185, 118, ...,  43, 192, 108], dtype=uint8)>, <tf.Tensor: shape=(1024,), dtype=uint8, numpy=array([174, 197,  76, ..., 150, 255, 132], dtype=uint8)>, <tf.Tensor: shape=(1024,), dtype=uint8, numpy=array([255, 167, 127, ...,  93,  92,   0], dtype=uint8)>, <tf.Tensor: shape=(1024,), dtype=uint8, numpy=array([ 79, 205,  82, ..., 139, 121, 172], dtype=uint8)>, <tf.Tensor: shape=(1024,), dtype=uint8, numpy=array([ 56, 213,  91, ..., 221, 137, 145], dtype=uint8)>, <tf.Tensor: shape=(1024,), dtype=uint8, numpy=array([ 44, 222,  91, ..., 171,  50, 184], dtype=uint8)>, <tf.Tensor: shape=(1024,), dtype=uint8, numpy=array([127, 194,  86, ..., 146, 148, 170], dtype=uint8)>, <tf.Tensor: shape=(1024,), dtype=uint8, numpy=array([123, 190, 141, ..., 207, 162,  76], dtype=uint8)>, <tf.Tensor: shape=(1024,), dtype=uint8, numpy=array([172, 178,  85, ..., 171, 109, 199], dtype=uint8)>, <tf.Tensor: shape=(1024,), dtype=uint8, numpy=array([184, 179,  81, ..., 176,  96, 179], dtype=uint8)>, <tf.Tensor: shape=(1024,), dtype=uint8, numpy=array([178, 178,  70, ..., 210, 181, 129], dtype=uint8)>, <tf.Tensor: shape=(1024,), dtype=uint8, numpy=array([180, 179,  99, ..., 171, 134, 200], dtype=uint8)>, <tf.Tensor: shape=(1024,), dtype=uint8, numpy=array([156, 174, 130, ..., 180, 168, 144], dtype=uint8)>, <tf.Tensor: shape=(1024,), dtype=uint8, numpy=array([172, 174, 109, ..., 186, 115, 110], dtype=uint8)>, <tf.Tensor: shape=(1024,), dtype=uint8, numpy=array([165, 158,  74, ..., 135, 103, 109], dtype=uint8)>, <tf.Tensor: shape=(1024,), dtype=uint8, numpy=array([174, 166, 116, ...,  50, 162, 147], dtype=uint8)>, <tf.Tensor: shape=(1024,), dtype=uint8, numpy=array([141, 208,  79, ..., 191, 127,  55], dtype=uint8)>, <tf.Tensor: shape=(1024,), dtype=uint8, numpy=array([185, 182,  79, ..., 161,  62,  77], dtype=uint8)>, <tf.Tensor: shape=(1024,), dtype=uint8, numpy=array([196, 190,  73, ...,  96, 113, 138], dtype=uint8)>, <tf.Tensor: shape=(1024,), dtype=uint8, numpy=array([243, 184, 104, ...,  91, 146,  70], dtype=uint8)>, <tf.Tensor: shape=(1024,), dtype=uint8, numpy=array([110, 199,  84, ..., 254, 160, 103], dtype=uint8)>, <tf.Tensor: shape=(1024,), dtype=uint8, numpy=array([177, 180, 120, ..., 171, 151,  90], dtype=uint8)>, <tf.Tensor: shape=(1024,), dtype=uint8, numpy=array([190, 178, 121, ...,  98, 163, 135], dtype=uint8)>, <tf.Tensor: shape=(1024,), dtype=uint8, numpy=array([165, 199, 100, ..., 255, 226,  15], dtype=uint8)>, <tf.Tensor: shape=(1024,), dtype=uint8, numpy=array([188, 199, 111, ..., 255,  43,  86], dtype=uint8)>, <tf.Tensor: shape=(1024,), dtype=uint8, numpy=array([191, 189, 116, ..., 215,   9, 154], dtype=uint8)>, <tf.Tensor: shape=(1024,), dtype=uint8, numpy=array([167, 213,  87, ..., 255, 118, 161], dtype=uint8)>, <tf.Tensor: shape=(1024,), dtype=uint8, numpy=array([135, 204, 100, ..., 255, 162,  89], dtype=uint8)>, <tf.Tensor: shape=(1024,), dtype=uint8, numpy=array([208, 198,  98, ..., 103, 133, 127], dtype=uint8)>, <tf.Tensor: shape=(1024,), dtype=uint8, numpy=array([186, 169, 117, ..., 239, 119,  95], dtype=uint8)>, <tf.Tensor: shape=(1024,), dtype=uint8, numpy=array([172, 148,  88, ..., 144,  51, 112], dtype=uint8)>, <tf.Tensor: shape=(1024,), dtype=uint8, numpy=array([178, 151,  75, ..., 174, 169, 121], dtype=uint8)>, <tf.Tensor: shape=(1024,), dtype=uint8, numpy=array([169, 169,  99, ..., 155, 153, 134], dtype=uint8)>, <tf.Tensor: shape=(1024,), dtype=uint8, numpy=array([166, 195,  74, ..., 161, 133, 236], dtype=uint8)>, <tf.Tensor: shape=(1024,), dtype=uint8, numpy=array([171, 181,  47, ..., 142, 152, 206], dtype=uint8)>, <tf.Tensor: shape=(1024,), dtype=uint8, numpy=array([162, 196,  58, ..., 122, 156, 154], dtype=uint8)>, <tf.Tensor: shape=(1024,), dtype=uint8, numpy=array([ 98, 213,  94, ..., 141,  76,  18], dtype=uint8)>, <tf.Tensor: shape=(1024,), dtype=uint8, numpy=array([133, 184, 106, ..., 168, 142,  34], dtype=uint8)>, <tf.Tensor: shape=(1024,), dtype=uint8, numpy=array([114, 207,  92, ..., 255,  32,  57], dtype=uint8)>, <tf.Tensor: shape=(1024,), dtype=uint8, numpy=array([146, 197,  94, ..., 228,  46, 102], dtype=uint8)>, <tf.Tensor: shape=(1024,), dtype=uint8, numpy=array([237, 172,  98, ..., 123, 123, 163], dtype=uint8)>, <tf.Tensor: shape=(1024,), dtype=uint8, numpy=array([ 44, 205,  95, ..., 117, 177, 226], dtype=uint8)>, <tf.Tensor: shape=(1024,), dtype=uint8, numpy=array([116, 201,  92, ...,  89, 117,  91], dtype=uint8)>, <tf.Tensor: shape=(1024,), dtype=uint8, numpy=array([253, 178,  93, ..., 239, 101,  50], dtype=uint8)>, <tf.Tensor: shape=(1024,), dtype=uint8, numpy=array([205, 167, 107, ..., 164,  66,  50], dtype=uint8)>, <tf.Tensor: shape=(1024,), dtype=uint8, numpy=array([209, 159, 132, ..., 122,  99, 158], dtype=uint8)>, <tf.Tensor: shape=(1024,), dtype=uint8, numpy=array([192, 155, 117, ..., 139,  78, 145], dtype=uint8)>, <tf.Tensor: shape=(1024,), dtype=uint8, numpy=array([197, 154,  99, ..., 189, 109, 126], dtype=uint8)>, <tf.Tensor: shape=(1024,), dtype=uint8, numpy=array([198, 176, 120, ..., 119, 120, 179], dtype=uint8)>, <tf.Tensor: shape=(1024,), dtype=uint8, numpy=array([  9, 207,  88, ..., 167,  49, 152], dtype=uint8)>, <tf.Tensor: shape=(1024,), dtype=uint8, numpy=array([129, 210, 101, ..., 214, 165, 171], dtype=uint8)>, <tf.Tensor: shape=(1024,), dtype=uint8, numpy=array([110, 210, 136, ..., 200,  60, 167], dtype=uint8)>, <tf.Tensor: shape=(1024,), dtype=uint8, numpy=array([127, 203, 103, ...,  85, 106, 147], dtype=uint8)>, <tf.Tensor: shape=(1024,), dtype=uint8, numpy=array([254, 190, 133, ...,  81, 126, 204], dtype=uint8)>, <tf.Tensor: shape=(1024,), dtype=uint8, numpy=array([255, 166, 110, ...,  60,  99, 103], dtype=uint8)>, <tf.Tensor: shape=(1024,), dtype=uint8, numpy=array([151, 159, 100, ..., 154, 147, 228], dtype=uint8)>, <tf.Tensor: shape=(1024,), dtype=uint8, numpy=array([213, 203, 131, ..., 136,  76,  51], dtype=uint8)>, <tf.Tensor: shape=(1024,), dtype=uint8, numpy=array([213, 180, 136, ...,  28, 206,  81], dtype=uint8)>, <tf.Tensor: shape=(1024,), dtype=uint8, numpy=array([108, 193, 100, ..., 105, 159, 153], dtype=uint8)>, <tf.Tensor: shape=(1024,), dtype=uint8, numpy=array([151, 195,  91, ..., 155, 173, 143], dtype=uint8)>, <tf.Tensor: shape=(1024,), dtype=uint8, numpy=array([129, 195,  92, ..., 119, 158, 145], dtype=uint8)>, <tf.Tensor: shape=(1024,), dtype=uint8, numpy=array([128, 223,  94, ..., 209, 157, 193], dtype=uint8)>, <tf.Tensor: shape=(1024,), dtype=uint8, numpy=array([150, 209,  76, ..., 227, 157, 204], dtype=uint8)>, <tf.Tensor: shape=(1024,), dtype=uint8, numpy=array([126, 202,  94, ..., 135, 187,  96], dtype=uint8)>, <tf.Tensor: shape=(1024,), dtype=uint8, numpy=array([106, 183,  96, ..., 149, 145, 110], dtype=uint8)>, <tf.Tensor: shape=(1024,), dtype=uint8, numpy=array([139, 184,  89, ..., 134,  96,  92], dtype=uint8)>, <tf.Tensor: shape=(1024,), dtype=uint8, numpy=array([142, 189,  95, ..., 111, 207, 170], dtype=uint8)>, <tf.Tensor: shape=(1024,), dtype=uint8, numpy=array([116, 206,  77, ...,  76, 215, 219], dtype=uint8)>, <tf.Tensor: shape=(1024,), dtype=uint8, numpy=array([137, 186, 120, ..., 206,  36,  69], dtype=uint8)>, <tf.Tensor: shape=(1024,), dtype=uint8, numpy=array([150, 193, 124, ...,  99,  51, 125], dtype=uint8)>, <tf.Tensor: shape=(1024,), dtype=uint8, numpy=array([217, 170,  98, ..., 143, 255,  63], dtype=uint8)>, <tf.Tensor: shape=(1024,), dtype=uint8, numpy=array([195, 191, 119, ..., 213,  92,  98], dtype=uint8)>, <tf.Tensor: shape=(1024,), dtype=uint8, numpy=array([118, 204,  87, ..., 172, 120, 157], dtype=uint8)>, <tf.Tensor: shape=(1024,), dtype=uint8, numpy=array([157, 199, 138, ..., 219, 221, 164], dtype=uint8)>, <tf.Tensor: shape=(1024,), dtype=uint8, numpy=array([140, 215,  98, ..., 255, 124, 126], dtype=uint8)>, <tf.Tensor: shape=(1024,), dtype=uint8, numpy=array([ 92, 202, 125, ..., 139,  21, 126], dtype=uint8)>, <tf.Tensor: shape=(1024,), dtype=uint8, numpy=array([168, 213,  94, ..., 255, 216,  98], dtype=uint8)>, <tf.Tensor: shape=(1024,), dtype=uint8, numpy=array([ 55, 217, 100, ..., 188,  48, 121], dtype=uint8)>, <tf.Tensor: shape=(1024,), dtype=uint8, numpy=array([147, 188, 107, ..., 170, 180, 142], dtype=uint8)>, <tf.Tensor: shape=(1024,), dtype=uint8, numpy=array([ 91, 210, 118, ..., 174, 158, 161], dtype=uint8)>, <tf.Tensor: shape=(1024,), dtype=uint8, numpy=array([ 89, 207, 108, ..., 127, 125, 191], dtype=uint8)>, <tf.Tensor: shape=(1024,), dtype=uint8, numpy=array([117, 201,  96, ..., 154, 169, 176], dtype=uint8)>, <tf.Tensor: shape=(1024,), dtype=uint8, numpy=array([173, 199, 121, ...,  50, 172, 157], dtype=uint8)>, <tf.Tensor: shape=(1024,), dtype=uint8, numpy=array([157, 207,  95, ...,  76,  78,  53], dtype=uint8)>, <tf.Tensor: shape=(1024,), dtype=uint8, numpy=array([168, 177, 117, ...,  40, 163, 143], dtype=uint8)>, <tf.Tensor: shape=(1024,), dtype=uint8, numpy=array([153, 184, 141, ..., 135,  64, 173], dtype=uint8)>, <tf.Tensor: shape=(1024,), dtype=uint8, numpy=array([186, 176, 178, ..., 175, 183, 222], dtype=uint8)>, <tf.Tensor: shape=(1024,), dtype=uint8, numpy=array([148, 177, 159, ..., 126, 167, 175], dtype=uint8)>, <tf.Tensor: shape=(1024,), dtype=uint8, numpy=array([179, 191, 167, ..., 187, 145, 216], dtype=uint8)>, <tf.Tensor: shape=(1024,), dtype=uint8, numpy=array([244, 191, 154, ..., 116, 157, 212], dtype=uint8)>, <tf.Tensor: shape=(1024,), dtype=uint8, numpy=array([198, 199, 155, ...,  97,  17,  98], dtype=uint8)>, <tf.Tensor: shape=(1024,), dtype=uint8, numpy=array([195, 191, 126, ..., 100,  63, 219], dtype=uint8)>, <tf.Tensor: shape=(1024,), dtype=uint8, numpy=array([220, 190, 114, ..., 149,  77, 251], dtype=uint8)>, <tf.Tensor: shape=(1024,), dtype=uint8, numpy=array([212, 195, 125, ..., 109,  58, 195], dtype=uint8)>, <tf.Tensor: shape=(1024,), dtype=uint8, numpy=array([195, 200, 140, ...,  73,  11, 124], dtype=uint8)>, <tf.Tensor: shape=(1024,), dtype=uint8, numpy=array([176, 179,  80, ..., 162, 163,   1], dtype=uint8)>, <tf.Tensor: shape=(1024,), dtype=uint8, numpy=array([182, 186,  80, ...,  91, 149, 105], dtype=uint8)>, <tf.Tensor: shape=(1024,), dtype=uint8, numpy=array([120, 215,  90, ..., 136,   0, 111], dtype=uint8)>, <tf.Tensor: shape=(1024,), dtype=uint8, numpy=array([164, 203, 111, ..., 146,  82, 102], dtype=uint8)>, <tf.Tensor: shape=(1024,), dtype=uint8, numpy=array([ 53, 221, 119, ..., 180, 109,   0], dtype=uint8)>, <tf.Tensor: shape=(1024,), dtype=uint8, numpy=array([ 97, 200,  99, ..., 181,  67,  67], dtype=uint8)>, <tf.Tensor: shape=(1024,), dtype=uint8, numpy=array([147, 210, 124, ..., 142, 174,   0], dtype=uint8)>, <tf.Tensor: shape=(1024,), dtype=uint8, numpy=array([240, 193, 147, ..., 255, 183,   8], dtype=uint8)>, <tf.Tensor: shape=(1024,), dtype=uint8, numpy=array([ 69, 186, 111, ..., 249,  94,   0], dtype=uint8)>, <tf.Tensor: shape=(1024,), dtype=uint8, numpy=array([129, 177,  79, ...,  58, 149, 224], dtype=uint8)>, <tf.Tensor: shape=(1024,), dtype=uint8, numpy=array([ 17,  76,  48, ..., 232,  82, 157], dtype=uint8)>, <tf.Tensor: shape=(1024,), dtype=uint8, numpy=array([ 19,  76,  46, ..., 227,  87, 152], dtype=uint8)>, <tf.Tensor: shape=(1024,), dtype=uint8, numpy=array([ 20,  77,  46, ..., 225,  90, 153], dtype=uint8)>, <tf.Tensor: shape=(1024,), dtype=uint8, numpy=array([ 20,  77,  47, ..., 230,  85, 156], dtype=uint8)>, <tf.Tensor: shape=(1024,), dtype=uint8, numpy=array([103, 123,  88, ...,  43, 161, 166], dtype=uint8)>, <tf.Tensor: shape=(1024,), dtype=uint8, numpy=array([ 67,  82,  68, ..., 101,  40, 255], dtype=uint8)>, <tf.Tensor: shape=(1024,), dtype=uint8, numpy=array([ 66,  82,  68, ..., 100,  28, 255], dtype=uint8)>, <tf.Tensor: shape=(1024,), dtype=uint8, numpy=array([ 65,  82,  67, ..., 102,  32, 255], dtype=uint8)>, <tf.Tensor: shape=(1024,), dtype=uint8, numpy=array([217, 105,  96, ..., 216, 161, 195], dtype=uint8)>, <tf.Tensor: shape=(1024,), dtype=uint8, numpy=array([132, 126,  86, ..., 196, 147, 161], dtype=uint8)>]\n"
     ]
    }
   ],
   "source": [
    "print(rgb[0])"
   ]
  },
  {
   "cell_type": "code",
   "execution_count": 16,
   "id": "d9ef166a-d33d-4b58-88b8-e6d89cacdf2e",
   "metadata": {},
   "outputs": [
    {
     "name": "stdout",
     "output_type": "stream",
     "text": [
      "tf.Tensor([ 61 207 103 ... 149  81  89], shape=(1024,), dtype=uint8)\n"
     ]
    }
   ],
   "source": [
    "print(rgb[0][10])"
   ]
  },
  {
   "cell_type": "markdown",
   "id": "b69120aa-ff36-4c2f-97ce-7a2e8b049b47",
   "metadata": {},
   "source": [
    "- Here, the youtube video id: 'k6bX' of the dataset maps to \"cEoT60kT4dM\"."
   ]
  },
  {
   "cell_type": "code",
   "execution_count": 18,
   "id": "51e2cd24-ac54-41af-9a46-4226181ca33c",
   "metadata": {},
   "outputs": [
    {
     "data": {
      "image/jpeg": "[encoded data removed]",
      "text/html": [
       "\n",
       "        <iframe\n",
       "            width=\"400\"\n",
       "            height=\"300\"\n",
       "            src=\"https://www.youtube.com/embed/cEoT60kT4dM\"\n",
       "            frameborder=\"0\"\n",
       "            allowfullscreen\n",
       "            \n",
       "        ></iframe>\n",
       "        "
      ],
      "text/plain": [
       "<IPython.lib.display.YouTubeVideo at 0x16747ae40>"
      ]
     },
     "execution_count": 18,
     "metadata": {},
     "output_type": "execute_result"
    }
   ],
   "source": [
    "YouTubeVideo(\"cEoT60kT4dM\")"
   ]
  },
  {
   "cell_type": "markdown",
   "id": "4f965700-deac-4a77-8fe3-470f812ca39d",
   "metadata": {},
   "source": [
    "### The label ids are mapped to label names through vocabulary.csv "
   ]
  },
  {
   "cell_type": "code",
   "execution_count": 23,
   "id": "83154722-b7ce-43f6-9f93-967246dea979",
   "metadata": {},
   "outputs": [],
   "source": [
    "def download_file(url, local_filename):\n",
    "    \"\"\"\n",
    "    Downloads a file from the specified URL and saves it locally.\n",
    "\n",
    "    Parameters:\n",
    "    - url (str): The URL from which the file will be downloaded.\n",
    "    - local_filename (str): The filename under which the downloaded file will be saved locally.\n",
    "    \"\"\"\n",
    "    try:\n",
    "        with requests.get(url, stream=True) as r:\n",
    "            r.raise_for_status()\n",
    "            with open(local_filename, 'wb') as f:\n",
    "                for chunk in r.iter_content(chunk_size=8192):\n",
    "                    if chunk:\n",
    "                        f.write(chunk)\n",
    "        print(f\"Download completed. Script saved as {local_filename}\")\n",
    "    except requests.exceptions.RequestException as e:\n",
    "        print(f\"Error occurred: {e}\")"
   ]
  },
  {
   "cell_type": "code",
   "execution_count": 24,
   "id": "1e7fe736-4d33-4279-ac72-d437430641b3",
   "metadata": {},
   "outputs": [
    {
     "name": "stdout",
     "output_type": "stream",
     "text": [
      "Download completed. Script saved as vocabulary.csv\n"
     ]
    }
   ],
   "source": [
    "download_file(url, local_filename)"
   ]
  },
  {
   "cell_type": "code",
   "execution_count": 25,
   "id": "aff49559-2230-452d-bc21-7186620be54e",
   "metadata": {},
   "outputs": [],
   "source": [
    "vocabulary = pd.read_csv('vocabulary.csv')"
   ]
  },
  {
   "cell_type": "code",
   "execution_count": 26,
   "id": "47090340-815d-4c15-94e9-44e6f19ef70d",
   "metadata": {},
   "outputs": [
    {
     "data": {
      "text/html": [
       "<div>\n",
       "<style scoped>\n",
       "    .dataframe tbody tr th:only-of-type {\n",
       "        vertical-align: middle;\n",
       "    }\n",
       "\n",
       "    .dataframe tbody tr th {\n",
       "        vertical-align: top;\n",
       "    }\n",
       "\n",
       "    .dataframe thead th {\n",
       "        text-align: right;\n",
       "    }\n",
       "</style>\n",
       "<table border=\"1\" class=\"dataframe\">\n",
       "  <thead>\n",
       "    <tr style=\"text-align: right;\">\n",
       "      <th></th>\n",
       "      <th>Index</th>\n",
       "      <th>TrainVideoCount</th>\n",
       "      <th>KnowledgeGraphId</th>\n",
       "      <th>Name</th>\n",
       "      <th>WikiUrl</th>\n",
       "      <th>Vertical1</th>\n",
       "      <th>Vertical2</th>\n",
       "      <th>Vertical3</th>\n",
       "      <th>WikiDescription</th>\n",
       "    </tr>\n",
       "  </thead>\n",
       "  <tbody>\n",
       "    <tr>\n",
       "      <th>0</th>\n",
       "      <td>0</td>\n",
       "      <td>788288</td>\n",
       "      <td>/m/03bt1gh</td>\n",
       "      <td>Game</td>\n",
       "      <td>https://en.wikipedia.org/wiki/Game</td>\n",
       "      <td>Games</td>\n",
       "      <td>NaN</td>\n",
       "      <td>NaN</td>\n",
       "      <td>A game is structured form of play, usually und...</td>\n",
       "    </tr>\n",
       "    <tr>\n",
       "      <th>1</th>\n",
       "      <td>1</td>\n",
       "      <td>539945</td>\n",
       "      <td>/m/01mw1</td>\n",
       "      <td>Video game</td>\n",
       "      <td>https://en.wikipedia.org/wiki/Video_game</td>\n",
       "      <td>Games</td>\n",
       "      <td>NaN</td>\n",
       "      <td>NaN</td>\n",
       "      <td>A video game is an electronic game that involv...</td>\n",
       "    </tr>\n",
       "    <tr>\n",
       "      <th>2</th>\n",
       "      <td>2</td>\n",
       "      <td>415890</td>\n",
       "      <td>/m/07yv9</td>\n",
       "      <td>Vehicle</td>\n",
       "      <td>https://en.wikipedia.org/wiki/Vehicle</td>\n",
       "      <td>Autos &amp; Vehicles</td>\n",
       "      <td>NaN</td>\n",
       "      <td>NaN</td>\n",
       "      <td>A vehicle is a mobile machine that transports ...</td>\n",
       "    </tr>\n",
       "    <tr>\n",
       "      <th>3</th>\n",
       "      <td>3</td>\n",
       "      <td>378135</td>\n",
       "      <td>/m/01jddz</td>\n",
       "      <td>Concert</td>\n",
       "      <td>https://en.wikipedia.org/wiki/Concert</td>\n",
       "      <td>Arts &amp; Entertainment</td>\n",
       "      <td>NaN</td>\n",
       "      <td>NaN</td>\n",
       "      <td>A concert is a live music performance in front...</td>\n",
       "    </tr>\n",
       "    <tr>\n",
       "      <th>4</th>\n",
       "      <td>4</td>\n",
       "      <td>286532</td>\n",
       "      <td>/m/09jwl</td>\n",
       "      <td>Musician</td>\n",
       "      <td>https://en.wikipedia.org/wiki/Musician</td>\n",
       "      <td>Arts &amp; Entertainment</td>\n",
       "      <td>NaN</td>\n",
       "      <td>NaN</td>\n",
       "      <td>A musician is a person who plays a musical ins...</td>\n",
       "    </tr>\n",
       "  </tbody>\n",
       "</table>\n",
       "</div>"
      ],
      "text/plain": [
       "   Index  TrainVideoCount KnowledgeGraphId        Name  \\\n",
       "0      0           788288       /m/03bt1gh        Game   \n",
       "1      1           539945         /m/01mw1  Video game   \n",
       "2      2           415890         /m/07yv9     Vehicle   \n",
       "3      3           378135        /m/01jddz     Concert   \n",
       "4      4           286532         /m/09jwl    Musician   \n",
       "\n",
       "                                    WikiUrl             Vertical1 Vertical2  \\\n",
       "0        https://en.wikipedia.org/wiki/Game                 Games       NaN   \n",
       "1  https://en.wikipedia.org/wiki/Video_game                 Games       NaN   \n",
       "2     https://en.wikipedia.org/wiki/Vehicle      Autos & Vehicles       NaN   \n",
       "3     https://en.wikipedia.org/wiki/Concert  Arts & Entertainment       NaN   \n",
       "4    https://en.wikipedia.org/wiki/Musician  Arts & Entertainment       NaN   \n",
       "\n",
       "  Vertical3                                    WikiDescription  \n",
       "0       NaN  A game is structured form of play, usually und...  \n",
       "1       NaN  A video game is an electronic game that involv...  \n",
       "2       NaN  A vehicle is a mobile machine that transports ...  \n",
       "3       NaN  A concert is a live music performance in front...  \n",
       "4       NaN  A musician is a person who plays a musical ins...  "
      ]
     },
     "execution_count": 26,
     "metadata": {},
     "output_type": "execute_result"
    }
   ],
   "source": [
    "vocabulary.head()"
   ]
  },
  {
   "cell_type": "code",
   "execution_count": 27,
   "id": "fb8b888d-cf94-4d75-8998-9f47ed501eb3",
   "metadata": {},
   "outputs": [
    {
     "name": "stdout",
     "output_type": "stream",
     "text": [
      "<class 'pandas.core.frame.DataFrame'>\n",
      "RangeIndex: 3862 entries, 0 to 3861\n",
      "Data columns (total 9 columns):\n",
      " #   Column            Non-Null Count  Dtype \n",
      "---  ------            --------------  ----- \n",
      " 0   Index             3862 non-null   int64 \n",
      " 1   TrainVideoCount   3862 non-null   int64 \n",
      " 2   KnowledgeGraphId  3862 non-null   object\n",
      " 3   Name              3806 non-null   object\n",
      " 4   WikiUrl           3806 non-null   object\n",
      " 5   Vertical1         3862 non-null   object\n",
      " 6   Vertical2         584 non-null    object\n",
      " 7   Vertical3         32 non-null     object\n",
      " 8   WikiDescription   3806 non-null   object\n",
      "dtypes: int64(2), object(7)\n",
      "memory usage: 271.7+ KB\n"
     ]
    }
   ],
   "source": [
    "vocabulary.info()"
   ]
  },
  {
   "cell_type": "code",
   "execution_count": 28,
   "id": "3a81c0a2-c95d-447a-b548-46587c9e9c07",
   "metadata": {},
   "outputs": [
    {
     "data": {
      "text/html": [
       "<div>\n",
       "<style scoped>\n",
       "    .dataframe tbody tr th:only-of-type {\n",
       "        vertical-align: middle;\n",
       "    }\n",
       "\n",
       "    .dataframe tbody tr th {\n",
       "        vertical-align: top;\n",
       "    }\n",
       "\n",
       "    .dataframe thead th {\n",
       "        text-align: right;\n",
       "    }\n",
       "</style>\n",
       "<table border=\"1\" class=\"dataframe\">\n",
       "  <thead>\n",
       "    <tr style=\"text-align: right;\">\n",
       "      <th></th>\n",
       "      <th>Index</th>\n",
       "      <th>TrainVideoCount</th>\n",
       "    </tr>\n",
       "  </thead>\n",
       "  <tbody>\n",
       "    <tr>\n",
       "      <th>count</th>\n",
       "      <td>3862.000000</td>\n",
       "      <td>3862.000000</td>\n",
       "    </tr>\n",
       "    <tr>\n",
       "      <th>mean</th>\n",
       "      <td>1930.500000</td>\n",
       "      <td>3032.527188</td>\n",
       "    </tr>\n",
       "    <tr>\n",
       "      <th>std</th>\n",
       "      <td>1115.007698</td>\n",
       "      <td>21182.048375</td>\n",
       "    </tr>\n",
       "    <tr>\n",
       "      <th>min</th>\n",
       "      <td>0.000000</td>\n",
       "      <td>123.000000</td>\n",
       "    </tr>\n",
       "    <tr>\n",
       "      <th>25%</th>\n",
       "      <td>965.250000</td>\n",
       "      <td>234.000000</td>\n",
       "    </tr>\n",
       "    <tr>\n",
       "      <th>50%</th>\n",
       "      <td>1930.500000</td>\n",
       "      <td>440.500000</td>\n",
       "    </tr>\n",
       "    <tr>\n",
       "      <th>75%</th>\n",
       "      <td>2895.750000</td>\n",
       "      <td>1199.750000</td>\n",
       "    </tr>\n",
       "    <tr>\n",
       "      <th>max</th>\n",
       "      <td>3861.000000</td>\n",
       "      <td>788288.000000</td>\n",
       "    </tr>\n",
       "  </tbody>\n",
       "</table>\n",
       "</div>"
      ],
      "text/plain": [
       "             Index  TrainVideoCount\n",
       "count  3862.000000      3862.000000\n",
       "mean   1930.500000      3032.527188\n",
       "std    1115.007698     21182.048375\n",
       "min       0.000000       123.000000\n",
       "25%     965.250000       234.000000\n",
       "50%    1930.500000       440.500000\n",
       "75%    2895.750000      1199.750000\n",
       "max    3861.000000    788288.000000"
      ]
     },
     "execution_count": 28,
     "metadata": {},
     "output_type": "execute_result"
    }
   ],
   "source": [
    "vocabulary.describe()"
   ]
  },
  {
   "cell_type": "code",
   "execution_count": 29,
   "id": "61358a35-39bd-41ef-93a4-6b2012f729f1",
   "metadata": {},
   "outputs": [
    {
     "name": "stdout",
     "output_type": "stream",
     "text": [
      "Index                                                             315\n",
      "TrainVideoCount                                                  4898\n",
      "KnowledgeGraphId                                            /m/018ng8\n",
      "Name                                         Television advertisement\n",
      "WikiUrl             https://en.wikipedia.org/wiki/Television_adver...\n",
      "Vertical1                                        Arts & Entertainment\n",
      "Vertical2                                                         NaN\n",
      "Vertical3                                                         NaN\n",
      "WikiDescription     A television advertisement is a span of televi...\n",
      "Name: 316, dtype: object\n"
     ]
    }
   ],
   "source": [
    "print(vocabulary.iloc[316]) # Television Advertisement"
   ]
  }
 ],
 "metadata": {
  "kernelspec": {
   "display_name": "Python 3 (ipykernel)",
   "language": "python",
   "name": "python3"
  },
  "language_info": {
   "codemirror_mode": {
    "name": "ipython",
    "version": 3
   },
   "file_extension": ".py",
   "mimetype": "text/x-python",
   "name": "python",
   "nbconvert_exporter": "python",
   "pygments_lexer": "ipython3",
   "version": "3.12.0"
  }
 },
 "nbformat": 4,
 "nbformat_minor": 5
}
