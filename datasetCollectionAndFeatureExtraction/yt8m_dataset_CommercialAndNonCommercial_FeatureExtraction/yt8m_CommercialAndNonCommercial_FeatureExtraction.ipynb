{
 "cells": [
  {
   "cell_type": "code",
   "execution_count": 1,
   "id": "707d9dbf-7fa5-4583-933c-14876e802031",
   "metadata": {},
   "outputs": [],
   "source": [
    "# Import important libraries \n",
    "import tensorflow as tf\n",
    "import pandas as pd\n",
    "from IPython.display import YouTubeVideo\n",
    "import os\n",
    "import pickle\n",
    "import random"
   ]
  },
  {
   "cell_type": "code",
   "execution_count": 2,
   "id": "b5e08f5e-a769-4c83-943c-608983b584f7",
   "metadata": {},
   "outputs": [],
   "source": [
    "# Constants\n",
    "folder_path = '../2/frame/train'                                      # Folder path where Youtube-8M dataset will be saved.\n",
    "records_path = folder_path\n",
    "shard_no = 1                                                       # The shard no of dataset to be downloaded. (Total 100 Shards)\n",
    "server_location = 'us'                                             # Specifies the geographical region or server mirror to optimize download speed. Choose from 'us' for United States, 'eu' for Europe, or 'asia' for Asia.\n",
    "# Location to saved commercial and non_commercial features\n",
    "commercial_RgbFeatures_path      =  'commercial_Rgb.pkl'\n",
    "commercial_AudioFeatures_path    =  'commercial_Audio.pkl'\n",
    "nonCommercial_RgbFeatures_path   =  'non_Commercial_Rgb.pkl'\n",
    "nonCommercial_AudioFeatures_path =  'non_Commercial_Audio.pkl'"
   ]
  },
  {
   "cell_type": "markdown",
   "id": "6107f2f3-2c24-4e46-a520-dad3e67be4ef",
   "metadata": {},
   "source": [
    "### If you have already downloaded the dataset, then you can skip the next 2 cells where a new shard of dataset is being downloaded"
   ]
  },
  {
   "cell_type": "code",
   "execution_count": 3,
   "id": "6be578ff-99c5-472f-a7af-90f3ed294b7b",
   "metadata": {},
   "outputs": [],
   "source": [
    "def create_folder(folder_path):\n",
    "    \"\"\"\n",
    "    Creates a folder/directory at the specified path if it doesn't already exist.\n",
    "\n",
    "    Parameters:\n",
    "    - folder_path (str): The path where the new folder will be created.\n",
    "\n",
    "    Returns:\n",
    "    - return True/False, whether the folder is created successfully or not.\n",
    "    \"\"\"\n",
    "    if not os.path.exists(folder_path):\n",
    "        try:\n",
    "            os.makedirs(folder_path)\n",
    "            print(f\"Directory '{folder_path}' created successfully.\")\n",
    "            return True\n",
    "        except OSError as e:\n",
    "            print(f\"Error: Creating directory '{folder_path}' failed. {e}\")\n",
    "            return False\n",
    "    else:\n",
    "        print(f\"Directory '{folder_path}' already exists.\")\n",
    "        return False\n",
    "     \n",
    "def download_dataset(folder_path, shard_no, server_location):\n",
    "    \"\"\"\n",
    "    Downloads first shard(1/100th) of Youtube-8M dataset inside folder_path location.\n",
    "\n",
    "    Parameters:\n",
    "    - folder_path (str)    : The path where the datset will be downloaded.\n",
    "    - server_location (str): Specifies the geographical region or server mirror to optimize download speed.\n",
    "      Choose from 'us' for United States, 'eu' for Europe, or 'asia' for Asia.\n",
    "    \"\"\"\n",
    "    if not create_folder(folder_path):\n",
    "        return\n",
    "    currentDir = os.getcwd()\n",
    "    %cd {folder_path}\n",
    "    !curl data.yt8m.org/download.py | shard={shard_no},100 partition=2/frame/train mirror={server_location} python\n",
    "    %cd {currentDir}"
   ]
  },
  {
   "cell_type": "code",
   "execution_count": 4,
   "id": "1edf828a-c708-4349-978d-62d419399bc7",
   "metadata": {
    "scrolled": true
   },
   "outputs": [
    {
     "name": "stdout",
     "output_type": "stream",
     "text": [
      "Directory '../2/frame/train' already exists.\n"
     ]
    }
   ],
   "source": [
    "download_dataset(folder_path, shard_no, server_location)"
   ]
  },
  {
   "cell_type": "code",
   "execution_count": null,
   "id": "635f4451-b277-4081-8e74-55d58ee5fa3e",
   "metadata": {},
   "outputs": [],
   "source": [
    "def load_features(filename):\n",
    "    \"\"\"\n",
    "    Load data from a pickled file if it exists, otherwise initialize an empty list.\n",
    "\n",
    "    Parameters:\n",
    "    - filename (str): The path to the pickled file.\n",
    "    Returns:\n",
    "    - list: The loaded data from the file, or an empty list if the file doesn't exist.\n",
    "    \"\"\"\n",
    "    if os.path.exists(filename):\n",
    "        with open(filename, 'rb') as f:\n",
    "            data = pickle.load(f)\n",
    "            print(f'Loaded {filename} successfully.')\n",
    "    else:\n",
    "        print(f'{filename} not found. Initializing as empty list.')\n",
    "        data = []\n",
    "    return data"
   ]
  },
  {
   "cell_type": "code",
   "execution_count": null,
   "id": "070128f7-f5cc-4d72-b2b2-d9c80b06958a",
   "metadata": {},
   "outputs": [],
   "source": [
    "# Load commercial data features\n",
    "commercial_Rgb = load_features(commercial_RgbFeatures_path)\n",
    "commercial_Audio = load_features(commercial_AudioFeatures_path)\n",
    "# Load non-commercial data features\n",
    "non_Commercial_Rgb = load_features(nonCommercial_RgbFeatures_path)\n",
    "non_Commercial_Audio = load_features(nonCommercial_AudioFeatures_path)"
   ]
  },
  {
   "cell_type": "code",
   "execution_count": 8,
   "id": "fe9dc478-6a86-45cf-a00a-5101c9fe5714",
   "metadata": {},
   "outputs": [
    {
     "name": "stdout",
     "output_type": "stream",
     "text": [
      "Number of TV Advertisement RGB feature lists loaded: 0\n",
      "Number of TV Advertisement audio feature lists loaded: 0\n",
      "Number of Non-TV RGB feature lists loaded: 0\n",
      "Number of Non-Tv audio feature lists loaded: 0\n"
     ]
    }
   ],
   "source": [
    "# Verifying the loading of features\n",
    "print(f'Number of TV Advertisement RGB feature lists loaded: {len(commercial_Rgb)}')\n",
    "print(f'Number of TV Advertisement audio feature lists loaded: {len(commercial_Audio)}')\n",
    "# Verifying the loading of features\n",
    "print(f'Number of Non-TV RGB feature lists loaded: {len(non_Commercial_Rgb)}')\n",
    "print(f'Number of Non-Tv audio feature lists loaded: {len(non_Commercial_Audio)}')"
   ]
  },
  {
   "cell_type": "code",
   "execution_count": 9,
   "id": "b9467384-b444-4275-aaa9-b29436a1f49e",
   "metadata": {},
   "outputs": [],
   "source": [
    "filtered_vid_ids = []           # This array stores the video IDs of Television Advertisement label extracted from the TFRecord file.\n",
    "filtered_labels = []            # This array stores the label_ids associated with Television Advertisment label_id(315). The label ids are mapped to label names through vocabulary.csv which is discussed later.\n",
    "filtered_rgb = []               # This array stores the RGB features of Television Advertisement label.\n",
    "filtered_audio = []             # This array stores the audio features of Television Advertisement label.\n",
    "non_filtered_vid_ids = []       # This array stores the video IDs without the Television Advertisement label extracted from the TFRecord file.\n",
    "non_filtered_labels = []        # This array stores the label_ids associated without Television Advertisment label_id(315). The label ids are mapped to label names through vocabulary.csv which is discussed later.\n",
    "non_filtered_rgb = []           # This array stores the RGB features without the Television Advertisement label.\n",
    "non_filtered_audio = []         # This array stores the audio features without the Television Advertisement label."
   ]
  },
  {
   "cell_type": "code",
   "execution_count": 10,
   "id": "7ac6511f-569f-40c3-a697-10af54b2572d",
   "metadata": {},
   "outputs": [],
   "source": [
    "def decode_quantized_features(features):\n",
    "    \"\"\"\n",
    "    Decodes the quantized RGB or audio features from a TFRecord.\n",
    "\n",
    "    Parameters:\n",
    "    - features: A TensorFlow Feature object containing quantized data (bytes).\n",
    "\n",
    "    Returns:\n",
    "    - Decoded features as TensorFlow tensors of type tf.uint8.\n",
    "    \"\"\"\n",
    "    return tf.io.decode_raw(features, tf.uint8)"
   ]
  },
  {
   "cell_type": "code",
   "execution_count": 11,
   "id": "c915d103-04ff-4dc3-8f93-731cb97509b0",
   "metadata": {},
   "outputs": [],
   "source": [
    "# List all .tfrecord files in the directory\n",
    "tfrecord_files = [os.path.join(records_path, f) for f in os.listdir(records_path) if f.endswith('.tfrecord')]\n",
    "\n",
    "# The specific labels for the non-filtered lists\n",
    "specific_labels = {12, 329, 282, 52, 67, 92, 118, 653}"
   ]
  },
  {
   "cell_type": "code",
   "execution_count": 12,
   "id": "390c531c-0a1e-46b5-926d-4a7e8834781e",
   "metadata": {
    "scrolled": true
   },
   "outputs": [
    {
     "name": "stdout",
     "output_type": "stream",
     "text": [
      "counter 0\n",
      "Processing file: 2/frame/train/train1745.tfrecord\n",
      "WARNING:tensorflow:From /var/folders/hg/7q10m6ks77bcpykgf2nbst5h0000gn/T/ipykernel_24084/538426751.py:9: tf_record_iterator (from tensorflow.python.lib.io.tf_record) is deprecated and will be removed in a future version.\n",
      "Instructions for updating:\n",
      "Use eager execution and: \n",
      "`tf.data.TFRecordDataset(path)`\n",
      "counter 1\n",
      "Processing file: 2/frame/train/train3702.tfrecord\n",
      "counter 2\n",
      "Processing file: 2/frame/train/train3220.tfrecord\n",
      "counter 3\n",
      "Processing file: 2/frame/train/train0352.tfrecord\n",
      "counter 4\n",
      "Processing file: 2/frame/train/train2950.tfrecord\n",
      "counter 5\n",
      "Processing file: 2/frame/train/train1646.tfrecord\n",
      "counter 6\n",
      "Processing file: 2/frame/train/train3551.tfrecord\n",
      "counter 7\n",
      "Processing file: 2/frame/train/train3519.tfrecord\n",
      "counter 8\n",
      "Processing file: 2/frame/train/train0667.tfrecord\n",
      "counter 9\n",
      "Processing file: 2/frame/train/train0477.tfrecord\n",
      "counter 10\n",
      "Processing file: 2/frame/train/train3622.tfrecord\n",
      "counter 11\n",
      "Processing file: 2/frame/train/train0503.tfrecord\n",
      "counter 12\n",
      "Processing file: 2/frame/train/train2722.tfrecord\n",
      "counter 13\n",
      "Processing file: 2/frame/train/train0434.tfrecord\n",
      "counter 14\n",
      "Processing file: 2/frame/train/train3012.tfrecord\n",
      "counter 15\n",
      "Processing file: 2/frame/train/train0274.tfrecord\n",
      "counter 16\n",
      "Processing file: 2/frame/train/train2902.tfrecord\n",
      "counter 17\n",
      "Processing file: 2/frame/train/train3477.tfrecord\n",
      "counter 18\n",
      "Processing file: 2/frame/train/train0111.tfrecord\n",
      "counter 19\n",
      "Processing file: 2/frame/train/train0830.tfrecord\n",
      "counter 20\n",
      "Processing file: 2/frame/train/train0208.tfrecord\n",
      "counter 21\n",
      "Processing file: 2/frame/train/train3607.tfrecord\n",
      "counter 22\n",
      "Processing file: 2/frame/train/train0580.tfrecord\n",
      "counter 23\n",
      "Processing file: 2/frame/train/train2495.tfrecord\n",
      "counter 24\n",
      "Processing file: 2/frame/train/train2896.tfrecord\n",
      "counter 25\n",
      "Processing file: 2/frame/train/train1087.tfrecord\n",
      "counter 26\n",
      "Processing file: 2/frame/train/train2072.tfrecord\n",
      "counter 27\n",
      "Processing file: 2/frame/train/train3749.tfrecord\n",
      "counter 28\n",
      "Processing file: 2/frame/train/train0093.tfrecord\n",
      "counter 29\n",
      "Processing file: 2/frame/train/train2791.tfrecord\n",
      "counter 30\n",
      "Processing file: 2/frame/train/train0637.tfrecord\n",
      "counter 31\n",
      "Processing file: 2/frame/train/train3529.tfrecord\n",
      "counter 32\n",
      "Processing file: 2/frame/train/train3560.tfrecord\n",
      "counter 33\n",
      "Processing file: 2/frame/train/train1864.tfrecord\n",
      "counter 34\n",
      "Processing file: 2/frame/train/train2154.tfrecord\n",
      "counter 35\n",
      "Processing file: 2/frame/train/train1110.tfrecord\n",
      "counter 36\n",
      "Processing file: 2/frame/train/train0276.tfrecord\n",
      "counter 37\n",
      "Processing file: 2/frame/train/train0979.tfrecord\n",
      "counter 38\n",
      "Processing file: 2/frame/train/train1805.tfrecord\n",
      "counter 39\n",
      "Processing file: 2/frame/train/train2160.tfrecord\n",
      "counter 40\n",
      "Processing file: 2/frame/train/train2161.tfrecord\n"
     ]
    }
   ],
   "source": [
    "# Iterate over each .tfrecord file\n",
    "counter = 0\n",
    "for tfrecord_file in tfrecord_files:\n",
    "    print(f'counter {counter}')\n",
    "    counter+=1\n",
    "    print(f'Processing file: {tfrecord_file}')\n",
    "    # Iterate over each tfrecord in the TFRecord file\n",
    "    try:\n",
    "        for record in tf.compat.v1.python_io.tf_record_iterator(tfrecord_file):\n",
    "            try:\n",
    "                # Parse the SequenceExample from the binary record data\n",
    "                seq_example = tf.train.SequenceExample.FromString(record)\n",
    "\n",
    "                # Extract the video_id and labels\n",
    "                vid_id = seq_example.context.feature['id'].bytes_list.value[0].decode('UTF-8')\n",
    "                labels_list = seq_example.context.feature['labels'].int64_list.value\n",
    "\n",
    "                # Check if the label ID 315 is in the labels list (label id 315 corresponds to Television Advertisement)\n",
    "                if 315 in labels_list:\n",
    "                    # Append video ID and labels to the filtered lists\n",
    "                    filtered_vid_ids.append(vid_id)\n",
    "                    filtered_labels.append(labels_list)\n",
    "\n",
    "                    # Lists to store frame-level and audio-level features\n",
    "                    rgb_features = []\n",
    "                    audio_features = []\n",
    "\n",
    "                    # Iterate over each frame-level feature pair (RGB and audio) in the SequenceExample\n",
    "                    for rgb_feature, audio_feature in zip(seq_example.feature_lists.feature_list['rgb'].feature,\n",
    "                                                          seq_example.feature_lists.feature_list['audio'].feature):\n",
    "                        \n",
    "                        # Decode the quantized RGB features and audio features\n",
    "                        decoded_rgb = decode_quantized_features(rgb_feature.bytes_list.value[0])\n",
    "                        decoded_audio = decode_quantized_features(audio_feature.bytes_list.value[0])\n",
    "\n",
    "                        rgb_features.append(decoded_rgb)\n",
    "                        audio_features.append(decoded_audio)\n",
    "\n",
    "                    # Append frame-level lists to the main filtered lists\n",
    "                    filtered_rgb.append(rgb_features)\n",
    "                    filtered_audio.append(audio_features)\n",
    "                else:\n",
    "                    # Check if the labels list contains any of the specific labels\n",
    "                    if any(label in specific_labels for label in labels_list):\n",
    "                        # Append video ID and labels to the non-filtered lists\n",
    "                        non_filtered_vid_ids.append(vid_id)\n",
    "                        non_filtered_labels.append(labels_list)\n",
    "\n",
    "                        # Lists to store frame-level and audio-level features\n",
    "                        rgb_features = []\n",
    "                        audio_features = []\n",
    "\n",
    "                        # Iterate over each frame-level feature pair (RGB and audio) in the SequenceExample\n",
    "                        for rgb_feature, audio_feature in zip(seq_example.feature_lists.feature_list['rgb'].feature,\n",
    "                                                              seq_example.feature_lists.feature_list['audio'].feature):\n",
    "                            \n",
    "                            # Decode the quantized RGB features and audio features\n",
    "                            decoded_rgb = decode_quantized_features(rgb_feature.bytes_list.value[0])\n",
    "                            decoded_audio = decode_quantized_features(audio_feature.bytes_list.value[0])\n",
    "\n",
    "                            rgb_features.append(decoded_rgb)\n",
    "                            audio_features.append(decoded_audio)\n",
    "\n",
    "                        # Append frame-level lists to the main non-filtered lists\n",
    "                        non_filtered_rgb.append(rgb_features)\n",
    "                        non_filtered_audio.append(audio_features)\n",
    "\n",
    "            except tf.errors.DataLossError as e:\n",
    "                print(f'Skipping corrupted record in file {tfrecord_file}: {e}')\n",
    "    except tf.errors.DataLossError as e:\n",
    "        print(f'Skipping entire file due to corruption: {tfrecord_file}: {e}')\n",
    "\n",
    "# At this point, the following lists contain the relevant data:\n",
    "# filtered_vid_ids, filtered_labels, filtered_rgb, and filtered_audio contain data for videos with the label \"Television advertisement\".\n",
    "# non_filtered_vid_ids, non_filtered_labels, non_filtered_rgb, and non_filtered_audio contain data for videos with the specified labels."
   ]
  },
  {
   "cell_type": "code",
   "execution_count": 13,
   "id": "85c34e99-d03b-4f11-985d-e2978f88188a",
   "metadata": {},
   "outputs": [
    {
     "name": "stdout",
     "output_type": "stream",
     "text": [
      "Number of videos in the new commercial dataset:  61\n",
      "Number of labels in the new commercial dataset:  61\n",
      "Length of visual features:  61\n",
      "Length of audio features 61\n",
      "Picking a youtube video id: cpVK\n"
     ]
    }
   ],
   "source": [
    "print('Number of videos in the new commercial dataset: ',len(filtered_vid_ids))\n",
    "print ('Number of labels in the new commercial dataset: ', len (filtered_labels))\n",
    "print('Length of visual features: ', len(filtered_rgb))\n",
    "print('Length of audio features', len(filtered_audio))\n",
    "print('Picking a youtube video id:',filtered_vid_ids[5])"
   ]
  },
  {
   "cell_type": "code",
   "execution_count": 14,
   "id": "f58ee503-eb4b-4a0c-9f2e-505e37c1a812",
   "metadata": {},
   "outputs": [
    {
     "name": "stdout",
     "output_type": "stream",
     "text": [
      "Number of videos in the new commercial dataset:  2469\n",
      "Number of labels in the new commercial dataset:  2469\n",
      "Length of visual features:  2469\n",
      "Length of audio features 2469\n",
      "Picking a youtube video id: 8pCj\n"
     ]
    }
   ],
   "source": [
    "print('Number of videos in the new commercial dataset: ',len(non_filtered_vid_ids))\n",
    "print ('Number of labels in the new commercial dataset: ', len (non_filtered_labels))\n",
    "print('Length of visual features: ', len(non_filtered_rgb))\n",
    "print('Length of audio features', len(non_filtered_audio))\n",
    "print('Picking a youtube video id:',non_filtered_vid_ids[5])"
   ]
  },
  {
   "cell_type": "code",
   "execution_count": 15,
   "id": "c2aeec36-ca93-4ba1-b6ea-8de1de9ee99e",
   "metadata": {
    "scrolled": true
   },
   "outputs": [
    {
     "name": "stdout",
     "output_type": "stream",
     "text": [
      "['IiCj', 'l5Cj', 'i2Z6', 'iPZ6', 'bzfQ', 'cpVK', 'XGVK', 'nCAI', 'VxAI', 'ir5r', 'yo5r', 'Ju4V', 'hx4V', 'WVkV', 'prhR', 'jehR', 'cT6A', 'qp6A', 'ODih', 'F7R4', '5aWK', 'jHeA', 'UJeA', 'gFeA', 'kmUY', 'JAUY', '59bX', 'vCbX', 'tJny', 'Ofdw', 'qL6l', '7hOp', 'EoOp', 'xmrH', 'e2rH', '1oHA', 'JAHA', '5N8D', 'vCbF', 'MtbF', 'RbbF', 'qMbF', 'UrbF', 'p8Tb', 'ZmTb', 'rQTb', 'u0Tb', 'Lfkr', '62kr', 'ZKkr', 'wm45', 'g245', 'F1Ee', 'J0IU', 'KyIU', 'BLeC', 'GKpX', 'Y0pX', 'JZpX', '1bI0', '3fI1']\n"
     ]
    }
   ],
   "source": [
    "print(filtered_vid_ids)"
   ]
  },
  {
   "cell_type": "code",
   "execution_count": 16,
   "id": "708352f9-447c-48dc-b889-73348b3c7cce",
   "metadata": {
    "scrolled": true
   },
   "outputs": [
    {
     "name": "stdout",
     "output_type": "stream",
     "text": [
      "['4iCj', 'UQCj', 'mWCj', 'OvCj', '43Cj', '8pCj', '9OCj', 'z6Cj', 'qqCj', '9CCj', 'nOCj', '3SCj', 'MCCj', 'SoCj', 'iZCj', 'DECj', 'ddCj', 'RZCj', 'N1Cj', 'z9Cj', 'AoCj', 'RkCj', 'hDCj', 'VbCj', 'RUCj', 'jpCj', 'OgCj', '8KCj', '4GCj', 'NKCj', '4aCj', 'G7Cj', '0lCj', 'sSCj', 'qtCj', 'nTCj', 'xtCj', 'i2Cj', 'HnCj', '6hCj', 'W7Cj', 'kICj', 'uhCj', 'ODCj', 'TxCj', 'pUCj', 'DgCj', 'ONCj', 'YnCj', 'BnCj', 'h2Cj', 'noCj', 'L1Cj', 'OYCj', 'PTCj', 'jMCj', 'EeCj', 'Fh7S', 'iU7S', 'my7S', 'XC7S', 'X07S', 'Ah7S', 'cq7S', 'jJ7S', 'KG7S', 'ks7S', '2F7S', 'Ku7S', 'kh7S', 'nu7S', '7z7S', '3I7S', 'B47S', 'wn7S', 'Do7S', 'eZ7S', 'LB7S', 'nW7S', 'Sk7S', 'NK7S', 'Sm7S', 'J17S', 'eO7S', '7Q7S', 'oy7S', 'eB7S', 'rX7S', '7u7S', 'tY7S', 'cB7S', 'GD7S', 'yj7S', 'Id7S', 'wA7S', 'aI7S', 'Gz7S', 'BJ7S', 'kA7S', 'vQ7S', 'yT7S', 'zJ7S', 'Ay7S', '0F7S', '5J7S', 'rh7S', 'dZ7S', 'oN7S', '04Z6', 'hjZ6', 'p5Z6', 'CQZ6', '1XZ6', '3zZ6', 'CHZ6', 'erZ6', 'QDZ6', 'I2Z6', 'YvZ6', 'JVZ6', 'zsZ6', 'JMZ6', 'TqZ6', 'SlZ6', 'BQZ6', '6lZ6', 'kjZ6', 'fcZ6', 'GTZ6', '0yZ6', 'mjZ6', 'OzZ6', 'hJZ6', 'v9Z6', 'BuZ6', '1iZ6', 'GRZ6', 'ZVZ6', 'noZ6', 'UdZ6', 'xSZ6', 'XbZ6', 'GVZ6', '2UZ6', '7HZ6', 'CnZ6', 'ezZ6', 'qXZ6', 'xJZ6', 'frZ6', 'NoZ6', '10Z6', '8TZ6', 'lvZ6', 'aVZ6', '0FZ6', 'rLZ6', 'C1Z6', 'tZZ6', '1rZ6', 'hVZ6', 'd5Z6', 'tEZ6', 'HnZ6', 'mrZ6', 'ewZ6', '1OZ6', 'IEZ6', 'HtZ6', 'qDZ6', '1HZ6', 'tyZ6', 'UfZ6', 'GQZ6', 'UHfQ', 'AgfQ', 'J6fQ', 'ScfQ', 'PXfQ', 'SwfQ', '2ofQ', 'j0fQ', '0wfQ', 'tufQ', 'tQfQ', 'odfQ', 'a0fQ', '6ffQ', 'cGfQ', 'FnfQ', 'W3fQ', 'ZgfQ', 'rHfQ', 'gifQ', 'tSfQ', 'JXfQ', 'VofQ', 'ClfQ', '4rfQ', 'z0fQ', 'vnfQ', 'sZfQ', 'JofQ', 'ERfQ', 'OdfQ', 'EYfQ', 'UGfQ', 'eJfQ', 'VcfQ', 'BwfQ', 'FmfQ', 'umfQ', 'sGfQ', 'sBfQ', 'hQfQ', 'b3fQ', 'O6fQ', 'SufQ', '3kfQ', 'IyfQ', 'RmfQ', 'pDfQ', '8tfQ', 'hsfQ', 'CrfQ', 'QXfQ', 'LjfQ', '9sfQ', 'b2fQ', 'VWfQ', 'X0fQ', 'oBfQ', 'v9fQ', 'VsVK', 'Q0VK', 'bCVK', 'ixVK', 'aaVK', '51VK', 'zhVK', 'umVK', 'yJVK', 'qrVK', 'E0VK', '6NVK', 'RaVK', 'nvVK', 'OiVK', 'D9VK', 'vpVK', 'jZVK', '3aVK', 'kCVK', '4oVK', 'mLVK', '5OVK', '81VK', 'NUVK', 'fOVK', '3VVK', 'M9VK', 'YOVK', 'slVK', 'IsVK', 'gxVK', '3jVK', '69VK', '89VK', 'XdVK', 'CgVK', 'VQVK', 'oZVK', 'TEVK', 'FWVK', 'uVVK', 'K2VK', 'v3VK', 'J6VK', 'NQVK', 'LbVK', 'hrVK', 'nFVK', 'ZbVK', 'bYVK', 'b3VK', 'J5VK', 'JEVK', 'XhVK', 'Q3VK', 'geVK', 'HUVK', 'ITVK', 'jTVK', 'lkVK', 'z8VK', 'jKAI', 'ZxAI', 'tVAI', 'hLAI', 'aEAI', 'heAI', 'V7AI', 'ryAI', 'tuAI', 'WMAI', '4IAI', 'D4AI', 'W8AI', 'ioAI', '3QAI', 'aQAI', 'PIAI', '8oAI', 'ikAI', 'RmAI', 'VKAI', 'osAI', '0jAI', 'OMAI', 'tvAI', 'YKAI', 'w6AI', '7SAI', 'kcAI', 'z6AI', 'JzAI', 'mGAI', 'PAAI', '4OAI', 'zhAI', 'yYAI', 'NBAI', 'aeAI', 'NRAI', 'VZAI', 'Y8AI', 'rdAI', '2kAI', 'krAI', 'M9AI', 'B2AI', '4GAI', 'xUAI', 'YCAI', 'wbAI', 'nbAI', 'J6AI', 'uxAI', 'a6AI', 'eKAI', 'OwAI', 'dFAI', '7AAI', '79AI', 'aiAI', '9k5r', '6U5r', 'fs5r', 'Wr5r', 'PV5r', 'uf5r', 'cJ5r', 'YR5r', 'bA5r', 'qR5r', 'OD5r', 'x15r', 'SP5r', '3x5r', 'Ci5r', 'oc5r', 'eg5r', 'O55r', 'PS5r', 'lc5r', 'LA5r', 'Sg5r', 'cq5r', 'bV5r', 'Cm5r', 'Vy5r', '5w5r', 'cE5r', 'IA5r', 'G15r', '0l5r', '0U5r', 'YO5r', 'yM5r', 'mU5r', 'wA5r', 'Ov5r', 'fN5r', 'Xa5r', 'Hn5r', 'vZ5r', 'aa5r', 'dR5r', 'dx5r', 'se5r', 'od5r', 'TU5r', 'wl5r', 'eJ5r', 'uD5r', 'o15r', 'yF5r', 'fl5r', 'Ob5r', 'rX5r', 'A15r', 'B25r', 'f85r', 'Qq5r', 'NS5r', 'V05r', '9m5r', 'ep5r', 'Sl5r', 'Us5r', 'iT5r', 'GW5r', 'mt4V', 'xa4V', 'A04V', 'be4V', 'Q44V', 'Pd4V', '5P4V', 'gc4V', 'O64V', 'Ja4V', 'Tt4V', 'S74V', '7j4V', 'wK4V', 'XK4V', '1l4V', 'w54V', 'Bs4V', 'Zn4V', 'Jg4V', 'nL4V', 'aB4V', 'pb4V', '0t4V', 'BO4V', 'JK4V', 'Vz4V', 'hB4V', '1S4V', 'Dt4V', 'Hd4V', '3q4V', 'E94V', 'Tu4V', 'tX4V', 'yY4V', 'KX4V', 'R34V', 'Hx4V', 'Fp4V', 'yA4V', 'WL4V', 'YQ4V', 'zA4V', 'ul4V', 'LP4V', 'rO4V', 'Wl4V', 'Qj4V', '7c4V', 'rV4V', '5i4V', 'RL4V', 'GS4V', 'Lr4V', 'zp4V', 'Al4V', 'nK4V', 'Oa4V', '9T4V', 'rT4V', 'bq4V', 'BX4V', '5p4V', 'Td4V', 'sh4V', 'Ht4V', 'jP4V', 'aC4V', 'M14V', '1O4V', 'yt4V', 'VkkV', 'BgkV', 'p3kV', 'xykV', 'RFkV', 'S9kV', 'v0kV', 'eDkV', 'u7kV', 'AokV', 'c9kV', 'KXkV', 'MfkV', 'QykV', 'zVkV', 'SjkV', 'j0kV', 'fokV', 'ZFkV', 'xWkV', 'DWkV', 'nqkV', 'ZCkV', 'EBkV', '7YkV', 'MJkV', 'iqkV', '3KkV', 'AZkV', 'zbkV', 'KikV', 'wskV', 'HFkV', 'cbkV', 'h0kV', 'tIkV', 'FhkV', 'pJkV', '3wkV', 'DAkV', '7QkV', 'PikV', 'dgkV', 'yNkV', 'GHkV', 'gzkV', 'arkV', 'KpkV', 'PNkV', '3FkV', 'cUkV', 'upkV', 'aohR', 'n8hR', 'qchR', 'LKhR', 'lWhR', 'NdhR', 'hhhR', 'eqhR', 'vNhR', '9lhR', 'TohR', '7OhR', 'rdhR', 'llhR', '38hR', 'kahR', 'izhR', 'wOhR', 'DChR', 'ehhR', 'QohR', 'FEhR', 'xDhR', 'NAhR', 'SghR', 'bNhR', 'lShR', 'axhR', '04hR', 'URhR', 'PBhR', 'zlhR', 'oJhR', 'ZghR', 'OthR', 'NIhR', 'LrhR', 'u2hR', 'djhR', '0dhR', 'AThR', 'VvhR', 'aFhR', 'vdhR', 'f7hR', 'J5hR', 'IXhR', 'LOhR', 'HxhR', 'o4hR', 'UehR', 'HUhR', 'e6hR', 'TthR', 'AihR', 'G7hR', 'yrhR', 'bLhR', 'IMhR', 'lMhR', 'rFhR', 'BkhR', 'snhR', '5fhR', 'P1hR', 'NzhR', 'k2hR', 'MqhR', 'UBhR', 'Sq6A', 'ao6A', 'NZ6A', 'uw6A', 'cg6A', 'uB6A', 'fd6A', '676A', 'iD6A', 'PI6A', '5h6A', 'sx6A', 'lw6A', 'OI6A', 'X96A', 'lO6A', 'uX6A', 'uf6A', 'ln6A', 'M76A', 'Bx6A', '8Y6A', 'q26A', 'fP6A', 'ra6A', 'ZN6A', 'Ni6A', 'Mx6A', '1B6A', 'VR6A', 'th6A', 'gJ6A', 'kZ6A', 'QM6A', 'ta6A', 'XS6A', 'ko6A', 'Mb6A', 'YY6A', 'Ih6A', 'vs6A', 'md6A', 'cd6A', 'jy6A', 'ts6A', 'Dw6A', 'Lw6A', '7W6A', 'hv6A', 'kA6A', 'YE6A', 'jV6A', 'dXih', 'yPih', 'mQih', 'oiih', 'GSih', 'ezih', 'GCih', 'rDih', '7Oih', 'ytih', '0Lih', 'Vtih', 'Thih', 'Sdih', 'Wbih', 'ahih', 'Quih', 'jdih', 'uKih', 'yuih', 'kxih', 'wZih', 'yHih', 'WZih', '7Sih', 'Czih', 'jYih', 'hsih', '0Aih', 'L5ih', 'QVih', 'srih', 'QQih', 'eRih', 'Rtih', '5xih', 'VDih', 'nUih', 'oQih', 'qGih', 'nSih', 'phih', 'o1ih', '9qih', 'wgih', 'x2ih', 'zoih', 'YXih', '2Sih', 'cRih', 'IWih', 'V4ih', '9dih', 'K7ih', '8Kih', 'rGih', '8rR4', 'pJR4', 'NUR4', 'y5R4', 'gjR4', '8bR4', 'h5R4', 'fYR4', 'ETR4', 'TiR4', 'LJR4', '0gR4', 'jfR4', 'XpR4', 'MfR4', 'd0R4', '4eR4', 'k6R4', 'H3R4', 'V8R4', 'AVR4', 'q3R4', 'aqR4', 'CDR4', 'MwR4', 'bTR4', 'fkR4', 'KgR4', '1yR4', 'ocR4', 'GmR4', '41R4', 'lbR4', 'ozR4', 'MPR4', 'FjR4', 'DyR4', 'XER4', 'SBR4', '4fR4', 'tkR4', 'ZQR4', 'hRR4', 'SyR4', 'XmR4', 'PyR4', '0OR4', 'RaR4', 'ChR4', '1YR4', 'AoR4', '6IR4', 'UcR4', 'LTR4', 'GLR4', '0LR4', 'qJR4', 'zoR4', 'i8ha', '20ha', 'e1ha', 'XGha', 'GUha', 'XXha', '1Dha', 'j3ha', 'Jtha', '6Kha', 'xpha', '8xha', '16ha', 'vtha', 'yXha', 'gvha', 'sWha', 'vBha', 'waha', 'Y6ha', '8qha', 'bXha', 'gYha', 'jOha', '9vha', '5Mha', '3Dha', 'bTha', 'fvha', 'O8ha', 'Tzha', '1hha', '57ha', '9Bha', 'lpha', 'Lsha', '09ha', 'ELha', 'Muha', '63ha', 'wXha', 'ktha', '1Gha', 'u3ha', 'iLha', '1xha', 'moha', '3Gha', 'i2ha', 'AXWK', 'fGWK', '5ZWK', 'Z7WK', 'fRWK', '8VWK', '7qWK', 'EvWK', 'OMWK', 'QJWK', 'XCWK', 'VdWK', 'gpWK', 'HCWK', 'd3WK', 'pKWK', 'aOWK', 'JOWK', 'hoWK', 'GVWK', 'TMWK', 'ijWK', 'TlWK', 'KjWK', 'JbWK', 'ZDWK', 'HcWK', 'g1WK', '21WK', 'QPWK', 'meWK', 'lDWK', 'SwWK', 'kHWK', 'X4WK', 'yXWK', 'QdWK', 'mzWK', 'ubWK', 'CBWK', 'bZWK', '0mWK', 'kdWK', 'zGWK', 'vsWK', '0RWK', 'huWK', 'DcWK', 'K3WK', 'WaWK', 'ZmWK', 'D9WK', 'y2WK', 'mAWK', 'ySeA', 'HzeA', 'W7eA', 'LreA', 'pmeA', 'MaeA', 'PseA', 'xseA', 'mBeA', 'zxeA', 'ozeA', 'fleA', 'TweA', 'xjeA', 'N9eA', 'ureA', 'oneA', 'wXeA', 'f2eA', 'qBeA', 'B3eA', '8NeA', '6ZeA', 'LbeA', '2GeA', 'qdeA', 'cVeA', 'l5eA', 'qieA', 'FeeA', 'GCeA', 'J3eA', 'hreA', 'DLeA', 'eSeA', 'V5eA', 'lieA', 'dOeA', 'K5eA', 'gseA', 'eBeA', 'nReA', 'WTeA', 'MIeA', '8ieA', 'ZEeA', 'YheA', 'JReA', 'GLeA', '3xeA', 'SpeA', 'mSeA', 'bHeA', 'cFeA', 'WVeA', 'bMeA', 'gVeA', 'yWeA', '91eA', 'beeA', 'FReA', 'aWUY', 'a5UY', 'Y3UY', 'FBUY', 'HvUY', 'ofUY', 'VLUY', 'wbUY', 'hXUY', 'l2UY', 'JmUY', 'lfUY', '5kUY', 'UXUY', 'ggUY', 'HzUY', '1dUY', 'NDUY', 'CBUY', 'efUY', '7kUY', 'GtUY', 'kBUY', 'jXUY', 'aoUY', 'EeUY', 'v3UY', 'slUY', 'wCUY', 'Q8UY', 'YZUY', 'mGUY', 'ogUY', 'aCUY', 'kPUY', 'IHUY', 'zjUY', 'UrUY', '2mUY', '3AUY', 'ZMUY', 'oKUY', 'y7UY', 'cSUY', 'hPUY', '1aUY', 'H8UY', 'OlUY', 'OLUY', '81UY', 'xOUY', 'rRUY', 'yUUY', 'WEUY', 'ZqUY', '36UY', 'HqUY', 'F6UY', 'tBUY', 'vuUY', 'vUUY', 'W1UY', 'hV4f', '064f', 'Bw4f', 'yu4f', 'GI4f', 'eP4f', 'pi4f', 'p14f', 'Iv4f', 'W74f', 'Vd4f', 'Sa4f', 'Ts4f', 'yp4f', 'bD4f', 'Yf4f', 'pB4f', 'ND4f', 'yh4f', 'IA4f', 'O44f', 'sy4f', 'Hr4f', 'gu4f', 'Jx4f', 'qk4f', 'Vp4f', '1j4f', 'wx4f', 'Md4f', '6B4f', 'af4f', 'RD4f', 'wg4f', 'S34f', 'dZ4f', 'bL4f', 'AA4f', '4B4f', 'hI4f', 'ov4f', 'kH4f', 'sK4f', '3M4f', 'pR4f', 'lw4f', 'Hu4f', 'tK4f', 'ds4f', 'XH4f', 'qe4f', 'd04f', 'KQ4f', 'Tz4f', 'D14f', 'ws4f', '4b4f', 'SX4f', '7u4f', 'd74f', 'M84f', '3Q4f', 'CQ4f', 'zL4f', 'FN4f', '2V4f', 'LC4f', 'Pl4f', 'gR4f', '9x4f', 'SZbX', 'xvbX', 'pfbX', 'LwbX', 'bobX', 'HlbX', 'bSbX', 'mqbX', 'BBbX', 'gFbX', 'UmbX', 'JpbX', 'WabX', 'bEbX', 'M2bX', 'cgbX', 'qdbX', 'rcbX', 'jhbX', '4ybX', '0hbX', 'CVbX', 'vIbX', 'TebX', 'ZCbX', 'AxbX', 'xZbX', 'c4bX', 'RcbX', '0vbX', 'EFbX', 'hjbX', 'flbX', 'jJbX', 'VjbX', 'MzbX', 'ORbX', 'oQbX', '0abX', '0TbX', 'oFbX', '8ObX', 'BObX', 'JMbX', 'f9bX', 'yLbX', 'CKbX', 'kzbX', 'U8bX', 'HxbX', 'uabX', 'igbX', 'lkbX', 'dCny', 'J2ny', '2cny', 'sHny', '3pny', 'VPny', 'C4ny', 'Mdny', 'Ifny', '6Wny', 'a5ny', '0Kny', 'VGny', 'b5ny', 'IQny', 'R2ny', 'DYny', 'U1ny', 'wEny', 'fyny', 'Z1ny', 'Puny', 'yqny', 'ZRny', 'U6ny', 'Qjny', 'xGny', 'bRny', 'ogny', 'PLny', '3nny', 'Teny', 'oRny', 'k2ny', '4zny', 'i8ny', '68ny', 'HJny', 'sYny', '1Wny', 'qcny', '0Iny', 'gEny', 'jrny', 'Twny', 'Ngny', 'Qdny', 'YDny', 'Rcny', 'q0ny', 'qiny', 'ndny', 'aDny', 'jqny', 'j4ny', 'Oeny', 'bqny', 'H3ny', 'aZny', 'rjny', 'CNny', 'Pgny', 'ztny', 'Knny', '3Eny', 'eZny', '6Rny', 'Bkny', 'uVny', 'yNny', '9Any', 'bEny', '2lny', 'gKny', 'fnny', 'ovny', 'Xqdw', 'CAdw', 'p3dw', '8kdw', 'eLdw', 'bCdw', '3Sdw', 'v8dw', '2Mdw', 'LUdw', '2fdw', 'oZdw', 'Vxdw', '5Sdw', 'Dldw', 'L9dw', 'QBdw', 'Kkdw', 'wPdw', '2Hdw', 'Iodw', 'hqdw', 'Lcdw', '3Hdw', 'XXdw', 'Gudw', 'b7dw', 'tCdw', 'ZUdw', 'qddw', 'bxdw', 'nEdw', 's6dw', 'bOdw', 'BMdw', 'Qddw', 'iydw', 'bGdw', 'h6dw', 'm9dw', '4edw', 'uJdw', 'N7dw', 'lVdw', 'N4dw', '5Ddw', 'Pydw', 'AHdw', '7Bdw', '19dw', '3Ndw', 'Oidw', 'ZHdw', 'gydw', 'Qadw', 'VIdw', 'lydw', 'Hp6l', 'qB6l', '7r6l', 'Mq6l', 'xX6l', 'JK6l', 'nT6l', 'u26l', 'wP6l', 'TI6l', 'Gj6l', 'qt6l', 'oP6l', 'vn6l', 'gk6l', 'fK6l', 'RI6l', 'sA6l', 'xq6l', '3b6l', 'VF6l', 'P86l', 'N36l', 'Vf6l', 'O56l', '5D6l', 'Hx6l', 'uP6l', 'Du6l', 'Tp6l', '2V6l', 'GY6l', 'jX6l', 'YW6l', 'Ql6l', 'ew6l', 'Xo6l', 'IW6l', 'qC6l', 'L96l', '6G6l', 'm46l', 'Ft6l', 'JZ6l', '6U6l', 'S96l', 'yx6l', 'xl6l', '0m6l', 'bY6l', 'I86l', 'Ra6l', 'W76l', 'EJ6l', '446l', 'zf6l', '4x6l', 'Lk6l', '8i6l', 'xn6l', 'wf6l', '0i6l', 'TWjw', 'yKjw', 'nhjw', 'Dpjw', 'Wzjw', 'mUjw', 'KGjw', 'mBjw', 'Xbjw', 'afjw', '7ejw', 'T3jw', 'wfjw', 'ePjw', 'AVjw', 'GSjw', '2Qjw', 'KWjw', 'sGjw', 'IIjw', 'b7jw', 'itjw', '4jjw', 'Jpjw', 'oOjw', '8Jjw', 'ZCjw', 'OIjw', 'Oljw', 'pYjw', 'umjw', 'Pnjw', 'PUjw', 'ZKjw', 'Ltjw', 'pUjw', 'YIjw', 'xvjw', 'kqjw', 'wHjw', 'igjw', 'Zjjw', 'amjw', 'IWjw', 'VPjw', 'Hejw', 'IZjw', 'Fnjw', 'wujw', 'mdjw', 'Skjw', 'LDjw', 'g0jw', 'Swjw', 'DSjw', 'vijw', 'kWjw', 'z5jw', 'YLjw', 'yejw', 'ZEjw', 'xfjw', 'Q9jw', 'yDjw', 'SSjw', 'SNjw', 'FKjw', 'm6Op', 'kdOp', 'clOp', 'IbOp', 'dKOp', 'm9Op', '8GOp', 'ETOp', 'tcOp', 'Y5Op', 'N2Op', 'P6Op', 'K0Op', 'T3Op', 'xvOp', 'OrOp', 'UlOp', 'M8Op', 'ouOp', 'SUOp', 'fLOp', 'IKOp', 'V3Op', 'MmOp', 'bGOp', '85Op', 'jaOp', 'w1Op', '0gOp', 'DhOp', '34Op', 'KnOp', 'SXOp', 'YDOp', '9BOp', 'JgOp', 'lEOp', 'xDOp', 'mROp', 'kgOp', 'a3Op', '5WOp', 'GVOp', 'EgOp', 'H4Op', 'lfOp', 'FyOp', 'xmOp', 'ynOp', 'CoOp', '6QOp', 'XmOp', '00Op', '0UOp', 'Q7Op', 'OnOp', 'QGOp', '71Op', 'nQOp', 'VeOp', '1nOp', 'NfOp', 'r4Op', '8VOp', 'DkOp', 'j0Op', 'Y4Op', 'ntOp', '8xOp', 'E1Op', 'H3Op', 'HxOp', 'vbOp', '31Op', 'WHOp', 'NOOp', 'IUUS', 'btUS', 'cNUS', 'deUS', 'j0US', 'k5US', 'VlUS', 'BmUS', 'BoUS', 'o1US', 'mBUS', 'qIUS', 'PDUS', 'iKUS', 'uHUS', 'GCUS', 'ITUS', 'b6US', 'uEUS', 'wbUS', 'q6US', 'OVUS', 'CrUS', 'bFUS', '5vUS', 'NvUS', '8DUS', 'n8US', 'O1US', '1uUS', 'oqUS', 'x0US', 'aVUS', 'r7US', 'iXUS', '1qUS', 'HUUS', 'U0US', 'nfUS', 'xIUS', 'GMUS', 'DFUS', 'opUS', 'gxUS', 'A4US', 'ZgUS', 'fCUS', '5HUS', 'ESUS', 'dxUS', 'XMUS', 'qOUS', 'WjUS', 'H2US', 'gUUS', 'mzUS', 'RRUS', 'EYUS', 'LRUS', 'axUS', 'WkUS', 'z0US', 'uJUS', 'lmUS', 'N9rH', '4PrH', '7KrH', '2brH', 'DKrH', '7GrH', 'cTrH', '0KrH', 'cMrH', 'lzrH', 'EcrH', 'jNrH', '56rH', 'SjrH', 'BZrH', 'BvrH', 'D4rH', 'bwrH', 'bWrH', 'RirH', 'X1rH', 'wYrH', 'QurH', 'EsrH', 'ZwrH', '0zrH', 'DYrH', 'IfrH', '8rrH', '3grH', 'TJrH', 'tLrH', 'RqrH', 'DUrH', 'HkrH', '6irH', 'syrH', '7arH', '4qrH', 'lkrH', 'RUrH', 'Q2rH', 'UXrH', 'OIrH', 'IRrH', 'jCrH', '5NrH', 'QPrH', 'lVrH', 'wirH', 'ASrH', 'FWrH', 'xdrH', 'ChrH', 'dGrH', 'rYHA', 'qcHA', 'reHA', 'qhHA', 'JbHA', 'K5HA', 'eAHA', 'xPHA', 'CmHA', 'OFHA', 'FIHA', 'zFHA', 'SDHA', 'meHA', 'd6HA', '2bHA', 'yBHA', 'BWHA', 'GHHA', 'NQHA', 'txHA', 'Z4HA', 'myHA', 'mPHA', 'xKHA', 'nCHA', 'oKHA', 'slHA', 'JoHA', 'lFHA', 'FHHA', 'YoHA', 'LjHA', 'gIHA', 'L9HA', 'EfHA', 'VxHA', 'pBHA', 'PVHA', 'fQHA', 'dXHA', 'l1HA', 'vrHA', 'NNHA', 'tqHA', '6gHA', 'xtHA', 'dPHA', 'GJHA', 'CjHA', '1nHA', 'jQHA', 'toHA', 'nQHA', 'eQHA', 'hcHA', 'j5HA', 'kUHA', 'D98D', '1B8D', 'Sq8D', 'kf8D', '738D', 'HN8D', 'gv8D', 'e68D', 'QG8D', 'YR8D', '4c8D', '2V8D', 'ja8D', '2u8D', 'hs8D', 'lT8D', 'rQ8D', 'WI8D', 'mm8D', 'U58D', 'DA8D', '0o8D', 'vf8D', 'C18D', '9q8D', 'Hj8D', 'TX8D', 'JA8D', '8Q8D', 'IS8D', '4I8D', 'SO8D', 'CR8D', 'uO8D', 'Hf8D', 'PB8D', 'l58D', 'Ac8D', '9I8D', 'exbF', 'mcbF', 'ABbF', 'SqbF', 'NLbF', 'BxbF', 'FCbF', 'BabF', 'dbbF', 'vQbF', '69bF', '8nbF', '59bF', 'XDbF', 'JjbF', '4gbF', 'dtbF', 'wcbF', 'eXbF', '9fbF', 'QTbF', 'PpbF', '1hbF', 'sFbF', 'JrbF', 'YvbF', 'oRbF', 'mhbF', 'd8bF', 'xHbF', 'ItbF', 'x1bF', 'KWbF', 'fjbF', 'qKbF', '4hbF', 'ErbF', 'IhbF', 'mEbF', 'v5bF', 'UObF', '0QbF', 'uebF', 'ePbF', '47bF', 'YwbF', 'NAbF', '9abF', 'WtbF', 'KXbF', 'ftbF', 'bobF', 'gKTb', 'kATb', 'M1Tb', 'DsTb', 'mvTb', 'QxTb', 'wCTb', 'OQTb', 'IPTb', '9VTb', 'WnTb', 'OKTb', 'UPTb', 'QhTb', 'hjTb', '8xTb', 'rLTb', 'gpTb', 'TrTb', '4GTb', 'YRTb', 'XYTb', 'HXTb', 'DcTb', 'nJTb', 'ADTb', 'kfTb', '7OTb', '2GTb', '02Tb', 'BLTb', 'QbTb', 'YMTb', 'wATb', 'iYTb', '1UTb', 'eSTb', 'RbTb', 'fBTb', 'IqTb', 'hpTb', 'd4Tb', '6rTb', 'hcTb', '6OTb', 'jJTb', '2yTb', 'yGTb', 'OsTb', 'lbTb', 'h8Tb', 'peTb', 'u3Tb', '9hkr', '48kr', 'dckr', 'PVkr', 'jgkr', 'phkr', 'CNkr', 'Vikr', 'dIkr', 'Xpkr', 'xgkr', 'Gxkr', 'qOkr', 'mYkr', 'rRkr', 'AFkr', 'Ixkr', 'n7kr', 'P1kr', 'R7kr', 'Pckr', 'Makr', '3Tkr', 'IHkr', 'j3kr', '2ukr', 'bfkr', 'GXkr', 'YIkr', 'rAkr', 'Elkr', 'sHkr', 'fgkr', 'N0kr', 'VJkr', '8skr', '6wkr', 'RYkr', 'B4kr', 'LWkr', 'gdkr', 'Ugkr', 'PBkr', 'UXkr', 'UGkr', '4zkr', 'V0kr', '73kr', 'MXkr', 'Skkr', 'abkr', 'zokr', 'Xdkr', 'Vwkr', '4Mkr', 'DTkr', 'gukr', 'tvkr', 'ppkr', 't4kr', '6ukr', 'pPkr', 'Ppkr', 'x6kr', 'oikr', 'Uqkr', 'SZkr', 'fT45', 'Lf45', '5845', 'pj45', 'KD45', 'SU45', 'xr45', 'XL45', 'jc45', 'MD45', 'aK45', 'cb45', 'N145', 'NY45', 'wb45', 'la45', 'Is45', 'cq45', 'ee45', 'PB45', '0r45', 'VM45', 'rD45', 'VR45', '5U45', 'q445', 'rF45', '7t45', 'Vd45', 'P045', 'A945', 'aF45', '9145', 'gJ45', 'Wq45', 'U145', 'rb45', 'GN45', 'q845', '2h45', 'HA45', 'Cq45', 'wC45', 'LP45', 'MK45', 'dv45', 'cS45', 'Bj45', 'HE45', 'yl45', '9W5A', 'yX5A', 'Sy5A', 'cE5A', '9u5A', 'P25A', 'Uv5A', 'Rh5A', '5t5A', 'XR5A', '065A', 'PO5A', 'fN5A', '2N5A', 'Sa5A', 'qA5A', 'wr5A', 'T55A', 'Wk5A', 'o25A', 'H05A', 'MT5A', 'lv5A', 'ha5A', '8P5A', 'Zy5A', 'sB5A', 'BK5A', 'pP5A', 'Hb5A', 'TD5A', 'Hc5A', 'f35A', 'Qw5A', 'xL5A', 'wH5A', '285A', 'uX5A', 'eV5A', 'CS5A', 'aT5A', 'lg5A', 'Um5A', '8s5A', '8U5A', 'CB5A', 'ex5A', 'yH5A', '5W5A', 'mz5A', 'Cd5A', 'X55A', 'eL5A', '2m5A', 'oD5A', 'x85A', 'tH5A', 'Iy5A', '1W5A', 'hX5A', '135A', 'wV5A', 'VxEe', 'ZlEe', 't8Ee', '3kEe', 'BZEe', 's7Ee', 'boEe', 'niEe', 'pZEe', 'RAEe', 'VeEe', '1AEe', 'KFEe', 'TUEe', 'tNEe', 'Q5Ee', '4MEe', 'vjEe', 'LAEe', 'f1Ee', 'pxEe', 'ZmEe', 'SFEe', '0xEe', 'rfEe', 'yYEe', 'gHEe', 's4Ee', 'fREe', 'oSEe', 'JPEe', 'dWEe', 'K8Ee', 'w9Ee', 'OZEe', 'ceEe', 'rJEe', 'LOEe', 'XwEe', 'umEe', 'F6Ee', 'f8Ee', 'GUEe', '1ZEe', 'YkEe', 'UrEe', '7VEe', '7EEe', 'BuEe', 'ejEe', 'EcEe', 'DWEe', 'fSEe', 'VaIU', 'QbIU', 'pXIU', 'QvIU', 'E6IU', 'CJIU', '59IU', '28IU', 'HGIU', '9eIU', 'BRIU', 'NHIU', 'rWIU', 'eIIU', 'daIU', 'eOIU', 'djIU', 'kzIU', 'lNIU', 'GLIU', 'AeIU', 'O0IU', 'wCIU', '1aIU', 'uPIU', 'VSIU', '2bIU', 'V8IU', 'ZmIU', 'DyIU', 'j8IU', 'lIIU', '1AIU', 'cPIU', 'cdIU', 'FUIU', '9GIU', '4AIU', 'ADIU', 'XHIU', 'RKIU', 'yTIU', 'CnIU', 'SlIU', 'bhIU', 'LdIU', '0hIU', '30IU', 'GrIU', 'GYIU', 'ndIU', 'CZIU', '0FIU', 'IfIU', 'Z0IU', 'vWIU', 'AUIU', 'ZRIU', 'woIU', 'NkIU', 'G5IU', 'DqIU', 'nDIU', 'YhIU', 'iKIU', 'ytIU', 'sxIU', 'P1IU', '1nIU', '1Sr4', 'lir4', 'BCr4', 'IWr4', 'jzr4', 'Gcr4', '46r4', 'Uzr4', 'Nvr4', 'Ezr4', 'xYr4', '55r4', 'Zmr4', 'YNr4', 'Vur4', 'xSr4', '4gr4', 'r5r4', 'WBr4', 'qQr4', 'oyr4', '97r4', 'vSr4', 'GAr4', '0zr4', 'DAr4', 'Jor4', 'XTr4', 'xbr4', 'ASr4', 'S1r4', 'nsr4', 'UGr4', 'PYr4', 'Wrr4', 'rMr4', 'pfr4', 'B2r4', '7Hr4', 'z9r4', 'xmr4', '9cr4', 'LVr4', 'XOr4', 'hZr4', 'yjr4', 'nnr4', 'ccr4', 'nfr4', 'iTr4', '3jr4', 'Shr4', '75r4', 'a8r4', 'SWr4', 'upr4', 'x7r4', '1vr4', '3tr4', 't7r4', 'iVr4', 'N6r4', 'oieC', 'uTeC', 'RWeC', 'fSeC', 'bAeC', 'C1eC', 'dOeC', 'XneC', 'upeC', 'w8eC', '1reC', 'JJeC', 'iHeC', 'k0eC', '70eC', 'dDeC', 'XceC', 'HMeC', '2teC', 'U3eC', 'kleC', 'y4eC', 'P6eC', 'rLeC', 'cveC', 'qoeC', 'UIeC', 'R3eC', 'lReC', 'PveC', 'mAeC', '5zeC', 'lYeC', 'fteC', 'e1eC', 'EeeC', 'CteC', '6VeC', 'IKeC', 'SSeC', 'CJeC', 'CdeC', 'NjeC', 'xEeC', 'ONeC', 'kIeC', 'tjeC', 'mvpX', '2MpX', 'iDpX', 'rDpX', 'qtpX', 'zwpX', 'AJpX', 'WRpX', 'N4pX', '1gpX', 'oapX', 'PopX', 'rEpX', 'mkpX', '6kpX', 'rOpX', '3QpX', 'VqpX', 'Q9pX', 'fcpX', 'EMpX', 'H1pX', 'xBpX', 'TnpX', 'YkpX', 'Y3pX', 'cepX', '7CpX', 'P2pX', 'jKpX', 'mUpX', 'p1pX', 'CQpX', '1cpX', 'tQpX', '9tpX', 'VapX', 'SepX', 'uzpX', 'K6pX', '8IpX', '4XpX', 'vMpX', '81pX', 'HwpX', 'DLpX', 'eJpX', 'bfpX', 'STpX', 'PwpX', 'A9pX', 'V8pX', 'l1pX', 'QepX', 'EBpX', 'DTpX', 'z6pX', 'OmpX', 'alpX', 'zJpX', '5bpX', 'GkpX', 'GMDh', 'IaDh', '3DDh', 'tVDh', 'GeDh', 'lnDh', 'BrDh', 'HkDh', '2bDh', '1EDh', 'eiDh', 'J1Dh', 'igDh', 'Q0Dh', 'pbDh', 'CDDh', 'uqDh', 'F2Dh', 'CFDh', 'CqDh', '2RDh', 'RxDh', 'GmDh', '0DDh', '1BDh', 'lIDh', '4tDh', 'osDh', '1tDh', 'zEDh', 'vpDh', 'fODh', 'FyDh', 'qCDh', 'KlDh', 'MuDh', 'RvDh', 'kKDh', 'fVDh', 'd7Dh', 'hDDh', 'EADh', 'T8Dh', '73Dh', 'pJDh', 'uIDh', 'u9Dh', 'GsDh', 'UUDh', 'rSDh', 'nMDh', '1rDh', 'xwDh', 'a0Dh', 'QeDh', 'D9Dh', 'g8Dh', 'ulDh', '8hDh', 'xmDh', 'PADh', 'WeDh', 'LXDh', 'ayDh', 'q7Dh', 'cVDh', 'jZDh', 'UuDh', 'saDh', 'TEDh', 'TzDh', 'wEDh', 'upDh', 'H2Dh', 'vNI0', 'CRI0', 'PNI0', '8LI0', 'LNI0', 'JzI0', 'vcI0', 'fbI0', 'HTI0', 'dDI0', 'eVI0', 'ZWI0', 'r2I0', 'vQI0', 'OtI0', '2oI0', 'DKI0', 'uhI0', 'GbI0', '14I0', 'J7I0', 'B3I0', 'TGI0', 'EEI0', 'bZI0', 'CvI0', 'WBI0', 'lqI0', 'kbI0', 'llI0', 'RiI0', 'NDI0', 'frI0', '8fI0', 'HXI0', 'xaI0', 'tjI0', 'WuI0', 'QOI0', '9LI0', 'sZI0', 'GyI0', 'f0I0', 'esI0', 'VGI0', 'CnI0', '1ZI0', 'e1I0', 'IVI0', 'cqI0', 'rZI0', 'YyI0', 'lbI0', 'htI0', 'caI0', '7PI0', 'IyI0', '4fI0', 'v9I0', 'YPI0', 'WgI0', 'FtI0', 'PTI0', 'cMI0', 'qkI0', 'JqI0', 'X1I0', '9wI1', 'feI1', 'SkI1', 'eRI1', 'PyI1', 'R6I1', 'UNI1', 'deI1', 'VOI1', '4HI1', '52I1', 'lMI1', 'r7I1', '3WI1', 'lOI1', 'JDI1', 'VTI1', 'TVI1', 'qlI1', 'EiI1', 'SsI1', '5EI1', 'HoI1', '1UI1', '9LI1', 'GYI1', 'emI1', 'lCI1', 'ELI1', 'v0I1', 'vhI1', 'QkI1', 'vWI1', 'fHI1', 'u6I1', 'T3I1', '4kI1', 'N3I1', 'BzI1', 'oHI1', 'Q3I1', 'DQI1', 'Y8I1', 'WdI1', 'AJI1', 'gmI1', 'qfI1', 'baI1', 'cxI1', 'MiI1', 'h9I1', 'WgI1', 'DHI1', 'uaI1', 'JZI1', 'z4I1', 'MzI1', 'epI1', 'fpI1', '8zI1', 'qxI1', 'CQI1', 'eEI1', 'lfI1', 'YXI1', 'toI1', 'v2I1']\n"
     ]
    }
   ],
   "source": [
    "print(non_filtered_vid_ids)"
   ]
  },
  {
   "cell_type": "markdown",
   "id": "89d3353c-5ecf-4491-9148-14558791942e",
   "metadata": {},
   "source": [
    "- The video id wZ6U maps to wyHcL23Jvzs."
   ]
  },
  {
   "cell_type": "code",
   "execution_count": 17,
   "id": "7a52b83f-0ab5-4092-815d-8ae373401553",
   "metadata": {},
   "outputs": [
    {
     "data": {
      "image/jpeg": "[encoded data removed]",
      "text/html": [
       "\n",
       "        <iframe\n",
       "            width=\"400\"\n",
       "            height=\"300\"\n",
       "            src=\"https://www.youtube.com/embed/DwnHaKYXbo0\"\n",
       "            frameborder=\"0\"\n",
       "            allowfullscreen\n",
       "            \n",
       "        ></iframe>\n",
       "        "
      ],
      "text/plain": [
       "<IPython.lib.display.YouTubeVideo at 0x3569178f0>"
      ]
     },
     "execution_count": 17,
     "metadata": {},
     "output_type": "execute_result"
    }
   ],
   "source": [
    "YouTubeVideo('DwnHaKYXbo0')"
   ]
  },
  {
   "cell_type": "code",
   "execution_count": 18,
   "id": "90b93ab1-beb8-4f0f-bdcb-ff1da7aa3660",
   "metadata": {},
   "outputs": [
    {
     "data": {
      "image/jpeg": "[encoded data removed]",
      "text/html": [
       "\n",
       "        <iframe\n",
       "            width=\"400\"\n",
       "            height=\"300\"\n",
       "            src=\"https://www.youtube.com/embed/XoxB1IPkG5Q\"\n",
       "            frameborder=\"0\"\n",
       "            allowfullscreen\n",
       "            \n",
       "        ></iframe>\n",
       "        "
      ],
      "text/plain": [
       "<IPython.lib.display.YouTubeVideo at 0x346082390>"
      ]
     },
     "execution_count": 18,
     "metadata": {},
     "output_type": "execute_result"
    }
   ],
   "source": [
    "YouTubeVideo('XoxB1IPkG5Q')"
   ]
  },
  {
   "cell_type": "code",
   "execution_count": 19,
   "id": "ea281ce0-7253-4705-a379-875fe1eb55cc",
   "metadata": {
    "scrolled": true
   },
   "outputs": [
    {
     "name": "stdout",
     "output_type": "stream",
     "text": [
      "[1172, 1700, 2106, 1351, 1530, 2286, 1726, 2405, 2184, 1353, 2009, 489, 920, 439, 1074, 1394, 2024, 2117, 1303, 1061, 1223, 2153, 475, 1405, 1317, 317, 96, 2162, 1703, 1820, 2105, 1871, 2234, 803, 639, 2253, 1827, 1137, 864, 812, 1810, 508, 1254, 520, 443, 1968, 490, 1136, 2252, 1283, 2218, 1039, 2091, 1105, 750, 1431, 1123, 213, 961, 1165, 1591, 642, 2163, 2161, 1698, 2145, 2007, 614, 448, 2063, 427, 1296, 1941, 1889, 488, 1289, 532, 839, 127, 134, 1026, 246, 979, 1997, 1769, 702, 2368, 1342, 2027, 1106, 1503, 1772, 420, 659, 1436, 421, 1237, 770, 1770, 1650, 908, 1258, 1705, 1647, 1811, 164, 704, 2334, 1055, 482, 163, 2426, 140, 1086, 2458, 743, 1621, 551, 937, 1645, 951, 2226, 672, 105, 962, 1156, 1637, 1927, 503, 1893, 507, 39, 2202, 2308, 1018, 1574, 73, 1329, 2090, 1195, 69, 79, 869, 2374, 1988, 813, 1391, 2101, 1464, 2277, 1718, 1013, 1585, 102, 202, 2169, 1564, 1157, 1201, 2261, 337, 2305, 924, 1066, 1239, 2367, 1895, 500, 2297, 1474, 684, 2443, 1141, 1383, 1307, 1785, 178, 1659, 1442, 1896, 903, 260, 806, 678, 1255, 1545, 338, 1584, 1446, 1963, 808, 319, 527, 1354, 522, 2466, 1077, 24, 1714, 2379, 276, 2061, 1913, 1284, 1396, 1529, 1798, 1212, 816, 1234, 2380, 581, 1721, 1312, 209, 1062, 626, 2023, 1104, 635, 1819, 2171, 1299, 309, 229, 272, 665, 2293, 1075, 1513, 2150, 1632, 284, 835, 647, 1047, 1572, 1017, 1679, 1690, 106, 1860, 1832, 1917, 125, 546, 288, 634, 1607, 1906, 1597, 1964, 1710, 893, 1262, 348, 114, 262, 84, 1855, 444, 52, 2449, 970, 1285, 281, 1711, 2181, 1325, 1682, 1784, 1892, 2056, 2060, 2104, 2160, 1321, 1008, 826, 1404, 156, 235, 168, 1558, 1514, 124, 2314, 1887, 1498, 872, 1380, 1215, 912, 880, 1730, 2028, 2206, 821, 2352, 1797, 2294, 2138, 92, 2203, 44, 2410, 2341, 1845, 1298, 299, 2183, 1233, 1409, 2100, 461, 509, 543, 1488, 2439, 1332, 586, 347, 712, 1525, 440, 829, 530, 130, 325, 565, 1367, 2142, 1908, 2129, 2108, 390, 364, 1004, 1655, 1496, 844, 1267, 55, 745, 2242, 1363, 2385, 286, 1517, 1331, 19, 617, 1627, 187, 2280, 832, 725, 207, 1942, 863, 1998, 1944, 747, 588, 58, 11, 1586, 1399, 1369, 579, 748, 59, 1094, 2447, 623, 1685, 609, 230, 1200, 1546, 1425, 1522, 1187, 1812, 1852, 926, 1743, 1249, 2360, 2404, 1406, 1259, 1790, 1304, 1028, 681, 2409, 2033, 1060, 162, 2339, 1256, 1692, 2029, 654, 206, 517, 1623, 464, 2077, 1439, 2276, 1193, 2194, 181, 318, 1286, 776, 2329, 885, 389, 2355, 1596, 1841, 392, 1618, 2110, 1931, 1859, 1068, 16, 890, 335, 2266, 656, 2468, 1257, 82, 1955, 250, 1343, 160, 192, 1164, 510, 247, 1978, 432, 2018, 1350, 2080, 1365, 1544, 1661, 868, 2066, 9, 2088, 1463, 1336, 646, 215, 1063, 1339, 2213, 2441, 2020, 2370, 723, 471, 1713, 40, 2422, 329, 1847, 2040, 866, 30, 810, 479, 387, 553, 1204, 972, 751, 1843, 1614, 222, 1783, 311, 1301, 1673, 950, 823, 2149, 1796, 1837, 1757, 208, 238]\n"
     ]
    }
   ],
   "source": [
    "# Randomly select 400 consistent pairs of RGB and audio features\n",
    "if len(non_filtered_rgb) >= 400:\n",
    "    selected_indices = random.sample(range(len(non_filtered_rgb)), 400)\n",
    "    print(selected_indices)\n",
    "    selected_rgb = [non_filtered_rgb[i] for i in selected_indices]\n",
    "    selected_audio = [non_filtered_audio[i] for i in selected_indices]\n",
    "else:\n",
    "    print(\"Not enough non-filtered data to select 400 samples\")"
   ]
  },
  {
   "cell_type": "code",
   "execution_count": 20,
   "id": "c881e9ff-84b3-49f3-8b4d-6360c53a3c53",
   "metadata": {},
   "outputs": [],
   "source": [
    "# Add the current shards non-commercial features to previously processed shards non-commercial features\n",
    "non_Commercial_Rgb+=(selected_rgb)\n",
    "non_Commercial_Audio+=(selected_audio)"
   ]
  },
  {
   "cell_type": "code",
   "execution_count": 21,
   "id": "65f11baa-af9a-40b6-9379-5d1028038301",
   "metadata": {},
   "outputs": [],
   "source": [
    "# Add the current shards commercial features to previously processed shards commercial features\n",
    "commercial_Rgb+=filtered_rgb\n",
    "commercial_Audio+=filtered_audio"
   ]
  },
  {
   "cell_type": "code",
   "execution_count": 22,
   "id": "bfe5b8bd-db7a-475f-8a23-9b6974c8d684",
   "metadata": {},
   "outputs": [
    {
     "name": "stdout",
     "output_type": "stream",
     "text": [
      "Number of TV Advertisement RGB feature lists loaded: 61\n",
      "Number of TV Advertisement audio feature lists loaded: 61\n",
      "Number of Non-TV RGB feature lists loaded: 500\n",
      "Number of Non-Tv audio feature lists loaded: 500\n"
     ]
    }
   ],
   "source": [
    "print(f'Number of TV Advertisement RGB feature lists loaded: {len(commercial_Rgb)}')\n",
    "print(f'Number of TV Advertisement audio feature lists loaded: {len(commercial_Audio)}')\n",
    "print(f'Number of Non-TV RGB feature lists loaded: {len(non_Commercial_Rgb)}')\n",
    "print(f'Number of Non-Tv audio feature lists loaded: {len(non_Commercial_Audio)}')"
   ]
  },
  {
   "cell_type": "code",
   "execution_count": 33,
   "id": "469b5188-2423-45c8-9c1a-ab6e04e3c8a5",
   "metadata": {},
   "outputs": [
    {
     "name": "stdout",
     "output_type": "stream",
     "text": [
      "Commercial data features saved successfully.\n"
     ]
    }
   ],
   "source": [
    "# The filtered audio-visual features of Television Advertisement is saved \n",
    "with open('commercial_Rgb.pkl', 'wb') as f:\n",
    "    pickle.dump(commercial_Rgb, f)\n",
    "\n",
    "with open('commercial_Audio.pkl', 'wb') as f:\n",
    "    pickle.dump(commercial_Audio, f)\n",
    "\n",
    "print('Commercial data features saved successfully.')"
   ]
  },
  {
   "cell_type": "code",
   "execution_count": 34,
   "id": "95a836a3-c18e-49a2-9d52-edf589aedeec",
   "metadata": {},
   "outputs": [
    {
     "name": "stdout",
     "output_type": "stream",
     "text": [
      "1000\n",
      "1000\n"
     ]
    }
   ],
   "source": [
    "print(len(non_Commercial_Rgb))\n",
    "print(len(non_Commercial_Audio))"
   ]
  },
  {
   "cell_type": "code",
   "execution_count": 35,
   "id": "43833377-a96f-4034-9181-20173b2bf0e9",
   "metadata": {},
   "outputs": [
    {
     "name": "stdout",
     "output_type": "stream",
     "text": [
      "Non-Commercial data features saved successfully.\n"
     ]
    }
   ],
   "source": [
    "# The Non-Commercial audio-visual features of Television Advertisement is saved \n",
    "with open('non_Commercial_Rgb.pkl', 'wb') as f:\n",
    "    pickle.dump(non_Commercial_Rgb, f)\n",
    "\n",
    "with open('non_Commercial_Audio.pkl', 'wb') as f:\n",
    "    pickle.dump(non_Commercial_Audio, f)\n",
    "\n",
    "print('Non-Commercial data features saved successfully.')"
   ]
  }
 ],
 "metadata": {
  "kernelspec": {
   "display_name": "Python 3 (ipykernel)",
   "language": "python",
   "name": "python3"
  },
  "language_info": {
   "codemirror_mode": {
    "name": "ipython",
    "version": 3
   },
   "file_extension": ".py",
   "mimetype": "text/x-python",
   "name": "python",
   "nbconvert_exporter": "python",
   "pygments_lexer": "ipython3",
   "version": "3.12.0"
  }
 },
 "nbformat": 4,
 "nbformat_minor": 5
}
