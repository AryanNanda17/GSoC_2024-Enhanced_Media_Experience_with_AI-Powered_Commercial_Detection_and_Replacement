{
 "cells": [
  {
   "cell_type": "code",
   "execution_count": 1,
   "id": "afd3a08b-1a58-4aeb-bc41-5d85224d3e3a",
   "metadata": {},
   "outputs": [],
   "source": [
    "# Import important libraries \n",
    "import tensorflow as tf\n",
    "import pandas as pd\n",
    "from IPython.display import YouTubeVideo"
   ]
  },
  {
   "cell_type": "code",
   "execution_count": 2,
   "id": "3e6d9aa8-ba46-46b4-931c-53574c5ac995",
   "metadata": {},
   "outputs": [],
   "source": [
    "records_path = \"./2/frame/train/train0111.tfrecord\""
   ]
  },
  {
   "cell_type": "code",
   "execution_count": 3,
   "id": "4fb4b733-c599-4011-989e-7f748f98c586",
   "metadata": {},
   "outputs": [
    {
     "name": "stdout",
     "output_type": "stream",
     "text": [
      "./2/frame/train/train0111.tfrecord\n"
     ]
    }
   ],
   "source": [
    "print(records_path)"
   ]
  },
  {
   "cell_type": "code",
   "execution_count": 4,
   "id": "16610bc2-46b8-4028-83cb-fd4fd55aa847",
   "metadata": {},
   "outputs": [],
   "source": [
    "vid_ids = [] # This array stores the video IDs extracted from the TFRecord file.\n",
    "labels = []  # This array stores the label_ids associated with each video. The label ids are mapped to label names through vocabulary.csv\n",
    "             # which is discussed later. \n",
    "rgb = []     # This array stores the RGB features extracted from the TFRecord file.\n",
    "audio = []   # This array stores the audio features extracted from the TFRecord file. "
   ]
  },
  {
   "cell_type": "markdown",
   "id": "ef1105fb-1575-4a5c-8c07-5fa262b1004e",
   "metadata": {},
   "source": [
    "## Format of Frame-level features @Yt8m\n",
    "```\n",
    "Frame-level features are stored as tensorflow.SequenceExample protocol buffers. A tensorflow.SequenceExample proto is reproduced here in text format:\n",
    "context: {\n",
    "  feature: {\n",
    "    key  : \"id\"\n",
    "    value: {\n",
    "      bytes_list: {\n",
    "        value: (Video id)\n",
    "      }\n",
    "    }\n",
    "  }\n",
    "  feature: {\n",
    "    key  : \"labels\"\n",
    "      value: {\n",
    "        int64_list: {\n",
    "          value: [1, 522, 11, 172]  # label list\n",
    "        }\n",
    "      }\n",
    "    }\n",
    "}\n",
    "\n",
    "feature_lists: {\n",
    "  feature_list: {\n",
    "    key  : \"rgb\"\n",
    "    value: {\n",
    "      feature: {\n",
    "        bytes_list: {\n",
    "          value: [1024 8bit quantized features]\n",
    "        }\n",
    "      }\n",
    "      feature: {\n",
    "        bytes_list: {\n",
    "          value: [1024 8bit quantized features]\n",
    "        }\n",
    "      }\n",
    "      ... # Repeated for every second, up to 300\n",
    "  }\n",
    "  feature_list: {\n",
    "    key  : \"audio\"\n",
    "    value: {\n",
    "      feature: {\n",
    "        bytes_list: {\n",
    "          value: [128 8bit quantized features]\n",
    "        }\n",
    "      }\n",
    "      feature: {\n",
    "        bytes_list: {\n",
    "          value: [128 8bit quantized features]\n",
    "        }\n",
    "      }\n",
    "    }\n",
    "    ... # Repeated for every second, up to 300\n",
    "  }\n",
    "\n",
    "}\n",
    "```"
   ]
  },
  {
   "cell_type": "code",
   "execution_count": 5,
   "id": "4f19c39e-84a7-4a00-a312-5c6035b20ba7",
   "metadata": {},
   "outputs": [
    {
     "name": "stdout",
     "output_type": "stream",
     "text": [
      "WARNING:tensorflow:From /var/folders/hg/7q10m6ks77bcpykgf2nbst5h0000gn/T/ipykernel_36576/2731819932.py:6: tf_record_iterator (from tensorflow.python.lib.io.tf_record) is deprecated and will be removed in a future version.\n",
      "Instructions for updating:\n",
      "Use eager execution and: \n",
      "`tf.data.TFRecordDataset(path)`\n"
     ]
    }
   ],
   "source": [
    "# Funciton for decoding quantized features\n",
    "def decode_quantized_features(features):\n",
    "    return tf.io.decode_raw(features, tf.uint8)\n",
    "\n",
    "# Iterate over each record in the TFRecord file specified by records_path\n",
    "for record in tf.compat.v1.python_io.tf_record_iterator(records_path):\n",
    "    # Parse the SequenceExample from the binary record data\n",
    "    seq_example = tf.train.SequenceExample.FromString(record)\n",
    "\n",
    "    # Extract the video_id and labels\n",
    "    vid_ids.append(seq_example.context.feature['id'].bytes_list.value[0].decode(encoding='UTF-8'))\n",
    "    labels.append(seq_example.context.feature['labels'].int64_list.value)\n",
    "\n",
    "    # lists to store frame-level features\n",
    "    rgb_features = []\n",
    "    audio_features = []\n",
    "    \n",
    "    # Iterate over each frame-level feature pair (RGB and audio) in the SequenceExample\n",
    "    for rgb_feature, audio_feature in zip(seq_example.feature_lists.feature_list['rgb'].feature,\n",
    "                                           seq_example.feature_lists.feature_list['audio'].feature):\n",
    "        \n",
    "        # Decode the quantized RGB features and audio features\n",
    "        decoded_rgb = decode_quantized_features(rgb_feature.bytes_list.value[0])     \n",
    "        decoded_audio = decode_quantized_features(audio_feature.bytes_list.value[0]) \n",
    "\n",
    "        rgb_features.append(decoded_rgb)\n",
    "        audio_features.append(decoded_audio)\n",
    "    \n",
    "    # Append frame level list to main list \n",
    "    rgb.append(rgb_features)\n",
    "    audio.append(audio_features)"
   ]
  },
  {
   "cell_type": "code",
   "execution_count": 6,
   "id": "12c9d755-2d68-4d9f-87e5-4b7eb252a942",
   "metadata": {},
   "outputs": [
    {
     "name": "stdout",
     "output_type": "stream",
     "text": [
      "Number of videos in this tfrecord:  1029\n",
      "Number of labels in this tfrecord:  1029\n",
      "Picking a youtube video id: k6bX\n"
     ]
    }
   ],
   "source": [
    "print('Number of videos in this tfrecord: ',len(vid_ids))\n",
    "print ('Number of labels in this tfrecord: ', len (labels))\n",
    "print('Picking a youtube video id:',vid_ids[15])"
   ]
  },
  {
   "cell_type": "code",
   "execution_count": 7,
   "id": "de6005a8-7d21-45cc-a858-04c91fd23bc2",
   "metadata": {},
   "outputs": [
    {
     "name": "stdout",
     "output_type": "stream",
     "text": [
      "['83bX', 'xCbX', 'gdbX', 'RMbX', 'v6bX', 'OnbX', 'd5bX', '0IbX', 'X8bX', 'SCbX']\n"
     ]
    }
   ],
   "source": [
    "print(vid_ids[:10])"
   ]
  },
  {
   "cell_type": "code",
   "execution_count": 8,
   "id": "dbbee52c-cfda-4ed3-b96a-4b8391025619",
   "metadata": {},
   "outputs": [
    {
     "name": "stdout",
     "output_type": "stream",
     "text": [
      "[[0, 79, 91], [5], [5, 16], [15, 18, 170, 314], [3, 6, 8, 414], [18, 43, 59, 101, 549, 693, 906], [1587], [3], [0, 1, 88, 242, 254, 313, 1331, 1364], [141, 396]]\n"
     ]
    }
   ],
   "source": [
    "print(labels[:10])"
   ]
  },
  {
   "cell_type": "code",
   "execution_count": 9,
   "id": "eaa83639-0874-4810-8f3b-aaae664a6e58",
   "metadata": {},
   "outputs": [
    {
     "name": "stdout",
     "output_type": "stream",
     "text": [
      "300\n"
     ]
    }
   ],
   "source": [
    "print(len(rgb[0]))"
   ]
  },
  {
   "cell_type": "code",
   "execution_count": 10,
   "id": "1e81093c-0232-40f8-907a-230327347274",
   "metadata": {},
   "outputs": [
    {
     "name": "stdout",
     "output_type": "stream",
     "text": [
      "[<tf.Tensor: shape=(1024,), dtype=uint8, numpy=array([149,  84, 131, ..., 142,  27,  86], dtype=uint8)>, <tf.Tensor: shape=(1024,), dtype=uint8, numpy=array([141, 105, 125, ..., 130,  32,  56], dtype=uint8)>, <tf.Tensor: shape=(1024,), dtype=uint8, numpy=array([160, 108, 131, ..., 147,  29,  93], dtype=uint8)>, <tf.Tensor: shape=(1024,), dtype=uint8, numpy=array([189, 120, 103, ..., 205,   1, 255], dtype=uint8)>, <tf.Tensor: shape=(1024,), dtype=uint8, numpy=array([165,  95, 126, ..., 169,   8, 166], dtype=uint8)>, <tf.Tensor: shape=(1024,), dtype=uint8, numpy=array([162, 112,  88, ..., 176, 135, 119], dtype=uint8)>, <tf.Tensor: shape=(1024,), dtype=uint8, numpy=array([159, 140,  76, ..., 148, 118, 149], dtype=uint8)>, <tf.Tensor: shape=(1024,), dtype=uint8, numpy=array([211, 135,  85, ..., 202, 137,  93], dtype=uint8)>, <tf.Tensor: shape=(1024,), dtype=uint8, numpy=array([223,  94, 115, ..., 228, 155, 252], dtype=uint8)>, <tf.Tensor: shape=(1024,), dtype=uint8, numpy=array([180, 103,  94, ..., 215,  84, 184], dtype=uint8)>, <tf.Tensor: shape=(1024,), dtype=uint8, numpy=array([118, 129,  97, ..., 255,   0, 160], dtype=uint8)>, <tf.Tensor: shape=(1024,), dtype=uint8, numpy=array([ 91, 146, 104, ..., 207,  56, 160], dtype=uint8)>, <tf.Tensor: shape=(1024,), dtype=uint8, numpy=array([105, 131, 117, ..., 254, 180, 214], dtype=uint8)>, <tf.Tensor: shape=(1024,), dtype=uint8, numpy=array([ 93, 144,  98, ..., 181, 120, 117], dtype=uint8)>, <tf.Tensor: shape=(1024,), dtype=uint8, numpy=array([151,  86,  91, ..., 114,  23, 167], dtype=uint8)>, <tf.Tensor: shape=(1024,), dtype=uint8, numpy=array([ 58, 130, 120, ..., 156,  48,   0], dtype=uint8)>, <tf.Tensor: shape=(1024,), dtype=uint8, numpy=array([ 91, 122, 118, ..., 158,  44,   0], dtype=uint8)>, <tf.Tensor: shape=(1024,), dtype=uint8, numpy=array([ 82, 119, 113, ..., 204,  66,   0], dtype=uint8)>, <tf.Tensor: shape=(1024,), dtype=uint8, numpy=array([190, 101,  94, ..., 181,  29, 216], dtype=uint8)>, <tf.Tensor: shape=(1024,), dtype=uint8, numpy=array([170, 115, 106, ..., 254,   0, 200], dtype=uint8)>, <tf.Tensor: shape=(1024,), dtype=uint8, numpy=array([164, 108, 122, ..., 133,   0, 255], dtype=uint8)>, <tf.Tensor: shape=(1024,), dtype=uint8, numpy=array([144, 111,  93, ..., 221, 112, 194], dtype=uint8)>, <tf.Tensor: shape=(1024,), dtype=uint8, numpy=array([209,  89, 107, ..., 255, 210, 153], dtype=uint8)>, <tf.Tensor: shape=(1024,), dtype=uint8, numpy=array([179,  97, 101, ...,  56,  57, 255], dtype=uint8)>, <tf.Tensor: shape=(1024,), dtype=uint8, numpy=array([218, 120, 112, ..., 236,  72, 254], dtype=uint8)>, <tf.Tensor: shape=(1024,), dtype=uint8, numpy=array([139, 133,  97, ..., 185, 127, 255], dtype=uint8)>, <tf.Tensor: shape=(1024,), dtype=uint8, numpy=array([167, 158,  87, ..., 159,   0,  91], dtype=uint8)>, <tf.Tensor: shape=(1024,), dtype=uint8, numpy=array([201, 130,  85, ..., 255, 109, 255], dtype=uint8)>, <tf.Tensor: shape=(1024,), dtype=uint8, numpy=array([208, 107, 131, ..., 251,  60, 113], dtype=uint8)>, <tf.Tensor: shape=(1024,), dtype=uint8, numpy=array([ 94, 117, 129, ..., 196,  94,  20], dtype=uint8)>, <tf.Tensor: shape=(1024,), dtype=uint8, numpy=array([ 98, 111, 142, ..., 171,  70,  46], dtype=uint8)>, <tf.Tensor: shape=(1024,), dtype=uint8, numpy=array([ 99, 106, 125, ..., 165,  87,   7], dtype=uint8)>, <tf.Tensor: shape=(1024,), dtype=uint8, numpy=array([ 88, 106, 115, ..., 223,  33, 107], dtype=uint8)>, <tf.Tensor: shape=(1024,), dtype=uint8, numpy=array([107, 100, 121, ..., 156,  35,  87], dtype=uint8)>, <tf.Tensor: shape=(1024,), dtype=uint8, numpy=array([140,  84, 132, ..., 184,   0, 100], dtype=uint8)>, <tf.Tensor: shape=(1024,), dtype=uint8, numpy=array([117, 113, 133, ..., 185,  88, 134], dtype=uint8)>, <tf.Tensor: shape=(1024,), dtype=uint8, numpy=array([135, 135, 102, ..., 124, 147, 242], dtype=uint8)>, <tf.Tensor: shape=(1024,), dtype=uint8, numpy=array([208,  94, 102, ..., 139, 193, 255], dtype=uint8)>, <tf.Tensor: shape=(1024,), dtype=uint8, numpy=array([131, 131, 102, ..., 162,   0,  80], dtype=uint8)>, <tf.Tensor: shape=(1024,), dtype=uint8, numpy=array([168, 116, 113, ..., 255, 230,  52], dtype=uint8)>, <tf.Tensor: shape=(1024,), dtype=uint8, numpy=array([113, 142, 106, ..., 255, 175, 146], dtype=uint8)>, <tf.Tensor: shape=(1024,), dtype=uint8, numpy=array([122, 171, 145, ..., 219,  93,   2], dtype=uint8)>, <tf.Tensor: shape=(1024,), dtype=uint8, numpy=array([191, 146, 182, ..., 255, 217, 177], dtype=uint8)>, <tf.Tensor: shape=(1024,), dtype=uint8, numpy=array([138, 166, 166, ..., 193, 197, 113], dtype=uint8)>, <tf.Tensor: shape=(1024,), dtype=uint8, numpy=array([162, 124, 116, ..., 143,  63, 155], dtype=uint8)>, <tf.Tensor: shape=(1024,), dtype=uint8, numpy=array([148, 120, 114, ..., 204,  33, 244], dtype=uint8)>, <tf.Tensor: shape=(1024,), dtype=uint8, numpy=array([158, 115, 135, ..., 195,   0, 230], dtype=uint8)>, <tf.Tensor: shape=(1024,), dtype=uint8, numpy=array([187,  91, 132, ..., 202,  45, 148], dtype=uint8)>, <tf.Tensor: shape=(1024,), dtype=uint8, numpy=array([190, 123, 119, ..., 122,   0, 255], dtype=uint8)>, <tf.Tensor: shape=(1024,), dtype=uint8, numpy=array([146, 141,  90, ..., 199, 114,  66], dtype=uint8)>, <tf.Tensor: shape=(1024,), dtype=uint8, numpy=array([165, 126,  88, ..., 217, 129, 105], dtype=uint8)>, <tf.Tensor: shape=(1024,), dtype=uint8, numpy=array([143, 149,  86, ..., 199, 194, 182], dtype=uint8)>, <tf.Tensor: shape=(1024,), dtype=uint8, numpy=array([161, 150,  67, ..., 238,  56, 185], dtype=uint8)>, <tf.Tensor: shape=(1024,), dtype=uint8, numpy=array([150, 138,  99, ...,  81, 228, 255], dtype=uint8)>, <tf.Tensor: shape=(1024,), dtype=uint8, numpy=array([156, 160,  69, ...,  87,  54,  99], dtype=uint8)>, <tf.Tensor: shape=(1024,), dtype=uint8, numpy=array([156, 168,  65, ..., 255,  81, 148], dtype=uint8)>, <tf.Tensor: shape=(1024,), dtype=uint8, numpy=array([159, 156,  89, ..., 165,   4, 231], dtype=uint8)>, <tf.Tensor: shape=(1024,), dtype=uint8, numpy=array([131, 155,  73, ..., 186,  91, 255], dtype=uint8)>, <tf.Tensor: shape=(1024,), dtype=uint8, numpy=array([181, 147, 104, ..., 153,  71, 251], dtype=uint8)>, <tf.Tensor: shape=(1024,), dtype=uint8, numpy=array([150, 154, 104, ..., 124,  79, 165], dtype=uint8)>, <tf.Tensor: shape=(1024,), dtype=uint8, numpy=array([204, 140, 126, ..., 102,  30, 163], dtype=uint8)>, <tf.Tensor: shape=(1024,), dtype=uint8, numpy=array([238, 115, 118, ...,  55,   8, 123], dtype=uint8)>, <tf.Tensor: shape=(1024,), dtype=uint8, numpy=array([215, 134, 125, ..., 118,   0, 107], dtype=uint8)>, <tf.Tensor: shape=(1024,), dtype=uint8, numpy=array([223, 104, 106, ..., 111,  46, 127], dtype=uint8)>, <tf.Tensor: shape=(1024,), dtype=uint8, numpy=array([154, 113,  77, ...,  73,  78, 201], dtype=uint8)>, <tf.Tensor: shape=(1024,), dtype=uint8, numpy=array([206, 105, 110, ..., 163,  41, 141], dtype=uint8)>, <tf.Tensor: shape=(1024,), dtype=uint8, numpy=array([140, 116, 107, ...,  69,   0, 255], dtype=uint8)>, <tf.Tensor: shape=(1024,), dtype=uint8, numpy=array([160, 111, 121, ..., 189,   0, 255], dtype=uint8)>, <tf.Tensor: shape=(1024,), dtype=uint8, numpy=array([ 94, 136, 144, ..., 136,   0, 154], dtype=uint8)>, <tf.Tensor: shape=(1024,), dtype=uint8, numpy=array([ 78, 147, 138, ..., 185, 131, 217], dtype=uint8)>, <tf.Tensor: shape=(1024,), dtype=uint8, numpy=array([106, 119, 175, ..., 207,   0, 237], dtype=uint8)>, <tf.Tensor: shape=(1024,), dtype=uint8, numpy=array([ 99, 133, 138, ..., 172,  37, 199], dtype=uint8)>, <tf.Tensor: shape=(1024,), dtype=uint8, numpy=array([ 82, 148, 115, ..., 152, 122, 190], dtype=uint8)>, <tf.Tensor: shape=(1024,), dtype=uint8, numpy=array([ 98, 139, 133, ..., 175, 112, 214], dtype=uint8)>, <tf.Tensor: shape=(1024,), dtype=uint8, numpy=array([179, 103, 135, ..., 131, 127, 131], dtype=uint8)>, <tf.Tensor: shape=(1024,), dtype=uint8, numpy=array([176, 110, 151, ..., 224,  88, 136], dtype=uint8)>, <tf.Tensor: shape=(1024,), dtype=uint8, numpy=array([166,  89, 149, ..., 199,   1, 205], dtype=uint8)>, <tf.Tensor: shape=(1024,), dtype=uint8, numpy=array([131, 101, 130, ..., 156,  99, 176], dtype=uint8)>, <tf.Tensor: shape=(1024,), dtype=uint8, numpy=array([202,  74, 171, ..., 124,   0, 134], dtype=uint8)>, <tf.Tensor: shape=(1024,), dtype=uint8, numpy=array([141, 112, 127, ..., 113,   0, 221], dtype=uint8)>, <tf.Tensor: shape=(1024,), dtype=uint8, numpy=array([195,  98, 149, ..., 207,   0, 168], dtype=uint8)>, <tf.Tensor: shape=(1024,), dtype=uint8, numpy=array([146, 137, 147, ...,  79,  59, 253], dtype=uint8)>, <tf.Tensor: shape=(1024,), dtype=uint8, numpy=array([183, 141, 141, ..., 165,  60, 237], dtype=uint8)>, <tf.Tensor: shape=(1024,), dtype=uint8, numpy=array([ 97, 116, 141, ..., 180,   0,  38], dtype=uint8)>, <tf.Tensor: shape=(1024,), dtype=uint8, numpy=array([101, 104, 186, ..., 117,  63,  71], dtype=uint8)>, <tf.Tensor: shape=(1024,), dtype=uint8, numpy=array([130,  98, 157, ..., 143,  57,  31], dtype=uint8)>, <tf.Tensor: shape=(1024,), dtype=uint8, numpy=array([100, 110, 181, ..., 141,  49, 128], dtype=uint8)>, <tf.Tensor: shape=(1024,), dtype=uint8, numpy=array([100, 124, 210, ..., 153,  25, 104], dtype=uint8)>, <tf.Tensor: shape=(1024,), dtype=uint8, numpy=array([110, 118, 170, ..., 184,  25, 184], dtype=uint8)>, <tf.Tensor: shape=(1024,), dtype=uint8, numpy=array([129, 120, 134, ..., 144,   1, 132], dtype=uint8)>, <tf.Tensor: shape=(1024,), dtype=uint8, numpy=array([143, 129, 106, ..., 109,  20, 168], dtype=uint8)>, <tf.Tensor: shape=(1024,), dtype=uint8, numpy=array([187, 123, 112, ..., 233,  35, 255], dtype=uint8)>, <tf.Tensor: shape=(1024,), dtype=uint8, numpy=array([169, 101, 138, ..., 255,  49, 159], dtype=uint8)>, <tf.Tensor: shape=(1024,), dtype=uint8, numpy=array([125, 127,  91, ..., 227,  50, 244], dtype=uint8)>, <tf.Tensor: shape=(1024,), dtype=uint8, numpy=array([ 81, 138, 110, ..., 126,  42,  57], dtype=uint8)>, <tf.Tensor: shape=(1024,), dtype=uint8, numpy=array([ 96, 120, 114, ..., 141,  36,  22], dtype=uint8)>, <tf.Tensor: shape=(1024,), dtype=uint8, numpy=array([107, 115, 117, ..., 218,   0,  56], dtype=uint8)>, <tf.Tensor: shape=(1024,), dtype=uint8, numpy=array([ 71, 147, 115, ..., 176,  73,  23], dtype=uint8)>, <tf.Tensor: shape=(1024,), dtype=uint8, numpy=array([105, 113, 151, ..., 179,  44,  54], dtype=uint8)>, <tf.Tensor: shape=(1024,), dtype=uint8, numpy=array([127, 157, 127, ..., 179,  79,  35], dtype=uint8)>, <tf.Tensor: shape=(1024,), dtype=uint8, numpy=array([ 75, 109, 134, ..., 232,  20,  88], dtype=uint8)>, <tf.Tensor: shape=(1024,), dtype=uint8, numpy=array([ 85, 104, 143, ..., 197,   0, 103], dtype=uint8)>, <tf.Tensor: shape=(1024,), dtype=uint8, numpy=array([ 95, 104, 156, ..., 168,   0,  23], dtype=uint8)>, <tf.Tensor: shape=(1024,), dtype=uint8, numpy=array([103,  94, 134, ..., 212,   0,  91], dtype=uint8)>, <tf.Tensor: shape=(1024,), dtype=uint8, numpy=array([ 95, 105, 153, ..., 163,  39,  50], dtype=uint8)>, <tf.Tensor: shape=(1024,), dtype=uint8, numpy=array([160,  75, 194, ..., 230,  10, 193], dtype=uint8)>, <tf.Tensor: shape=(1024,), dtype=uint8, numpy=array([170,  97, 159, ..., 171,   0, 217], dtype=uint8)>, <tf.Tensor: shape=(1024,), dtype=uint8, numpy=array([189, 113, 123, ..., 154,  18, 255], dtype=uint8)>, <tf.Tensor: shape=(1024,), dtype=uint8, numpy=array([207, 117, 124, ..., 130,  24, 213], dtype=uint8)>, <tf.Tensor: shape=(1024,), dtype=uint8, numpy=array([188, 106, 120, ..., 226,  40, 178], dtype=uint8)>, <tf.Tensor: shape=(1024,), dtype=uint8, numpy=array([144, 163, 109, ..., 247, 161, 166], dtype=uint8)>, <tf.Tensor: shape=(1024,), dtype=uint8, numpy=array([158, 143,  83, ..., 207,  71, 115], dtype=uint8)>, <tf.Tensor: shape=(1024,), dtype=uint8, numpy=array([161, 126,  94, ...,  94, 114, 198], dtype=uint8)>, <tf.Tensor: shape=(1024,), dtype=uint8, numpy=array([132, 114, 159, ..., 126,  44,  67], dtype=uint8)>, <tf.Tensor: shape=(1024,), dtype=uint8, numpy=array([130, 104, 169, ..., 211,  50,  75], dtype=uint8)>, <tf.Tensor: shape=(1024,), dtype=uint8, numpy=array([ 93, 113, 145, ..., 184,  47,  11], dtype=uint8)>, <tf.Tensor: shape=(1024,), dtype=uint8, numpy=array([130, 105, 137, ..., 224,   0,  55], dtype=uint8)>, <tf.Tensor: shape=(1024,), dtype=uint8, numpy=array([137,  97, 139, ..., 132,   0,  45], dtype=uint8)>, <tf.Tensor: shape=(1024,), dtype=uint8, numpy=array([116, 108, 142, ..., 192,  61, 196], dtype=uint8)>, <tf.Tensor: shape=(1024,), dtype=uint8, numpy=array([118, 123, 152, ..., 212,  25, 104], dtype=uint8)>, <tf.Tensor: shape=(1024,), dtype=uint8, numpy=array([153, 110, 111, ..., 139,  58, 204], dtype=uint8)>, <tf.Tensor: shape=(1024,), dtype=uint8, numpy=array([ 99, 118, 102, ..., 207,   5, 167], dtype=uint8)>, <tf.Tensor: shape=(1024,), dtype=uint8, numpy=array([157,  94, 165, ..., 160,  26, 117], dtype=uint8)>, <tf.Tensor: shape=(1024,), dtype=uint8, numpy=array([233,  67, 103, ..., 255,  54, 255], dtype=uint8)>, <tf.Tensor: shape=(1024,), dtype=uint8, numpy=array([144, 126, 102, ..., 114, 104, 208], dtype=uint8)>, <tf.Tensor: shape=(1024,), dtype=uint8, numpy=array([137, 130,  80, ..., 196, 111, 175], dtype=uint8)>, <tf.Tensor: shape=(1024,), dtype=uint8, numpy=array([126, 113, 111, ..., 238,  25, 113], dtype=uint8)>, <tf.Tensor: shape=(1024,), dtype=uint8, numpy=array([104, 110, 182, ..., 148,  11, 111], dtype=uint8)>, <tf.Tensor: shape=(1024,), dtype=uint8, numpy=array([189,  67, 163, ..., 115,  63, 150], dtype=uint8)>, <tf.Tensor: shape=(1024,), dtype=uint8, numpy=array([200,  78, 158, ..., 237,   0, 206], dtype=uint8)>, <tf.Tensor: shape=(1024,), dtype=uint8, numpy=array([179,  47, 156, ..., 239,  38, 255], dtype=uint8)>, <tf.Tensor: shape=(1024,), dtype=uint8, numpy=array([ 99, 108, 132, ..., 152, 137, 164], dtype=uint8)>, <tf.Tensor: shape=(1024,), dtype=uint8, numpy=array([ 90, 112, 131, ..., 144, 119, 113], dtype=uint8)>, <tf.Tensor: shape=(1024,), dtype=uint8, numpy=array([108, 105, 133, ..., 143,  50, 163], dtype=uint8)>, <tf.Tensor: shape=(1024,), dtype=uint8, numpy=array([204, 111, 130, ..., 190,  24, 100], dtype=uint8)>, <tf.Tensor: shape=(1024,), dtype=uint8, numpy=array([192, 115, 127, ..., 111,   0, 114], dtype=uint8)>, <tf.Tensor: shape=(1024,), dtype=uint8, numpy=array([222, 106, 161, ..., 133,  95, 146], dtype=uint8)>, <tf.Tensor: shape=(1024,), dtype=uint8, numpy=array([197, 111,  85, ..., 176,  17, 156], dtype=uint8)>, <tf.Tensor: shape=(1024,), dtype=uint8, numpy=array([205, 102, 106, ..., 180,  68, 151], dtype=uint8)>, <tf.Tensor: shape=(1024,), dtype=uint8, numpy=array([214, 105, 134, ..., 169,  38,  93], dtype=uint8)>, <tf.Tensor: shape=(1024,), dtype=uint8, numpy=array([170, 121, 132, ..., 177,  38, 123], dtype=uint8)>, <tf.Tensor: shape=(1024,), dtype=uint8, numpy=array([148, 134, 119, ..., 112,  36, 150], dtype=uint8)>, <tf.Tensor: shape=(1024,), dtype=uint8, numpy=array([147, 139,  82, ..., 148,  68, 164], dtype=uint8)>, <tf.Tensor: shape=(1024,), dtype=uint8, numpy=array([121, 140,  84, ..., 216, 100, 161], dtype=uint8)>, <tf.Tensor: shape=(1024,), dtype=uint8, numpy=array([119, 150,  94, ..., 209,  53, 187], dtype=uint8)>, <tf.Tensor: shape=(1024,), dtype=uint8, numpy=array([109, 136,  91, ..., 242,  51, 153], dtype=uint8)>, <tf.Tensor: shape=(1024,), dtype=uint8, numpy=array([122, 145,  70, ..., 220,   0, 109], dtype=uint8)>, <tf.Tensor: shape=(1024,), dtype=uint8, numpy=array([133, 115,  70, ..., 190, 166, 174], dtype=uint8)>, <tf.Tensor: shape=(1024,), dtype=uint8, numpy=array([171, 120, 129, ..., 255,  13, 149], dtype=uint8)>, <tf.Tensor: shape=(1024,), dtype=uint8, numpy=array([138, 156, 109, ..., 221,  23, 201], dtype=uint8)>, <tf.Tensor: shape=(1024,), dtype=uint8, numpy=array([143, 150, 129, ..., 255,  93, 237], dtype=uint8)>, <tf.Tensor: shape=(1024,), dtype=uint8, numpy=array([163, 130, 124, ...,  95,   1, 219], dtype=uint8)>, <tf.Tensor: shape=(1024,), dtype=uint8, numpy=array([202, 117, 140, ..., 125,  41, 189], dtype=uint8)>, <tf.Tensor: shape=(1024,), dtype=uint8, numpy=array([228, 113, 123, ..., 150, 130, 178], dtype=uint8)>, <tf.Tensor: shape=(1024,), dtype=uint8, numpy=array([206, 107, 126, ...,  15,   0, 154], dtype=uint8)>, <tf.Tensor: shape=(1024,), dtype=uint8, numpy=array([168, 123, 133, ...,  77,   0, 213], dtype=uint8)>, <tf.Tensor: shape=(1024,), dtype=uint8, numpy=array([105, 144, 104, ...,  37,   0, 105], dtype=uint8)>, <tf.Tensor: shape=(1024,), dtype=uint8, numpy=array([132, 129, 111, ...,  85,  32, 212], dtype=uint8)>, <tf.Tensor: shape=(1024,), dtype=uint8, numpy=array([127, 145, 115, ...,  97,   0,  64], dtype=uint8)>, <tf.Tensor: shape=(1024,), dtype=uint8, numpy=array([113, 142, 110, ..., 128,  44, 116], dtype=uint8)>, <tf.Tensor: shape=(1024,), dtype=uint8, numpy=array([124, 140,  92, ...,  45,  22, 151], dtype=uint8)>, <tf.Tensor: shape=(1024,), dtype=uint8, numpy=array([150, 127, 115, ..., 120,   4, 143], dtype=uint8)>, <tf.Tensor: shape=(1024,), dtype=uint8, numpy=array([ 78, 145, 107, ..., 211,  54, 243], dtype=uint8)>, <tf.Tensor: shape=(1024,), dtype=uint8, numpy=array([124, 116, 127, ..., 183,   0, 227], dtype=uint8)>, <tf.Tensor: shape=(1024,), dtype=uint8, numpy=array([ 91, 136, 148, ...,  83,   6, 178], dtype=uint8)>, <tf.Tensor: shape=(1024,), dtype=uint8, numpy=array([119, 127, 172, ..., 124,  11, 215], dtype=uint8)>, <tf.Tensor: shape=(1024,), dtype=uint8, numpy=array([109, 111, 171, ..., 118,   0, 178], dtype=uint8)>, <tf.Tensor: shape=(1024,), dtype=uint8, numpy=array([214,  91, 192, ...,  51, 102, 183], dtype=uint8)>, <tf.Tensor: shape=(1024,), dtype=uint8, numpy=array([152, 111, 156, ..., 136,  82, 255], dtype=uint8)>, <tf.Tensor: shape=(1024,), dtype=uint8, numpy=array([142, 120, 145, ..., 133,   0, 192], dtype=uint8)>, <tf.Tensor: shape=(1024,), dtype=uint8, numpy=array([108, 116, 164, ..., 121,  41, 149], dtype=uint8)>, <tf.Tensor: shape=(1024,), dtype=uint8, numpy=array([158, 108, 139, ...,  86,   1, 214], dtype=uint8)>, <tf.Tensor: shape=(1024,), dtype=uint8, numpy=array([124, 123, 148, ..., 103,   0, 218], dtype=uint8)>, <tf.Tensor: shape=(1024,), dtype=uint8, numpy=array([166, 107, 120, ...,  98,   0, 218], dtype=uint8)>, <tf.Tensor: shape=(1024,), dtype=uint8, numpy=array([163, 131, 127, ..., 161,  73, 130], dtype=uint8)>, <tf.Tensor: shape=(1024,), dtype=uint8, numpy=array([172, 143, 104, ..., 238, 251, 109], dtype=uint8)>, <tf.Tensor: shape=(1024,), dtype=uint8, numpy=array([172, 106, 129, ..., 123,  33, 203], dtype=uint8)>, <tf.Tensor: shape=(1024,), dtype=uint8, numpy=array([154,  94, 156, ..., 204,   0, 113], dtype=uint8)>, <tf.Tensor: shape=(1024,), dtype=uint8, numpy=array([139, 111, 100, ..., 244,  24, 120], dtype=uint8)>, <tf.Tensor: shape=(1024,), dtype=uint8, numpy=array([ 93, 115, 144, ..., 169, 116,  65], dtype=uint8)>, <tf.Tensor: shape=(1024,), dtype=uint8, numpy=array([143, 134, 105, ..., 214, 155,  98], dtype=uint8)>, <tf.Tensor: shape=(1024,), dtype=uint8, numpy=array([ 76, 166, 142, ..., 224, 135,  81], dtype=uint8)>, <tf.Tensor: shape=(1024,), dtype=uint8, numpy=array([117, 103, 145, ..., 166, 182, 175], dtype=uint8)>, <tf.Tensor: shape=(1024,), dtype=uint8, numpy=array([ 86, 118, 111, ..., 139,  52,  75], dtype=uint8)>, <tf.Tensor: shape=(1024,), dtype=uint8, numpy=array([ 90,  98, 128, ..., 172,  65, 118], dtype=uint8)>, <tf.Tensor: shape=(1024,), dtype=uint8, numpy=array([223,  99, 110, ..., 114,   0, 200], dtype=uint8)>, <tf.Tensor: shape=(1024,), dtype=uint8, numpy=array([228, 112, 117, ..., 190,   0, 176], dtype=uint8)>, <tf.Tensor: shape=(1024,), dtype=uint8, numpy=array([133, 180,  98, ...,  79, 255, 123], dtype=uint8)>, <tf.Tensor: shape=(1024,), dtype=uint8, numpy=array([223, 122, 124, ...,  89,   3, 142], dtype=uint8)>, <tf.Tensor: shape=(1024,), dtype=uint8, numpy=array([142, 121, 131, ..., 223,  54, 243], dtype=uint8)>, <tf.Tensor: shape=(1024,), dtype=uint8, numpy=array([106, 140,  98, ..., 131,  85, 176], dtype=uint8)>, <tf.Tensor: shape=(1024,), dtype=uint8, numpy=array([ 97, 132, 140, ..., 181,  57, 188], dtype=uint8)>, <tf.Tensor: shape=(1024,), dtype=uint8, numpy=array([ 95, 137, 151, ..., 197, 105, 147], dtype=uint8)>, <tf.Tensor: shape=(1024,), dtype=uint8, numpy=array([120, 142, 141, ..., 160,  60, 201], dtype=uint8)>, <tf.Tensor: shape=(1024,), dtype=uint8, numpy=array([107, 106, 171, ..., 141,  86,  43], dtype=uint8)>, <tf.Tensor: shape=(1024,), dtype=uint8, numpy=array([113, 105, 153, ..., 139,  55,  41], dtype=uint8)>, <tf.Tensor: shape=(1024,), dtype=uint8, numpy=array([108,  94, 187, ..., 123,  55,   1], dtype=uint8)>, <tf.Tensor: shape=(1024,), dtype=uint8, numpy=array([151, 111, 152, ...,  80, 177, 186], dtype=uint8)>, <tf.Tensor: shape=(1024,), dtype=uint8, numpy=array([176, 129,  93, ..., 140,   0, 255], dtype=uint8)>, <tf.Tensor: shape=(1024,), dtype=uint8, numpy=array([187, 125,  64, ..., 239, 146, 218], dtype=uint8)>, <tf.Tensor: shape=(1024,), dtype=uint8, numpy=array([122, 134,  99, ..., 190,  48, 126], dtype=uint8)>, <tf.Tensor: shape=(1024,), dtype=uint8, numpy=array([149, 111, 126, ...,  71,  59, 154], dtype=uint8)>, <tf.Tensor: shape=(1024,), dtype=uint8, numpy=array([180, 111, 132, ..., 104,  45, 207], dtype=uint8)>, <tf.Tensor: shape=(1024,), dtype=uint8, numpy=array([138, 110, 104, ...,  93,   0, 140], dtype=uint8)>, <tf.Tensor: shape=(1024,), dtype=uint8, numpy=array([120, 127, 112, ..., 223,  50, 255], dtype=uint8)>, <tf.Tensor: shape=(1024,), dtype=uint8, numpy=array([ 78, 137, 146, ..., 183,  58, 121], dtype=uint8)>, <tf.Tensor: shape=(1024,), dtype=uint8, numpy=array([103, 125, 209, ..., 251,  49, 217], dtype=uint8)>, <tf.Tensor: shape=(1024,), dtype=uint8, numpy=array([112, 129, 185, ..., 255,  43, 133], dtype=uint8)>, <tf.Tensor: shape=(1024,), dtype=uint8, numpy=array([ 81, 133, 194, ..., 225,  22, 132], dtype=uint8)>, <tf.Tensor: shape=(1024,), dtype=uint8, numpy=array([160, 104, 185, ..., 145,  31, 130], dtype=uint8)>, <tf.Tensor: shape=(1024,), dtype=uint8, numpy=array([163,  94, 183, ...,  93,   4, 156], dtype=uint8)>, <tf.Tensor: shape=(1024,), dtype=uint8, numpy=array([186,  74, 184, ...,  52,  24, 230], dtype=uint8)>, <tf.Tensor: shape=(1024,), dtype=uint8, numpy=array([145, 140, 145, ...,  97,   7, 226], dtype=uint8)>, <tf.Tensor: shape=(1024,), dtype=uint8, numpy=array([153, 132,  85, ..., 144,   0, 191], dtype=uint8)>, <tf.Tensor: shape=(1024,), dtype=uint8, numpy=array([148, 127, 105, ..., 255,   9, 188], dtype=uint8)>, <tf.Tensor: shape=(1024,), dtype=uint8, numpy=array([136, 141,  77, ..., 144, 240, 246], dtype=uint8)>, <tf.Tensor: shape=(1024,), dtype=uint8, numpy=array([142, 142,  88, ..., 198, 166, 192], dtype=uint8)>, <tf.Tensor: shape=(1024,), dtype=uint8, numpy=array([211, 111, 131, ..., 231, 202, 255], dtype=uint8)>, <tf.Tensor: shape=(1024,), dtype=uint8, numpy=array([171, 100, 112, ..., 207, 112, 255], dtype=uint8)>, <tf.Tensor: shape=(1024,), dtype=uint8, numpy=array([171,  86, 125, ..., 152,   0, 181], dtype=uint8)>, <tf.Tensor: shape=(1024,), dtype=uint8, numpy=array([214,  66, 139, ...,  98,   0, 255], dtype=uint8)>, <tf.Tensor: shape=(1024,), dtype=uint8, numpy=array([176, 117, 108, ..., 214,   0, 147], dtype=uint8)>, <tf.Tensor: shape=(1024,), dtype=uint8, numpy=array([211,  90, 160, ..., 248,   3, 137], dtype=uint8)>, <tf.Tensor: shape=(1024,), dtype=uint8, numpy=array([224,  64, 179, ..., 160,   0, 111], dtype=uint8)>, <tf.Tensor: shape=(1024,), dtype=uint8, numpy=array([218,  78, 145, ..., 255,   3, 124], dtype=uint8)>, <tf.Tensor: shape=(1024,), dtype=uint8, numpy=array([151, 116, 119, ..., 164,  12,  99], dtype=uint8)>, <tf.Tensor: shape=(1024,), dtype=uint8, numpy=array([151, 135, 107, ..., 112,  85, 234], dtype=uint8)>, <tf.Tensor: shape=(1024,), dtype=uint8, numpy=array([134, 148,  92, ..., 101, 137, 208], dtype=uint8)>, <tf.Tensor: shape=(1024,), dtype=uint8, numpy=array([150, 108, 154, ..., 214, 137,   0], dtype=uint8)>, <tf.Tensor: shape=(1024,), dtype=uint8, numpy=array([143, 104, 117, ..., 120,   0,  86], dtype=uint8)>, <tf.Tensor: shape=(1024,), dtype=uint8, numpy=array([153, 100, 104, ..., 211,  25,  87], dtype=uint8)>, <tf.Tensor: shape=(1024,), dtype=uint8, numpy=array([133, 108, 108, ..., 163,  58, 109], dtype=uint8)>, <tf.Tensor: shape=(1024,), dtype=uint8, numpy=array([146, 113, 111, ..., 188,  62, 114], dtype=uint8)>, <tf.Tensor: shape=(1024,), dtype=uint8, numpy=array([184,  82, 102, ..., 255,   0, 150], dtype=uint8)>, <tf.Tensor: shape=(1024,), dtype=uint8, numpy=array([145, 101, 133, ..., 192,   0,  90], dtype=uint8)>, <tf.Tensor: shape=(1024,), dtype=uint8, numpy=array([188, 101, 141, ..., 228,   0, 102], dtype=uint8)>, <tf.Tensor: shape=(1024,), dtype=uint8, numpy=array([158, 124, 126, ..., 194,   0, 140], dtype=uint8)>, <tf.Tensor: shape=(1024,), dtype=uint8, numpy=array([175, 120, 135, ..., 166,   0, 104], dtype=uint8)>, <tf.Tensor: shape=(1024,), dtype=uint8, numpy=array([163, 129, 122, ..., 160,   0, 116], dtype=uint8)>, <tf.Tensor: shape=(1024,), dtype=uint8, numpy=array([198, 123, 108, ...,  35,   1, 181], dtype=uint8)>, <tf.Tensor: shape=(1024,), dtype=uint8, numpy=array([186, 119, 111, ...,  60,   0, 250], dtype=uint8)>, <tf.Tensor: shape=(1024,), dtype=uint8, numpy=array([211, 117, 114, ...,  75,  12, 217], dtype=uint8)>, <tf.Tensor: shape=(1024,), dtype=uint8, numpy=array([211,  93, 126, ...,  67,  24, 223], dtype=uint8)>, <tf.Tensor: shape=(1024,), dtype=uint8, numpy=array([197, 111, 123, ..., 146,  37, 199], dtype=uint8)>, <tf.Tensor: shape=(1024,), dtype=uint8, numpy=array([112, 153,  98, ..., 200,  30,  76], dtype=uint8)>, <tf.Tensor: shape=(1024,), dtype=uint8, numpy=array([203, 108, 123, ..., 224,  93, 111], dtype=uint8)>, <tf.Tensor: shape=(1024,), dtype=uint8, numpy=array([ 86, 161,  97, ..., 163, 132, 137], dtype=uint8)>, <tf.Tensor: shape=(1024,), dtype=uint8, numpy=array([125, 139, 128, ..., 195,   8, 182], dtype=uint8)>, <tf.Tensor: shape=(1024,), dtype=uint8, numpy=array([142, 138, 117, ..., 111,  39, 171], dtype=uint8)>, <tf.Tensor: shape=(1024,), dtype=uint8, numpy=array([151, 142,  92, ...,  51,  68, 198], dtype=uint8)>, <tf.Tensor: shape=(1024,), dtype=uint8, numpy=array([158, 138, 105, ...,  96,  10, 132], dtype=uint8)>, <tf.Tensor: shape=(1024,), dtype=uint8, numpy=array([150, 128, 114, ..., 141, 117, 130], dtype=uint8)>, <tf.Tensor: shape=(1024,), dtype=uint8, numpy=array([154, 116, 122, ..., 175,  42, 148], dtype=uint8)>, <tf.Tensor: shape=(1024,), dtype=uint8, numpy=array([ 96, 148, 110, ...,  56,  36, 147], dtype=uint8)>, <tf.Tensor: shape=(1024,), dtype=uint8, numpy=array([140, 117, 164, ..., 218,  63, 204], dtype=uint8)>, <tf.Tensor: shape=(1024,), dtype=uint8, numpy=array([121, 181, 102, ..., 194, 179, 175], dtype=uint8)>, <tf.Tensor: shape=(1024,), dtype=uint8, numpy=array([109, 158, 101, ..., 173, 220, 240], dtype=uint8)>, <tf.Tensor: shape=(1024,), dtype=uint8, numpy=array([118, 161, 115, ..., 206, 126, 148], dtype=uint8)>, <tf.Tensor: shape=(1024,), dtype=uint8, numpy=array([ 83, 178, 117, ..., 205,  78,  82], dtype=uint8)>, <tf.Tensor: shape=(1024,), dtype=uint8, numpy=array([113, 174, 109, ..., 135, 141, 178], dtype=uint8)>, <tf.Tensor: shape=(1024,), dtype=uint8, numpy=array([115, 161, 151, ..., 213, 113,  24], dtype=uint8)>, <tf.Tensor: shape=(1024,), dtype=uint8, numpy=array([185, 100, 121, ..., 193,  80, 152], dtype=uint8)>, <tf.Tensor: shape=(1024,), dtype=uint8, numpy=array([221,  91, 121, ..., 144,   0, 255], dtype=uint8)>, <tf.Tensor: shape=(1024,), dtype=uint8, numpy=array([153, 108, 103, ...,  38,  28, 210], dtype=uint8)>, <tf.Tensor: shape=(1024,), dtype=uint8, numpy=array([158, 109, 127, ..., 195,   0, 222], dtype=uint8)>, <tf.Tensor: shape=(1024,), dtype=uint8, numpy=array([177,  99, 145, ..., 179,  20, 177], dtype=uint8)>, <tf.Tensor: shape=(1024,), dtype=uint8, numpy=array([108,  93, 168, ...,  81,  36, 107], dtype=uint8)>, <tf.Tensor: shape=(1024,), dtype=uint8, numpy=array([158,  97, 144, ..., 136,  45, 207], dtype=uint8)>, <tf.Tensor: shape=(1024,), dtype=uint8, numpy=array([240,  91, 139, ..., 119,   0, 255], dtype=uint8)>, <tf.Tensor: shape=(1024,), dtype=uint8, numpy=array([207, 110, 132, ..., 199,   0, 255], dtype=uint8)>, <tf.Tensor: shape=(1024,), dtype=uint8, numpy=array([237,  95, 188, ...,  85,   0, 241], dtype=uint8)>, <tf.Tensor: shape=(1024,), dtype=uint8, numpy=array([176,  82, 141, ..., 109,  29, 210], dtype=uint8)>, <tf.Tensor: shape=(1024,), dtype=uint8, numpy=array([176,  94, 136, ..., 158,  28, 214], dtype=uint8)>, <tf.Tensor: shape=(1024,), dtype=uint8, numpy=array([145, 117, 112, ..., 122,  45, 165], dtype=uint8)>, <tf.Tensor: shape=(1024,), dtype=uint8, numpy=array([160, 128, 109, ...,  48,  74, 174], dtype=uint8)>, <tf.Tensor: shape=(1024,), dtype=uint8, numpy=array([160, 108, 111, ...,  29, 103, 201], dtype=uint8)>, <tf.Tensor: shape=(1024,), dtype=uint8, numpy=array([139, 101, 115, ..., 103,  46, 231], dtype=uint8)>, <tf.Tensor: shape=(1024,), dtype=uint8, numpy=array([137,  98, 111, ..., 120, 101, 255], dtype=uint8)>, <tf.Tensor: shape=(1024,), dtype=uint8, numpy=array([124,  77, 166, ..., 208, 109, 194], dtype=uint8)>, <tf.Tensor: shape=(1024,), dtype=uint8, numpy=array([176,  59, 167, ...,  91,  59, 147], dtype=uint8)>, <tf.Tensor: shape=(1024,), dtype=uint8, numpy=array([143,  58, 165, ..., 226,  34, 112], dtype=uint8)>, <tf.Tensor: shape=(1024,), dtype=uint8, numpy=array([189,  68, 164, ..., 112, 124, 100], dtype=uint8)>, <tf.Tensor: shape=(1024,), dtype=uint8, numpy=array([109,  95, 140, ...,  67,  72, 142], dtype=uint8)>, <tf.Tensor: shape=(1024,), dtype=uint8, numpy=array([146, 123,  94, ..., 177,  49, 177], dtype=uint8)>, <tf.Tensor: shape=(1024,), dtype=uint8, numpy=array([126, 109,  83, ..., 139,  33, 218], dtype=uint8)>, <tf.Tensor: shape=(1024,), dtype=uint8, numpy=array([147, 140,  69, ..., 189,  34,  35], dtype=uint8)>, <tf.Tensor: shape=(1024,), dtype=uint8, numpy=array([159, 127,  91, ..., 255,  13, 231], dtype=uint8)>, <tf.Tensor: shape=(1024,), dtype=uint8, numpy=array([158, 112,  86, ..., 166,  74, 212], dtype=uint8)>, <tf.Tensor: shape=(1024,), dtype=uint8, numpy=array([101, 132, 120, ..., 133,  85,  54], dtype=uint8)>, <tf.Tensor: shape=(1024,), dtype=uint8, numpy=array([164, 105, 142, ...,  73,  61, 215], dtype=uint8)>, <tf.Tensor: shape=(1024,), dtype=uint8, numpy=array([134, 105, 145, ..., 107,  81, 196], dtype=uint8)>, <tf.Tensor: shape=(1024,), dtype=uint8, numpy=array([134,  97, 141, ..., 162,  20, 174], dtype=uint8)>, <tf.Tensor: shape=(1024,), dtype=uint8, numpy=array([173, 109, 159, ..., 157,  18, 195], dtype=uint8)>, <tf.Tensor: shape=(1024,), dtype=uint8, numpy=array([ 60, 163, 101, ..., 149,  92,  52], dtype=uint8)>, <tf.Tensor: shape=(1024,), dtype=uint8, numpy=array([ 79, 166,  92, ..., 200, 186, 123], dtype=uint8)>, <tf.Tensor: shape=(1024,), dtype=uint8, numpy=array([130, 135, 130, ..., 138,  73,  91], dtype=uint8)>, <tf.Tensor: shape=(1024,), dtype=uint8, numpy=array([111, 128, 108, ...,  89,  69, 107], dtype=uint8)>, <tf.Tensor: shape=(1024,), dtype=uint8, numpy=array([138, 118, 101, ..., 135,  61,  77], dtype=uint8)>, <tf.Tensor: shape=(1024,), dtype=uint8, numpy=array([150, 129, 130, ..., 140,  24, 180], dtype=uint8)>, <tf.Tensor: shape=(1024,), dtype=uint8, numpy=array([104, 140,  98, ...,  92, 157,  99], dtype=uint8)>]\n"
     ]
    }
   ],
   "source": [
    "print(rgb[0])"
   ]
  },
  {
   "cell_type": "code",
   "execution_count": 11,
   "id": "d9ef166a-d33d-4b58-88b8-e6d89cacdf2e",
   "metadata": {},
   "outputs": [
    {
     "name": "stdout",
     "output_type": "stream",
     "text": [
      "tf.Tensor([118 129  97 ... 255   0 160], shape=(1024,), dtype=uint8)\n"
     ]
    }
   ],
   "source": [
    "print(rgb[0][10])"
   ]
  },
  {
   "cell_type": "markdown",
   "id": "b69120aa-ff36-4c2f-97ce-7a2e8b049b47",
   "metadata": {},
   "source": [
    "- Here, the youtube video id: 'k6bX' of the dataset maps to \"cEoT60kT4dM\"."
   ]
  },
  {
   "cell_type": "code",
   "execution_count": 12,
   "id": "51e2cd24-ac54-41af-9a46-4226181ca33c",
   "metadata": {},
   "outputs": [
    {
     "data": {
      "image/jpeg": "[encoded data removed]",
      "text/html": [
       "\n",
       "        <iframe\n",
       "            width=\"400\"\n",
       "            height=\"300\"\n",
       "            src=\"https://www.youtube.com/embed/cEoT60kT4dM\"\n",
       "            frameborder=\"0\"\n",
       "            allowfullscreen\n",
       "            \n",
       "        ></iframe>\n",
       "        "
      ],
      "text/plain": [
       "<IPython.lib.display.YouTubeVideo at 0x2e23bd430>"
      ]
     },
     "execution_count": 12,
     "metadata": {},
     "output_type": "execute_result"
    }
   ],
   "source": [
    "YouTubeVideo(\"cEoT60kT4dM\")"
   ]
  },
  {
   "cell_type": "markdown",
   "id": "4f965700-deac-4a77-8fe3-470f812ca39d",
   "metadata": {},
   "source": [
    "### The label ids are mapped to label names through vocabulary.csv "
   ]
  },
  {
   "cell_type": "code",
   "execution_count": 13,
   "id": "0dee01a9-f096-471a-8314-7f8cd70f17d4",
   "metadata": {},
   "outputs": [],
   "source": [
    "vocabulary = pd.read_csv(\"./2/frame/vocabulary.csv\")"
   ]
  },
  {
   "cell_type": "code",
   "execution_count": 14,
   "id": "47090340-815d-4c15-94e9-44e6f19ef70d",
   "metadata": {},
   "outputs": [
    {
     "data": {
      "text/html": [
       "<div>\n",
       "<style scoped>\n",
       "    .dataframe tbody tr th:only-of-type {\n",
       "        vertical-align: middle;\n",
       "    }\n",
       "\n",
       "    .dataframe tbody tr th {\n",
       "        vertical-align: top;\n",
       "    }\n",
       "\n",
       "    .dataframe thead th {\n",
       "        text-align: right;\n",
       "    }\n",
       "</style>\n",
       "<table border=\"1\" class=\"dataframe\">\n",
       "  <thead>\n",
       "    <tr style=\"text-align: right;\">\n",
       "      <th></th>\n",
       "      <th>Index</th>\n",
       "      <th>TrainVideoCount</th>\n",
       "      <th>KnowledgeGraphId</th>\n",
       "      <th>Name</th>\n",
       "      <th>WikiUrl</th>\n",
       "      <th>Vertical1</th>\n",
       "      <th>Vertical2</th>\n",
       "      <th>Vertical3</th>\n",
       "      <th>WikiDescription</th>\n",
       "    </tr>\n",
       "  </thead>\n",
       "  <tbody>\n",
       "    <tr>\n",
       "      <th>0</th>\n",
       "      <td>0</td>\n",
       "      <td>788288</td>\n",
       "      <td>/m/03bt1gh</td>\n",
       "      <td>Game</td>\n",
       "      <td>https://en.wikipedia.org/wiki/Game</td>\n",
       "      <td>Games</td>\n",
       "      <td>NaN</td>\n",
       "      <td>NaN</td>\n",
       "      <td>A game is structured form of play, usually und...</td>\n",
       "    </tr>\n",
       "    <tr>\n",
       "      <th>1</th>\n",
       "      <td>1</td>\n",
       "      <td>539945</td>\n",
       "      <td>/m/01mw1</td>\n",
       "      <td>Video game</td>\n",
       "      <td>https://en.wikipedia.org/wiki/Video_game</td>\n",
       "      <td>Games</td>\n",
       "      <td>NaN</td>\n",
       "      <td>NaN</td>\n",
       "      <td>A video game is an electronic game that involv...</td>\n",
       "    </tr>\n",
       "    <tr>\n",
       "      <th>2</th>\n",
       "      <td>2</td>\n",
       "      <td>415890</td>\n",
       "      <td>/m/07yv9</td>\n",
       "      <td>Vehicle</td>\n",
       "      <td>https://en.wikipedia.org/wiki/Vehicle</td>\n",
       "      <td>Autos &amp; Vehicles</td>\n",
       "      <td>NaN</td>\n",
       "      <td>NaN</td>\n",
       "      <td>A vehicle is a mobile machine that transports ...</td>\n",
       "    </tr>\n",
       "    <tr>\n",
       "      <th>3</th>\n",
       "      <td>3</td>\n",
       "      <td>378135</td>\n",
       "      <td>/m/01jddz</td>\n",
       "      <td>Concert</td>\n",
       "      <td>https://en.wikipedia.org/wiki/Concert</td>\n",
       "      <td>Arts &amp; Entertainment</td>\n",
       "      <td>NaN</td>\n",
       "      <td>NaN</td>\n",
       "      <td>A concert is a live music performance in front...</td>\n",
       "    </tr>\n",
       "    <tr>\n",
       "      <th>4</th>\n",
       "      <td>4</td>\n",
       "      <td>286532</td>\n",
       "      <td>/m/09jwl</td>\n",
       "      <td>Musician</td>\n",
       "      <td>https://en.wikipedia.org/wiki/Musician</td>\n",
       "      <td>Arts &amp; Entertainment</td>\n",
       "      <td>NaN</td>\n",
       "      <td>NaN</td>\n",
       "      <td>A musician is a person who plays a musical ins...</td>\n",
       "    </tr>\n",
       "  </tbody>\n",
       "</table>\n",
       "</div>"
      ],
      "text/plain": [
       "   Index  TrainVideoCount KnowledgeGraphId        Name  \\\n",
       "0      0           788288       /m/03bt1gh        Game   \n",
       "1      1           539945         /m/01mw1  Video game   \n",
       "2      2           415890         /m/07yv9     Vehicle   \n",
       "3      3           378135        /m/01jddz     Concert   \n",
       "4      4           286532         /m/09jwl    Musician   \n",
       "\n",
       "                                    WikiUrl             Vertical1 Vertical2  \\\n",
       "0        https://en.wikipedia.org/wiki/Game                 Games       NaN   \n",
       "1  https://en.wikipedia.org/wiki/Video_game                 Games       NaN   \n",
       "2     https://en.wikipedia.org/wiki/Vehicle      Autos & Vehicles       NaN   \n",
       "3     https://en.wikipedia.org/wiki/Concert  Arts & Entertainment       NaN   \n",
       "4    https://en.wikipedia.org/wiki/Musician  Arts & Entertainment       NaN   \n",
       "\n",
       "  Vertical3                                    WikiDescription  \n",
       "0       NaN  A game is structured form of play, usually und...  \n",
       "1       NaN  A video game is an electronic game that involv...  \n",
       "2       NaN  A vehicle is a mobile machine that transports ...  \n",
       "3       NaN  A concert is a live music performance in front...  \n",
       "4       NaN  A musician is a person who plays a musical ins...  "
      ]
     },
     "execution_count": 14,
     "metadata": {},
     "output_type": "execute_result"
    }
   ],
   "source": [
    "vocabulary.head()"
   ]
  },
  {
   "cell_type": "code",
   "execution_count": 16,
   "id": "fb8b888d-cf94-4d75-8998-9f47ed501eb3",
   "metadata": {},
   "outputs": [
    {
     "name": "stdout",
     "output_type": "stream",
     "text": [
      "<class 'pandas.core.frame.DataFrame'>\n",
      "RangeIndex: 3862 entries, 0 to 3861\n",
      "Data columns (total 9 columns):\n",
      " #   Column            Non-Null Count  Dtype \n",
      "---  ------            --------------  ----- \n",
      " 0   Index             3862 non-null   int64 \n",
      " 1   TrainVideoCount   3862 non-null   int64 \n",
      " 2   KnowledgeGraphId  3862 non-null   object\n",
      " 3   Name              3806 non-null   object\n",
      " 4   WikiUrl           3806 non-null   object\n",
      " 5   Vertical1         3862 non-null   object\n",
      " 6   Vertical2         584 non-null    object\n",
      " 7   Vertical3         32 non-null     object\n",
      " 8   WikiDescription   3806 non-null   object\n",
      "dtypes: int64(2), object(7)\n",
      "memory usage: 271.7+ KB\n"
     ]
    }
   ],
   "source": [
    "vocabulary.info()"
   ]
  },
  {
   "cell_type": "code",
   "execution_count": 17,
   "id": "3a81c0a2-c95d-447a-b548-46587c9e9c07",
   "metadata": {},
   "outputs": [
    {
     "data": {
      "text/html": [
       "<div>\n",
       "<style scoped>\n",
       "    .dataframe tbody tr th:only-of-type {\n",
       "        vertical-align: middle;\n",
       "    }\n",
       "\n",
       "    .dataframe tbody tr th {\n",
       "        vertical-align: top;\n",
       "    }\n",
       "\n",
       "    .dataframe thead th {\n",
       "        text-align: right;\n",
       "    }\n",
       "</style>\n",
       "<table border=\"1\" class=\"dataframe\">\n",
       "  <thead>\n",
       "    <tr style=\"text-align: right;\">\n",
       "      <th></th>\n",
       "      <th>Index</th>\n",
       "      <th>TrainVideoCount</th>\n",
       "    </tr>\n",
       "  </thead>\n",
       "  <tbody>\n",
       "    <tr>\n",
       "      <th>count</th>\n",
       "      <td>3862.000000</td>\n",
       "      <td>3862.000000</td>\n",
       "    </tr>\n",
       "    <tr>\n",
       "      <th>mean</th>\n",
       "      <td>1930.500000</td>\n",
       "      <td>3032.527188</td>\n",
       "    </tr>\n",
       "    <tr>\n",
       "      <th>std</th>\n",
       "      <td>1115.007698</td>\n",
       "      <td>21182.048375</td>\n",
       "    </tr>\n",
       "    <tr>\n",
       "      <th>min</th>\n",
       "      <td>0.000000</td>\n",
       "      <td>123.000000</td>\n",
       "    </tr>\n",
       "    <tr>\n",
       "      <th>25%</th>\n",
       "      <td>965.250000</td>\n",
       "      <td>234.000000</td>\n",
       "    </tr>\n",
       "    <tr>\n",
       "      <th>50%</th>\n",
       "      <td>1930.500000</td>\n",
       "      <td>440.500000</td>\n",
       "    </tr>\n",
       "    <tr>\n",
       "      <th>75%</th>\n",
       "      <td>2895.750000</td>\n",
       "      <td>1199.750000</td>\n",
       "    </tr>\n",
       "    <tr>\n",
       "      <th>max</th>\n",
       "      <td>3861.000000</td>\n",
       "      <td>788288.000000</td>\n",
       "    </tr>\n",
       "  </tbody>\n",
       "</table>\n",
       "</div>"
      ],
      "text/plain": [
       "             Index  TrainVideoCount\n",
       "count  3862.000000      3862.000000\n",
       "mean   1930.500000      3032.527188\n",
       "std    1115.007698     21182.048375\n",
       "min       0.000000       123.000000\n",
       "25%     965.250000       234.000000\n",
       "50%    1930.500000       440.500000\n",
       "75%    2895.750000      1199.750000\n",
       "max    3861.000000    788288.000000"
      ]
     },
     "execution_count": 17,
     "metadata": {},
     "output_type": "execute_result"
    }
   ],
   "source": [
    "vocabulary.describe()"
   ]
  },
  {
   "cell_type": "code",
   "execution_count": 18,
   "id": "61358a35-39bd-41ef-93a4-6b2012f729f1",
   "metadata": {},
   "outputs": [
    {
     "name": "stdout",
     "output_type": "stream",
     "text": [
      "Index                                                             315\n",
      "TrainVideoCount                                                  4898\n",
      "KnowledgeGraphId                                            /m/018ng8\n",
      "Name                                         Television advertisement\n",
      "WikiUrl             https://en.wikipedia.org/wiki/Television_adver...\n",
      "Vertical1                                        Arts & Entertainment\n",
      "Vertical2                                                         NaN\n",
      "Vertical3                                                         NaN\n",
      "WikiDescription     A television advertisement is a span of televi...\n",
      "Name: 316, dtype: object\n"
     ]
    }
   ],
   "source": [
    "print(vocabulary.iloc[316]) # Television Advertisement"
   ]
  },
  {
   "cell_type": "code",
   "execution_count": null,
   "id": "d8d4b64d-0f40-44ae-9a31-a5d0005d7db1",
   "metadata": {},
   "outputs": [],
   "source": []
  }
 ],
 "metadata": {
  "kernelspec": {
   "display_name": "Python 3 (ipykernel)",
   "language": "python",
   "name": "python3"
  },
  "language_info": {
   "codemirror_mode": {
    "name": "ipython",
    "version": 3
   },
   "file_extension": ".py",
   "mimetype": "text/x-python",
   "name": "python",
   "nbconvert_exporter": "python",
   "pygments_lexer": "ipython3",
   "version": "3.12.0"
  }
 },
 "nbformat": 4,
 "nbformat_minor": 5
}
