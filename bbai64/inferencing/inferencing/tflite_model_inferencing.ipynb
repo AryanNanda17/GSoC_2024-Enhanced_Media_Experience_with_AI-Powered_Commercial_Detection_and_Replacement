{
 "cells": [
  {
   "cell_type": "code",
   "execution_count": 18,
   "id": "edcdae02",
   "metadata": {},
   "outputs": [],
   "source": [
    "# Import important libraries\n",
    "import pickle\n",
    "import numpy as np\n",
    "import os\n",
    "import tensorflow as tf\n",
    "import matplotlib.pyplot as plt\n",
    "import seaborn as sns"
   ]
  },
  {
   "cell_type": "code",
   "execution_count": 19,
   "id": "a5b3858b-6631-48c0-87f8-8897d04262a6",
   "metadata": {},
   "outputs": [],
   "source": [
    "X_test = np.load('../test_data/X_test.npy')\n",
    "y_test = np.load('../test_data/y_test.npy')"
   ]
  },
  {
   "cell_type": "code",
   "execution_count": 20,
   "id": "726dd19e-9977-4f4f-a528-7c16016f13c2",
   "metadata": {},
   "outputs": [
    {
     "name": "stdout",
     "output_type": "stream",
     "text": [
      "(892, 150, 1152)\n",
      "(892,)\n"
     ]
    }
   ],
   "source": [
    "print(X_test.shape)\n",
    "print(y_test.shape)"
   ]
  },
  {
   "cell_type": "code",
   "execution_count": 21,
   "id": "2a4deb19-aab9-405a-8655-076c253b0888",
   "metadata": {},
   "outputs": [],
   "source": [
    "X_test = X_test[:10]\n",
    "y_test = y_test[:10]"
   ]
  },
  {
   "cell_type": "code",
   "execution_count": 22,
   "id": "095bc372-59b5-4b10-84e4-b4274793fd0a",
   "metadata": {},
   "outputs": [
    {
     "name": "stdout",
     "output_type": "stream",
     "text": [
      "(10, 150, 1152)\n",
      "(10,)\n"
     ]
    }
   ],
   "source": [
    "print(X_test.shape)\n",
    "print(y_test.shape)"
   ]
  },
  {
   "cell_type": "markdown",
   "id": "JmShVVkYOPN-",
   "metadata": {
    "id": "JmShVVkYOPN-"
   },
   "source": [
    "## Inferencing on .tflite model"
   ]
  },
  {
   "cell_type": "code",
   "execution_count": 17,
   "id": "ZD9wp47hOpCZ",
   "metadata": {
    "id": "ZD9wp47hOpCZ"
   },
   "outputs": [
    {
     "name": "stdout",
     "output_type": "stream",
     "text": [
      "Input details: [{'name': 'serving_default_reshape_input:0', 'index': 0, 'shape': array([   1,  150, 1152], dtype=int32), 'shape_signature': array([   1,  150, 1152], dtype=int32), 'dtype': <class 'numpy.float32'>, 'quantization': (0.0, 0), 'quantization_parameters': {'scales': array([], dtype=float32), 'zero_points': array([], dtype=int32), 'quantized_dimension': 0}, 'sparsity_parameters': {}}]\n",
      "Output details: [{'name': 'StatefulPartitionedCall:0', 'index': 26, 'shape': array([1, 1], dtype=int32), 'shape_signature': array([1, 1], dtype=int32), 'dtype': <class 'numpy.float32'>, 'quantization': (0.0, 0), 'quantization_parameters': {'scales': array([], dtype=float32), 'zero_points': array([], dtype=int32), 'quantized_dimension': 0}, 'sparsity_parameters': {}}]\n"
     ]
    }
   ],
   "source": [
    "import tensorflow as tf\n",
    "\n",
    "tflite_model_path = '../Model/cnn_model.tflite'\n",
    "artifacts_folder_path = '../artifacts_folder'\n",
    "\n",
    "# # Load TIDL delegate\n",
    "tidl_delegate = tf.lite.experimental.load_delegate('/lib/usr/tidl_delegate.so', options={\"artifacts_folder\": artifacts_folder_path})\n",
    "interpreter = tf.lite.Interpreter(model_path=tflite_model_path, experimental_delegates=[tidl_delegate])\n",
    "# interpreter = tf.lite.Interpreter(model_path=tflite_model_path)\n",
    "interpreter.allocate_tensors()\n",
    "\n",
    "# Get input and output tensors\n",
    "input_details = interpreter.get_input_details()\n",
    "output_details = interpreter.get_output_details()\n",
    "\n",
    "print(\"Input details:\", input_details)\n",
    "print(\"Output details:\", output_details)"
   ]
  },
  {
   "cell_type": "code",
   "execution_count": 10,
   "id": "xjrt3zFKRAHL",
   "metadata": {
    "id": "xjrt3zFKRAHL"
   },
   "outputs": [],
   "source": [
    "def run_inference(input_data):\n",
    "    \"\"\"\n",
    "    Run inference on a single input using the TensorFlow Lite interpreter.\n",
    "\n",
    "    Parameters:\n",
    "    input_data (np.ndarray): The input data for the model. Should be a NumPy array with the appropriate shape.\n",
    "\n",
    "    Returns\n",
    "    output_data (np.ndarray): The output data from the model. The shape and type of this output depend on the model's architecture.\n",
    "    \"\"\"\n",
    "    interpreter.set_tensor(input_details[0]['index'], input_data)\n",
    "    interpreter.invoke()\n",
    "    output_data = interpreter.get_tensor(output_details[0]['index'])\n",
    "    return output_data"
   ]
  },
  {
   "cell_type": "code",
   "execution_count": 15,
   "id": "tIyWRukbR4U-",
   "metadata": {
    "id": "tIyWRukbR4U-"
   },
   "outputs": [],
   "source": [
    "def evaluate_model(interpreter, X_test, y_test, threshold=0.5):\n",
    "    \"\"\"\n",
    "    Evaluate the TensorFlow Lite model on the given test dataset.\n",
    "\n",
    "    Parameters\n",
    "    interpreter (tf.lite.Interpreter): The TensorFlow Lite interpreter for running inference.\n",
    "    X_test (np.ndarray): The test dataset input features. Should be a NumPy array of shape (n_samples, seq_len, n_features).\n",
    "    y_test (np.ndarray): The test dataset labels. Should be a NumPy array of shape (n_samples,).\n",
    "    threshold (float, optional): he threshold for binary classification. Default is 0.5.\n",
    "\n",
    "    Returns\n",
    "    accuracy (float): The accuracy of the model on the test dataset.\n",
    "    \"\"\"\n",
    "    correct_predictions = 0\n",
    "    total_predictions = 0\n",
    "\n",
    "    for i in range(len(X_test)):\n",
    "        input_data = np.expand_dims(X_test[i], axis=0).astype(np.float32)  # Adding batch dimension\n",
    "        predicted_output = run_inference(input_data)\n",
    "        predicted_label = (predicted_output >= threshold).astype(int)[0][0]  # Applying threshold\n",
    "        true_label = y_test[i]\n",
    "\n",
    "        if predicted_label == true_label:\n",
    "            correct_predictions += 1\n",
    "        total_predictions += 1\n",
    "\n",
    "    accuracy = correct_predictions / total_predictions\n",
    "    return accuracy"
   ]
  },
  {
   "cell_type": "code",
   "execution_count": 16,
   "id": "NClrl5SyQUFV",
   "metadata": {
    "colab": {
     "base_uri": "https://localhost:8080/"
    },
    "id": "NClrl5SyQUFV",
    "outputId": "8c109eb7-d816-4588-9544-7471e9566025"
   },
   "outputs": [
    {
     "name": "stdout",
     "output_type": "stream",
     "text": [
      "Accuracy: 0.9394618834080718\n"
     ]
    }
   ],
   "source": [
    "accuracy = evaluate_model(interpreter, X_test, y_test)\n",
    "print(f'Accuracy: {accuracy}')"
   ]
  }
 ],
 "metadata": {
  "accelerator": "GPU",
  "colab": {
   "gpuType": "A100",
   "machine_shape": "hm",
   "provenance": []
  },
  "kernelspec": {
   "display_name": "Python 3 (ipykernel)",
   "language": "python",
   "name": "python3"
  },
  "language_info": {
   "codemirror_mode": {
    "name": "ipython",
    "version": 3
   },
   "file_extension": ".py",
   "mimetype": "text/x-python",
   "name": "python",
   "nbconvert_exporter": "python",
   "pygments_lexer": "ipython3",
   "version": "3.12.0"
  }
 },
 "nbformat": 4,
 "nbformat_minor": 5
}
