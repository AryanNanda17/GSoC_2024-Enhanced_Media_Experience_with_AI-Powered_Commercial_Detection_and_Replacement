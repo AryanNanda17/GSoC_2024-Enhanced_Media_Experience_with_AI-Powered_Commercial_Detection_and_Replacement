{
 "cells": [
  {
   "cell_type": "code",
   "execution_count": 1,
   "id": "7ee4f64b-acfb-4895-a4e4-a02e191bb7ed",
   "metadata": {},
   "outputs": [],
   "source": [
    "import numpy as np\n",
    "import os\n",
    "import tensorflow as tf"
   ]
  },
  {
   "cell_type": "code",
   "execution_count": 2,
   "id": "1a57310d-74ed-49ae-999e-612e75c64418",
   "metadata": {},
   "outputs": [],
   "source": [
    "X_cal_data = np.load('./calibration data/X_cal_data.npy')\n",
    "Y_cal_data = np.load('./calibration data/Y_cal_data.npy')"
   ]
  },
  {
   "cell_type": "code",
   "execution_count": 3,
   "id": "583dbd02-3b03-4288-b8f2-c66c90d91bc2",
   "metadata": {},
   "outputs": [
    {
     "name": "stdout",
     "output_type": "stream",
     "text": [
      "(50, 150, 1152)\n"
     ]
    }
   ],
   "source": [
    "print(X_cal_data.shape)"
   ]
  },
  {
   "cell_type": "code",
   "execution_count": 4,
   "id": "be7d4c5c-1a75-4838-9332-5f3bf72c2e96",
   "metadata": {},
   "outputs": [
    {
     "name": "stdout",
     "output_type": "stream",
     "text": [
      "Files saved successfully.\n"
     ]
    }
   ],
   "source": [
    "save_dir = 'cal_Data'\n",
    "os.makedirs(save_dir, exist_ok=True)\n",
    "\n",
    "for i in range(X_cal_data.shape[0]):\n",
    "    filename = os.path.join(save_dir, f'cal_{i+1}.npy')\n",
    "    reshaped_data = X_cal_data[i].reshape(150, 1152)\n",
    "    # Create an empty file\n",
    "    with open(filename, 'wb') as f:\n",
    "        pass\n",
    "    # Save the sub-array to the newly created file\n",
    "    np.save(filename, reshaped_data)\n",
    "\n",
    "print(\"Files saved successfully.\")"
   ]
  },
  {
   "cell_type": "code",
   "execution_count": 5,
   "id": "899de829-03ed-41e6-a839-240286fe126e",
   "metadata": {},
   "outputs": [],
   "source": [
    "cal_1 = np.load('./cal_Data/cal_1.npy')"
   ]
  },
  {
   "cell_type": "code",
   "execution_count": 6,
   "id": "82290a89-b7ff-49db-8f8d-07c25f237925",
   "metadata": {},
   "outputs": [
    {
     "name": "stdout",
     "output_type": "stream",
     "text": [
      "(150, 1152)\n"
     ]
    }
   ],
   "source": [
    "print(cal_1.shape)"
   ]
  },
  {
   "cell_type": "code",
   "execution_count": 7,
   "id": "4f180e37-ef1e-4b36-91ae-e361460d63b3",
   "metadata": {},
   "outputs": [
    {
     "data": {
      "text/plain": [
       "array([[0.85882353, 0.30588235, 1.        , ..., 0.48627451, 0.55294118,\n",
       "        0.69411765],\n",
       "       [0.38431373, 0.5372549 , 1.        , ..., 1.        , 0.67843137,\n",
       "        0.23529412],\n",
       "       [0.25882353, 0.55686275, 1.        , ..., 0.75294118, 0.55294118,\n",
       "        0.36078431],\n",
       "       ...,\n",
       "       [0.        , 0.        , 0.        , ..., 0.        , 0.        ,\n",
       "        0.        ],\n",
       "       [0.        , 0.        , 0.        , ..., 0.        , 0.        ,\n",
       "        0.        ],\n",
       "       [0.        , 0.        , 0.        , ..., 0.        , 0.        ,\n",
       "        0.        ]])"
      ]
     },
     "execution_count": 7,
     "metadata": {},
     "output_type": "execute_result"
    }
   ],
   "source": [
    "X_cal_data[0]"
   ]
  },
  {
   "cell_type": "code",
   "execution_count": 8,
   "id": "174c06cd-e8e2-4f9c-94f7-77ed500e8c83",
   "metadata": {},
   "outputs": [
    {
     "data": {
      "text/plain": [
       "array([0.85882353, 0.30588235, 1.        , ..., 0.48627451, 0.55294118,\n",
       "       0.69411765])"
      ]
     },
     "execution_count": 8,
     "metadata": {},
     "output_type": "execute_result"
    }
   ],
   "source": [
    "cal_1[0]"
   ]
  },
  {
   "cell_type": "markdown",
   "id": "e3f01742-c361-48fe-85c0-aa0d32c2f3f7",
   "metadata": {},
   "source": [
    "# Inferencing on Calibration data"
   ]
  },
  {
   "cell_type": "code",
   "execution_count": 11,
   "id": "10901242-dd39-49c6-9acb-a0b4f5538597",
   "metadata": {},
   "outputs": [],
   "source": [
    "# Load the TFLite model and allocate tensors\n",
    "interpreter = tf.lite.Interpreter(model_path='./cnn_model_new.tflite')\n",
    "# interpreter.allocate_tensors()\n",
    "# # Get input and output tensors\n",
    "# input_details = interpreter.get_input_details()/\n",
    "# output_details = interpreter.get_output_details()"
   ]
  },
  {
   "cell_type": "code",
   "execution_count": 21,
   "id": "55d36f43-57fc-4fd9-9ad3-773df1edbc31",
   "metadata": {},
   "outputs": [],
   "source": [
    "interpreter.allocate_tensors()"
   ]
  },
  {
   "cell_type": "code",
   "execution_count": 13,
   "id": "6fb5894d-a734-4700-8e80-880f37f971ca",
   "metadata": {},
   "outputs": [],
   "source": [
    "input_details = interpreter.get_input_details()\n",
    "output_details = interpreter.get_output_details()"
   ]
  },
  {
   "cell_type": "code",
   "execution_count": 14,
   "id": "c04d0c4f-d2f7-4434-a86b-2ce964a8b6fe",
   "metadata": {},
   "outputs": [],
   "source": [
    "def run_inference(input_data):\n",
    "    \"\"\"\n",
    "    Run inference on a single input using the TensorFlow Lite interpreter.\n",
    "\n",
    "    Parameters:\n",
    "    input_data (np.ndarray): The input data for the model. Should be a NumPy array with the appropriate shape.\n",
    "\n",
    "    Returns:\n",
    "    output_data (np.ndarray): The output data from the model. The shape and type of this output depend on the model's architecture.\n",
    "    \"\"\"\n",
    "    interpreter.set_tensor(input_details[0]['index'], input_data)\n",
    "    interpreter.invoke()\n",
    "    output_data = interpreter.get_tensor(output_details[0]['index'])\n",
    "    return output_data"
   ]
  },
  {
   "cell_type": "code",
   "execution_count": 15,
   "id": "086afb6b-88ff-4dfd-b4f6-5eacfc7cafdd",
   "metadata": {},
   "outputs": [],
   "source": [
    "def evaluate_model(interpreter, X_test, y_test, threshold=0.5):\n",
    "    \"\"\"\n",
    "    Evaluate the TensorFlow Lite model on the given test dataset.\n",
    "\n",
    "    Parameters:\n",
    "    interpreter (tf.lite.Interpreter): The TensorFlow Lite interpreter for running inference.\n",
    "    X_test (np.ndarray): The test dataset input features. Should be a NumPy array of shape (n_samples, seq_len, n_features).\n",
    "    y_test (np.ndarray): The test dataset labels. Should be a NumPy array of shape (n_samples,).\n",
    "    threshold (float, optional): he threshold for binary classification. Default is 0.5.\n",
    "\n",
    "    Returns:\n",
    "    accuracy (float): The accuracy of the model on the test dataset.\n",
    "    \"\"\"\n",
    "    correct_predictions = 0\n",
    "    total_predictions = 0\n",
    "\n",
    "    for i in range(len(X_test)):\n",
    "        input_data = np.expand_dims(X_test[i], axis=0).astype(np.float32)  # Adding batch dimension\n",
    "        predicted_output = run_inference(input_data)\n",
    "        predicted_label = (predicted_output >= threshold).astype(int)[0][0]  # Applying threshold\n",
    "        true_label = y_test[i]\n",
    "\n",
    "        if predicted_label == true_label:\n",
    "            correct_predictions += 1\n",
    "        total_predictions += 1\n",
    "\n",
    "    accuracy = correct_predictions / total_predictions\n",
    "    return accuracy"
   ]
  },
  {
   "cell_type": "code",
   "execution_count": 16,
   "id": "3e8815c5-d1f5-4d84-88b8-218885adf9c7",
   "metadata": {},
   "outputs": [
    {
     "name": "stdout",
     "output_type": "stream",
     "text": [
      "Accuracy: 0.96\n"
     ]
    }
   ],
   "source": [
    "accuracy = evaluate_model(interpreter, X_cal_data, Y_cal_data)\n",
    "print(f'Accuracy: {accuracy}')"
   ]
  },
  {
   "cell_type": "code",
   "execution_count": 18,
   "id": "bc44129b-f2fc-4a9b-9db9-3ac56ecfca0d",
   "metadata": {},
   "outputs": [
    {
     "name": "stdout",
     "output_type": "stream",
     "text": [
      "Input details:\n",
      "Name: serving_default_reshape_input:0\n",
      "Index: 0\n",
      "Shape: [   1  150 1152]\n",
      "Shape Signature: [   1  150 1152]\n",
      "Dtype: <class 'numpy.float32'>\n",
      "Quantization: (0.0, 0)\n",
      "\n",
      "Output details:\n",
      "Name: StatefulPartitionedCall:0\n",
      "Index: 26\n",
      "Shape: [1 1]\n",
      "Shape Signature: [1 1]\n",
      "Dtype: <class 'numpy.float32'>\n",
      "Quantization: (0.0, 0)\n",
      "\n"
     ]
    }
   ],
   "source": [
    "import tensorflow as tf\n",
    "import numpy as np\n",
    "\n",
    "# Load the TFLite model\n",
    "model_path = 'cnn_model_new.tflite'\n",
    "interpreter = tf.lite.Interpreter(model_path=model_path)\n",
    "interpreter.allocate_tensors()\n",
    "\n",
    "# Verify input and output tensor details\n",
    "input_details = interpreter.get_input_details()\n",
    "output_details = interpreter.get_output_details()\n",
    "\n",
    "print(\"Input details:\")\n",
    "for detail in input_details:\n",
    "    print(f\"Name: {detail['name']}\")\n",
    "    print(f\"Index: {detail['index']}\")\n",
    "    print(f\"Shape: {detail['shape']}\")\n",
    "    print(f\"Shape Signature: {detail.get('shape_signature', 'N/A')}\")\n",
    "    print(f\"Dtype: {detail['dtype']}\")\n",
    "    print(f\"Quantization: {detail['quantization']}\")\n",
    "    print()\n",
    "\n",
    "print(\"Output details:\")\n",
    "for detail in output_details:\n",
    "    print(f\"Name: {detail['name']}\")\n",
    "    print(f\"Index: {detail['index']}\")\n",
    "    print(f\"Shape: {detail['shape']}\")\n",
    "    print(f\"Shape Signature: {detail.get('shape_signature', 'N/A')}\")\n",
    "    print(f\"Dtype: {detail['dtype']}\")\n",
    "    print(f\"Quantization: {detail['quantization']}\")\n",
    "    print()\n"
   ]
  },
  {
   "cell_type": "code",
   "execution_count": 19,
   "id": "e4cf7277-488c-42a0-8a35-a76050707edb",
   "metadata": {},
   "outputs": [],
   "source": [
    "cal_image_1 = np.load('./cal_Data/cal_1.npy')"
   ]
  },
  {
   "cell_type": "code",
   "execution_count": 20,
   "id": "c9776fc3-cb31-4313-9c96-27b488cc5bac",
   "metadata": {},
   "outputs": [],
   "source": [
    "interpreter = tf.lite.Interpreter(model_path='./cnn_model_new.tflite')"
   ]
  },
  {
   "cell_type": "code",
   "execution_count": 23,
   "id": "6f4ef951-0d72-4819-9cbc-8a9520982705",
   "metadata": {},
   "outputs": [],
   "source": [
    "interpreter.allocate_tensors()"
   ]
  },
  {
   "cell_type": "code",
   "execution_count": 24,
   "id": "91e6f86b-b5b9-41c8-8eb8-68a41b1ff80b",
   "metadata": {},
   "outputs": [],
   "source": [
    "input_details = interpreter.get_input_details()\n",
    "output_details = interpreter.get_output_details()"
   ]
  },
  {
   "cell_type": "code",
   "execution_count": 25,
   "id": "3330d767-a712-4179-a71c-28a9cf736a54",
   "metadata": {},
   "outputs": [],
   "source": [
    "floating_model = input_details[0]['dtype'] == np.float32"
   ]
  },
  {
   "cell_type": "code",
   "execution_count": 26,
   "id": "7b4b498e-3943-4fbf-bfdc-35bb37f3ca10",
   "metadata": {},
   "outputs": [
    {
     "name": "stdout",
     "output_type": "stream",
     "text": [
      "True\n"
     ]
    }
   ],
   "source": [
    "print(floating_model)"
   ]
  },
  {
   "cell_type": "code",
   "execution_count": 29,
   "id": "115a2361-df0c-45e2-aa97-b3935b98a51c",
   "metadata": {},
   "outputs": [
    {
     "name": "stdout",
     "output_type": "stream",
     "text": [
      "1\n"
     ]
    }
   ],
   "source": [
    "batch = input_details[0]['shape'][0]\n",
    "print(batch)"
   ]
  },
  {
   "cell_type": "code",
   "execution_count": 31,
   "id": "0cda5ab7-e9c2-46ac-bf9e-5d5c589506c5",
   "metadata": {},
   "outputs": [
    {
     "name": "stdout",
     "output_type": "stream",
     "text": [
      "150\n"
     ]
    }
   ],
   "source": [
    "height = input_details[0]['shape'][1]\n",
    "print(height)"
   ]
  },
  {
   "cell_type": "code",
   "execution_count": 32,
   "id": "eaf86bda-e582-483d-86b0-79872d576a4f",
   "metadata": {},
   "outputs": [
    {
     "name": "stdout",
     "output_type": "stream",
     "text": [
      "1152\n"
     ]
    }
   ],
   "source": [
    "width = input_details[0]['shape'][2]\n",
    "print(width)"
   ]
  },
  {
   "cell_type": "code",
   "execution_count": null,
   "id": "16c3ee03-f620-44b8-90ac-bb6881fc51fb",
   "metadata": {},
   "outputs": [],
   "source": []
  }
 ],
 "metadata": {
  "kernelspec": {
   "display_name": "Python 3 (ipykernel)",
   "language": "python",
   "name": "python3"
  },
  "language_info": {
   "codemirror_mode": {
    "name": "ipython",
    "version": 3
   },
   "file_extension": ".py",
   "mimetype": "text/x-python",
   "name": "python",
   "nbconvert_exporter": "python",
   "pygments_lexer": "ipython3",
   "version": "3.12.0"
  }
 },
 "nbformat": 4,
 "nbformat_minor": 5
}
